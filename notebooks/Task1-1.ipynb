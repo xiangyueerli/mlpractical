{
 "cells": [
  {
   "cell_type": "code",
   "id": "initial_id",
   "metadata": {
    "collapsed": true,
    "ExecuteTime": {
     "end_time": "2024-10-24T08:52:49.519424Z",
     "start_time": "2024-10-24T08:52:49.180212Z"
    }
   },
   "source": [
    "import matplotlib.pyplot as plt\n",
    "%matplotlib inline\n",
    "plt.style.use('ggplot')\n",
    "\n",
    "def train_model_and_plot_stats(\n",
    "        model, error, learning_rule, train_data, valid_data, num_epochs, stats_interval, notebook=True):\n",
    "    \n",
    "    # As well as monitoring the error over training also monitor classification\n",
    "    # accuracy i.e. proportion of most-probable predicted classes being equal to targets\n",
    "    data_monitors={'acc': lambda y, t: (y.argmax(-1) == t.argmax(-1)).mean()}\n",
    "\n",
    "    # Use the created objects to initialise a new Optimiser instance.\n",
    "    optimiser = Optimiser(\n",
    "        model, error, learning_rule, train_data, valid_data, data_monitors, notebook=notebook)\n",
    "\n",
    "    # Run the optimiser for num_epochs epochs (full passes through the training set)\n",
    "    # printing statistics every epoch.\n",
    "    stats, keys, run_time = optimiser.train(num_epochs=num_epochs, stats_interval=stats_interval)\n",
    "\n",
    "    # Plot the change in the validation and training set error over training.\n",
    "    fig_1 = plt.figure(figsize=(8, 4))\n",
    "    ax_1 = fig_1.add_subplot(111)\n",
    "    for k in ['error(train)', 'error(valid)']:\n",
    "        ax_1.plot(np.arange(1, stats.shape[0]) * stats_interval, \n",
    "                  stats[1:, keys[k]], label=k)\n",
    "    ax_1.legend(loc=0)\n",
    "    ax_1.set_xlabel('Epoch number')\n",
    "    ax_1.set_ylabel('Error')\n",
    "\n",
    "    # Plot the change in the validation and training set accuracy over training.\n",
    "    fig_2 = plt.figure(figsize=(8, 4))\n",
    "    ax_2 = fig_2.add_subplot(111)\n",
    "    for k in ['acc(train)', 'acc(valid)']:\n",
    "        ax_2.plot(np.arange(1, stats.shape[0]) * stats_interval, \n",
    "                  stats[1:, keys[k]], label=k)\n",
    "    ax_2.legend(loc=0)\n",
    "    ax_2.set_xlabel('Epoch number')\n",
    "    ax_2.set_xlabel('Accuracy')\n",
    "    \n",
    "    return stats, keys, run_time, fig_1, ax_1, fig_2, ax_2"
   ],
   "outputs": [],
   "execution_count": 1
  },
  {
   "metadata": {
    "ExecuteTime": {
     "end_time": "2024-10-24T08:52:50.365091Z",
     "start_time": "2024-10-24T08:52:50.081274Z"
    }
   },
   "cell_type": "code",
   "source": [
    "# The below code will set up the data providers, random number\n",
    "# generator and logger objects needed for training runs. As\n",
    "# loading the data from file take a little while you generally\n",
    "# will probably not want to reload the data providers on\n",
    "# every training run. If you wish to reset their state you\n",
    "# should instead use the .reset() method of the data providers.\n",
    "import numpy as np\n",
    "import logging\n",
    "import sys\n",
    "# sys.path.append('/path/to/mlpractical')\n",
    "from mlp.data_providers import MNISTDataProvider, EMNISTDataProvider\n",
    "\n",
    "# Seed a random number generator\n",
    "seed = 11102019 \n",
    "rng = np.random.RandomState(seed)\n",
    "batch_size = 100\n",
    "# Set up a logger object to print info about the training run to stdout\n",
    "logger = logging.getLogger()\n",
    "logger.setLevel(logging.INFO)\n",
    "logger.handlers = [logging.StreamHandler()]\n",
    "\n",
    "# Create data provider objects for the MNIST data set\n",
    "train_data = EMNISTDataProvider('train', batch_size=batch_size, rng=rng)\n",
    "valid_data = EMNISTDataProvider('valid', batch_size=batch_size, rng=rng)"
   ],
   "id": "6492ec1b2ce0a598",
   "outputs": [
    {
     "name": "stdout",
     "output_type": "stream",
     "text": [
      "KeysView(NpzFile '/Users/ycy/PycharmProjects/mlpractical/data/emnist-train.npz' with keys: inputs, targets)\n",
      "KeysView(NpzFile '/Users/ycy/PycharmProjects/mlpractical/data/emnist-valid.npz' with keys: inputs, targets)\n"
     ]
    }
   ],
   "execution_count": 2
  },
  {
   "metadata": {
    "ExecuteTime": {
     "end_time": "2024-10-24T10:17:10.313009Z",
     "start_time": "2024-10-24T09:52:20.564467Z"
    }
   },
   "cell_type": "code",
   "source": [
    "# The model set up code below is provided as a starting point.\n",
    "# You will probably want to add further code cells for the\n",
    "# different experiments you run.\n",
    "\n",
    "%pip install tqdm\n",
    "\n",
    "from mlp.layers import AffineLayer, SoftmaxLayer, SigmoidLayer, ReluLayer\n",
    "from mlp.errors import CrossEntropySoftmaxError\n",
    "from mlp.models import MultipleLayerModel\n",
    "from mlp.initialisers import ConstantInit, GlorotUniformInit\n",
    "from mlp.learning_rules import AdamLearningRule\n",
    "from mlp.optimisers import Optimiser\n",
    "\n",
    "# Setup hyperparameters\n",
    "learning_rate = 0.001\n",
    "num_epochs = 100\n",
    "stats_interval = 1\n",
    "input_dim, output_dim = 784, 47\n",
    "\n",
    "hidden_dims = [32, 64, 128]  # \n",
    "final_errors_train = []\n",
    "final_errors_valid = []\n",
    "final_accs_train = []\n",
    "final_accs_valid = []\n",
    "stats_list = []\n",
    "keys_list = []\n",
    "\n",
    "for hidden_dim in hidden_dims:\n",
    "    weights_init = GlorotUniformInit(rng=rng)\n",
    "    biases_init = ConstantInit(0.)\n",
    "    \n",
    "    # Create model with ONE hidden layer\n",
    "    model = MultipleLayerModel([\n",
    "        AffineLayer(input_dim, hidden_dim, weights_init, biases_init), # hidden layer\n",
    "        ReluLayer(),\n",
    "        AffineLayer(hidden_dim, output_dim, weights_init, biases_init) # output layer\n",
    "    ])\n",
    "    \n",
    "    error = CrossEntropySoftmaxError()\n",
    "    # Use a Adam learning rule\n",
    "    learning_rule = AdamLearningRule(learning_rate=learning_rate)\n",
    "    \n",
    "    # Remember to use notebook=False when you write a script to be run in a terminal\n",
    "    stats, keys, run_time, fig_1, ax_1, fig_2, ax_2 = train_model_and_plot_stats(\n",
    "        model, error, learning_rule, train_data, valid_data, num_epochs, stats_interval, notebook=True)\n",
    "    \n",
    "    stats_list.append(stats)\n",
    "    keys_list.append(keys)\n",
    "    print('    final error(train) = {0:.2e}'.format(stats[-1, keys['error(train)']]))\n",
    "    print('    final error(valid) = {0:.2e}'.format(stats[-1, keys['error(valid)']]))\n",
    "    print('    final acc(train)   = {0:.2e}'.format(stats[-1, keys['acc(train)']]))\n",
    "    print('    final acc(valid)   = {0:.2e}'.format(stats[-1, keys['acc(valid)']]))\n",
    "    print('    run time per epoch = {0:.2f}'.format(run_time * 1. / num_epochs))\n",
    "\n",
    "    final_errors_train.append(stats[-1, keys['error(train)']])\n",
    "    final_errors_valid.append(stats[-1, keys['error(valid)']])\n",
    "    final_accs_train.append(stats[-1, keys['acc(train)']])\n",
    "    final_accs_valid.append(stats[-1, keys['acc(valid)']])"
   ],
   "id": "1775fdda8390afff",
   "outputs": [
    {
     "name": "stdout",
     "output_type": "stream",
     "text": [
      "Looking in indexes: https://pypi.tuna.tsinghua.edu.cn/simple\r\n",
      "Requirement already satisfied: tqdm in /Users/ycy/opt/anaconda3/envs/mlp/lib/python3.12/site-packages (4.66.5)\r\n",
      "Note: you may need to restart the kernel to use updated packages.\n"
     ]
    },
    {
     "data": {
      "text/plain": [
       "  0%|          | 0/100 [00:00<?, ?it/s]"
      ],
      "application/vnd.jupyter.widget-view+json": {
       "version_major": 2,
       "version_minor": 0,
       "model_id": "739152271beb4629802a78388c81872e"
      }
     },
     "metadata": {},
     "output_type": "display_data"
    },
    {
     "data": {
      "text/plain": [
       "  0%|          | 0/1000 [00:00<?, ?it/s]"
      ],
      "application/vnd.jupyter.widget-view+json": {
       "version_major": 2,
       "version_minor": 0,
       "model_id": "f250d31f17224ef7ac1c03e5c4a08d4f"
      }
     },
     "metadata": {},
     "output_type": "display_data"
    },
    {
     "name": "stderr",
     "output_type": "stream",
     "text": [
      "Epoch 1: 1.7s to complete\n",
      "    error(train)=1.23e+00, acc(train)=6.57e-01, error(valid)=1.24e+00, acc(valid)=6.54e-01\n"
     ]
    },
    {
     "data": {
      "text/plain": [
       "  0%|          | 0/1000 [00:00<?, ?it/s]"
      ],
      "application/vnd.jupyter.widget-view+json": {
       "version_major": 2,
       "version_minor": 0,
       "model_id": "d35178c6c6434b10b81f45386cb616cd"
      }
     },
     "metadata": {},
     "output_type": "display_data"
    },
    {
     "name": "stderr",
     "output_type": "stream",
     "text": [
      "Epoch 2: 1.7s to complete\n",
      "    error(train)=1.11e+00, acc(train)=6.88e-01, error(valid)=1.12e+00, acc(valid)=6.80e-01\n"
     ]
    },
    {
     "data": {
      "text/plain": [
       "  0%|          | 0/1000 [00:00<?, ?it/s]"
      ],
      "application/vnd.jupyter.widget-view+json": {
       "version_major": 2,
       "version_minor": 0,
       "model_id": "f140dba4a62f4a7f86d2ec74897f41cc"
      }
     },
     "metadata": {},
     "output_type": "display_data"
    },
    {
     "name": "stderr",
     "output_type": "stream",
     "text": [
      "Epoch 3: 1.6s to complete\n",
      "    error(train)=1.01e+00, acc(train)=7.16e-01, error(valid)=1.03e+00, acc(valid)=7.06e-01\n"
     ]
    },
    {
     "data": {
      "text/plain": [
       "  0%|          | 0/1000 [00:00<?, ?it/s]"
      ],
      "application/vnd.jupyter.widget-view+json": {
       "version_major": 2,
       "version_minor": 0,
       "model_id": "f898664ecf944dcfac56de9a46ea00ee"
      }
     },
     "metadata": {},
     "output_type": "display_data"
    },
    {
     "name": "stderr",
     "output_type": "stream",
     "text": [
      "Epoch 4: 1.5s to complete\n",
      "    error(train)=9.44e-01, acc(train)=7.30e-01, error(valid)=9.68e-01, acc(valid)=7.24e-01\n"
     ]
    },
    {
     "data": {
      "text/plain": [
       "  0%|          | 0/1000 [00:00<?, ?it/s]"
      ],
      "application/vnd.jupyter.widget-view+json": {
       "version_major": 2,
       "version_minor": 0,
       "model_id": "f78f4727b8af4c96b38a8ec01396ae84"
      }
     },
     "metadata": {},
     "output_type": "display_data"
    },
    {
     "name": "stderr",
     "output_type": "stream",
     "text": [
      "Epoch 5: 1.6s to complete\n",
      "    error(train)=9.08e-01, acc(train)=7.38e-01, error(valid)=9.36e-01, acc(valid)=7.31e-01\n"
     ]
    },
    {
     "data": {
      "text/plain": [
       "  0%|          | 0/1000 [00:00<?, ?it/s]"
      ],
      "application/vnd.jupyter.widget-view+json": {
       "version_major": 2,
       "version_minor": 0,
       "model_id": "1a7188c298fb417cb840bc06ca2bf030"
      }
     },
     "metadata": {},
     "output_type": "display_data"
    },
    {
     "name": "stderr",
     "output_type": "stream",
     "text": [
      "Epoch 6: 2.3s to complete\n",
      "    error(train)=8.63e-01, acc(train)=7.48e-01, error(valid)=8.93e-01, acc(valid)=7.41e-01\n"
     ]
    },
    {
     "data": {
      "text/plain": [
       "  0%|          | 0/1000 [00:00<?, ?it/s]"
      ],
      "application/vnd.jupyter.widget-view+json": {
       "version_major": 2,
       "version_minor": 0,
       "model_id": "740ad75ba2d94714880973748c7befc4"
      }
     },
     "metadata": {},
     "output_type": "display_data"
    },
    {
     "name": "stderr",
     "output_type": "stream",
     "text": [
      "Epoch 7: 1.8s to complete\n",
      "    error(train)=8.39e-01, acc(train)=7.54e-01, error(valid)=8.73e-01, acc(valid)=7.44e-01\n"
     ]
    },
    {
     "data": {
      "text/plain": [
       "  0%|          | 0/1000 [00:00<?, ?it/s]"
      ],
      "application/vnd.jupyter.widget-view+json": {
       "version_major": 2,
       "version_minor": 0,
       "model_id": "a958cc6772c74c68acd22972fa9976e8"
      }
     },
     "metadata": {},
     "output_type": "display_data"
    },
    {
     "name": "stderr",
     "output_type": "stream",
     "text": [
      "Epoch 8: 4.7s to complete\n",
      "    error(train)=8.17e-01, acc(train)=7.59e-01, error(valid)=8.54e-01, acc(valid)=7.47e-01\n"
     ]
    },
    {
     "data": {
      "text/plain": [
       "  0%|          | 0/1000 [00:00<?, ?it/s]"
      ],
      "application/vnd.jupyter.widget-view+json": {
       "version_major": 2,
       "version_minor": 0,
       "model_id": "4f1c5b6910314924ae4e3c62a4e43d9d"
      }
     },
     "metadata": {},
     "output_type": "display_data"
    },
    {
     "name": "stderr",
     "output_type": "stream",
     "text": [
      "Epoch 9: 1.6s to complete\n",
      "    error(train)=7.99e-01, acc(train)=7.64e-01, error(valid)=8.36e-01, acc(valid)=7.53e-01\n"
     ]
    },
    {
     "data": {
      "text/plain": [
       "  0%|          | 0/1000 [00:00<?, ?it/s]"
      ],
      "application/vnd.jupyter.widget-view+json": {
       "version_major": 2,
       "version_minor": 0,
       "model_id": "e5bc53a3c9d34122b9794c1184b6fba1"
      }
     },
     "metadata": {},
     "output_type": "display_data"
    },
    {
     "name": "stderr",
     "output_type": "stream",
     "text": [
      "Epoch 10: 1.7s to complete\n",
      "    error(train)=7.82e-01, acc(train)=7.68e-01, error(valid)=8.23e-01, acc(valid)=7.56e-01\n"
     ]
    },
    {
     "data": {
      "text/plain": [
       "  0%|          | 0/1000 [00:00<?, ?it/s]"
      ],
      "application/vnd.jupyter.widget-view+json": {
       "version_major": 2,
       "version_minor": 0,
       "model_id": "2a1a3cce7ec1469f97d672e2e665433e"
      }
     },
     "metadata": {},
     "output_type": "display_data"
    },
    {
     "name": "stderr",
     "output_type": "stream",
     "text": [
      "Epoch 11: 1.8s to complete\n",
      "    error(train)=7.72e-01, acc(train)=7.71e-01, error(valid)=8.16e-01, acc(valid)=7.60e-01\n"
     ]
    },
    {
     "data": {
      "text/plain": [
       "  0%|          | 0/1000 [00:00<?, ?it/s]"
      ],
      "application/vnd.jupyter.widget-view+json": {
       "version_major": 2,
       "version_minor": 0,
       "model_id": "05ca7e899c5542e59cb4ba364d47b301"
      }
     },
     "metadata": {},
     "output_type": "display_data"
    },
    {
     "name": "stderr",
     "output_type": "stream",
     "text": [
      "Epoch 12: 1.7s to complete\n",
      "    error(train)=7.62e-01, acc(train)=7.73e-01, error(valid)=8.10e-01, acc(valid)=7.58e-01\n"
     ]
    },
    {
     "data": {
      "text/plain": [
       "  0%|          | 0/1000 [00:00<?, ?it/s]"
      ],
      "application/vnd.jupyter.widget-view+json": {
       "version_major": 2,
       "version_minor": 0,
       "model_id": "2242e335c5f546379e1ac448774b17b9"
      }
     },
     "metadata": {},
     "output_type": "display_data"
    },
    {
     "name": "stderr",
     "output_type": "stream",
     "text": [
      "Epoch 13: 1.7s to complete\n",
      "    error(train)=7.52e-01, acc(train)=7.76e-01, error(valid)=8.04e-01, acc(valid)=7.61e-01\n"
     ]
    },
    {
     "data": {
      "text/plain": [
       "  0%|          | 0/1000 [00:00<?, ?it/s]"
      ],
      "application/vnd.jupyter.widget-view+json": {
       "version_major": 2,
       "version_minor": 0,
       "model_id": "af0fdc73f2b849659d6fdae731e5a3d6"
      }
     },
     "metadata": {},
     "output_type": "display_data"
    },
    {
     "name": "stderr",
     "output_type": "stream",
     "text": [
      "Epoch 14: 2.1s to complete\n",
      "    error(train)=7.45e-01, acc(train)=7.77e-01, error(valid)=7.96e-01, acc(valid)=7.64e-01\n"
     ]
    },
    {
     "data": {
      "text/plain": [
       "  0%|          | 0/1000 [00:00<?, ?it/s]"
      ],
      "application/vnd.jupyter.widget-view+json": {
       "version_major": 2,
       "version_minor": 0,
       "model_id": "7f75d6007f3444eda9d9560c8ea83835"
      }
     },
     "metadata": {},
     "output_type": "display_data"
    },
    {
     "name": "stderr",
     "output_type": "stream",
     "text": [
      "Epoch 15: 1.9s to complete\n",
      "    error(train)=7.39e-01, acc(train)=7.77e-01, error(valid)=7.95e-01, acc(valid)=7.62e-01\n"
     ]
    },
    {
     "data": {
      "text/plain": [
       "  0%|          | 0/1000 [00:00<?, ?it/s]"
      ],
      "application/vnd.jupyter.widget-view+json": {
       "version_major": 2,
       "version_minor": 0,
       "model_id": "516c02deeb8d405193cf471b45c1ef01"
      }
     },
     "metadata": {},
     "output_type": "display_data"
    },
    {
     "name": "stderr",
     "output_type": "stream",
     "text": [
      "Epoch 16: 2.6s to complete\n",
      "    error(train)=7.24e-01, acc(train)=7.82e-01, error(valid)=7.84e-01, acc(valid)=7.63e-01\n"
     ]
    },
    {
     "data": {
      "text/plain": [
       "  0%|          | 0/1000 [00:00<?, ?it/s]"
      ],
      "application/vnd.jupyter.widget-view+json": {
       "version_major": 2,
       "version_minor": 0,
       "model_id": "9468ed59c7fb4fdea1470252d50e3f39"
      }
     },
     "metadata": {},
     "output_type": "display_data"
    },
    {
     "name": "stderr",
     "output_type": "stream",
     "text": [
      "Epoch 17: 3.9s to complete\n",
      "    error(train)=7.17e-01, acc(train)=7.81e-01, error(valid)=7.78e-01, acc(valid)=7.62e-01\n"
     ]
    },
    {
     "data": {
      "text/plain": [
       "  0%|          | 0/1000 [00:00<?, ?it/s]"
      ],
      "application/vnd.jupyter.widget-view+json": {
       "version_major": 2,
       "version_minor": 0,
       "model_id": "1176834b0f0d4f8a9198cd7b0672593f"
      }
     },
     "metadata": {},
     "output_type": "display_data"
    },
    {
     "name": "stderr",
     "output_type": "stream",
     "text": [
      "Epoch 18: 1.8s to complete\n",
      "    error(train)=7.12e-01, acc(train)=7.84e-01, error(valid)=7.76e-01, acc(valid)=7.67e-01\n"
     ]
    },
    {
     "data": {
      "text/plain": [
       "  0%|          | 0/1000 [00:00<?, ?it/s]"
      ],
      "application/vnd.jupyter.widget-view+json": {
       "version_major": 2,
       "version_minor": 0,
       "model_id": "0a5b0ab640154272aef7b7af5af7d81b"
      }
     },
     "metadata": {},
     "output_type": "display_data"
    },
    {
     "name": "stderr",
     "output_type": "stream",
     "text": [
      "Epoch 19: 1.6s to complete\n",
      "    error(train)=7.17e-01, acc(train)=7.81e-01, error(valid)=7.82e-01, acc(valid)=7.63e-01\n"
     ]
    },
    {
     "data": {
      "text/plain": [
       "  0%|          | 0/1000 [00:00<?, ?it/s]"
      ],
      "application/vnd.jupyter.widget-view+json": {
       "version_major": 2,
       "version_minor": 0,
       "model_id": "be5ddb7b84df486fba1d826804019d56"
      }
     },
     "metadata": {},
     "output_type": "display_data"
    },
    {
     "name": "stderr",
     "output_type": "stream",
     "text": [
      "Epoch 20: 1.7s to complete\n",
      "    error(train)=6.98e-01, acc(train)=7.86e-01, error(valid)=7.63e-01, acc(valid)=7.70e-01\n"
     ]
    },
    {
     "data": {
      "text/plain": [
       "  0%|          | 0/1000 [00:00<?, ?it/s]"
      ],
      "application/vnd.jupyter.widget-view+json": {
       "version_major": 2,
       "version_minor": 0,
       "model_id": "fc99be3481fe4f7c8f425e964cd1d9e4"
      }
     },
     "metadata": {},
     "output_type": "display_data"
    },
    {
     "name": "stderr",
     "output_type": "stream",
     "text": [
      "Epoch 21: 1.3s to complete\n",
      "    error(train)=7.00e-01, acc(train)=7.85e-01, error(valid)=7.67e-01, acc(valid)=7.67e-01\n"
     ]
    },
    {
     "data": {
      "text/plain": [
       "  0%|          | 0/1000 [00:00<?, ?it/s]"
      ],
      "application/vnd.jupyter.widget-view+json": {
       "version_major": 2,
       "version_minor": 0,
       "model_id": "38a1940c325244ea84ed103272ca55fd"
      }
     },
     "metadata": {},
     "output_type": "display_data"
    },
    {
     "name": "stderr",
     "output_type": "stream",
     "text": [
      "Epoch 22: 1.6s to complete\n",
      "    error(train)=6.90e-01, acc(train)=7.89e-01, error(valid)=7.59e-01, acc(valid)=7.69e-01\n"
     ]
    },
    {
     "data": {
      "text/plain": [
       "  0%|          | 0/1000 [00:00<?, ?it/s]"
      ],
      "application/vnd.jupyter.widget-view+json": {
       "version_major": 2,
       "version_minor": 0,
       "model_id": "2d14f06c13a141ad95377cebc592cfae"
      }
     },
     "metadata": {},
     "output_type": "display_data"
    },
    {
     "name": "stderr",
     "output_type": "stream",
     "text": [
      "Epoch 23: 4.6s to complete\n",
      "    error(train)=6.82e-01, acc(train)=7.92e-01, error(valid)=7.54e-01, acc(valid)=7.71e-01\n"
     ]
    },
    {
     "data": {
      "text/plain": [
       "  0%|          | 0/1000 [00:00<?, ?it/s]"
      ],
      "application/vnd.jupyter.widget-view+json": {
       "version_major": 2,
       "version_minor": 0,
       "model_id": "d8b3e3066d1b44929265a8f57671cc12"
      }
     },
     "metadata": {},
     "output_type": "display_data"
    },
    {
     "name": "stderr",
     "output_type": "stream",
     "text": [
      "Epoch 24: 2.8s to complete\n",
      "    error(train)=6.77e-01, acc(train)=7.92e-01, error(valid)=7.49e-01, acc(valid)=7.72e-01\n"
     ]
    },
    {
     "data": {
      "text/plain": [
       "  0%|          | 0/1000 [00:00<?, ?it/s]"
      ],
      "application/vnd.jupyter.widget-view+json": {
       "version_major": 2,
       "version_minor": 0,
       "model_id": "a0b12bc7790343bcb331c88672eab2b1"
      }
     },
     "metadata": {},
     "output_type": "display_data"
    },
    {
     "name": "stderr",
     "output_type": "stream",
     "text": [
      "Epoch 25: 2.1s to complete\n",
      "    error(train)=6.75e-01, acc(train)=7.92e-01, error(valid)=7.51e-01, acc(valid)=7.70e-01\n"
     ]
    },
    {
     "data": {
      "text/plain": [
       "  0%|          | 0/1000 [00:00<?, ?it/s]"
      ],
      "application/vnd.jupyter.widget-view+json": {
       "version_major": 2,
       "version_minor": 0,
       "model_id": "95600fc0ce8545bbb29c8178371324eb"
      }
     },
     "metadata": {},
     "output_type": "display_data"
    },
    {
     "name": "stderr",
     "output_type": "stream",
     "text": [
      "Epoch 26: 1.7s to complete\n",
      "    error(train)=6.76e-01, acc(train)=7.93e-01, error(valid)=7.53e-01, acc(valid)=7.73e-01\n"
     ]
    },
    {
     "data": {
      "text/plain": [
       "  0%|          | 0/1000 [00:00<?, ?it/s]"
      ],
      "application/vnd.jupyter.widget-view+json": {
       "version_major": 2,
       "version_minor": 0,
       "model_id": "9d1b457f69fa482aa29270dd8c070795"
      }
     },
     "metadata": {},
     "output_type": "display_data"
    },
    {
     "name": "stderr",
     "output_type": "stream",
     "text": [
      "Epoch 27: 5.0s to complete\n",
      "    error(train)=6.62e-01, acc(train)=7.97e-01, error(valid)=7.34e-01, acc(valid)=7.76e-01\n"
     ]
    },
    {
     "data": {
      "text/plain": [
       "  0%|          | 0/1000 [00:00<?, ?it/s]"
      ],
      "application/vnd.jupyter.widget-view+json": {
       "version_major": 2,
       "version_minor": 0,
       "model_id": "ce804a57c2504cef8ba11500b9c26f4b"
      }
     },
     "metadata": {},
     "output_type": "display_data"
    },
    {
     "name": "stderr",
     "output_type": "stream",
     "text": [
      "Epoch 28: 1.7s to complete\n",
      "    error(train)=6.56e-01, acc(train)=7.98e-01, error(valid)=7.32e-01, acc(valid)=7.76e-01\n"
     ]
    },
    {
     "data": {
      "text/plain": [
       "  0%|          | 0/1000 [00:00<?, ?it/s]"
      ],
      "application/vnd.jupyter.widget-view+json": {
       "version_major": 2,
       "version_minor": 0,
       "model_id": "e4dc618c28d844f2b26e77750c35472c"
      }
     },
     "metadata": {},
     "output_type": "display_data"
    },
    {
     "name": "stderr",
     "output_type": "stream",
     "text": [
      "Epoch 29: 1.6s to complete\n",
      "    error(train)=6.50e-01, acc(train)=8.00e-01, error(valid)=7.28e-01, acc(valid)=7.80e-01\n"
     ]
    },
    {
     "data": {
      "text/plain": [
       "  0%|          | 0/1000 [00:00<?, ?it/s]"
      ],
      "application/vnd.jupyter.widget-view+json": {
       "version_major": 2,
       "version_minor": 0,
       "model_id": "2608dc726f4b44e88752883e7d1cbf9b"
      }
     },
     "metadata": {},
     "output_type": "display_data"
    },
    {
     "name": "stderr",
     "output_type": "stream",
     "text": [
      "Epoch 30: 1.7s to complete\n",
      "    error(train)=6.52e-01, acc(train)=8.00e-01, error(valid)=7.34e-01, acc(valid)=7.74e-01\n"
     ]
    },
    {
     "data": {
      "text/plain": [
       "  0%|          | 0/1000 [00:00<?, ?it/s]"
      ],
      "application/vnd.jupyter.widget-view+json": {
       "version_major": 2,
       "version_minor": 0,
       "model_id": "5cf3ba31bc194a4f8f715287ba713cf0"
      }
     },
     "metadata": {},
     "output_type": "display_data"
    },
    {
     "name": "stderr",
     "output_type": "stream",
     "text": [
      "Epoch 31: 1.5s to complete\n",
      "    error(train)=6.47e-01, acc(train)=8.01e-01, error(valid)=7.25e-01, acc(valid)=7.77e-01\n"
     ]
    },
    {
     "data": {
      "text/plain": [
       "  0%|          | 0/1000 [00:00<?, ?it/s]"
      ],
      "application/vnd.jupyter.widget-view+json": {
       "version_major": 2,
       "version_minor": 0,
       "model_id": "e9af5a04431a4615a156d6fef698b255"
      }
     },
     "metadata": {},
     "output_type": "display_data"
    },
    {
     "name": "stderr",
     "output_type": "stream",
     "text": [
      "Epoch 32: 1.8s to complete\n",
      "    error(train)=6.39e-01, acc(train)=8.05e-01, error(valid)=7.19e-01, acc(valid)=7.80e-01\n"
     ]
    },
    {
     "data": {
      "text/plain": [
       "  0%|          | 0/1000 [00:00<?, ?it/s]"
      ],
      "application/vnd.jupyter.widget-view+json": {
       "version_major": 2,
       "version_minor": 0,
       "model_id": "04a1d16ba8c14417adc3256c866dfe62"
      }
     },
     "metadata": {},
     "output_type": "display_data"
    },
    {
     "name": "stderr",
     "output_type": "stream",
     "text": [
      "Epoch 33: 1.8s to complete\n",
      "    error(train)=6.37e-01, acc(train)=8.04e-01, error(valid)=7.21e-01, acc(valid)=7.78e-01\n"
     ]
    },
    {
     "data": {
      "text/plain": [
       "  0%|          | 0/1000 [00:00<?, ?it/s]"
      ],
      "application/vnd.jupyter.widget-view+json": {
       "version_major": 2,
       "version_minor": 0,
       "model_id": "c8de5b376b294c378ebc9af231503f1f"
      }
     },
     "metadata": {},
     "output_type": "display_data"
    },
    {
     "name": "stderr",
     "output_type": "stream",
     "text": [
      "Epoch 34: 1.3s to complete\n",
      "    error(train)=6.42e-01, acc(train)=8.00e-01, error(valid)=7.25e-01, acc(valid)=7.76e-01\n"
     ]
    },
    {
     "data": {
      "text/plain": [
       "  0%|          | 0/1000 [00:00<?, ?it/s]"
      ],
      "application/vnd.jupyter.widget-view+json": {
       "version_major": 2,
       "version_minor": 0,
       "model_id": "03ca7873461f44c28580c2c44118f651"
      }
     },
     "metadata": {},
     "output_type": "display_data"
    },
    {
     "name": "stderr",
     "output_type": "stream",
     "text": [
      "Epoch 35: 2.4s to complete\n",
      "    error(train)=6.41e-01, acc(train)=8.00e-01, error(valid)=7.23e-01, acc(valid)=7.74e-01\n"
     ]
    },
    {
     "data": {
      "text/plain": [
       "  0%|          | 0/1000 [00:00<?, ?it/s]"
      ],
      "application/vnd.jupyter.widget-view+json": {
       "version_major": 2,
       "version_minor": 0,
       "model_id": "3ee64129bd39441b9ddc9feb6be2f315"
      }
     },
     "metadata": {},
     "output_type": "display_data"
    },
    {
     "name": "stderr",
     "output_type": "stream",
     "text": [
      "Epoch 36: 2.3s to complete\n",
      "    error(train)=6.31e-01, acc(train)=8.06e-01, error(valid)=7.13e-01, acc(valid)=7.80e-01\n"
     ]
    },
    {
     "data": {
      "text/plain": [
       "  0%|          | 0/1000 [00:00<?, ?it/s]"
      ],
      "application/vnd.jupyter.widget-view+json": {
       "version_major": 2,
       "version_minor": 0,
       "model_id": "4e48f9907b804244b5aafe2da7086c54"
      }
     },
     "metadata": {},
     "output_type": "display_data"
    },
    {
     "name": "stderr",
     "output_type": "stream",
     "text": [
      "Epoch 37: 1.7s to complete\n",
      "    error(train)=6.30e-01, acc(train)=8.05e-01, error(valid)=7.16e-01, acc(valid)=7.83e-01\n"
     ]
    },
    {
     "data": {
      "text/plain": [
       "  0%|          | 0/1000 [00:00<?, ?it/s]"
      ],
      "application/vnd.jupyter.widget-view+json": {
       "version_major": 2,
       "version_minor": 0,
       "model_id": "85ae23971b2647ad81a150fbc8850c8c"
      }
     },
     "metadata": {},
     "output_type": "display_data"
    },
    {
     "name": "stderr",
     "output_type": "stream",
     "text": [
      "Epoch 38: 2.3s to complete\n",
      "    error(train)=6.34e-01, acc(train)=8.01e-01, error(valid)=7.19e-01, acc(valid)=7.74e-01\n"
     ]
    },
    {
     "data": {
      "text/plain": [
       "  0%|          | 0/1000 [00:00<?, ?it/s]"
      ],
      "application/vnd.jupyter.widget-view+json": {
       "version_major": 2,
       "version_minor": 0,
       "model_id": "999401b692174a908001ac4916e271af"
      }
     },
     "metadata": {},
     "output_type": "display_data"
    },
    {
     "name": "stderr",
     "output_type": "stream",
     "text": [
      "Epoch 39: 3.2s to complete\n",
      "    error(train)=6.20e-01, acc(train)=8.09e-01, error(valid)=7.09e-01, acc(valid)=7.83e-01\n"
     ]
    },
    {
     "data": {
      "text/plain": [
       "  0%|          | 0/1000 [00:00<?, ?it/s]"
      ],
      "application/vnd.jupyter.widget-view+json": {
       "version_major": 2,
       "version_minor": 0,
       "model_id": "700fc746f61a4af3a4b70ae852e6c256"
      }
     },
     "metadata": {},
     "output_type": "display_data"
    },
    {
     "name": "stderr",
     "output_type": "stream",
     "text": [
      "Epoch 40: 2.4s to complete\n",
      "    error(train)=6.18e-01, acc(train)=8.09e-01, error(valid)=7.08e-01, acc(valid)=7.83e-01\n"
     ]
    },
    {
     "data": {
      "text/plain": [
       "  0%|          | 0/1000 [00:00<?, ?it/s]"
      ],
      "application/vnd.jupyter.widget-view+json": {
       "version_major": 2,
       "version_minor": 0,
       "model_id": "b3dfbe0b538a4233b4d40ee1bb51c6a1"
      }
     },
     "metadata": {},
     "output_type": "display_data"
    },
    {
     "name": "stderr",
     "output_type": "stream",
     "text": [
      "Epoch 41: 1.9s to complete\n",
      "    error(train)=6.17e-01, acc(train)=8.08e-01, error(valid)=7.09e-01, acc(valid)=7.83e-01\n"
     ]
    },
    {
     "data": {
      "text/plain": [
       "  0%|          | 0/1000 [00:00<?, ?it/s]"
      ],
      "application/vnd.jupyter.widget-view+json": {
       "version_major": 2,
       "version_minor": 0,
       "model_id": "1cef7569f64143c095368b981ef3575e"
      }
     },
     "metadata": {},
     "output_type": "display_data"
    },
    {
     "name": "stderr",
     "output_type": "stream",
     "text": [
      "Epoch 42: 2.3s to complete\n",
      "    error(train)=6.16e-01, acc(train)=8.08e-01, error(valid)=7.10e-01, acc(valid)=7.82e-01\n"
     ]
    },
    {
     "data": {
      "text/plain": [
       "  0%|          | 0/1000 [00:00<?, ?it/s]"
      ],
      "application/vnd.jupyter.widget-view+json": {
       "version_major": 2,
       "version_minor": 0,
       "model_id": "fe1b374676f24d8186d3c7e83349d15a"
      }
     },
     "metadata": {},
     "output_type": "display_data"
    },
    {
     "name": "stderr",
     "output_type": "stream",
     "text": [
      "Epoch 43: 1.6s to complete\n",
      "    error(train)=6.10e-01, acc(train)=8.09e-01, error(valid)=7.05e-01, acc(valid)=7.82e-01\n"
     ]
    },
    {
     "data": {
      "text/plain": [
       "  0%|          | 0/1000 [00:00<?, ?it/s]"
      ],
      "application/vnd.jupyter.widget-view+json": {
       "version_major": 2,
       "version_minor": 0,
       "model_id": "0bd8c7a5481c486d987552513c1a0883"
      }
     },
     "metadata": {},
     "output_type": "display_data"
    },
    {
     "name": "stderr",
     "output_type": "stream",
     "text": [
      "Epoch 44: 1.8s to complete\n",
      "    error(train)=6.11e-01, acc(train)=8.10e-01, error(valid)=7.06e-01, acc(valid)=7.82e-01\n"
     ]
    },
    {
     "data": {
      "text/plain": [
       "  0%|          | 0/1000 [00:00<?, ?it/s]"
      ],
      "application/vnd.jupyter.widget-view+json": {
       "version_major": 2,
       "version_minor": 0,
       "model_id": "c53adb774856433d84fa608936f7ced5"
      }
     },
     "metadata": {},
     "output_type": "display_data"
    },
    {
     "name": "stderr",
     "output_type": "stream",
     "text": [
      "Epoch 45: 1.5s to complete\n",
      "    error(train)=6.13e-01, acc(train)=8.08e-01, error(valid)=7.09e-01, acc(valid)=7.80e-01\n"
     ]
    },
    {
     "data": {
      "text/plain": [
       "  0%|          | 0/1000 [00:00<?, ?it/s]"
      ],
      "application/vnd.jupyter.widget-view+json": {
       "version_major": 2,
       "version_minor": 0,
       "model_id": "1a0c15075ac84be08e18420505524bd0"
      }
     },
     "metadata": {},
     "output_type": "display_data"
    },
    {
     "name": "stderr",
     "output_type": "stream",
     "text": [
      "Epoch 46: 1.6s to complete\n",
      "    error(train)=6.03e-01, acc(train)=8.12e-01, error(valid)=7.01e-01, acc(valid)=7.84e-01\n"
     ]
    },
    {
     "data": {
      "text/plain": [
       "  0%|          | 0/1000 [00:00<?, ?it/s]"
      ],
      "application/vnd.jupyter.widget-view+json": {
       "version_major": 2,
       "version_minor": 0,
       "model_id": "442a67f9e272467bb92d9d9762aad717"
      }
     },
     "metadata": {},
     "output_type": "display_data"
    },
    {
     "name": "stderr",
     "output_type": "stream",
     "text": [
      "Epoch 47: 2.2s to complete\n",
      "    error(train)=6.03e-01, acc(train)=8.11e-01, error(valid)=6.96e-01, acc(valid)=7.88e-01\n"
     ]
    },
    {
     "data": {
      "text/plain": [
       "  0%|          | 0/1000 [00:00<?, ?it/s]"
      ],
      "application/vnd.jupyter.widget-view+json": {
       "version_major": 2,
       "version_minor": 0,
       "model_id": "e786e1ccfce542a8b3ef7995ec59469b"
      }
     },
     "metadata": {},
     "output_type": "display_data"
    },
    {
     "name": "stderr",
     "output_type": "stream",
     "text": [
      "Epoch 48: 1.9s to complete\n",
      "    error(train)=6.06e-01, acc(train)=8.10e-01, error(valid)=7.03e-01, acc(valid)=7.83e-01\n"
     ]
    },
    {
     "data": {
      "text/plain": [
       "  0%|          | 0/1000 [00:00<?, ?it/s]"
      ],
      "application/vnd.jupyter.widget-view+json": {
       "version_major": 2,
       "version_minor": 0,
       "model_id": "4d32eafa3670439cb024f6e6ab0c0580"
      }
     },
     "metadata": {},
     "output_type": "display_data"
    },
    {
     "name": "stderr",
     "output_type": "stream",
     "text": [
      "Epoch 49: 2.0s to complete\n",
      "    error(train)=6.00e-01, acc(train)=8.14e-01, error(valid)=7.00e-01, acc(valid)=7.85e-01\n"
     ]
    },
    {
     "data": {
      "text/plain": [
       "  0%|          | 0/1000 [00:00<?, ?it/s]"
      ],
      "application/vnd.jupyter.widget-view+json": {
       "version_major": 2,
       "version_minor": 0,
       "model_id": "1513a20c67844fa1974112da2dc6c26e"
      }
     },
     "metadata": {},
     "output_type": "display_data"
    },
    {
     "name": "stderr",
     "output_type": "stream",
     "text": [
      "Epoch 50: 1.8s to complete\n",
      "    error(train)=5.99e-01, acc(train)=8.14e-01, error(valid)=6.97e-01, acc(valid)=7.87e-01\n"
     ]
    },
    {
     "data": {
      "text/plain": [
       "  0%|          | 0/1000 [00:00<?, ?it/s]"
      ],
      "application/vnd.jupyter.widget-view+json": {
       "version_major": 2,
       "version_minor": 0,
       "model_id": "6f3382413b04493a8a7979db5cff488d"
      }
     },
     "metadata": {},
     "output_type": "display_data"
    },
    {
     "name": "stderr",
     "output_type": "stream",
     "text": [
      "Epoch 51: 1.6s to complete\n",
      "    error(train)=5.93e-01, acc(train)=8.15e-01, error(valid)=6.93e-01, acc(valid)=7.86e-01\n"
     ]
    },
    {
     "data": {
      "text/plain": [
       "  0%|          | 0/1000 [00:00<?, ?it/s]"
      ],
      "application/vnd.jupyter.widget-view+json": {
       "version_major": 2,
       "version_minor": 0,
       "model_id": "9666ce8e3140475d90cb15df0427932a"
      }
     },
     "metadata": {},
     "output_type": "display_data"
    },
    {
     "name": "stderr",
     "output_type": "stream",
     "text": [
      "Epoch 52: 1.9s to complete\n",
      "    error(train)=5.95e-01, acc(train)=8.14e-01, error(valid)=6.93e-01, acc(valid)=7.88e-01\n"
     ]
    },
    {
     "data": {
      "text/plain": [
       "  0%|          | 0/1000 [00:00<?, ?it/s]"
      ],
      "application/vnd.jupyter.widget-view+json": {
       "version_major": 2,
       "version_minor": 0,
       "model_id": "5b26076f633d4f04b2826dd7813c2d0e"
      }
     },
     "metadata": {},
     "output_type": "display_data"
    },
    {
     "name": "stderr",
     "output_type": "stream",
     "text": [
      "Epoch 53: 2.5s to complete\n",
      "    error(train)=5.95e-01, acc(train)=8.15e-01, error(valid)=6.99e-01, acc(valid)=7.83e-01\n"
     ]
    },
    {
     "data": {
      "text/plain": [
       "  0%|          | 0/1000 [00:00<?, ?it/s]"
      ],
      "application/vnd.jupyter.widget-view+json": {
       "version_major": 2,
       "version_minor": 0,
       "model_id": "f39fc8f4af714c30b4ac4bcb5670814c"
      }
     },
     "metadata": {},
     "output_type": "display_data"
    },
    {
     "name": "stderr",
     "output_type": "stream",
     "text": [
      "Epoch 54: 1.6s to complete\n",
      "    error(train)=5.95e-01, acc(train)=8.13e-01, error(valid)=6.98e-01, acc(valid)=7.85e-01\n"
     ]
    },
    {
     "data": {
      "text/plain": [
       "  0%|          | 0/1000 [00:00<?, ?it/s]"
      ],
      "application/vnd.jupyter.widget-view+json": {
       "version_major": 2,
       "version_minor": 0,
       "model_id": "3a3b12bc5b7b4d27ae6838e447f2d008"
      }
     },
     "metadata": {},
     "output_type": "display_data"
    },
    {
     "name": "stderr",
     "output_type": "stream",
     "text": [
      "Epoch 55: 2.6s to complete\n",
      "    error(train)=5.98e-01, acc(train)=8.14e-01, error(valid)=7.00e-01, acc(valid)=7.88e-01\n"
     ]
    },
    {
     "data": {
      "text/plain": [
       "  0%|          | 0/1000 [00:00<?, ?it/s]"
      ],
      "application/vnd.jupyter.widget-view+json": {
       "version_major": 2,
       "version_minor": 0,
       "model_id": "8c1bfb9eeaeb411baf8e40a5a99a779f"
      }
     },
     "metadata": {},
     "output_type": "display_data"
    },
    {
     "name": "stderr",
     "output_type": "stream",
     "text": [
      "Epoch 56: 1.5s to complete\n",
      "    error(train)=5.92e-01, acc(train)=8.15e-01, error(valid)=6.97e-01, acc(valid)=7.85e-01\n"
     ]
    },
    {
     "data": {
      "text/plain": [
       "  0%|          | 0/1000 [00:00<?, ?it/s]"
      ],
      "application/vnd.jupyter.widget-view+json": {
       "version_major": 2,
       "version_minor": 0,
       "model_id": "2dcc57ad423140079298ecd1ffb552eb"
      }
     },
     "metadata": {},
     "output_type": "display_data"
    },
    {
     "name": "stderr",
     "output_type": "stream",
     "text": [
      "Epoch 57: 1.9s to complete\n",
      "    error(train)=5.87e-01, acc(train)=8.15e-01, error(valid)=6.89e-01, acc(valid)=7.87e-01\n"
     ]
    },
    {
     "data": {
      "text/plain": [
       "  0%|          | 0/1000 [00:00<?, ?it/s]"
      ],
      "application/vnd.jupyter.widget-view+json": {
       "version_major": 2,
       "version_minor": 0,
       "model_id": "01961a793c30405f983f2faa70562dc0"
      }
     },
     "metadata": {},
     "output_type": "display_data"
    },
    {
     "name": "stderr",
     "output_type": "stream",
     "text": [
      "Epoch 58: 1.6s to complete\n",
      "    error(train)=5.87e-01, acc(train)=8.17e-01, error(valid)=6.94e-01, acc(valid)=7.85e-01\n"
     ]
    },
    {
     "data": {
      "text/plain": [
       "  0%|          | 0/1000 [00:00<?, ?it/s]"
      ],
      "application/vnd.jupyter.widget-view+json": {
       "version_major": 2,
       "version_minor": 0,
       "model_id": "992ae22776ee487da2ea8dd562eb8f9f"
      }
     },
     "metadata": {},
     "output_type": "display_data"
    },
    {
     "name": "stderr",
     "output_type": "stream",
     "text": [
      "Epoch 59: 2.1s to complete\n",
      "    error(train)=5.89e-01, acc(train)=8.16e-01, error(valid)=6.98e-01, acc(valid)=7.87e-01\n"
     ]
    },
    {
     "data": {
      "text/plain": [
       "  0%|          | 0/1000 [00:00<?, ?it/s]"
      ],
      "application/vnd.jupyter.widget-view+json": {
       "version_major": 2,
       "version_minor": 0,
       "model_id": "537b12dc53c7475596be5e55d72ef930"
      }
     },
     "metadata": {},
     "output_type": "display_data"
    },
    {
     "name": "stderr",
     "output_type": "stream",
     "text": [
      "Epoch 60: 1.6s to complete\n",
      "    error(train)=5.86e-01, acc(train)=8.15e-01, error(valid)=6.95e-01, acc(valid)=7.86e-01\n"
     ]
    },
    {
     "data": {
      "text/plain": [
       "  0%|          | 0/1000 [00:00<?, ?it/s]"
      ],
      "application/vnd.jupyter.widget-view+json": {
       "version_major": 2,
       "version_minor": 0,
       "model_id": "0675cb1093214ed4b1363347c072f8af"
      }
     },
     "metadata": {},
     "output_type": "display_data"
    },
    {
     "name": "stderr",
     "output_type": "stream",
     "text": [
      "Epoch 61: 1.5s to complete\n",
      "    error(train)=5.82e-01, acc(train)=8.17e-01, error(valid)=6.89e-01, acc(valid)=7.87e-01\n"
     ]
    },
    {
     "data": {
      "text/plain": [
       "  0%|          | 0/1000 [00:00<?, ?it/s]"
      ],
      "application/vnd.jupyter.widget-view+json": {
       "version_major": 2,
       "version_minor": 0,
       "model_id": "051128b6b5ac43e9bd4d8f9923488b5a"
      }
     },
     "metadata": {},
     "output_type": "display_data"
    },
    {
     "name": "stderr",
     "output_type": "stream",
     "text": [
      "Epoch 62: 1.5s to complete\n",
      "    error(train)=5.81e-01, acc(train)=8.17e-01, error(valid)=6.91e-01, acc(valid)=7.89e-01\n"
     ]
    },
    {
     "data": {
      "text/plain": [
       "  0%|          | 0/1000 [00:00<?, ?it/s]"
      ],
      "application/vnd.jupyter.widget-view+json": {
       "version_major": 2,
       "version_minor": 0,
       "model_id": "41a33c0ec70f40c6a8d728fe84a0ea13"
      }
     },
     "metadata": {},
     "output_type": "display_data"
    },
    {
     "name": "stderr",
     "output_type": "stream",
     "text": [
      "Epoch 63: 1.4s to complete\n",
      "    error(train)=5.79e-01, acc(train)=8.19e-01, error(valid)=6.91e-01, acc(valid)=7.88e-01\n"
     ]
    },
    {
     "data": {
      "text/plain": [
       "  0%|          | 0/1000 [00:00<?, ?it/s]"
      ],
      "application/vnd.jupyter.widget-view+json": {
       "version_major": 2,
       "version_minor": 0,
       "model_id": "9890a8abcd32430dac77d4d17ea28a4d"
      }
     },
     "metadata": {},
     "output_type": "display_data"
    },
    {
     "name": "stderr",
     "output_type": "stream",
     "text": [
      "Epoch 64: 1.7s to complete\n",
      "    error(train)=5.81e-01, acc(train)=8.17e-01, error(valid)=6.93e-01, acc(valid)=7.87e-01\n"
     ]
    },
    {
     "data": {
      "text/plain": [
       "  0%|          | 0/1000 [00:00<?, ?it/s]"
      ],
      "application/vnd.jupyter.widget-view+json": {
       "version_major": 2,
       "version_minor": 0,
       "model_id": "b72c372bc0c244109369d095c7dee204"
      }
     },
     "metadata": {},
     "output_type": "display_data"
    },
    {
     "name": "stderr",
     "output_type": "stream",
     "text": [
      "Epoch 65: 2.5s to complete\n",
      "    error(train)=5.91e-01, acc(train)=8.11e-01, error(valid)=7.04e-01, acc(valid)=7.81e-01\n"
     ]
    },
    {
     "data": {
      "text/plain": [
       "  0%|          | 0/1000 [00:00<?, ?it/s]"
      ],
      "application/vnd.jupyter.widget-view+json": {
       "version_major": 2,
       "version_minor": 0,
       "model_id": "19f66c1d32dd4643b6eb64964103a39d"
      }
     },
     "metadata": {},
     "output_type": "display_data"
    },
    {
     "name": "stderr",
     "output_type": "stream",
     "text": [
      "Epoch 66: 2.7s to complete\n",
      "    error(train)=5.84e-01, acc(train)=8.17e-01, error(valid)=6.96e-01, acc(valid)=7.88e-01\n"
     ]
    },
    {
     "data": {
      "text/plain": [
       "  0%|          | 0/1000 [00:00<?, ?it/s]"
      ],
      "application/vnd.jupyter.widget-view+json": {
       "version_major": 2,
       "version_minor": 0,
       "model_id": "aa63b60f3e4144b580440c2a4099012b"
      }
     },
     "metadata": {},
     "output_type": "display_data"
    },
    {
     "name": "stderr",
     "output_type": "stream",
     "text": [
      "Epoch 67: 2.9s to complete\n",
      "    error(train)=5.77e-01, acc(train)=8.18e-01, error(valid)=6.91e-01, acc(valid)=7.89e-01\n"
     ]
    },
    {
     "data": {
      "text/plain": [
       "  0%|          | 0/1000 [00:00<?, ?it/s]"
      ],
      "application/vnd.jupyter.widget-view+json": {
       "version_major": 2,
       "version_minor": 0,
       "model_id": "5fa84251b2a744ca9e02c9061be03ef6"
      }
     },
     "metadata": {},
     "output_type": "display_data"
    },
    {
     "name": "stderr",
     "output_type": "stream",
     "text": [
      "Epoch 68: 2.8s to complete\n",
      "    error(train)=5.76e-01, acc(train)=8.18e-01, error(valid)=6.95e-01, acc(valid)=7.83e-01\n"
     ]
    },
    {
     "data": {
      "text/plain": [
       "  0%|          | 0/1000 [00:00<?, ?it/s]"
      ],
      "application/vnd.jupyter.widget-view+json": {
       "version_major": 2,
       "version_minor": 0,
       "model_id": "4e480fa74c3740eb90a0d896357188a2"
      }
     },
     "metadata": {},
     "output_type": "display_data"
    },
    {
     "name": "stderr",
     "output_type": "stream",
     "text": [
      "Epoch 69: 3.3s to complete\n",
      "    error(train)=5.77e-01, acc(train)=8.18e-01, error(valid)=6.93e-01, acc(valid)=7.89e-01\n"
     ]
    },
    {
     "data": {
      "text/plain": [
       "  0%|          | 0/1000 [00:00<?, ?it/s]"
      ],
      "application/vnd.jupyter.widget-view+json": {
       "version_major": 2,
       "version_minor": 0,
       "model_id": "80e01a0c44b14989b377c68f61511eeb"
      }
     },
     "metadata": {},
     "output_type": "display_data"
    },
    {
     "name": "stderr",
     "output_type": "stream",
     "text": [
      "Epoch 70: 2.7s to complete\n",
      "    error(train)=5.78e-01, acc(train)=8.18e-01, error(valid)=6.97e-01, acc(valid)=7.86e-01\n"
     ]
    },
    {
     "data": {
      "text/plain": [
       "  0%|          | 0/1000 [00:00<?, ?it/s]"
      ],
      "application/vnd.jupyter.widget-view+json": {
       "version_major": 2,
       "version_minor": 0,
       "model_id": "eb6ade87c543486297fa0b9549ef65cc"
      }
     },
     "metadata": {},
     "output_type": "display_data"
    },
    {
     "name": "stderr",
     "output_type": "stream",
     "text": [
      "Epoch 71: 2.3s to complete\n",
      "    error(train)=5.84e-01, acc(train)=8.16e-01, error(valid)=6.99e-01, acc(valid)=7.86e-01\n"
     ]
    },
    {
     "data": {
      "text/plain": [
       "  0%|          | 0/1000 [00:00<?, ?it/s]"
      ],
      "application/vnd.jupyter.widget-view+json": {
       "version_major": 2,
       "version_minor": 0,
       "model_id": "c3d862ddf50f4d0e9db82cdde2e4f156"
      }
     },
     "metadata": {},
     "output_type": "display_data"
    },
    {
     "name": "stderr",
     "output_type": "stream",
     "text": [
      "Epoch 72: 2.4s to complete\n",
      "    error(train)=5.78e-01, acc(train)=8.17e-01, error(valid)=6.97e-01, acc(valid)=7.85e-01\n"
     ]
    },
    {
     "data": {
      "text/plain": [
       "  0%|          | 0/1000 [00:00<?, ?it/s]"
      ],
      "application/vnd.jupyter.widget-view+json": {
       "version_major": 2,
       "version_minor": 0,
       "model_id": "898b2f0864534775a8ef9d4018b7e59a"
      }
     },
     "metadata": {},
     "output_type": "display_data"
    },
    {
     "name": "stderr",
     "output_type": "stream",
     "text": [
      "Epoch 73: 2.7s to complete\n",
      "    error(train)=5.73e-01, acc(train)=8.19e-01, error(valid)=6.90e-01, acc(valid)=7.86e-01\n"
     ]
    },
    {
     "data": {
      "text/plain": [
       "  0%|          | 0/1000 [00:00<?, ?it/s]"
      ],
      "application/vnd.jupyter.widget-view+json": {
       "version_major": 2,
       "version_minor": 0,
       "model_id": "59fd60dc10854ce0906eadccb260761e"
      }
     },
     "metadata": {},
     "output_type": "display_data"
    },
    {
     "name": "stderr",
     "output_type": "stream",
     "text": [
      "Epoch 74: 2.1s to complete\n",
      "    error(train)=5.76e-01, acc(train)=8.16e-01, error(valid)=6.91e-01, acc(valid)=7.87e-01\n"
     ]
    },
    {
     "data": {
      "text/plain": [
       "  0%|          | 0/1000 [00:00<?, ?it/s]"
      ],
      "application/vnd.jupyter.widget-view+json": {
       "version_major": 2,
       "version_minor": 0,
       "model_id": "2643b78eab454f03b041fd5e0871594b"
      }
     },
     "metadata": {},
     "output_type": "display_data"
    },
    {
     "name": "stderr",
     "output_type": "stream",
     "text": [
      "Epoch 75: 3.7s to complete\n",
      "    error(train)=5.73e-01, acc(train)=8.18e-01, error(valid)=6.92e-01, acc(valid)=7.85e-01\n"
     ]
    },
    {
     "data": {
      "text/plain": [
       "  0%|          | 0/1000 [00:00<?, ?it/s]"
      ],
      "application/vnd.jupyter.widget-view+json": {
       "version_major": 2,
       "version_minor": 0,
       "model_id": "6f38d6b9da3542ccab5ae76ab8ae58f9"
      }
     },
     "metadata": {},
     "output_type": "display_data"
    },
    {
     "name": "stderr",
     "output_type": "stream",
     "text": [
      "Epoch 76: 2.7s to complete\n",
      "    error(train)=5.70e-01, acc(train)=8.20e-01, error(valid)=6.93e-01, acc(valid)=7.88e-01\n"
     ]
    },
    {
     "data": {
      "text/plain": [
       "  0%|          | 0/1000 [00:00<?, ?it/s]"
      ],
      "application/vnd.jupyter.widget-view+json": {
       "version_major": 2,
       "version_minor": 0,
       "model_id": "5ec34d57469946899837762bf949ae16"
      }
     },
     "metadata": {},
     "output_type": "display_data"
    },
    {
     "name": "stderr",
     "output_type": "stream",
     "text": [
      "Epoch 77: 1.8s to complete\n",
      "    error(train)=5.73e-01, acc(train)=8.18e-01, error(valid)=6.94e-01, acc(valid)=7.86e-01\n"
     ]
    },
    {
     "data": {
      "text/plain": [
       "  0%|          | 0/1000 [00:00<?, ?it/s]"
      ],
      "application/vnd.jupyter.widget-view+json": {
       "version_major": 2,
       "version_minor": 0,
       "model_id": "35e1df4c6f3e4d239578d88ea6a40961"
      }
     },
     "metadata": {},
     "output_type": "display_data"
    },
    {
     "name": "stderr",
     "output_type": "stream",
     "text": [
      "Epoch 78: 4.7s to complete\n",
      "    error(train)=5.71e-01, acc(train)=8.20e-01, error(valid)=6.90e-01, acc(valid)=7.89e-01\n"
     ]
    },
    {
     "data": {
      "text/plain": [
       "  0%|          | 0/1000 [00:00<?, ?it/s]"
      ],
      "application/vnd.jupyter.widget-view+json": {
       "version_major": 2,
       "version_minor": 0,
       "model_id": "6334f15ce396458c9082232700da6f57"
      }
     },
     "metadata": {},
     "output_type": "display_data"
    },
    {
     "name": "stderr",
     "output_type": "stream",
     "text": [
      "Epoch 79: 4.5s to complete\n",
      "    error(train)=5.70e-01, acc(train)=8.21e-01, error(valid)=6.93e-01, acc(valid)=7.88e-01\n"
     ]
    },
    {
     "data": {
      "text/plain": [
       "  0%|          | 0/1000 [00:00<?, ?it/s]"
      ],
      "application/vnd.jupyter.widget-view+json": {
       "version_major": 2,
       "version_minor": 0,
       "model_id": "eda36be340654656941183ea087ef4f9"
      }
     },
     "metadata": {},
     "output_type": "display_data"
    },
    {
     "name": "stderr",
     "output_type": "stream",
     "text": [
      "Epoch 80: 2.4s to complete\n",
      "    error(train)=5.65e-01, acc(train)=8.22e-01, error(valid)=6.89e-01, acc(valid)=7.89e-01\n"
     ]
    },
    {
     "data": {
      "text/plain": [
       "  0%|          | 0/1000 [00:00<?, ?it/s]"
      ],
      "application/vnd.jupyter.widget-view+json": {
       "version_major": 2,
       "version_minor": 0,
       "model_id": "d9746c5c5da942f2a6931cba35dbd075"
      }
     },
     "metadata": {},
     "output_type": "display_data"
    },
    {
     "name": "stderr",
     "output_type": "stream",
     "text": [
      "Epoch 81: 2.2s to complete\n",
      "    error(train)=5.71e-01, acc(train)=8.17e-01, error(valid)=6.95e-01, acc(valid)=7.84e-01\n"
     ]
    },
    {
     "data": {
      "text/plain": [
       "  0%|          | 0/1000 [00:00<?, ?it/s]"
      ],
      "application/vnd.jupyter.widget-view+json": {
       "version_major": 2,
       "version_minor": 0,
       "model_id": "3533be9611a54d07bdc2692162cc89f1"
      }
     },
     "metadata": {},
     "output_type": "display_data"
    },
    {
     "name": "stderr",
     "output_type": "stream",
     "text": [
      "Epoch 82: 2.3s to complete\n",
      "    error(train)=5.64e-01, acc(train)=8.22e-01, error(valid)=6.90e-01, acc(valid)=7.87e-01\n"
     ]
    },
    {
     "data": {
      "text/plain": [
       "  0%|          | 0/1000 [00:00<?, ?it/s]"
      ],
      "application/vnd.jupyter.widget-view+json": {
       "version_major": 2,
       "version_minor": 0,
       "model_id": "0c427d9b61654e3bb1296bb0db4f925b"
      }
     },
     "metadata": {},
     "output_type": "display_data"
    },
    {
     "name": "stderr",
     "output_type": "stream",
     "text": [
      "Epoch 83: 2.2s to complete\n",
      "    error(train)=5.70e-01, acc(train)=8.19e-01, error(valid)=6.96e-01, acc(valid)=7.84e-01\n"
     ]
    },
    {
     "data": {
      "text/plain": [
       "  0%|          | 0/1000 [00:00<?, ?it/s]"
      ],
      "application/vnd.jupyter.widget-view+json": {
       "version_major": 2,
       "version_minor": 0,
       "model_id": "ef54afaa474641f1b61366abee6cefd8"
      }
     },
     "metadata": {},
     "output_type": "display_data"
    },
    {
     "name": "stderr",
     "output_type": "stream",
     "text": [
      "Epoch 84: 1.9s to complete\n",
      "    error(train)=5.63e-01, acc(train)=8.22e-01, error(valid)=6.89e-01, acc(valid)=7.90e-01\n"
     ]
    },
    {
     "data": {
      "text/plain": [
       "  0%|          | 0/1000 [00:00<?, ?it/s]"
      ],
      "application/vnd.jupyter.widget-view+json": {
       "version_major": 2,
       "version_minor": 0,
       "model_id": "e0b676339d034787bf423622db454c2f"
      }
     },
     "metadata": {},
     "output_type": "display_data"
    },
    {
     "name": "stderr",
     "output_type": "stream",
     "text": [
      "Epoch 85: 1.8s to complete\n",
      "    error(train)=5.66e-01, acc(train)=8.20e-01, error(valid)=6.91e-01, acc(valid)=7.87e-01\n"
     ]
    },
    {
     "data": {
      "text/plain": [
       "  0%|          | 0/1000 [00:00<?, ?it/s]"
      ],
      "application/vnd.jupyter.widget-view+json": {
       "version_major": 2,
       "version_minor": 0,
       "model_id": "759cb0acfc8746f1bfdbd7d583e0ecab"
      }
     },
     "metadata": {},
     "output_type": "display_data"
    },
    {
     "name": "stderr",
     "output_type": "stream",
     "text": [
      "Epoch 86: 1.7s to complete\n",
      "    error(train)=5.65e-01, acc(train)=8.20e-01, error(valid)=6.91e-01, acc(valid)=7.85e-01\n"
     ]
    },
    {
     "data": {
      "text/plain": [
       "  0%|          | 0/1000 [00:00<?, ?it/s]"
      ],
      "application/vnd.jupyter.widget-view+json": {
       "version_major": 2,
       "version_minor": 0,
       "model_id": "c14eb9d9e88a44b99e1df790f001aecd"
      }
     },
     "metadata": {},
     "output_type": "display_data"
    },
    {
     "name": "stderr",
     "output_type": "stream",
     "text": [
      "Epoch 87: 1.8s to complete\n",
      "    error(train)=5.63e-01, acc(train)=8.20e-01, error(valid)=6.92e-01, acc(valid)=7.87e-01\n"
     ]
    },
    {
     "data": {
      "text/plain": [
       "  0%|          | 0/1000 [00:00<?, ?it/s]"
      ],
      "application/vnd.jupyter.widget-view+json": {
       "version_major": 2,
       "version_minor": 0,
       "model_id": "52fb1a18d25a45e2a2d48198971af88d"
      }
     },
     "metadata": {},
     "output_type": "display_data"
    },
    {
     "name": "stderr",
     "output_type": "stream",
     "text": [
      "Epoch 88: 1.6s to complete\n",
      "    error(train)=5.59e-01, acc(train)=8.23e-01, error(valid)=6.88e-01, acc(valid)=7.90e-01\n"
     ]
    },
    {
     "data": {
      "text/plain": [
       "  0%|          | 0/1000 [00:00<?, ?it/s]"
      ],
      "application/vnd.jupyter.widget-view+json": {
       "version_major": 2,
       "version_minor": 0,
       "model_id": "5434759dce4a466b835c8ae2c2c4b565"
      }
     },
     "metadata": {},
     "output_type": "display_data"
    },
    {
     "name": "stderr",
     "output_type": "stream",
     "text": [
      "Epoch 89: 1.9s to complete\n",
      "    error(train)=5.64e-01, acc(train)=8.22e-01, error(valid)=6.94e-01, acc(valid)=7.89e-01\n"
     ]
    },
    {
     "data": {
      "text/plain": [
       "  0%|          | 0/1000 [00:00<?, ?it/s]"
      ],
      "application/vnd.jupyter.widget-view+json": {
       "version_major": 2,
       "version_minor": 0,
       "model_id": "0febb1c56c434481997c5f353e3e699f"
      }
     },
     "metadata": {},
     "output_type": "display_data"
    },
    {
     "name": "stderr",
     "output_type": "stream",
     "text": [
      "Epoch 90: 1.7s to complete\n",
      "    error(train)=5.58e-01, acc(train)=8.24e-01, error(valid)=6.85e-01, acc(valid)=7.93e-01\n"
     ]
    },
    {
     "data": {
      "text/plain": [
       "  0%|          | 0/1000 [00:00<?, ?it/s]"
      ],
      "application/vnd.jupyter.widget-view+json": {
       "version_major": 2,
       "version_minor": 0,
       "model_id": "92ea1511655e40e491aa95ca6d5ab424"
      }
     },
     "metadata": {},
     "output_type": "display_data"
    },
    {
     "name": "stderr",
     "output_type": "stream",
     "text": [
      "Epoch 91: 1.8s to complete\n",
      "    error(train)=5.62e-01, acc(train)=8.21e-01, error(valid)=6.94e-01, acc(valid)=7.91e-01\n"
     ]
    },
    {
     "data": {
      "text/plain": [
       "  0%|          | 0/1000 [00:00<?, ?it/s]"
      ],
      "application/vnd.jupyter.widget-view+json": {
       "version_major": 2,
       "version_minor": 0,
       "model_id": "2d85c52b0506416ba5897db0c28c2f6b"
      }
     },
     "metadata": {},
     "output_type": "display_data"
    },
    {
     "name": "stderr",
     "output_type": "stream",
     "text": [
      "Epoch 92: 1.9s to complete\n",
      "    error(train)=5.60e-01, acc(train)=8.22e-01, error(valid)=6.95e-01, acc(valid)=7.87e-01\n"
     ]
    },
    {
     "data": {
      "text/plain": [
       "  0%|          | 0/1000 [00:00<?, ?it/s]"
      ],
      "application/vnd.jupyter.widget-view+json": {
       "version_major": 2,
       "version_minor": 0,
       "model_id": "84ef83aaca964ccc81ae52f8665cbc8f"
      }
     },
     "metadata": {},
     "output_type": "display_data"
    },
    {
     "name": "stderr",
     "output_type": "stream",
     "text": [
      "Epoch 93: 2.4s to complete\n",
      "    error(train)=5.60e-01, acc(train)=8.21e-01, error(valid)=6.91e-01, acc(valid)=7.88e-01\n"
     ]
    },
    {
     "data": {
      "text/plain": [
       "  0%|          | 0/1000 [00:00<?, ?it/s]"
      ],
      "application/vnd.jupyter.widget-view+json": {
       "version_major": 2,
       "version_minor": 0,
       "model_id": "29635c5c5436456e9348715d60d23e44"
      }
     },
     "metadata": {},
     "output_type": "display_data"
    },
    {
     "name": "stderr",
     "output_type": "stream",
     "text": [
      "Epoch 94: 1.9s to complete\n",
      "    error(train)=5.63e-01, acc(train)=8.20e-01, error(valid)=6.96e-01, acc(valid)=7.87e-01\n"
     ]
    },
    {
     "data": {
      "text/plain": [
       "  0%|          | 0/1000 [00:00<?, ?it/s]"
      ],
      "application/vnd.jupyter.widget-view+json": {
       "version_major": 2,
       "version_minor": 0,
       "model_id": "51d8c5cad07c492ea9ffc53bc5018c39"
      }
     },
     "metadata": {},
     "output_type": "display_data"
    },
    {
     "name": "stderr",
     "output_type": "stream",
     "text": [
      "Epoch 95: 1.8s to complete\n",
      "    error(train)=5.64e-01, acc(train)=8.22e-01, error(valid)=6.92e-01, acc(valid)=7.87e-01\n"
     ]
    },
    {
     "data": {
      "text/plain": [
       "  0%|          | 0/1000 [00:00<?, ?it/s]"
      ],
      "application/vnd.jupyter.widget-view+json": {
       "version_major": 2,
       "version_minor": 0,
       "model_id": "48194739b9b74e49aa68af1ea7108571"
      }
     },
     "metadata": {},
     "output_type": "display_data"
    },
    {
     "name": "stderr",
     "output_type": "stream",
     "text": [
      "Epoch 96: 1.9s to complete\n",
      "    error(train)=5.54e-01, acc(train)=8.23e-01, error(valid)=6.90e-01, acc(valid)=7.91e-01\n"
     ]
    },
    {
     "data": {
      "text/plain": [
       "  0%|          | 0/1000 [00:00<?, ?it/s]"
      ],
      "application/vnd.jupyter.widget-view+json": {
       "version_major": 2,
       "version_minor": 0,
       "model_id": "706e83a2ccef4e128ddf73697f3a2211"
      }
     },
     "metadata": {},
     "output_type": "display_data"
    },
    {
     "name": "stderr",
     "output_type": "stream",
     "text": [
      "Epoch 97: 1.7s to complete\n",
      "    error(train)=5.61e-01, acc(train)=8.21e-01, error(valid)=6.95e-01, acc(valid)=7.88e-01\n"
     ]
    },
    {
     "data": {
      "text/plain": [
       "  0%|          | 0/1000 [00:00<?, ?it/s]"
      ],
      "application/vnd.jupyter.widget-view+json": {
       "version_major": 2,
       "version_minor": 0,
       "model_id": "dc8da1ad92e442b3a71f3477abff31b8"
      }
     },
     "metadata": {},
     "output_type": "display_data"
    },
    {
     "name": "stderr",
     "output_type": "stream",
     "text": [
      "Epoch 98: 1.6s to complete\n",
      "    error(train)=5.55e-01, acc(train)=8.23e-01, error(valid)=6.90e-01, acc(valid)=7.88e-01\n"
     ]
    },
    {
     "data": {
      "text/plain": [
       "  0%|          | 0/1000 [00:00<?, ?it/s]"
      ],
      "application/vnd.jupyter.widget-view+json": {
       "version_major": 2,
       "version_minor": 0,
       "model_id": "e58fcddb5fb649a68d3e0db181c2115a"
      }
     },
     "metadata": {},
     "output_type": "display_data"
    },
    {
     "name": "stderr",
     "output_type": "stream",
     "text": [
      "Epoch 99: 1.6s to complete\n",
      "    error(train)=5.59e-01, acc(train)=8.21e-01, error(valid)=6.99e-01, acc(valid)=7.87e-01\n"
     ]
    },
    {
     "data": {
      "text/plain": [
       "  0%|          | 0/1000 [00:00<?, ?it/s]"
      ],
      "application/vnd.jupyter.widget-view+json": {
       "version_major": 2,
       "version_minor": 0,
       "model_id": "e5d0778e37844071a417a81ccbf90f48"
      }
     },
     "metadata": {},
     "output_type": "display_data"
    },
    {
     "name": "stderr",
     "output_type": "stream",
     "text": [
      "Epoch 100: 1.5s to complete\n",
      "    error(train)=5.58e-01, acc(train)=8.23e-01, error(valid)=6.94e-01, acc(valid)=7.88e-01\n"
     ]
    },
    {
     "name": "stdout",
     "output_type": "stream",
     "text": [
      "    final error(train) = 5.58e-01\n",
      "    final error(valid) = 6.94e-01\n",
      "    final acc(train)   = 8.23e-01\n",
      "    final acc(valid)   = 7.88e-01\n",
      "    run time per epoch = 3.15\n"
     ]
    },
    {
     "data": {
      "text/plain": [
       "  0%|          | 0/100 [00:00<?, ?it/s]"
      ],
      "application/vnd.jupyter.widget-view+json": {
       "version_major": 2,
       "version_minor": 0,
       "model_id": "4acffac807154b81b7c058ae1e800346"
      }
     },
     "metadata": {},
     "output_type": "display_data"
    },
    {
     "data": {
      "text/plain": [
       "  0%|          | 0/1000 [00:00<?, ?it/s]"
      ],
      "application/vnd.jupyter.widget-view+json": {
       "version_major": 2,
       "version_minor": 0,
       "model_id": "768dd21527c94ddcb23c855bcaf0f075"
      }
     },
     "metadata": {},
     "output_type": "display_data"
    },
    {
     "name": "stderr",
     "output_type": "stream",
     "text": [
      "Epoch 1: 2.1s to complete\n",
      "    error(train)=1.05e+00, acc(train)=7.03e-01, error(valid)=1.08e+00, acc(valid)=6.96e-01\n"
     ]
    },
    {
     "data": {
      "text/plain": [
       "  0%|          | 0/1000 [00:00<?, ?it/s]"
      ],
      "application/vnd.jupyter.widget-view+json": {
       "version_major": 2,
       "version_minor": 0,
       "model_id": "8c501f3d089d4955b89980064983519f"
      }
     },
     "metadata": {},
     "output_type": "display_data"
    },
    {
     "name": "stderr",
     "output_type": "stream",
     "text": [
      "Epoch 2: 2.5s to complete\n",
      "    error(train)=8.72e-01, acc(train)=7.49e-01, error(valid)=8.98e-01, acc(valid)=7.41e-01\n"
     ]
    },
    {
     "data": {
      "text/plain": [
       "  0%|          | 0/1000 [00:00<?, ?it/s]"
      ],
      "application/vnd.jupyter.widget-view+json": {
       "version_major": 2,
       "version_minor": 0,
       "model_id": "cc49c201207d44a6ad5ba2a766553526"
      }
     },
     "metadata": {},
     "output_type": "display_data"
    },
    {
     "name": "stderr",
     "output_type": "stream",
     "text": [
      "Epoch 3: 2.4s to complete\n",
      "    error(train)=7.63e-01, acc(train)=7.75e-01, error(valid)=7.98e-01, acc(valid)=7.65e-01\n"
     ]
    },
    {
     "data": {
      "text/plain": [
       "  0%|          | 0/1000 [00:00<?, ?it/s]"
      ],
      "application/vnd.jupyter.widget-view+json": {
       "version_major": 2,
       "version_minor": 0,
       "model_id": "d1c484e8143f4b72ab4e1c0f66f856f3"
      }
     },
     "metadata": {},
     "output_type": "display_data"
    },
    {
     "name": "stderr",
     "output_type": "stream",
     "text": [
      "Epoch 4: 2.8s to complete\n",
      "    error(train)=7.09e-01, acc(train)=7.87e-01, error(valid)=7.52e-01, acc(valid)=7.76e-01\n"
     ]
    },
    {
     "data": {
      "text/plain": [
       "  0%|          | 0/1000 [00:00<?, ?it/s]"
      ],
      "application/vnd.jupyter.widget-view+json": {
       "version_major": 2,
       "version_minor": 0,
       "model_id": "80b3a8c0f82d40b09a32a622e02438bd"
      }
     },
     "metadata": {},
     "output_type": "display_data"
    },
    {
     "name": "stderr",
     "output_type": "stream",
     "text": [
      "Epoch 5: 3.0s to complete\n",
      "    error(train)=6.64e-01, acc(train)=8.00e-01, error(valid)=7.18e-01, acc(valid)=7.83e-01\n"
     ]
    },
    {
     "data": {
      "text/plain": [
       "  0%|          | 0/1000 [00:00<?, ?it/s]"
      ],
      "application/vnd.jupyter.widget-view+json": {
       "version_major": 2,
       "version_minor": 0,
       "model_id": "da7724b080a746b297770c61d0722c22"
      }
     },
     "metadata": {},
     "output_type": "display_data"
    },
    {
     "name": "stderr",
     "output_type": "stream",
     "text": [
      "Epoch 6: 3.2s to complete\n",
      "    error(train)=6.26e-01, acc(train)=8.07e-01, error(valid)=6.86e-01, acc(valid)=7.90e-01\n"
     ]
    },
    {
     "data": {
      "text/plain": [
       "  0%|          | 0/1000 [00:00<?, ?it/s]"
      ],
      "application/vnd.jupyter.widget-view+json": {
       "version_major": 2,
       "version_minor": 0,
       "model_id": "1a546bafe6054797976e7b0a2f21ceec"
      }
     },
     "metadata": {},
     "output_type": "display_data"
    },
    {
     "name": "stderr",
     "output_type": "stream",
     "text": [
      "Epoch 7: 3.2s to complete\n",
      "    error(train)=6.06e-01, acc(train)=8.11e-01, error(valid)=6.74e-01, acc(valid)=7.91e-01\n"
     ]
    },
    {
     "data": {
      "text/plain": [
       "  0%|          | 0/1000 [00:00<?, ?it/s]"
      ],
      "application/vnd.jupyter.widget-view+json": {
       "version_major": 2,
       "version_minor": 0,
       "model_id": "643e2a140096413faa8dbea09adc8bbf"
      }
     },
     "metadata": {},
     "output_type": "display_data"
    },
    {
     "name": "stderr",
     "output_type": "stream",
     "text": [
      "Epoch 8: 2.7s to complete\n",
      "    error(train)=5.83e-01, acc(train)=8.16e-01, error(valid)=6.59e-01, acc(valid)=7.95e-01\n"
     ]
    },
    {
     "data": {
      "text/plain": [
       "  0%|          | 0/1000 [00:00<?, ?it/s]"
      ],
      "application/vnd.jupyter.widget-view+json": {
       "version_major": 2,
       "version_minor": 0,
       "model_id": "cb0fd91b30fb46ef9dea3caeaa49e689"
      }
     },
     "metadata": {},
     "output_type": "display_data"
    },
    {
     "name": "stderr",
     "output_type": "stream",
     "text": [
      "Epoch 9: 2.5s to complete\n",
      "    error(train)=5.64e-01, acc(train)=8.23e-01, error(valid)=6.45e-01, acc(valid)=8.00e-01\n"
     ]
    },
    {
     "data": {
      "text/plain": [
       "  0%|          | 0/1000 [00:00<?, ?it/s]"
      ],
      "application/vnd.jupyter.widget-view+json": {
       "version_major": 2,
       "version_minor": 0,
       "model_id": "c514125fa7e649fe9ed745bad376f8b4"
      }
     },
     "metadata": {},
     "output_type": "display_data"
    },
    {
     "name": "stderr",
     "output_type": "stream",
     "text": [
      "Epoch 10: 3.2s to complete\n",
      "    error(train)=5.53e-01, acc(train)=8.25e-01, error(valid)=6.41e-01, acc(valid)=8.00e-01\n"
     ]
    },
    {
     "data": {
      "text/plain": [
       "  0%|          | 0/1000 [00:00<?, ?it/s]"
      ],
      "application/vnd.jupyter.widget-view+json": {
       "version_major": 2,
       "version_minor": 0,
       "model_id": "1066bf2347204aeaaf7fde6eb28a7ffd"
      }
     },
     "metadata": {},
     "output_type": "display_data"
    },
    {
     "name": "stderr",
     "output_type": "stream",
     "text": [
      "Epoch 11: 2.6s to complete\n",
      "    error(train)=5.46e-01, acc(train)=8.26e-01, error(valid)=6.37e-01, acc(valid)=8.02e-01\n"
     ]
    },
    {
     "data": {
      "text/plain": [
       "  0%|          | 0/1000 [00:00<?, ?it/s]"
      ],
      "application/vnd.jupyter.widget-view+json": {
       "version_major": 2,
       "version_minor": 0,
       "model_id": "9640c7ac7fc949bda183dc19b73f4905"
      }
     },
     "metadata": {},
     "output_type": "display_data"
    },
    {
     "name": "stderr",
     "output_type": "stream",
     "text": [
      "Epoch 12: 2.8s to complete\n",
      "    error(train)=5.21e-01, acc(train)=8.33e-01, error(valid)=6.16e-01, acc(valid)=8.07e-01\n"
     ]
    },
    {
     "data": {
      "text/plain": [
       "  0%|          | 0/1000 [00:00<?, ?it/s]"
      ],
      "application/vnd.jupyter.widget-view+json": {
       "version_major": 2,
       "version_minor": 0,
       "model_id": "f2e81f147dc54d43b846c7509844e13f"
      }
     },
     "metadata": {},
     "output_type": "display_data"
    },
    {
     "name": "stderr",
     "output_type": "stream",
     "text": [
      "Epoch 13: 3.2s to complete\n",
      "    error(train)=5.20e-01, acc(train)=8.31e-01, error(valid)=6.25e-01, acc(valid)=8.02e-01\n"
     ]
    },
    {
     "data": {
      "text/plain": [
       "  0%|          | 0/1000 [00:00<?, ?it/s]"
      ],
      "application/vnd.jupyter.widget-view+json": {
       "version_major": 2,
       "version_minor": 0,
       "model_id": "ebad86f481634a788b98e1fea9914bf6"
      }
     },
     "metadata": {},
     "output_type": "display_data"
    },
    {
     "name": "stderr",
     "output_type": "stream",
     "text": [
      "Epoch 14: 2.7s to complete\n",
      "    error(train)=5.05e-01, acc(train)=8.37e-01, error(valid)=6.11e-01, acc(valid)=8.09e-01\n"
     ]
    },
    {
     "data": {
      "text/plain": [
       "  0%|          | 0/1000 [00:00<?, ?it/s]"
      ],
      "application/vnd.jupyter.widget-view+json": {
       "version_major": 2,
       "version_minor": 0,
       "model_id": "a1ff0db0678540508cfd320cb5e1b18e"
      }
     },
     "metadata": {},
     "output_type": "display_data"
    },
    {
     "name": "stderr",
     "output_type": "stream",
     "text": [
      "Epoch 15: 2.1s to complete\n",
      "    error(train)=5.04e-01, acc(train)=8.37e-01, error(valid)=6.15e-01, acc(valid)=8.08e-01\n"
     ]
    },
    {
     "data": {
      "text/plain": [
       "  0%|          | 0/1000 [00:00<?, ?it/s]"
      ],
      "application/vnd.jupyter.widget-view+json": {
       "version_major": 2,
       "version_minor": 0,
       "model_id": "d81c40b0bc8f4cfbb21a473836e95dc8"
      }
     },
     "metadata": {},
     "output_type": "display_data"
    },
    {
     "name": "stderr",
     "output_type": "stream",
     "text": [
      "Epoch 16: 2.2s to complete\n",
      "    error(train)=4.88e-01, acc(train)=8.43e-01, error(valid)=6.01e-01, acc(valid)=8.13e-01\n"
     ]
    },
    {
     "data": {
      "text/plain": [
       "  0%|          | 0/1000 [00:00<?, ?it/s]"
      ],
      "application/vnd.jupyter.widget-view+json": {
       "version_major": 2,
       "version_minor": 0,
       "model_id": "1540381251ea4228a808e81d446a8e3e"
      }
     },
     "metadata": {},
     "output_type": "display_data"
    },
    {
     "name": "stderr",
     "output_type": "stream",
     "text": [
      "Epoch 17: 2.7s to complete\n",
      "    error(train)=4.84e-01, acc(train)=8.42e-01, error(valid)=6.03e-01, acc(valid)=8.11e-01\n"
     ]
    },
    {
     "data": {
      "text/plain": [
       "  0%|          | 0/1000 [00:00<?, ?it/s]"
      ],
      "application/vnd.jupyter.widget-view+json": {
       "version_major": 2,
       "version_minor": 0,
       "model_id": "2bfa08145d0744b395ae2e8b8201e187"
      }
     },
     "metadata": {},
     "output_type": "display_data"
    },
    {
     "name": "stderr",
     "output_type": "stream",
     "text": [
      "Epoch 18: 2.2s to complete\n",
      "    error(train)=4.74e-01, acc(train)=8.45e-01, error(valid)=5.96e-01, acc(valid)=8.14e-01\n"
     ]
    },
    {
     "data": {
      "text/plain": [
       "  0%|          | 0/1000 [00:00<?, ?it/s]"
      ],
      "application/vnd.jupyter.widget-view+json": {
       "version_major": 2,
       "version_minor": 0,
       "model_id": "d2515b7bdea74678a36f34b79e8b3518"
      }
     },
     "metadata": {},
     "output_type": "display_data"
    },
    {
     "name": "stderr",
     "output_type": "stream",
     "text": [
      "Epoch 19: 2.1s to complete\n",
      "    error(train)=4.69e-01, acc(train)=8.47e-01, error(valid)=5.96e-01, acc(valid)=8.14e-01\n"
     ]
    },
    {
     "data": {
      "text/plain": [
       "  0%|          | 0/1000 [00:00<?, ?it/s]"
      ],
      "application/vnd.jupyter.widget-view+json": {
       "version_major": 2,
       "version_minor": 0,
       "model_id": "be900ef210f441db9f5633a12e5c7c72"
      }
     },
     "metadata": {},
     "output_type": "display_data"
    },
    {
     "name": "stderr",
     "output_type": "stream",
     "text": [
      "Epoch 20: 2.1s to complete\n",
      "    error(train)=4.74e-01, acc(train)=8.43e-01, error(valid)=6.03e-01, acc(valid)=8.11e-01\n"
     ]
    },
    {
     "data": {
      "text/plain": [
       "  0%|          | 0/1000 [00:00<?, ?it/s]"
      ],
      "application/vnd.jupyter.widget-view+json": {
       "version_major": 2,
       "version_minor": 0,
       "model_id": "72c6ecdd9fc84551b8be490e5a5b7808"
      }
     },
     "metadata": {},
     "output_type": "display_data"
    },
    {
     "name": "stderr",
     "output_type": "stream",
     "text": [
      "Epoch 21: 2.1s to complete\n",
      "    error(train)=4.58e-01, acc(train)=8.51e-01, error(valid)=5.92e-01, acc(valid)=8.15e-01\n"
     ]
    },
    {
     "data": {
      "text/plain": [
       "  0%|          | 0/1000 [00:00<?, ?it/s]"
      ],
      "application/vnd.jupyter.widget-view+json": {
       "version_major": 2,
       "version_minor": 0,
       "model_id": "e4b0f900dd294559bfbf6a03be69b28f"
      }
     },
     "metadata": {},
     "output_type": "display_data"
    },
    {
     "name": "stderr",
     "output_type": "stream",
     "text": [
      "Epoch 22: 2.3s to complete\n",
      "    error(train)=4.52e-01, acc(train)=8.52e-01, error(valid)=5.90e-01, acc(valid)=8.17e-01\n"
     ]
    },
    {
     "data": {
      "text/plain": [
       "  0%|          | 0/1000 [00:00<?, ?it/s]"
      ],
      "application/vnd.jupyter.widget-view+json": {
       "version_major": 2,
       "version_minor": 0,
       "model_id": "1eb448ae8393478e9f38b17b8a5770a6"
      }
     },
     "metadata": {},
     "output_type": "display_data"
    },
    {
     "name": "stderr",
     "output_type": "stream",
     "text": [
      "Epoch 23: 2.1s to complete\n",
      "    error(train)=4.54e-01, acc(train)=8.52e-01, error(valid)=5.95e-01, acc(valid)=8.15e-01\n"
     ]
    },
    {
     "data": {
      "text/plain": [
       "  0%|          | 0/1000 [00:00<?, ?it/s]"
      ],
      "application/vnd.jupyter.widget-view+json": {
       "version_major": 2,
       "version_minor": 0,
       "model_id": "13f91c4053624f66b3d2b571e7dae26e"
      }
     },
     "metadata": {},
     "output_type": "display_data"
    },
    {
     "name": "stderr",
     "output_type": "stream",
     "text": [
      "Epoch 24: 3.6s to complete\n",
      "    error(train)=4.52e-01, acc(train)=8.52e-01, error(valid)=5.98e-01, acc(valid)=8.12e-01\n"
     ]
    },
    {
     "data": {
      "text/plain": [
       "  0%|          | 0/1000 [00:00<?, ?it/s]"
      ],
      "application/vnd.jupyter.widget-view+json": {
       "version_major": 2,
       "version_minor": 0,
       "model_id": "4ddbc54e9a01431eadadc6f2e1352e5e"
      }
     },
     "metadata": {},
     "output_type": "display_data"
    },
    {
     "name": "stderr",
     "output_type": "stream",
     "text": [
      "Epoch 25: 4.4s to complete\n",
      "    error(train)=4.45e-01, acc(train)=8.53e-01, error(valid)=5.94e-01, acc(valid)=8.13e-01\n"
     ]
    },
    {
     "data": {
      "text/plain": [
       "  0%|          | 0/1000 [00:00<?, ?it/s]"
      ],
      "application/vnd.jupyter.widget-view+json": {
       "version_major": 2,
       "version_minor": 0,
       "model_id": "206ff44877224742964e7eaede09a95c"
      }
     },
     "metadata": {},
     "output_type": "display_data"
    },
    {
     "name": "stderr",
     "output_type": "stream",
     "text": [
      "Epoch 26: 3.8s to complete\n",
      "    error(train)=4.46e-01, acc(train)=8.53e-01, error(valid)=5.90e-01, acc(valid)=8.17e-01\n"
     ]
    },
    {
     "data": {
      "text/plain": [
       "  0%|          | 0/1000 [00:00<?, ?it/s]"
      ],
      "application/vnd.jupyter.widget-view+json": {
       "version_major": 2,
       "version_minor": 0,
       "model_id": "c727206e394548969c06366b720e49ab"
      }
     },
     "metadata": {},
     "output_type": "display_data"
    },
    {
     "name": "stderr",
     "output_type": "stream",
     "text": [
      "Epoch 27: 3.4s to complete\n",
      "    error(train)=4.30e-01, acc(train)=8.58e-01, error(valid)=5.85e-01, acc(valid)=8.20e-01\n"
     ]
    },
    {
     "data": {
      "text/plain": [
       "  0%|          | 0/1000 [00:00<?, ?it/s]"
      ],
      "application/vnd.jupyter.widget-view+json": {
       "version_major": 2,
       "version_minor": 0,
       "model_id": "3e5639b6475e4c8faabef1bcf3f603e2"
      }
     },
     "metadata": {},
     "output_type": "display_data"
    },
    {
     "name": "stderr",
     "output_type": "stream",
     "text": [
      "Epoch 28: 2.7s to complete\n",
      "    error(train)=4.30e-01, acc(train)=8.57e-01, error(valid)=5.86e-01, acc(valid)=8.18e-01\n"
     ]
    },
    {
     "data": {
      "text/plain": [
       "  0%|          | 0/1000 [00:00<?, ?it/s]"
      ],
      "application/vnd.jupyter.widget-view+json": {
       "version_major": 2,
       "version_minor": 0,
       "model_id": "f8c65090b056409892751669a461a7a6"
      }
     },
     "metadata": {},
     "output_type": "display_data"
    },
    {
     "name": "stderr",
     "output_type": "stream",
     "text": [
      "Epoch 29: 2.8s to complete\n",
      "    error(train)=4.29e-01, acc(train)=8.58e-01, error(valid)=5.90e-01, acc(valid)=8.18e-01\n"
     ]
    },
    {
     "data": {
      "text/plain": [
       "  0%|          | 0/1000 [00:00<?, ?it/s]"
      ],
      "application/vnd.jupyter.widget-view+json": {
       "version_major": 2,
       "version_minor": 0,
       "model_id": "84ae0683f75541729405635e6b9e66f6"
      }
     },
     "metadata": {},
     "output_type": "display_data"
    },
    {
     "name": "stderr",
     "output_type": "stream",
     "text": [
      "Epoch 30: 3.4s to complete\n",
      "    error(train)=4.29e-01, acc(train)=8.57e-01, error(valid)=5.93e-01, acc(valid)=8.15e-01\n"
     ]
    },
    {
     "data": {
      "text/plain": [
       "  0%|          | 0/1000 [00:00<?, ?it/s]"
      ],
      "application/vnd.jupyter.widget-view+json": {
       "version_major": 2,
       "version_minor": 0,
       "model_id": "0122eb0ce63e4b5194a40617e35c7efd"
      }
     },
     "metadata": {},
     "output_type": "display_data"
    },
    {
     "name": "stderr",
     "output_type": "stream",
     "text": [
      "Epoch 31: 2.3s to complete\n",
      "    error(train)=4.30e-01, acc(train)=8.55e-01, error(valid)=6.01e-01, acc(valid)=8.15e-01\n"
     ]
    },
    {
     "data": {
      "text/plain": [
       "  0%|          | 0/1000 [00:00<?, ?it/s]"
      ],
      "application/vnd.jupyter.widget-view+json": {
       "version_major": 2,
       "version_minor": 0,
       "model_id": "1731be902d304f63a1bd4a72d50e239a"
      }
     },
     "metadata": {},
     "output_type": "display_data"
    },
    {
     "name": "stderr",
     "output_type": "stream",
     "text": [
      "Epoch 32: 3.1s to complete\n",
      "    error(train)=4.21e-01, acc(train)=8.61e-01, error(valid)=5.92e-01, acc(valid)=8.14e-01\n"
     ]
    },
    {
     "data": {
      "text/plain": [
       "  0%|          | 0/1000 [00:00<?, ?it/s]"
      ],
      "application/vnd.jupyter.widget-view+json": {
       "version_major": 2,
       "version_minor": 0,
       "model_id": "acd1860d43324ec3952ef48b249e0b55"
      }
     },
     "metadata": {},
     "output_type": "display_data"
    },
    {
     "name": "stderr",
     "output_type": "stream",
     "text": [
      "Epoch 33: 3.7s to complete\n",
      "    error(train)=4.17e-01, acc(train)=8.59e-01, error(valid)=5.87e-01, acc(valid)=8.14e-01\n"
     ]
    },
    {
     "data": {
      "text/plain": [
       "  0%|          | 0/1000 [00:00<?, ?it/s]"
      ],
      "application/vnd.jupyter.widget-view+json": {
       "version_major": 2,
       "version_minor": 0,
       "model_id": "7227a1270c824fada565ac7ec57132a0"
      }
     },
     "metadata": {},
     "output_type": "display_data"
    },
    {
     "name": "stderr",
     "output_type": "stream",
     "text": [
      "Epoch 34: 2.7s to complete\n",
      "    error(train)=4.18e-01, acc(train)=8.60e-01, error(valid)=5.97e-01, acc(valid)=8.16e-01\n"
     ]
    },
    {
     "data": {
      "text/plain": [
       "  0%|          | 0/1000 [00:00<?, ?it/s]"
      ],
      "application/vnd.jupyter.widget-view+json": {
       "version_major": 2,
       "version_minor": 0,
       "model_id": "792c88d0aae84c4793c42a9c1267b9ec"
      }
     },
     "metadata": {},
     "output_type": "display_data"
    },
    {
     "name": "stderr",
     "output_type": "stream",
     "text": [
      "Epoch 35: 3.6s to complete\n",
      "    error(train)=4.17e-01, acc(train)=8.58e-01, error(valid)=6.00e-01, acc(valid)=8.12e-01\n"
     ]
    },
    {
     "data": {
      "text/plain": [
       "  0%|          | 0/1000 [00:00<?, ?it/s]"
      ],
      "application/vnd.jupyter.widget-view+json": {
       "version_major": 2,
       "version_minor": 0,
       "model_id": "3c02b5d7cf7342c9b3336aa2138e15aa"
      }
     },
     "metadata": {},
     "output_type": "display_data"
    },
    {
     "name": "stderr",
     "output_type": "stream",
     "text": [
      "Epoch 36: 4.0s to complete\n",
      "    error(train)=4.12e-01, acc(train)=8.60e-01, error(valid)=5.97e-01, acc(valid)=8.12e-01\n"
     ]
    },
    {
     "data": {
      "text/plain": [
       "  0%|          | 0/1000 [00:00<?, ?it/s]"
      ],
      "application/vnd.jupyter.widget-view+json": {
       "version_major": 2,
       "version_minor": 0,
       "model_id": "4dc83b2db4ac487b85a1bb418bd1e67d"
      }
     },
     "metadata": {},
     "output_type": "display_data"
    },
    {
     "name": "stderr",
     "output_type": "stream",
     "text": [
      "Epoch 37: 2.5s to complete\n",
      "    error(train)=4.04e-01, acc(train)=8.64e-01, error(valid)=5.92e-01, acc(valid)=8.14e-01\n"
     ]
    },
    {
     "data": {
      "text/plain": [
       "  0%|          | 0/1000 [00:00<?, ?it/s]"
      ],
      "application/vnd.jupyter.widget-view+json": {
       "version_major": 2,
       "version_minor": 0,
       "model_id": "4f647c9562a042ecad5231da0199f875"
      }
     },
     "metadata": {},
     "output_type": "display_data"
    },
    {
     "name": "stderr",
     "output_type": "stream",
     "text": [
      "Epoch 38: 2.8s to complete\n",
      "    error(train)=4.02e-01, acc(train)=8.65e-01, error(valid)=5.93e-01, acc(valid)=8.18e-01\n"
     ]
    },
    {
     "data": {
      "text/plain": [
       "  0%|          | 0/1000 [00:00<?, ?it/s]"
      ],
      "application/vnd.jupyter.widget-view+json": {
       "version_major": 2,
       "version_minor": 0,
       "model_id": "18e3fb9408b245379e744631eb69a8b2"
      }
     },
     "metadata": {},
     "output_type": "display_data"
    },
    {
     "name": "stderr",
     "output_type": "stream",
     "text": [
      "Epoch 39: 3.3s to complete\n",
      "    error(train)=4.05e-01, acc(train)=8.64e-01, error(valid)=5.99e-01, acc(valid)=8.15e-01\n"
     ]
    },
    {
     "data": {
      "text/plain": [
       "  0%|          | 0/1000 [00:00<?, ?it/s]"
      ],
      "application/vnd.jupyter.widget-view+json": {
       "version_major": 2,
       "version_minor": 0,
       "model_id": "f80038598dd444ce96fd4a0930c80db9"
      }
     },
     "metadata": {},
     "output_type": "display_data"
    },
    {
     "name": "stderr",
     "output_type": "stream",
     "text": [
      "Epoch 40: 2.7s to complete\n",
      "    error(train)=4.03e-01, acc(train)=8.65e-01, error(valid)=5.98e-01, acc(valid)=8.15e-01\n"
     ]
    },
    {
     "data": {
      "text/plain": [
       "  0%|          | 0/1000 [00:00<?, ?it/s]"
      ],
      "application/vnd.jupyter.widget-view+json": {
       "version_major": 2,
       "version_minor": 0,
       "model_id": "0cfe0f1fd2d142789327744a28897439"
      }
     },
     "metadata": {},
     "output_type": "display_data"
    },
    {
     "name": "stderr",
     "output_type": "stream",
     "text": [
      "Epoch 41: 3.3s to complete\n",
      "    error(train)=4.04e-01, acc(train)=8.64e-01, error(valid)=6.04e-01, acc(valid)=8.15e-01\n"
     ]
    },
    {
     "data": {
      "text/plain": [
       "  0%|          | 0/1000 [00:00<?, ?it/s]"
      ],
      "application/vnd.jupyter.widget-view+json": {
       "version_major": 2,
       "version_minor": 0,
       "model_id": "6ff5c1be70c74f39b694a8e62651dbea"
      }
     },
     "metadata": {},
     "output_type": "display_data"
    },
    {
     "name": "stderr",
     "output_type": "stream",
     "text": [
      "Epoch 42: 2.5s to complete\n",
      "    error(train)=4.06e-01, acc(train)=8.63e-01, error(valid)=6.09e-01, acc(valid)=8.13e-01\n"
     ]
    },
    {
     "data": {
      "text/plain": [
       "  0%|          | 0/1000 [00:00<?, ?it/s]"
      ],
      "application/vnd.jupyter.widget-view+json": {
       "version_major": 2,
       "version_minor": 0,
       "model_id": "97e68b95956c4e488603e05e84d83cf5"
      }
     },
     "metadata": {},
     "output_type": "display_data"
    },
    {
     "name": "stderr",
     "output_type": "stream",
     "text": [
      "Epoch 43: 2.9s to complete\n",
      "    error(train)=3.97e-01, acc(train)=8.65e-01, error(valid)=6.00e-01, acc(valid)=8.15e-01\n"
     ]
    },
    {
     "data": {
      "text/plain": [
       "  0%|          | 0/1000 [00:00<?, ?it/s]"
      ],
      "application/vnd.jupyter.widget-view+json": {
       "version_major": 2,
       "version_minor": 0,
       "model_id": "34843c0fc7ca4db399c6f050bf2aad50"
      }
     },
     "metadata": {},
     "output_type": "display_data"
    },
    {
     "name": "stderr",
     "output_type": "stream",
     "text": [
      "Epoch 44: 2.5s to complete\n",
      "    error(train)=4.00e-01, acc(train)=8.65e-01, error(valid)=6.06e-01, acc(valid)=8.12e-01\n"
     ]
    },
    {
     "data": {
      "text/plain": [
       "  0%|          | 0/1000 [00:00<?, ?it/s]"
      ],
      "application/vnd.jupyter.widget-view+json": {
       "version_major": 2,
       "version_minor": 0,
       "model_id": "6ba8ed3fcc13408aaeb19398479e7594"
      }
     },
     "metadata": {},
     "output_type": "display_data"
    },
    {
     "name": "stderr",
     "output_type": "stream",
     "text": [
      "Epoch 45: 3.2s to complete\n",
      "    error(train)=3.97e-01, acc(train)=8.67e-01, error(valid)=6.09e-01, acc(valid)=8.16e-01\n"
     ]
    },
    {
     "data": {
      "text/plain": [
       "  0%|          | 0/1000 [00:00<?, ?it/s]"
      ],
      "application/vnd.jupyter.widget-view+json": {
       "version_major": 2,
       "version_minor": 0,
       "model_id": "c36011ffa6924b9fb34401b2915f7735"
      }
     },
     "metadata": {},
     "output_type": "display_data"
    },
    {
     "name": "stderr",
     "output_type": "stream",
     "text": [
      "Epoch 46: 3.2s to complete\n",
      "    error(train)=3.87e-01, acc(train)=8.69e-01, error(valid)=6.00e-01, acc(valid)=8.17e-01\n"
     ]
    },
    {
     "data": {
      "text/plain": [
       "  0%|          | 0/1000 [00:00<?, ?it/s]"
      ],
      "application/vnd.jupyter.widget-view+json": {
       "version_major": 2,
       "version_minor": 0,
       "model_id": "e23a7f028ad449d396bc994040552896"
      }
     },
     "metadata": {},
     "output_type": "display_data"
    },
    {
     "name": "stderr",
     "output_type": "stream",
     "text": [
      "Epoch 47: 2.7s to complete\n",
      "    error(train)=3.87e-01, acc(train)=8.68e-01, error(valid)=6.04e-01, acc(valid)=8.16e-01\n"
     ]
    },
    {
     "data": {
      "text/plain": [
       "  0%|          | 0/1000 [00:00<?, ?it/s]"
      ],
      "application/vnd.jupyter.widget-view+json": {
       "version_major": 2,
       "version_minor": 0,
       "model_id": "22a36c1c22184f4480b4337ead646115"
      }
     },
     "metadata": {},
     "output_type": "display_data"
    },
    {
     "name": "stderr",
     "output_type": "stream",
     "text": [
      "Epoch 48: 3.1s to complete\n",
      "    error(train)=3.84e-01, acc(train)=8.71e-01, error(valid)=6.01e-01, acc(valid)=8.17e-01\n"
     ]
    },
    {
     "data": {
      "text/plain": [
       "  0%|          | 0/1000 [00:00<?, ?it/s]"
      ],
      "application/vnd.jupyter.widget-view+json": {
       "version_major": 2,
       "version_minor": 0,
       "model_id": "c150224b62014a05910c1f5d4e53aeb0"
      }
     },
     "metadata": {},
     "output_type": "display_data"
    },
    {
     "name": "stderr",
     "output_type": "stream",
     "text": [
      "Epoch 49: 3.0s to complete\n",
      "    error(train)=3.83e-01, acc(train)=8.71e-01, error(valid)=6.04e-01, acc(valid)=8.18e-01\n"
     ]
    },
    {
     "data": {
      "text/plain": [
       "  0%|          | 0/1000 [00:00<?, ?it/s]"
      ],
      "application/vnd.jupyter.widget-view+json": {
       "version_major": 2,
       "version_minor": 0,
       "model_id": "7d8e9182e26646f9bdf844dd92ad21ff"
      }
     },
     "metadata": {},
     "output_type": "display_data"
    },
    {
     "name": "stderr",
     "output_type": "stream",
     "text": [
      "Epoch 50: 3.0s to complete\n",
      "    error(train)=3.83e-01, acc(train)=8.69e-01, error(valid)=6.08e-01, acc(valid)=8.14e-01\n"
     ]
    },
    {
     "data": {
      "text/plain": [
       "  0%|          | 0/1000 [00:00<?, ?it/s]"
      ],
      "application/vnd.jupyter.widget-view+json": {
       "version_major": 2,
       "version_minor": 0,
       "model_id": "7db7c28f194142f2aec210255df61bcc"
      }
     },
     "metadata": {},
     "output_type": "display_data"
    },
    {
     "name": "stderr",
     "output_type": "stream",
     "text": [
      "Epoch 51: 3.8s to complete\n",
      "    error(train)=3.80e-01, acc(train)=8.70e-01, error(valid)=6.09e-01, acc(valid)=8.16e-01\n"
     ]
    },
    {
     "data": {
      "text/plain": [
       "  0%|          | 0/1000 [00:00<?, ?it/s]"
      ],
      "application/vnd.jupyter.widget-view+json": {
       "version_major": 2,
       "version_minor": 0,
       "model_id": "b6805ea199e0496fb27d7e7495ce0af9"
      }
     },
     "metadata": {},
     "output_type": "display_data"
    },
    {
     "name": "stderr",
     "output_type": "stream",
     "text": [
      "Epoch 52: 2.6s to complete\n",
      "    error(train)=3.83e-01, acc(train)=8.69e-01, error(valid)=6.11e-01, acc(valid)=8.13e-01\n"
     ]
    },
    {
     "data": {
      "text/plain": [
       "  0%|          | 0/1000 [00:00<?, ?it/s]"
      ],
      "application/vnd.jupyter.widget-view+json": {
       "version_major": 2,
       "version_minor": 0,
       "model_id": "54366ca888d94f659cba3c490d31dfd6"
      }
     },
     "metadata": {},
     "output_type": "display_data"
    },
    {
     "name": "stderr",
     "output_type": "stream",
     "text": [
      "Epoch 53: 4.6s to complete\n",
      "    error(train)=3.77e-01, acc(train)=8.72e-01, error(valid)=6.12e-01, acc(valid)=8.17e-01\n"
     ]
    },
    {
     "data": {
      "text/plain": [
       "  0%|          | 0/1000 [00:00<?, ?it/s]"
      ],
      "application/vnd.jupyter.widget-view+json": {
       "version_major": 2,
       "version_minor": 0,
       "model_id": "91616c9be36544d3851612d50897e96d"
      }
     },
     "metadata": {},
     "output_type": "display_data"
    },
    {
     "name": "stderr",
     "output_type": "stream",
     "text": [
      "Epoch 54: 2.6s to complete\n",
      "    error(train)=3.74e-01, acc(train)=8.72e-01, error(valid)=6.11e-01, acc(valid)=8.14e-01\n"
     ]
    },
    {
     "data": {
      "text/plain": [
       "  0%|          | 0/1000 [00:00<?, ?it/s]"
      ],
      "application/vnd.jupyter.widget-view+json": {
       "version_major": 2,
       "version_minor": 0,
       "model_id": "ec3dadbc217f4434b71eccf65cb5429f"
      }
     },
     "metadata": {},
     "output_type": "display_data"
    },
    {
     "name": "stderr",
     "output_type": "stream",
     "text": [
      "Epoch 55: 3.0s to complete\n",
      "    error(train)=3.81e-01, acc(train)=8.69e-01, error(valid)=6.17e-01, acc(valid)=8.11e-01\n"
     ]
    },
    {
     "data": {
      "text/plain": [
       "  0%|          | 0/1000 [00:00<?, ?it/s]"
      ],
      "application/vnd.jupyter.widget-view+json": {
       "version_major": 2,
       "version_minor": 0,
       "model_id": "fa09dd66286b47ef8ce600d9bf9a2a5b"
      }
     },
     "metadata": {},
     "output_type": "display_data"
    },
    {
     "name": "stderr",
     "output_type": "stream",
     "text": [
      "Epoch 56: 2.5s to complete\n",
      "    error(train)=3.78e-01, acc(train)=8.71e-01, error(valid)=6.17e-01, acc(valid)=8.15e-01\n"
     ]
    },
    {
     "data": {
      "text/plain": [
       "  0%|          | 0/1000 [00:00<?, ?it/s]"
      ],
      "application/vnd.jupyter.widget-view+json": {
       "version_major": 2,
       "version_minor": 0,
       "model_id": "56ce581076a345388e49e413df484b89"
      }
     },
     "metadata": {},
     "output_type": "display_data"
    },
    {
     "name": "stderr",
     "output_type": "stream",
     "text": [
      "Epoch 57: 2.4s to complete\n",
      "    error(train)=3.73e-01, acc(train)=8.74e-01, error(valid)=6.15e-01, acc(valid)=8.16e-01\n"
     ]
    },
    {
     "data": {
      "text/plain": [
       "  0%|          | 0/1000 [00:00<?, ?it/s]"
      ],
      "application/vnd.jupyter.widget-view+json": {
       "version_major": 2,
       "version_minor": 0,
       "model_id": "21396aafc83a40c6bc8791fe5f072367"
      }
     },
     "metadata": {},
     "output_type": "display_data"
    },
    {
     "name": "stderr",
     "output_type": "stream",
     "text": [
      "Epoch 58: 2.3s to complete\n",
      "    error(train)=3.76e-01, acc(train)=8.70e-01, error(valid)=6.22e-01, acc(valid)=8.10e-01\n"
     ]
    },
    {
     "data": {
      "text/plain": [
       "  0%|          | 0/1000 [00:00<?, ?it/s]"
      ],
      "application/vnd.jupyter.widget-view+json": {
       "version_major": 2,
       "version_minor": 0,
       "model_id": "7ce82847279d41d087905a74c0159ea8"
      }
     },
     "metadata": {},
     "output_type": "display_data"
    },
    {
     "name": "stderr",
     "output_type": "stream",
     "text": [
      "Epoch 59: 2.4s to complete\n",
      "    error(train)=3.81e-01, acc(train)=8.69e-01, error(valid)=6.35e-01, acc(valid)=8.10e-01\n"
     ]
    },
    {
     "data": {
      "text/plain": [
       "  0%|          | 0/1000 [00:00<?, ?it/s]"
      ],
      "application/vnd.jupyter.widget-view+json": {
       "version_major": 2,
       "version_minor": 0,
       "model_id": "0f8157c48aac483c94cd3ef16fa9517d"
      }
     },
     "metadata": {},
     "output_type": "display_data"
    },
    {
     "name": "stderr",
     "output_type": "stream",
     "text": [
      "Epoch 60: 2.7s to complete\n",
      "    error(train)=3.73e-01, acc(train)=8.74e-01, error(valid)=6.26e-01, acc(valid)=8.15e-01\n"
     ]
    },
    {
     "data": {
      "text/plain": [
       "  0%|          | 0/1000 [00:00<?, ?it/s]"
      ],
      "application/vnd.jupyter.widget-view+json": {
       "version_major": 2,
       "version_minor": 0,
       "model_id": "2636e9e2e4a84d6697e645eb364fe15f"
      }
     },
     "metadata": {},
     "output_type": "display_data"
    },
    {
     "name": "stderr",
     "output_type": "stream",
     "text": [
      "Epoch 61: 2.3s to complete\n",
      "    error(train)=3.64e-01, acc(train)=8.76e-01, error(valid)=6.19e-01, acc(valid)=8.14e-01\n"
     ]
    },
    {
     "data": {
      "text/plain": [
       "  0%|          | 0/1000 [00:00<?, ?it/s]"
      ],
      "application/vnd.jupyter.widget-view+json": {
       "version_major": 2,
       "version_minor": 0,
       "model_id": "2a2aff8ed0e9409caef6353e04225763"
      }
     },
     "metadata": {},
     "output_type": "display_data"
    },
    {
     "name": "stderr",
     "output_type": "stream",
     "text": [
      "Epoch 62: 2.7s to complete\n",
      "    error(train)=3.66e-01, acc(train)=8.74e-01, error(valid)=6.24e-01, acc(valid)=8.12e-01\n"
     ]
    },
    {
     "data": {
      "text/plain": [
       "  0%|          | 0/1000 [00:00<?, ?it/s]"
      ],
      "application/vnd.jupyter.widget-view+json": {
       "version_major": 2,
       "version_minor": 0,
       "model_id": "3cc46c1ce1d24b6f87222e847aa35512"
      }
     },
     "metadata": {},
     "output_type": "display_data"
    },
    {
     "name": "stderr",
     "output_type": "stream",
     "text": [
      "Epoch 63: 2.6s to complete\n",
      "    error(train)=3.60e-01, acc(train)=8.78e-01, error(valid)=6.16e-01, acc(valid)=8.14e-01\n"
     ]
    },
    {
     "data": {
      "text/plain": [
       "  0%|          | 0/1000 [00:00<?, ?it/s]"
      ],
      "application/vnd.jupyter.widget-view+json": {
       "version_major": 2,
       "version_minor": 0,
       "model_id": "37c92e01e739479fba68884269bb0191"
      }
     },
     "metadata": {},
     "output_type": "display_data"
    },
    {
     "name": "stderr",
     "output_type": "stream",
     "text": [
      "Epoch 64: 2.8s to complete\n",
      "    error(train)=3.68e-01, acc(train)=8.72e-01, error(valid)=6.30e-01, acc(valid)=8.09e-01\n"
     ]
    },
    {
     "data": {
      "text/plain": [
       "  0%|          | 0/1000 [00:00<?, ?it/s]"
      ],
      "application/vnd.jupyter.widget-view+json": {
       "version_major": 2,
       "version_minor": 0,
       "model_id": "b9cef65661d1471c95e4953029ecdc84"
      }
     },
     "metadata": {},
     "output_type": "display_data"
    },
    {
     "name": "stderr",
     "output_type": "stream",
     "text": [
      "Epoch 65: 4.7s to complete\n",
      "    error(train)=3.60e-01, acc(train)=8.77e-01, error(valid)=6.24e-01, acc(valid)=8.14e-01\n"
     ]
    },
    {
     "data": {
      "text/plain": [
       "  0%|          | 0/1000 [00:00<?, ?it/s]"
      ],
      "application/vnd.jupyter.widget-view+json": {
       "version_major": 2,
       "version_minor": 0,
       "model_id": "7db5a299285c41ea90a5959237be5298"
      }
     },
     "metadata": {},
     "output_type": "display_data"
    },
    {
     "name": "stderr",
     "output_type": "stream",
     "text": [
      "Epoch 66: 2.8s to complete\n",
      "    error(train)=3.61e-01, acc(train)=8.76e-01, error(valid)=6.30e-01, acc(valid)=8.13e-01\n"
     ]
    },
    {
     "data": {
      "text/plain": [
       "  0%|          | 0/1000 [00:00<?, ?it/s]"
      ],
      "application/vnd.jupyter.widget-view+json": {
       "version_major": 2,
       "version_minor": 0,
       "model_id": "4db7205d61df4439b10b9c2af30b1d05"
      }
     },
     "metadata": {},
     "output_type": "display_data"
    },
    {
     "name": "stderr",
     "output_type": "stream",
     "text": [
      "Epoch 67: 2.4s to complete\n",
      "    error(train)=3.60e-01, acc(train)=8.77e-01, error(valid)=6.30e-01, acc(valid)=8.14e-01\n"
     ]
    },
    {
     "data": {
      "text/plain": [
       "  0%|          | 0/1000 [00:00<?, ?it/s]"
      ],
      "application/vnd.jupyter.widget-view+json": {
       "version_major": 2,
       "version_minor": 0,
       "model_id": "42fa81106216464f9995b8d10b789e72"
      }
     },
     "metadata": {},
     "output_type": "display_data"
    },
    {
     "name": "stderr",
     "output_type": "stream",
     "text": [
      "Epoch 68: 2.5s to complete\n",
      "    error(train)=3.60e-01, acc(train)=8.76e-01, error(valid)=6.37e-01, acc(valid)=8.14e-01\n"
     ]
    },
    {
     "data": {
      "text/plain": [
       "  0%|          | 0/1000 [00:00<?, ?it/s]"
      ],
      "application/vnd.jupyter.widget-view+json": {
       "version_major": 2,
       "version_minor": 0,
       "model_id": "e1aa260052f04eab98c618a8f14427cf"
      }
     },
     "metadata": {},
     "output_type": "display_data"
    },
    {
     "name": "stderr",
     "output_type": "stream",
     "text": [
      "Epoch 69: 2.3s to complete\n",
      "    error(train)=3.61e-01, acc(train)=8.75e-01, error(valid)=6.38e-01, acc(valid)=8.14e-01\n"
     ]
    },
    {
     "data": {
      "text/plain": [
       "  0%|          | 0/1000 [00:00<?, ?it/s]"
      ],
      "application/vnd.jupyter.widget-view+json": {
       "version_major": 2,
       "version_minor": 0,
       "model_id": "79f06be9d6a14560be18cb2893ade4c8"
      }
     },
     "metadata": {},
     "output_type": "display_data"
    },
    {
     "name": "stderr",
     "output_type": "stream",
     "text": [
      "Epoch 70: 3.0s to complete\n",
      "    error(train)=3.55e-01, acc(train)=8.79e-01, error(valid)=6.33e-01, acc(valid)=8.13e-01\n"
     ]
    },
    {
     "data": {
      "text/plain": [
       "  0%|          | 0/1000 [00:00<?, ?it/s]"
      ],
      "application/vnd.jupyter.widget-view+json": {
       "version_major": 2,
       "version_minor": 0,
       "model_id": "04935542c9cc48f5a0be230dd8f05c82"
      }
     },
     "metadata": {},
     "output_type": "display_data"
    },
    {
     "name": "stderr",
     "output_type": "stream",
     "text": [
      "Epoch 71: 4.3s to complete\n",
      "    error(train)=3.54e-01, acc(train)=8.78e-01, error(valid)=6.36e-01, acc(valid)=8.13e-01\n"
     ]
    },
    {
     "data": {
      "text/plain": [
       "  0%|          | 0/1000 [00:00<?, ?it/s]"
      ],
      "application/vnd.jupyter.widget-view+json": {
       "version_major": 2,
       "version_minor": 0,
       "model_id": "9009689c3af14c08aecac373eb23e355"
      }
     },
     "metadata": {},
     "output_type": "display_data"
    },
    {
     "name": "stderr",
     "output_type": "stream",
     "text": [
      "Epoch 72: 2.7s to complete\n",
      "    error(train)=3.51e-01, acc(train)=8.80e-01, error(valid)=6.37e-01, acc(valid)=8.12e-01\n"
     ]
    },
    {
     "data": {
      "text/plain": [
       "  0%|          | 0/1000 [00:00<?, ?it/s]"
      ],
      "application/vnd.jupyter.widget-view+json": {
       "version_major": 2,
       "version_minor": 0,
       "model_id": "70072797213841f9909b56a058cab1f1"
      }
     },
     "metadata": {},
     "output_type": "display_data"
    },
    {
     "name": "stderr",
     "output_type": "stream",
     "text": [
      "Epoch 73: 3.5s to complete\n",
      "    error(train)=3.65e-01, acc(train)=8.74e-01, error(valid)=6.51e-01, acc(valid)=8.05e-01\n"
     ]
    },
    {
     "data": {
      "text/plain": [
       "  0%|          | 0/1000 [00:00<?, ?it/s]"
      ],
      "application/vnd.jupyter.widget-view+json": {
       "version_major": 2,
       "version_minor": 0,
       "model_id": "9384965f1b9d46379e51785e5b4f0b2b"
      }
     },
     "metadata": {},
     "output_type": "display_data"
    },
    {
     "name": "stderr",
     "output_type": "stream",
     "text": [
      "Epoch 74: 3.0s to complete\n",
      "    error(train)=3.52e-01, acc(train)=8.79e-01, error(valid)=6.42e-01, acc(valid)=8.12e-01\n"
     ]
    },
    {
     "data": {
      "text/plain": [
       "  0%|          | 0/1000 [00:00<?, ?it/s]"
      ],
      "application/vnd.jupyter.widget-view+json": {
       "version_major": 2,
       "version_minor": 0,
       "model_id": "bf0df345f3bf43948d1fa878579d1048"
      }
     },
     "metadata": {},
     "output_type": "display_data"
    },
    {
     "name": "stderr",
     "output_type": "stream",
     "text": [
      "Epoch 75: 3.2s to complete\n",
      "    error(train)=3.54e-01, acc(train)=8.78e-01, error(valid)=6.46e-01, acc(valid)=8.11e-01\n"
     ]
    },
    {
     "data": {
      "text/plain": [
       "  0%|          | 0/1000 [00:00<?, ?it/s]"
      ],
      "application/vnd.jupyter.widget-view+json": {
       "version_major": 2,
       "version_minor": 0,
       "model_id": "ea37746ab406496eba89e22ed45e4cb6"
      }
     },
     "metadata": {},
     "output_type": "display_data"
    },
    {
     "name": "stderr",
     "output_type": "stream",
     "text": [
      "Epoch 76: 3.6s to complete\n",
      "    error(train)=3.54e-01, acc(train)=8.78e-01, error(valid)=6.50e-01, acc(valid)=8.10e-01\n"
     ]
    },
    {
     "data": {
      "text/plain": [
       "  0%|          | 0/1000 [00:00<?, ?it/s]"
      ],
      "application/vnd.jupyter.widget-view+json": {
       "version_major": 2,
       "version_minor": 0,
       "model_id": "28b4cedbd7f544059a9067e12c84b9aa"
      }
     },
     "metadata": {},
     "output_type": "display_data"
    },
    {
     "name": "stderr",
     "output_type": "stream",
     "text": [
      "Epoch 77: 3.7s to complete\n",
      "    error(train)=3.68e-01, acc(train)=8.71e-01, error(valid)=6.61e-01, acc(valid)=8.03e-01\n"
     ]
    },
    {
     "data": {
      "text/plain": [
       "  0%|          | 0/1000 [00:00<?, ?it/s]"
      ],
      "application/vnd.jupyter.widget-view+json": {
       "version_major": 2,
       "version_minor": 0,
       "model_id": "7804bcb021684b67a919df836c891bb0"
      }
     },
     "metadata": {},
     "output_type": "display_data"
    },
    {
     "name": "stderr",
     "output_type": "stream",
     "text": [
      "Epoch 78: 4.0s to complete\n",
      "    error(train)=3.47e-01, acc(train)=8.81e-01, error(valid)=6.42e-01, acc(valid)=8.12e-01\n"
     ]
    },
    {
     "data": {
      "text/plain": [
       "  0%|          | 0/1000 [00:00<?, ?it/s]"
      ],
      "application/vnd.jupyter.widget-view+json": {
       "version_major": 2,
       "version_minor": 0,
       "model_id": "7b7abbc4b1554ab7854e20ef3549d446"
      }
     },
     "metadata": {},
     "output_type": "display_data"
    },
    {
     "name": "stderr",
     "output_type": "stream",
     "text": [
      "Epoch 79: 9.2s to complete\n",
      "    error(train)=3.47e-01, acc(train)=8.81e-01, error(valid)=6.49e-01, acc(valid)=8.13e-01\n"
     ]
    },
    {
     "data": {
      "text/plain": [
       "  0%|          | 0/1000 [00:00<?, ?it/s]"
      ],
      "application/vnd.jupyter.widget-view+json": {
       "version_major": 2,
       "version_minor": 0,
       "model_id": "99b8321d7cfe46ceb420f8b1b757dffe"
      }
     },
     "metadata": {},
     "output_type": "display_data"
    },
    {
     "name": "stderr",
     "output_type": "stream",
     "text": [
      "Epoch 80: 2.8s to complete\n",
      "    error(train)=3.55e-01, acc(train)=8.78e-01, error(valid)=6.56e-01, acc(valid)=8.10e-01\n"
     ]
    },
    {
     "data": {
      "text/plain": [
       "  0%|          | 0/1000 [00:00<?, ?it/s]"
      ],
      "application/vnd.jupyter.widget-view+json": {
       "version_major": 2,
       "version_minor": 0,
       "model_id": "661d7a8a0dc048bb8acfd5d7af1f5a75"
      }
     },
     "metadata": {},
     "output_type": "display_data"
    },
    {
     "name": "stderr",
     "output_type": "stream",
     "text": [
      "Epoch 81: 2.7s to complete\n",
      "    error(train)=3.48e-01, acc(train)=8.79e-01, error(valid)=6.53e-01, acc(valid)=8.09e-01\n"
     ]
    },
    {
     "data": {
      "text/plain": [
       "  0%|          | 0/1000 [00:00<?, ?it/s]"
      ],
      "application/vnd.jupyter.widget-view+json": {
       "version_major": 2,
       "version_minor": 0,
       "model_id": "b4b0309e9c684b75abb7e2bed33e8223"
      }
     },
     "metadata": {},
     "output_type": "display_data"
    },
    {
     "name": "stderr",
     "output_type": "stream",
     "text": [
      "Epoch 82: 3.6s to complete\n",
      "    error(train)=3.42e-01, acc(train)=8.82e-01, error(valid)=6.53e-01, acc(valid)=8.09e-01\n"
     ]
    },
    {
     "data": {
      "text/plain": [
       "  0%|          | 0/1000 [00:00<?, ?it/s]"
      ],
      "application/vnd.jupyter.widget-view+json": {
       "version_major": 2,
       "version_minor": 0,
       "model_id": "7f1bc9eaf94f451d94e7d9f3a16c29b4"
      }
     },
     "metadata": {},
     "output_type": "display_data"
    },
    {
     "name": "stderr",
     "output_type": "stream",
     "text": [
      "Epoch 83: 3.8s to complete\n",
      "    error(train)=3.47e-01, acc(train)=8.80e-01, error(valid)=6.56e-01, acc(valid)=8.09e-01\n"
     ]
    },
    {
     "data": {
      "text/plain": [
       "  0%|          | 0/1000 [00:00<?, ?it/s]"
      ],
      "application/vnd.jupyter.widget-view+json": {
       "version_major": 2,
       "version_minor": 0,
       "model_id": "20c1e5c9ab1e4f818c419c07feb04fe9"
      }
     },
     "metadata": {},
     "output_type": "display_data"
    },
    {
     "name": "stderr",
     "output_type": "stream",
     "text": [
      "Epoch 84: 2.5s to complete\n",
      "    error(train)=3.56e-01, acc(train)=8.77e-01, error(valid)=6.66e-01, acc(valid)=8.09e-01\n"
     ]
    },
    {
     "data": {
      "text/plain": [
       "  0%|          | 0/1000 [00:00<?, ?it/s]"
      ],
      "application/vnd.jupyter.widget-view+json": {
       "version_major": 2,
       "version_minor": 0,
       "model_id": "7e01d839d4564a96927790caa1e49551"
      }
     },
     "metadata": {},
     "output_type": "display_data"
    },
    {
     "name": "stderr",
     "output_type": "stream",
     "text": [
      "Epoch 85: 2.3s to complete\n",
      "    error(train)=3.44e-01, acc(train)=8.81e-01, error(valid)=6.62e-01, acc(valid)=8.11e-01\n"
     ]
    },
    {
     "data": {
      "text/plain": [
       "  0%|          | 0/1000 [00:00<?, ?it/s]"
      ],
      "application/vnd.jupyter.widget-view+json": {
       "version_major": 2,
       "version_minor": 0,
       "model_id": "430208d326014252bc0a9c19a58f1834"
      }
     },
     "metadata": {},
     "output_type": "display_data"
    },
    {
     "name": "stderr",
     "output_type": "stream",
     "text": [
      "Epoch 86: 2.5s to complete\n",
      "    error(train)=3.46e-01, acc(train)=8.81e-01, error(valid)=6.60e-01, acc(valid)=8.05e-01\n"
     ]
    },
    {
     "data": {
      "text/plain": [
       "  0%|          | 0/1000 [00:00<?, ?it/s]"
      ],
      "application/vnd.jupyter.widget-view+json": {
       "version_major": 2,
       "version_minor": 0,
       "model_id": "c369422edde04259b147d90ba67b8451"
      }
     },
     "metadata": {},
     "output_type": "display_data"
    },
    {
     "name": "stderr",
     "output_type": "stream",
     "text": [
      "Epoch 87: 2.9s to complete\n",
      "    error(train)=3.50e-01, acc(train)=8.79e-01, error(valid)=6.65e-01, acc(valid)=8.09e-01\n"
     ]
    },
    {
     "data": {
      "text/plain": [
       "  0%|          | 0/1000 [00:00<?, ?it/s]"
      ],
      "application/vnd.jupyter.widget-view+json": {
       "version_major": 2,
       "version_minor": 0,
       "model_id": "5cdd87b6d1034b39956767375c1902bf"
      }
     },
     "metadata": {},
     "output_type": "display_data"
    },
    {
     "name": "stderr",
     "output_type": "stream",
     "text": [
      "Epoch 88: 4.1s to complete\n",
      "    error(train)=3.46e-01, acc(train)=8.78e-01, error(valid)=6.68e-01, acc(valid)=8.07e-01\n"
     ]
    },
    {
     "data": {
      "text/plain": [
       "  0%|          | 0/1000 [00:00<?, ?it/s]"
      ],
      "application/vnd.jupyter.widget-view+json": {
       "version_major": 2,
       "version_minor": 0,
       "model_id": "f4eef1a6a02f4f43b7f29aaa4530d908"
      }
     },
     "metadata": {},
     "output_type": "display_data"
    },
    {
     "name": "stderr",
     "output_type": "stream",
     "text": [
      "Epoch 89: 3.9s to complete\n",
      "    error(train)=3.41e-01, acc(train)=8.82e-01, error(valid)=6.71e-01, acc(valid)=8.06e-01\n"
     ]
    },
    {
     "data": {
      "text/plain": [
       "  0%|          | 0/1000 [00:00<?, ?it/s]"
      ],
      "application/vnd.jupyter.widget-view+json": {
       "version_major": 2,
       "version_minor": 0,
       "model_id": "809eee8d5a604cb6942b5c571ae6aed2"
      }
     },
     "metadata": {},
     "output_type": "display_data"
    },
    {
     "name": "stderr",
     "output_type": "stream",
     "text": [
      "Epoch 90: 2.3s to complete\n",
      "    error(train)=3.39e-01, acc(train)=8.82e-01, error(valid)=6.66e-01, acc(valid)=8.10e-01\n"
     ]
    },
    {
     "data": {
      "text/plain": [
       "  0%|          | 0/1000 [00:00<?, ?it/s]"
      ],
      "application/vnd.jupyter.widget-view+json": {
       "version_major": 2,
       "version_minor": 0,
       "model_id": "e3c223c0ea454ff093cc2267faf304ff"
      }
     },
     "metadata": {},
     "output_type": "display_data"
    },
    {
     "name": "stderr",
     "output_type": "stream",
     "text": [
      "Epoch 91: 2.4s to complete\n",
      "    error(train)=3.37e-01, acc(train)=8.83e-01, error(valid)=6.66e-01, acc(valid)=8.07e-01\n"
     ]
    },
    {
     "data": {
      "text/plain": [
       "  0%|          | 0/1000 [00:00<?, ?it/s]"
      ],
      "application/vnd.jupyter.widget-view+json": {
       "version_major": 2,
       "version_minor": 0,
       "model_id": "3b2dc500b5cb45a7bc6dd4dc76a23978"
      }
     },
     "metadata": {},
     "output_type": "display_data"
    },
    {
     "name": "stderr",
     "output_type": "stream",
     "text": [
      "Epoch 92: 2.5s to complete\n",
      "    error(train)=3.38e-01, acc(train)=8.83e-01, error(valid)=6.69e-01, acc(valid)=8.09e-01\n"
     ]
    },
    {
     "data": {
      "text/plain": [
       "  0%|          | 0/1000 [00:00<?, ?it/s]"
      ],
      "application/vnd.jupyter.widget-view+json": {
       "version_major": 2,
       "version_minor": 0,
       "model_id": "c85c42c20b4a4277850d69444a3b3842"
      }
     },
     "metadata": {},
     "output_type": "display_data"
    },
    {
     "name": "stderr",
     "output_type": "stream",
     "text": [
      "Epoch 93: 2.1s to complete\n",
      "    error(train)=3.38e-01, acc(train)=8.83e-01, error(valid)=6.72e-01, acc(valid)=8.07e-01\n"
     ]
    },
    {
     "data": {
      "text/plain": [
       "  0%|          | 0/1000 [00:00<?, ?it/s]"
      ],
      "application/vnd.jupyter.widget-view+json": {
       "version_major": 2,
       "version_minor": 0,
       "model_id": "df06a5f574a54c46acd30dafa6c5be66"
      }
     },
     "metadata": {},
     "output_type": "display_data"
    },
    {
     "name": "stderr",
     "output_type": "stream",
     "text": [
      "Epoch 94: 2.2s to complete\n",
      "    error(train)=3.39e-01, acc(train)=8.82e-01, error(valid)=6.74e-01, acc(valid)=8.07e-01\n"
     ]
    },
    {
     "data": {
      "text/plain": [
       "  0%|          | 0/1000 [00:00<?, ?it/s]"
      ],
      "application/vnd.jupyter.widget-view+json": {
       "version_major": 2,
       "version_minor": 0,
       "model_id": "be80cfc0a60644858bad108cc44ef652"
      }
     },
     "metadata": {},
     "output_type": "display_data"
    },
    {
     "name": "stderr",
     "output_type": "stream",
     "text": [
      "Epoch 95: 2.3s to complete\n",
      "    error(train)=3.36e-01, acc(train)=8.84e-01, error(valid)=6.74e-01, acc(valid)=8.08e-01\n"
     ]
    },
    {
     "data": {
      "text/plain": [
       "  0%|          | 0/1000 [00:00<?, ?it/s]"
      ],
      "application/vnd.jupyter.widget-view+json": {
       "version_major": 2,
       "version_minor": 0,
       "model_id": "6edef35782b84fa08989b28016501e6b"
      }
     },
     "metadata": {},
     "output_type": "display_data"
    },
    {
     "name": "stderr",
     "output_type": "stream",
     "text": [
      "Epoch 96: 2.6s to complete\n",
      "    error(train)=3.36e-01, acc(train)=8.83e-01, error(valid)=6.77e-01, acc(valid)=8.08e-01\n"
     ]
    },
    {
     "data": {
      "text/plain": [
       "  0%|          | 0/1000 [00:00<?, ?it/s]"
      ],
      "application/vnd.jupyter.widget-view+json": {
       "version_major": 2,
       "version_minor": 0,
       "model_id": "9e667b6cc2be4307a836093a24f3e0b4"
      }
     },
     "metadata": {},
     "output_type": "display_data"
    },
    {
     "name": "stderr",
     "output_type": "stream",
     "text": [
      "Epoch 97: 3.5s to complete\n",
      "    error(train)=3.42e-01, acc(train)=8.80e-01, error(valid)=6.84e-01, acc(valid)=8.04e-01\n"
     ]
    },
    {
     "data": {
      "text/plain": [
       "  0%|          | 0/1000 [00:00<?, ?it/s]"
      ],
      "application/vnd.jupyter.widget-view+json": {
       "version_major": 2,
       "version_minor": 0,
       "model_id": "a4c47fb639dc41b0925668566e94c207"
      }
     },
     "metadata": {},
     "output_type": "display_data"
    },
    {
     "name": "stderr",
     "output_type": "stream",
     "text": [
      "Epoch 98: 2.2s to complete\n",
      "    error(train)=3.29e-01, acc(train)=8.86e-01, error(valid)=6.72e-01, acc(valid)=8.09e-01\n"
     ]
    },
    {
     "data": {
      "text/plain": [
       "  0%|          | 0/1000 [00:00<?, ?it/s]"
      ],
      "application/vnd.jupyter.widget-view+json": {
       "version_major": 2,
       "version_minor": 0,
       "model_id": "e994dfb9de9e4b7b8d5f76f29489a36e"
      }
     },
     "metadata": {},
     "output_type": "display_data"
    },
    {
     "name": "stderr",
     "output_type": "stream",
     "text": [
      "Epoch 99: 2.4s to complete\n",
      "    error(train)=3.29e-01, acc(train)=8.85e-01, error(valid)=6.77e-01, acc(valid)=8.08e-01\n"
     ]
    },
    {
     "data": {
      "text/plain": [
       "  0%|          | 0/1000 [00:00<?, ?it/s]"
      ],
      "application/vnd.jupyter.widget-view+json": {
       "version_major": 2,
       "version_minor": 0,
       "model_id": "1b222e5ec94b42389a53eb0f468d5ab0"
      }
     },
     "metadata": {},
     "output_type": "display_data"
    },
    {
     "name": "stderr",
     "output_type": "stream",
     "text": [
      "Epoch 100: 5.2s to complete\n",
      "    error(train)=3.33e-01, acc(train)=8.83e-01, error(valid)=6.75e-01, acc(valid)=8.04e-01\n"
     ]
    },
    {
     "name": "stdout",
     "output_type": "stream",
     "text": [
      "    final error(train) = 3.33e-01\n",
      "    final error(valid) = 6.75e-01\n",
      "    final acc(train)   = 8.83e-01\n",
      "    final acc(valid)   = 8.04e-01\n",
      "    run time per epoch = 4.26\n"
     ]
    },
    {
     "data": {
      "text/plain": [
       "  0%|          | 0/100 [00:00<?, ?it/s]"
      ],
      "application/vnd.jupyter.widget-view+json": {
       "version_major": 2,
       "version_minor": 0,
       "model_id": "eccc047042964cd1863e7efb02f72dbf"
      }
     },
     "metadata": {},
     "output_type": "display_data"
    },
    {
     "data": {
      "text/plain": [
       "  0%|          | 0/1000 [00:00<?, ?it/s]"
      ],
      "application/vnd.jupyter.widget-view+json": {
       "version_major": 2,
       "version_minor": 0,
       "model_id": "2a35c900fe724d6fa276cd8af0b05235"
      }
     },
     "metadata": {},
     "output_type": "display_data"
    },
    {
     "name": "stderr",
     "output_type": "stream",
     "text": [
      "Epoch 1: 3.4s to complete\n",
      "    error(train)=9.12e-01, acc(train)=7.38e-01, error(valid)=9.29e-01, acc(valid)=7.33e-01\n"
     ]
    },
    {
     "data": {
      "text/plain": [
       "  0%|          | 0/1000 [00:00<?, ?it/s]"
      ],
      "application/vnd.jupyter.widget-view+json": {
       "version_major": 2,
       "version_minor": 0,
       "model_id": "77562af48e23495d89a5166f06174b4f"
      }
     },
     "metadata": {},
     "output_type": "display_data"
    },
    {
     "name": "stderr",
     "output_type": "stream",
     "text": [
      "Epoch 2: 3.2s to complete\n",
      "    error(train)=7.25e-01, acc(train)=7.83e-01, error(valid)=7.59e-01, acc(valid)=7.71e-01\n"
     ]
    },
    {
     "data": {
      "text/plain": [
       "  0%|          | 0/1000 [00:00<?, ?it/s]"
      ],
      "application/vnd.jupyter.widget-view+json": {
       "version_major": 2,
       "version_minor": 0,
       "model_id": "493ff619785d499c88c66a8dd0f9caa8"
      }
     },
     "metadata": {},
     "output_type": "display_data"
    },
    {
     "name": "stderr",
     "output_type": "stream",
     "text": [
      "Epoch 3: 3.1s to complete\n",
      "    error(train)=6.28e-01, acc(train)=8.07e-01, error(valid)=6.77e-01, acc(valid)=7.93e-01\n"
     ]
    },
    {
     "data": {
      "text/plain": [
       "  0%|          | 0/1000 [00:00<?, ?it/s]"
      ],
      "application/vnd.jupyter.widget-view+json": {
       "version_major": 2,
       "version_minor": 0,
       "model_id": "e67fbcc03b4c44bcaf362c55c2272eed"
      }
     },
     "metadata": {},
     "output_type": "display_data"
    },
    {
     "name": "stderr",
     "output_type": "stream",
     "text": [
      "Epoch 4: 3.2s to complete\n",
      "    error(train)=5.62e-01, acc(train)=8.24e-01, error(valid)=6.20e-01, acc(valid)=8.06e-01\n"
     ]
    },
    {
     "data": {
      "text/plain": [
       "  0%|          | 0/1000 [00:00<?, ?it/s]"
      ],
      "application/vnd.jupyter.widget-view+json": {
       "version_major": 2,
       "version_minor": 0,
       "model_id": "de49fd28fc0e4b35a94b382c06f81d06"
      }
     },
     "metadata": {},
     "output_type": "display_data"
    },
    {
     "name": "stderr",
     "output_type": "stream",
     "text": [
      "Epoch 5: 3.1s to complete\n",
      "    error(train)=5.26e-01, acc(train)=8.31e-01, error(valid)=5.96e-01, acc(valid)=8.10e-01\n"
     ]
    },
    {
     "data": {
      "text/plain": [
       "  0%|          | 0/1000 [00:00<?, ?it/s]"
      ],
      "application/vnd.jupyter.widget-view+json": {
       "version_major": 2,
       "version_minor": 0,
       "model_id": "1cc0bc8fe0764e488e8c0d777dcfbd4f"
      }
     },
     "metadata": {},
     "output_type": "display_data"
    },
    {
     "name": "stderr",
     "output_type": "stream",
     "text": [
      "Epoch 6: 3.3s to complete\n",
      "    error(train)=4.84e-01, acc(train)=8.44e-01, error(valid)=5.66e-01, acc(valid)=8.22e-01\n"
     ]
    },
    {
     "data": {
      "text/plain": [
       "  0%|          | 0/1000 [00:00<?, ?it/s]"
      ],
      "application/vnd.jupyter.widget-view+json": {
       "version_major": 2,
       "version_minor": 0,
       "model_id": "28239723ae5545d492facd220ce898e6"
      }
     },
     "metadata": {},
     "output_type": "display_data"
    },
    {
     "name": "stderr",
     "output_type": "stream",
     "text": [
      "Epoch 7: 3.3s to complete\n",
      "    error(train)=4.73e-01, acc(train)=8.41e-01, error(valid)=5.63e-01, acc(valid)=8.17e-01\n"
     ]
    },
    {
     "data": {
      "text/plain": [
       "  0%|          | 0/1000 [00:00<?, ?it/s]"
      ],
      "application/vnd.jupyter.widget-view+json": {
       "version_major": 2,
       "version_minor": 0,
       "model_id": "21572b721928461e858f798779fc95b8"
      }
     },
     "metadata": {},
     "output_type": "display_data"
    },
    {
     "name": "stderr",
     "output_type": "stream",
     "text": [
      "Epoch 8: 3.5s to complete\n",
      "    error(train)=4.47e-01, acc(train)=8.51e-01, error(valid)=5.49e-01, acc(valid)=8.25e-01\n"
     ]
    },
    {
     "data": {
      "text/plain": [
       "  0%|          | 0/1000 [00:00<?, ?it/s]"
      ],
      "application/vnd.jupyter.widget-view+json": {
       "version_major": 2,
       "version_minor": 0,
       "model_id": "ff98bcb0cd8e4261a98d626a0934e9f1"
      }
     },
     "metadata": {},
     "output_type": "display_data"
    },
    {
     "name": "stderr",
     "output_type": "stream",
     "text": [
      "Epoch 9: 3.2s to complete\n",
      "    error(train)=4.27e-01, acc(train)=8.57e-01, error(valid)=5.35e-01, acc(valid)=8.26e-01\n"
     ]
    },
    {
     "data": {
      "text/plain": [
       "  0%|          | 0/1000 [00:00<?, ?it/s]"
      ],
      "application/vnd.jupyter.widget-view+json": {
       "version_major": 2,
       "version_minor": 0,
       "model_id": "cc5c8e3f612d4f4c8f8313e269014685"
      }
     },
     "metadata": {},
     "output_type": "display_data"
    },
    {
     "name": "stderr",
     "output_type": "stream",
     "text": [
      "Epoch 10: 3.4s to complete\n",
      "    error(train)=4.06e-01, acc(train)=8.64e-01, error(valid)=5.29e-01, acc(valid)=8.29e-01\n"
     ]
    },
    {
     "data": {
      "text/plain": [
       "  0%|          | 0/1000 [00:00<?, ?it/s]"
      ],
      "application/vnd.jupyter.widget-view+json": {
       "version_major": 2,
       "version_minor": 0,
       "model_id": "481e3a68497d4d7e82ae5b614a513377"
      }
     },
     "metadata": {},
     "output_type": "display_data"
    },
    {
     "name": "stderr",
     "output_type": "stream",
     "text": [
      "Epoch 11: 3.5s to complete\n",
      "    error(train)=3.96e-01, acc(train)=8.67e-01, error(valid)=5.31e-01, acc(valid)=8.30e-01\n"
     ]
    },
    {
     "data": {
      "text/plain": [
       "  0%|          | 0/1000 [00:00<?, ?it/s]"
      ],
      "application/vnd.jupyter.widget-view+json": {
       "version_major": 2,
       "version_minor": 0,
       "model_id": "0633a56d6ce340029b4a781ef8b13ff8"
      }
     },
     "metadata": {},
     "output_type": "display_data"
    },
    {
     "name": "stderr",
     "output_type": "stream",
     "text": [
      "Epoch 12: 3.5s to complete\n",
      "    error(train)=3.84e-01, acc(train)=8.69e-01, error(valid)=5.25e-01, acc(valid)=8.31e-01\n"
     ]
    },
    {
     "data": {
      "text/plain": [
       "  0%|          | 0/1000 [00:00<?, ?it/s]"
      ],
      "application/vnd.jupyter.widget-view+json": {
       "version_major": 2,
       "version_minor": 0,
       "model_id": "e923d5b9de874cb987ebd387ed42aaaf"
      }
     },
     "metadata": {},
     "output_type": "display_data"
    },
    {
     "name": "stderr",
     "output_type": "stream",
     "text": [
      "Epoch 13: 3.5s to complete\n",
      "    error(train)=3.73e-01, acc(train)=8.73e-01, error(valid)=5.23e-01, acc(valid)=8.32e-01\n"
     ]
    },
    {
     "data": {
      "text/plain": [
       "  0%|          | 0/1000 [00:00<?, ?it/s]"
      ],
      "application/vnd.jupyter.widget-view+json": {
       "version_major": 2,
       "version_minor": 0,
       "model_id": "bbf6b50eb81b48aabc171a64b586a3ca"
      }
     },
     "metadata": {},
     "output_type": "display_data"
    },
    {
     "name": "stderr",
     "output_type": "stream",
     "text": [
      "Epoch 14: 5.1s to complete\n",
      "    error(train)=3.64e-01, acc(train)=8.77e-01, error(valid)=5.22e-01, acc(valid)=8.34e-01\n"
     ]
    },
    {
     "data": {
      "text/plain": [
       "  0%|          | 0/1000 [00:00<?, ?it/s]"
      ],
      "application/vnd.jupyter.widget-view+json": {
       "version_major": 2,
       "version_minor": 0,
       "model_id": "f5e127944b674033a318ba700b145712"
      }
     },
     "metadata": {},
     "output_type": "display_data"
    },
    {
     "name": "stderr",
     "output_type": "stream",
     "text": [
      "Epoch 15: 4.4s to complete\n",
      "    error(train)=3.63e-01, acc(train)=8.76e-01, error(valid)=5.30e-01, acc(valid)=8.28e-01\n"
     ]
    },
    {
     "data": {
      "text/plain": [
       "  0%|          | 0/1000 [00:00<?, ?it/s]"
      ],
      "application/vnd.jupyter.widget-view+json": {
       "version_major": 2,
       "version_minor": 0,
       "model_id": "1673ff6c97114d758314d6a2d4f788c2"
      }
     },
     "metadata": {},
     "output_type": "display_data"
    },
    {
     "name": "stderr",
     "output_type": "stream",
     "text": [
      "Epoch 16: 3.2s to complete\n",
      "    error(train)=3.50e-01, acc(train)=8.80e-01, error(valid)=5.22e-01, acc(valid)=8.33e-01\n"
     ]
    },
    {
     "data": {
      "text/plain": [
       "  0%|          | 0/1000 [00:00<?, ?it/s]"
      ],
      "application/vnd.jupyter.widget-view+json": {
       "version_major": 2,
       "version_minor": 0,
       "model_id": "4a03380cb3c14e30bd9e1a9fdb1b0c98"
      }
     },
     "metadata": {},
     "output_type": "display_data"
    },
    {
     "name": "stderr",
     "output_type": "stream",
     "text": [
      "Epoch 17: 3.3s to complete\n",
      "    error(train)=3.47e-01, acc(train)=8.79e-01, error(valid)=5.31e-01, acc(valid)=8.29e-01\n"
     ]
    },
    {
     "data": {
      "text/plain": [
       "  0%|          | 0/1000 [00:00<?, ?it/s]"
      ],
      "application/vnd.jupyter.widget-view+json": {
       "version_major": 2,
       "version_minor": 0,
       "model_id": "b92fc3e64ca74fcbb157a9bbd351cd8f"
      }
     },
     "metadata": {},
     "output_type": "display_data"
    },
    {
     "name": "stderr",
     "output_type": "stream",
     "text": [
      "Epoch 18: 3.6s to complete\n",
      "    error(train)=3.36e-01, acc(train)=8.83e-01, error(valid)=5.29e-01, acc(valid)=8.31e-01\n"
     ]
    },
    {
     "data": {
      "text/plain": [
       "  0%|          | 0/1000 [00:00<?, ?it/s]"
      ],
      "application/vnd.jupyter.widget-view+json": {
       "version_major": 2,
       "version_minor": 0,
       "model_id": "6de1e178201c4f008a6c9567b87f95b2"
      }
     },
     "metadata": {},
     "output_type": "display_data"
    },
    {
     "name": "stderr",
     "output_type": "stream",
     "text": [
      "Epoch 19: 3.2s to complete\n",
      "    error(train)=3.37e-01, acc(train)=8.81e-01, error(valid)=5.33e-01, acc(valid)=8.29e-01\n"
     ]
    },
    {
     "data": {
      "text/plain": [
       "  0%|          | 0/1000 [00:00<?, ?it/s]"
      ],
      "application/vnd.jupyter.widget-view+json": {
       "version_major": 2,
       "version_minor": 0,
       "model_id": "1f18ef58ad974d71a5e9c084344ed9e7"
      }
     },
     "metadata": {},
     "output_type": "display_data"
    },
    {
     "name": "stderr",
     "output_type": "stream",
     "text": [
      "Epoch 20: 3.5s to complete\n",
      "    error(train)=3.27e-01, acc(train)=8.86e-01, error(valid)=5.31e-01, acc(valid)=8.33e-01\n"
     ]
    },
    {
     "data": {
      "text/plain": [
       "  0%|          | 0/1000 [00:00<?, ?it/s]"
      ],
      "application/vnd.jupyter.widget-view+json": {
       "version_major": 2,
       "version_minor": 0,
       "model_id": "7b38c1d43f564df4970b697c4e18aeb1"
      }
     },
     "metadata": {},
     "output_type": "display_data"
    },
    {
     "name": "stderr",
     "output_type": "stream",
     "text": [
      "Epoch 21: 3.2s to complete\n",
      "    error(train)=3.23e-01, acc(train)=8.87e-01, error(valid)=5.37e-01, acc(valid)=8.34e-01\n"
     ]
    },
    {
     "data": {
      "text/plain": [
       "  0%|          | 0/1000 [00:00<?, ?it/s]"
      ],
      "application/vnd.jupyter.widget-view+json": {
       "version_major": 2,
       "version_minor": 0,
       "model_id": "55742ab343b54a638f654869dfdb0fe9"
      }
     },
     "metadata": {},
     "output_type": "display_data"
    },
    {
     "name": "stderr",
     "output_type": "stream",
     "text": [
      "Epoch 22: 3.4s to complete\n",
      "    error(train)=3.23e-01, acc(train)=8.85e-01, error(valid)=5.46e-01, acc(valid)=8.27e-01\n"
     ]
    },
    {
     "data": {
      "text/plain": [
       "  0%|          | 0/1000 [00:00<?, ?it/s]"
      ],
      "application/vnd.jupyter.widget-view+json": {
       "version_major": 2,
       "version_minor": 0,
       "model_id": "06ffbfe42cd64a05bdf0e2844dfbb11f"
      }
     },
     "metadata": {},
     "output_type": "display_data"
    },
    {
     "name": "stderr",
     "output_type": "stream",
     "text": [
      "Epoch 23: 3.5s to complete\n",
      "    error(train)=3.14e-01, acc(train)=8.89e-01, error(valid)=5.45e-01, acc(valid)=8.31e-01\n"
     ]
    },
    {
     "data": {
      "text/plain": [
       "  0%|          | 0/1000 [00:00<?, ?it/s]"
      ],
      "application/vnd.jupyter.widget-view+json": {
       "version_major": 2,
       "version_minor": 0,
       "model_id": "43617564a50044048bdeb19140cd0b09"
      }
     },
     "metadata": {},
     "output_type": "display_data"
    },
    {
     "name": "stderr",
     "output_type": "stream",
     "text": [
      "Epoch 24: 3.8s to complete\n",
      "    error(train)=2.97e-01, acc(train)=8.95e-01, error(valid)=5.34e-01, acc(valid)=8.34e-01\n"
     ]
    },
    {
     "data": {
      "text/plain": [
       "  0%|          | 0/1000 [00:00<?, ?it/s]"
      ],
      "application/vnd.jupyter.widget-view+json": {
       "version_major": 2,
       "version_minor": 0,
       "model_id": "3aa2d941ecd047adb1fda392725e52d5"
      }
     },
     "metadata": {},
     "output_type": "display_data"
    },
    {
     "name": "stderr",
     "output_type": "stream",
     "text": [
      "Epoch 25: 3.4s to complete\n",
      "    error(train)=3.12e-01, acc(train)=8.88e-01, error(valid)=5.60e-01, acc(valid)=8.27e-01\n"
     ]
    },
    {
     "data": {
      "text/plain": [
       "  0%|          | 0/1000 [00:00<?, ?it/s]"
      ],
      "application/vnd.jupyter.widget-view+json": {
       "version_major": 2,
       "version_minor": 0,
       "model_id": "fceb7f86bc814f3cbdfd7d715a530212"
      }
     },
     "metadata": {},
     "output_type": "display_data"
    },
    {
     "name": "stderr",
     "output_type": "stream",
     "text": [
      "Epoch 26: 3.3s to complete\n",
      "    error(train)=2.92e-01, acc(train)=8.96e-01, error(valid)=5.44e-01, acc(valid)=8.33e-01\n"
     ]
    },
    {
     "data": {
      "text/plain": [
       "  0%|          | 0/1000 [00:00<?, ?it/s]"
      ],
      "application/vnd.jupyter.widget-view+json": {
       "version_major": 2,
       "version_minor": 0,
       "model_id": "e0173a40429d4d2abdfc8b9bd6719494"
      }
     },
     "metadata": {},
     "output_type": "display_data"
    },
    {
     "name": "stderr",
     "output_type": "stream",
     "text": [
      "Epoch 27: 3.2s to complete\n",
      "    error(train)=2.91e-01, acc(train)=8.96e-01, error(valid)=5.49e-01, acc(valid)=8.29e-01\n"
     ]
    },
    {
     "data": {
      "text/plain": [
       "  0%|          | 0/1000 [00:00<?, ?it/s]"
      ],
      "application/vnd.jupyter.widget-view+json": {
       "version_major": 2,
       "version_minor": 0,
       "model_id": "95190b520a3b47bca06cbbdcba4f0fee"
      }
     },
     "metadata": {},
     "output_type": "display_data"
    },
    {
     "name": "stderr",
     "output_type": "stream",
     "text": [
      "Epoch 28: 3.4s to complete\n",
      "    error(train)=2.92e-01, acc(train)=8.97e-01, error(valid)=5.57e-01, acc(valid)=8.28e-01\n"
     ]
    },
    {
     "data": {
      "text/plain": [
       "  0%|          | 0/1000 [00:00<?, ?it/s]"
      ],
      "application/vnd.jupyter.widget-view+json": {
       "version_major": 2,
       "version_minor": 0,
       "model_id": "8e423dcb0afc48cbad4614a33bcbaa50"
      }
     },
     "metadata": {},
     "output_type": "display_data"
    },
    {
     "name": "stderr",
     "output_type": "stream",
     "text": [
      "Epoch 29: 3.3s to complete\n",
      "    error(train)=2.85e-01, acc(train)=8.98e-01, error(valid)=5.60e-01, acc(valid)=8.27e-01\n"
     ]
    },
    {
     "data": {
      "text/plain": [
       "  0%|          | 0/1000 [00:00<?, ?it/s]"
      ],
      "application/vnd.jupyter.widget-view+json": {
       "version_major": 2,
       "version_minor": 0,
       "model_id": "8d02cff0f34a41f4ab9bf12ef309629d"
      }
     },
     "metadata": {},
     "output_type": "display_data"
    },
    {
     "name": "stderr",
     "output_type": "stream",
     "text": [
      "Epoch 30: 3.0s to complete\n",
      "    error(train)=2.83e-01, acc(train)=8.97e-01, error(valid)=5.67e-01, acc(valid)=8.28e-01\n"
     ]
    },
    {
     "data": {
      "text/plain": [
       "  0%|          | 0/1000 [00:00<?, ?it/s]"
      ],
      "application/vnd.jupyter.widget-view+json": {
       "version_major": 2,
       "version_minor": 0,
       "model_id": "094e29cb85aa4e708c81d46c5046ba68"
      }
     },
     "metadata": {},
     "output_type": "display_data"
    },
    {
     "name": "stderr",
     "output_type": "stream",
     "text": [
      "Epoch 31: 3.4s to complete\n",
      "    error(train)=2.75e-01, acc(train)=9.03e-01, error(valid)=5.64e-01, acc(valid)=8.29e-01\n"
     ]
    },
    {
     "data": {
      "text/plain": [
       "  0%|          | 0/1000 [00:00<?, ?it/s]"
      ],
      "application/vnd.jupyter.widget-view+json": {
       "version_major": 2,
       "version_minor": 0,
       "model_id": "7fa9ee442c334d61b71c6f43e7abab6e"
      }
     },
     "metadata": {},
     "output_type": "display_data"
    },
    {
     "name": "stderr",
     "output_type": "stream",
     "text": [
      "Epoch 32: 7.8s to complete\n",
      "    error(train)=2.82e-01, acc(train)=9.00e-01, error(valid)=5.74e-01, acc(valid)=8.26e-01\n"
     ]
    },
    {
     "data": {
      "text/plain": [
       "  0%|          | 0/1000 [00:00<?, ?it/s]"
      ],
      "application/vnd.jupyter.widget-view+json": {
       "version_major": 2,
       "version_minor": 0,
       "model_id": "31095fc265fb42d6aa3e1303f00106fb"
      }
     },
     "metadata": {},
     "output_type": "display_data"
    },
    {
     "name": "stderr",
     "output_type": "stream",
     "text": [
      "Epoch 33: 7.8s to complete\n",
      "    error(train)=2.85e-01, acc(train)=8.97e-01, error(valid)=5.88e-01, acc(valid)=8.24e-01\n"
     ]
    },
    {
     "data": {
      "text/plain": [
       "  0%|          | 0/1000 [00:00<?, ?it/s]"
      ],
      "application/vnd.jupyter.widget-view+json": {
       "version_major": 2,
       "version_minor": 0,
       "model_id": "36ac83e2657e43dcb42d7e017c04ca25"
      }
     },
     "metadata": {},
     "output_type": "display_data"
    },
    {
     "name": "stderr",
     "output_type": "stream",
     "text": [
      "Epoch 34: 5.7s to complete\n",
      "    error(train)=2.73e-01, acc(train)=9.01e-01, error(valid)=5.83e-01, acc(valid)=8.24e-01\n"
     ]
    },
    {
     "data": {
      "text/plain": [
       "  0%|          | 0/1000 [00:00<?, ?it/s]"
      ],
      "application/vnd.jupyter.widget-view+json": {
       "version_major": 2,
       "version_minor": 0,
       "model_id": "6d458624d2c54a23a2bdf92507eb2dd6"
      }
     },
     "metadata": {},
     "output_type": "display_data"
    },
    {
     "name": "stderr",
     "output_type": "stream",
     "text": [
      "Epoch 35: 5.7s to complete\n",
      "    error(train)=2.67e-01, acc(train)=9.03e-01, error(valid)=5.83e-01, acc(valid)=8.31e-01\n"
     ]
    },
    {
     "data": {
      "text/plain": [
       "  0%|          | 0/1000 [00:00<?, ?it/s]"
      ],
      "application/vnd.jupyter.widget-view+json": {
       "version_major": 2,
       "version_minor": 0,
       "model_id": "a2757c1062f3457c9b58c1f08967ca24"
      }
     },
     "metadata": {},
     "output_type": "display_data"
    },
    {
     "name": "stderr",
     "output_type": "stream",
     "text": [
      "Epoch 36: 5.1s to complete\n",
      "    error(train)=2.65e-01, acc(train)=9.05e-01, error(valid)=5.87e-01, acc(valid)=8.27e-01\n"
     ]
    },
    {
     "data": {
      "text/plain": [
       "  0%|          | 0/1000 [00:00<?, ?it/s]"
      ],
      "application/vnd.jupyter.widget-view+json": {
       "version_major": 2,
       "version_minor": 0,
       "model_id": "40ca2cb67bc64e85ae9bf72eb00c2c95"
      }
     },
     "metadata": {},
     "output_type": "display_data"
    },
    {
     "name": "stderr",
     "output_type": "stream",
     "text": [
      "Epoch 37: 5.5s to complete\n",
      "    error(train)=2.56e-01, acc(train)=9.07e-01, error(valid)=5.92e-01, acc(valid)=8.28e-01\n"
     ]
    },
    {
     "data": {
      "text/plain": [
       "  0%|          | 0/1000 [00:00<?, ?it/s]"
      ],
      "application/vnd.jupyter.widget-view+json": {
       "version_major": 2,
       "version_minor": 0,
       "model_id": "cd71312190c54bb5b3b01b7b183946b1"
      }
     },
     "metadata": {},
     "output_type": "display_data"
    },
    {
     "name": "stderr",
     "output_type": "stream",
     "text": [
      "Epoch 38: 5.5s to complete\n",
      "    error(train)=2.57e-01, acc(train)=9.06e-01, error(valid)=5.94e-01, acc(valid)=8.27e-01\n"
     ]
    },
    {
     "data": {
      "text/plain": [
       "  0%|          | 0/1000 [00:00<?, ?it/s]"
      ],
      "application/vnd.jupyter.widget-view+json": {
       "version_major": 2,
       "version_minor": 0,
       "model_id": "9e68f081f4774ae38150a4fb39e8bc44"
      }
     },
     "metadata": {},
     "output_type": "display_data"
    },
    {
     "name": "stderr",
     "output_type": "stream",
     "text": [
      "Epoch 39: 5.1s to complete\n",
      "    error(train)=2.54e-01, acc(train)=9.07e-01, error(valid)=5.99e-01, acc(valid)=8.23e-01\n"
     ]
    },
    {
     "data": {
      "text/plain": [
       "  0%|          | 0/1000 [00:00<?, ?it/s]"
      ],
      "application/vnd.jupyter.widget-view+json": {
       "version_major": 2,
       "version_minor": 0,
       "model_id": "21e83a0649e4488798f35bf8545f93a8"
      }
     },
     "metadata": {},
     "output_type": "display_data"
    },
    {
     "name": "stderr",
     "output_type": "stream",
     "text": [
      "Epoch 40: 5.3s to complete\n",
      "    error(train)=2.52e-01, acc(train)=9.08e-01, error(valid)=6.00e-01, acc(valid)=8.27e-01\n"
     ]
    },
    {
     "data": {
      "text/plain": [
       "  0%|          | 0/1000 [00:00<?, ?it/s]"
      ],
      "application/vnd.jupyter.widget-view+json": {
       "version_major": 2,
       "version_minor": 0,
       "model_id": "09fa03eb46be42578542bf705ee8d8b9"
      }
     },
     "metadata": {},
     "output_type": "display_data"
    },
    {
     "name": "stderr",
     "output_type": "stream",
     "text": [
      "Epoch 41: 6.0s to complete\n",
      "    error(train)=2.47e-01, acc(train)=9.11e-01, error(valid)=6.09e-01, acc(valid)=8.26e-01\n"
     ]
    },
    {
     "data": {
      "text/plain": [
       "  0%|          | 0/1000 [00:00<?, ?it/s]"
      ],
      "application/vnd.jupyter.widget-view+json": {
       "version_major": 2,
       "version_minor": 0,
       "model_id": "d3a6c85262e34da9ae84b02e887e0446"
      }
     },
     "metadata": {},
     "output_type": "display_data"
    },
    {
     "name": "stderr",
     "output_type": "stream",
     "text": [
      "Epoch 42: 5.7s to complete\n",
      "    error(train)=2.45e-01, acc(train)=9.08e-01, error(valid)=6.12e-01, acc(valid)=8.23e-01\n"
     ]
    },
    {
     "data": {
      "text/plain": [
       "  0%|          | 0/1000 [00:00<?, ?it/s]"
      ],
      "application/vnd.jupyter.widget-view+json": {
       "version_major": 2,
       "version_minor": 0,
       "model_id": "fc66e534fc4341d0a99e4787e781bdde"
      }
     },
     "metadata": {},
     "output_type": "display_data"
    },
    {
     "name": "stderr",
     "output_type": "stream",
     "text": [
      "Epoch 43: 5.6s to complete\n",
      "    error(train)=2.50e-01, acc(train)=9.07e-01, error(valid)=6.15e-01, acc(valid)=8.20e-01\n"
     ]
    },
    {
     "data": {
      "text/plain": [
       "  0%|          | 0/1000 [00:00<?, ?it/s]"
      ],
      "application/vnd.jupyter.widget-view+json": {
       "version_major": 2,
       "version_minor": 0,
       "model_id": "835a644213734eb39c86dfecbb720e86"
      }
     },
     "metadata": {},
     "output_type": "display_data"
    },
    {
     "name": "stderr",
     "output_type": "stream",
     "text": [
      "Epoch 44: 5.4s to complete\n",
      "    error(train)=2.40e-01, acc(train)=9.13e-01, error(valid)=6.16e-01, acc(valid)=8.24e-01\n"
     ]
    },
    {
     "data": {
      "text/plain": [
       "  0%|          | 0/1000 [00:00<?, ?it/s]"
      ],
      "application/vnd.jupyter.widget-view+json": {
       "version_major": 2,
       "version_minor": 0,
       "model_id": "52b2f23d6f214237a4ab7ddb69f68d09"
      }
     },
     "metadata": {},
     "output_type": "display_data"
    },
    {
     "name": "stderr",
     "output_type": "stream",
     "text": [
      "Epoch 45: 7.3s to complete\n",
      "    error(train)=2.33e-01, acc(train)=9.15e-01, error(valid)=6.21e-01, acc(valid)=8.26e-01\n"
     ]
    },
    {
     "data": {
      "text/plain": [
       "  0%|          | 0/1000 [00:00<?, ?it/s]"
      ],
      "application/vnd.jupyter.widget-view+json": {
       "version_major": 2,
       "version_minor": 0,
       "model_id": "bf6f8011c2bd457bba6e60086c56ae8a"
      }
     },
     "metadata": {},
     "output_type": "display_data"
    },
    {
     "name": "stderr",
     "output_type": "stream",
     "text": [
      "Epoch 46: 6.6s to complete\n",
      "    error(train)=2.42e-01, acc(train)=9.11e-01, error(valid)=6.35e-01, acc(valid)=8.20e-01\n"
     ]
    },
    {
     "data": {
      "text/plain": [
       "  0%|          | 0/1000 [00:00<?, ?it/s]"
      ],
      "application/vnd.jupyter.widget-view+json": {
       "version_major": 2,
       "version_minor": 0,
       "model_id": "cac7ed9a19194c6eba30f3f293c73d0f"
      }
     },
     "metadata": {},
     "output_type": "display_data"
    },
    {
     "name": "stderr",
     "output_type": "stream",
     "text": [
      "Epoch 47: 5.4s to complete\n",
      "    error(train)=2.49e-01, acc(train)=9.06e-01, error(valid)=6.42e-01, acc(valid)=8.21e-01\n"
     ]
    },
    {
     "data": {
      "text/plain": [
       "  0%|          | 0/1000 [00:00<?, ?it/s]"
      ],
      "application/vnd.jupyter.widget-view+json": {
       "version_major": 2,
       "version_minor": 0,
       "model_id": "1333371a11d74f8ba36091f3e88b985e"
      }
     },
     "metadata": {},
     "output_type": "display_data"
    },
    {
     "name": "stderr",
     "output_type": "stream",
     "text": [
      "Epoch 48: 6.3s to complete\n",
      "    error(train)=2.35e-01, acc(train)=9.13e-01, error(valid)=6.42e-01, acc(valid)=8.19e-01\n"
     ]
    },
    {
     "data": {
      "text/plain": [
       "  0%|          | 0/1000 [00:00<?, ?it/s]"
      ],
      "application/vnd.jupyter.widget-view+json": {
       "version_major": 2,
       "version_minor": 0,
       "model_id": "ebddb7859ab24e44ac913f0d4c3322ea"
      }
     },
     "metadata": {},
     "output_type": "display_data"
    },
    {
     "name": "stderr",
     "output_type": "stream",
     "text": [
      "Epoch 49: 5.4s to complete\n",
      "    error(train)=2.35e-01, acc(train)=9.14e-01, error(valid)=6.52e-01, acc(valid)=8.23e-01\n"
     ]
    },
    {
     "data": {
      "text/plain": [
       "  0%|          | 0/1000 [00:00<?, ?it/s]"
      ],
      "application/vnd.jupyter.widget-view+json": {
       "version_major": 2,
       "version_minor": 0,
       "model_id": "cf47e3cedd514fa082de735548e8d806"
      }
     },
     "metadata": {},
     "output_type": "display_data"
    },
    {
     "name": "stderr",
     "output_type": "stream",
     "text": [
      "Epoch 50: 5.8s to complete\n",
      "    error(train)=2.30e-01, acc(train)=9.14e-01, error(valid)=6.45e-01, acc(valid)=8.22e-01\n"
     ]
    },
    {
     "data": {
      "text/plain": [
       "  0%|          | 0/1000 [00:00<?, ?it/s]"
      ],
      "application/vnd.jupyter.widget-view+json": {
       "version_major": 2,
       "version_minor": 0,
       "model_id": "4a8f6e142d0c4c899fe4cab5fba8b8e3"
      }
     },
     "metadata": {},
     "output_type": "display_data"
    },
    {
     "name": "stderr",
     "output_type": "stream",
     "text": [
      "Epoch 51: 5.5s to complete\n",
      "    error(train)=2.31e-01, acc(train)=9.15e-01, error(valid)=6.61e-01, acc(valid)=8.17e-01\n"
     ]
    },
    {
     "data": {
      "text/plain": [
       "  0%|          | 0/1000 [00:00<?, ?it/s]"
      ],
      "application/vnd.jupyter.widget-view+json": {
       "version_major": 2,
       "version_minor": 0,
       "model_id": "fcc054db156e4043a91f551dd62dbb6c"
      }
     },
     "metadata": {},
     "output_type": "display_data"
    },
    {
     "name": "stderr",
     "output_type": "stream",
     "text": [
      "Epoch 52: 6.7s to complete\n",
      "    error(train)=2.26e-01, acc(train)=9.16e-01, error(valid)=6.60e-01, acc(valid)=8.22e-01\n"
     ]
    },
    {
     "data": {
      "text/plain": [
       "  0%|          | 0/1000 [00:00<?, ?it/s]"
      ],
      "application/vnd.jupyter.widget-view+json": {
       "version_major": 2,
       "version_minor": 0,
       "model_id": "1d9d38fdf6714bd79a2c28792fedc46a"
      }
     },
     "metadata": {},
     "output_type": "display_data"
    },
    {
     "name": "stderr",
     "output_type": "stream",
     "text": [
      "Epoch 53: 6.6s to complete\n",
      "    error(train)=2.26e-01, acc(train)=9.16e-01, error(valid)=6.64e-01, acc(valid)=8.21e-01\n"
     ]
    },
    {
     "data": {
      "text/plain": [
       "  0%|          | 0/1000 [00:00<?, ?it/s]"
      ],
      "application/vnd.jupyter.widget-view+json": {
       "version_major": 2,
       "version_minor": 0,
       "model_id": "e0026449c4db4307a09b7074420f323e"
      }
     },
     "metadata": {},
     "output_type": "display_data"
    },
    {
     "name": "stderr",
     "output_type": "stream",
     "text": [
      "Epoch 54: 7.8s to complete\n",
      "    error(train)=2.20e-01, acc(train)=9.19e-01, error(valid)=6.61e-01, acc(valid)=8.23e-01\n"
     ]
    },
    {
     "data": {
      "text/plain": [
       "  0%|          | 0/1000 [00:00<?, ?it/s]"
      ],
      "application/vnd.jupyter.widget-view+json": {
       "version_major": 2,
       "version_minor": 0,
       "model_id": "0663f7d2585b4b2b9faf031a6ae9cd4f"
      }
     },
     "metadata": {},
     "output_type": "display_data"
    },
    {
     "name": "stderr",
     "output_type": "stream",
     "text": [
      "Epoch 55: 6.1s to complete\n",
      "    error(train)=2.31e-01, acc(train)=9.15e-01, error(valid)=6.88e-01, acc(valid)=8.19e-01\n"
     ]
    },
    {
     "data": {
      "text/plain": [
       "  0%|          | 0/1000 [00:00<?, ?it/s]"
      ],
      "application/vnd.jupyter.widget-view+json": {
       "version_major": 2,
       "version_minor": 0,
       "model_id": "e740dbe1ad2640b59b9c954fc43ee229"
      }
     },
     "metadata": {},
     "output_type": "display_data"
    },
    {
     "name": "stderr",
     "output_type": "stream",
     "text": [
      "Epoch 56: 5.5s to complete\n",
      "    error(train)=2.23e-01, acc(train)=9.18e-01, error(valid)=6.79e-01, acc(valid)=8.22e-01\n"
     ]
    },
    {
     "data": {
      "text/plain": [
       "  0%|          | 0/1000 [00:00<?, ?it/s]"
      ],
      "application/vnd.jupyter.widget-view+json": {
       "version_major": 2,
       "version_minor": 0,
       "model_id": "54f3d69d78ba4228bb370f7d6db66b3c"
      }
     },
     "metadata": {},
     "output_type": "display_data"
    },
    {
     "name": "stderr",
     "output_type": "stream",
     "text": [
      "Epoch 57: 5.4s to complete\n",
      "    error(train)=2.10e-01, acc(train)=9.23e-01, error(valid)=6.85e-01, acc(valid)=8.20e-01\n"
     ]
    },
    {
     "data": {
      "text/plain": [
       "  0%|          | 0/1000 [00:00<?, ?it/s]"
      ],
      "application/vnd.jupyter.widget-view+json": {
       "version_major": 2,
       "version_minor": 0,
       "model_id": "86186942394b486faea4d358ebc0fd59"
      }
     },
     "metadata": {},
     "output_type": "display_data"
    },
    {
     "name": "stderr",
     "output_type": "stream",
     "text": [
      "Epoch 58: 5.6s to complete\n",
      "    error(train)=2.16e-01, acc(train)=9.19e-01, error(valid)=6.94e-01, acc(valid)=8.20e-01\n"
     ]
    },
    {
     "data": {
      "text/plain": [
       "  0%|          | 0/1000 [00:00<?, ?it/s]"
      ],
      "application/vnd.jupyter.widget-view+json": {
       "version_major": 2,
       "version_minor": 0,
       "model_id": "64c673392dd44fde81292d817f1b37d7"
      }
     },
     "metadata": {},
     "output_type": "display_data"
    },
    {
     "name": "stderr",
     "output_type": "stream",
     "text": [
      "Epoch 59: 5.5s to complete\n",
      "    error(train)=2.16e-01, acc(train)=9.19e-01, error(valid)=7.03e-01, acc(valid)=8.16e-01\n"
     ]
    },
    {
     "data": {
      "text/plain": [
       "  0%|          | 0/1000 [00:00<?, ?it/s]"
      ],
      "application/vnd.jupyter.widget-view+json": {
       "version_major": 2,
       "version_minor": 0,
       "model_id": "4b021022d72246d5a3bc3236e557244a"
      }
     },
     "metadata": {},
     "output_type": "display_data"
    },
    {
     "name": "stderr",
     "output_type": "stream",
     "text": [
      "Epoch 60: 5.3s to complete\n",
      "    error(train)=2.10e-01, acc(train)=9.21e-01, error(valid)=7.05e-01, acc(valid)=8.18e-01\n"
     ]
    },
    {
     "data": {
      "text/plain": [
       "  0%|          | 0/1000 [00:00<?, ?it/s]"
      ],
      "application/vnd.jupyter.widget-view+json": {
       "version_major": 2,
       "version_minor": 0,
       "model_id": "ee29dd9313444b9cb93b1dd35f360abe"
      }
     },
     "metadata": {},
     "output_type": "display_data"
    },
    {
     "name": "stderr",
     "output_type": "stream",
     "text": [
      "Epoch 61: 5.7s to complete\n",
      "    error(train)=2.07e-01, acc(train)=9.23e-01, error(valid)=7.01e-01, acc(valid)=8.21e-01\n"
     ]
    },
    {
     "data": {
      "text/plain": [
       "  0%|          | 0/1000 [00:00<?, ?it/s]"
      ],
      "application/vnd.jupyter.widget-view+json": {
       "version_major": 2,
       "version_minor": 0,
       "model_id": "a513165b222b4e1dbacfc855bd06dc0b"
      }
     },
     "metadata": {},
     "output_type": "display_data"
    },
    {
     "name": "stderr",
     "output_type": "stream",
     "text": [
      "Epoch 62: 5.7s to complete\n",
      "    error(train)=2.03e-01, acc(train)=9.24e-01, error(valid)=7.02e-01, acc(valid)=8.18e-01\n"
     ]
    },
    {
     "data": {
      "text/plain": [
       "  0%|          | 0/1000 [00:00<?, ?it/s]"
      ],
      "application/vnd.jupyter.widget-view+json": {
       "version_major": 2,
       "version_minor": 0,
       "model_id": "4c115126455b480993dcc7e32b1007a6"
      }
     },
     "metadata": {},
     "output_type": "display_data"
    },
    {
     "name": "stderr",
     "output_type": "stream",
     "text": [
      "Epoch 63: 5.7s to complete\n",
      "    error(train)=2.09e-01, acc(train)=9.22e-01, error(valid)=7.26e-01, acc(valid)=8.17e-01\n"
     ]
    },
    {
     "data": {
      "text/plain": [
       "  0%|          | 0/1000 [00:00<?, ?it/s]"
      ],
      "application/vnd.jupyter.widget-view+json": {
       "version_major": 2,
       "version_minor": 0,
       "model_id": "abf62bf906f94de1acc42eb1ae7c1247"
      }
     },
     "metadata": {},
     "output_type": "display_data"
    },
    {
     "name": "stderr",
     "output_type": "stream",
     "text": [
      "Epoch 64: 5.8s to complete\n",
      "    error(train)=2.00e-01, acc(train)=9.25e-01, error(valid)=7.18e-01, acc(valid)=8.21e-01\n"
     ]
    },
    {
     "data": {
      "text/plain": [
       "  0%|          | 0/1000 [00:00<?, ?it/s]"
      ],
      "application/vnd.jupyter.widget-view+json": {
       "version_major": 2,
       "version_minor": 0,
       "model_id": "4d215b2f8bc04f56a2f916a5b8ca1c19"
      }
     },
     "metadata": {},
     "output_type": "display_data"
    },
    {
     "name": "stderr",
     "output_type": "stream",
     "text": [
      "Epoch 65: 5.5s to complete\n",
      "    error(train)=1.99e-01, acc(train)=9.26e-01, error(valid)=7.21e-01, acc(valid)=8.18e-01\n"
     ]
    },
    {
     "data": {
      "text/plain": [
       "  0%|          | 0/1000 [00:00<?, ?it/s]"
      ],
      "application/vnd.jupyter.widget-view+json": {
       "version_major": 2,
       "version_minor": 0,
       "model_id": "91755f0681f74d4a90ea3d98c5ce48c3"
      }
     },
     "metadata": {},
     "output_type": "display_data"
    },
    {
     "name": "stderr",
     "output_type": "stream",
     "text": [
      "Epoch 66: 5.5s to complete\n",
      "    error(train)=2.04e-01, acc(train)=9.24e-01, error(valid)=7.38e-01, acc(valid)=8.16e-01\n"
     ]
    },
    {
     "data": {
      "text/plain": [
       "  0%|          | 0/1000 [00:00<?, ?it/s]"
      ],
      "application/vnd.jupyter.widget-view+json": {
       "version_major": 2,
       "version_minor": 0,
       "model_id": "aaa9fc70fdee4a0c98bfa3b43fe36879"
      }
     },
     "metadata": {},
     "output_type": "display_data"
    },
    {
     "name": "stderr",
     "output_type": "stream",
     "text": [
      "Epoch 67: 5.3s to complete\n",
      "    error(train)=1.99e-01, acc(train)=9.24e-01, error(valid)=7.45e-01, acc(valid)=8.17e-01\n"
     ]
    },
    {
     "data": {
      "text/plain": [
       "  0%|          | 0/1000 [00:00<?, ?it/s]"
      ],
      "application/vnd.jupyter.widget-view+json": {
       "version_major": 2,
       "version_minor": 0,
       "model_id": "78e9d22bb08d45239190c8439ad04638"
      }
     },
     "metadata": {},
     "output_type": "display_data"
    },
    {
     "name": "stderr",
     "output_type": "stream",
     "text": [
      "Epoch 68: 5.2s to complete\n",
      "    error(train)=1.98e-01, acc(train)=9.25e-01, error(valid)=7.43e-01, acc(valid)=8.18e-01\n"
     ]
    },
    {
     "data": {
      "text/plain": [
       "  0%|          | 0/1000 [00:00<?, ?it/s]"
      ],
      "application/vnd.jupyter.widget-view+json": {
       "version_major": 2,
       "version_minor": 0,
       "model_id": "7294b0df0a5d4da783c36f7aef848217"
      }
     },
     "metadata": {},
     "output_type": "display_data"
    },
    {
     "name": "stderr",
     "output_type": "stream",
     "text": [
      "Epoch 69: 5.4s to complete\n",
      "    error(train)=1.96e-01, acc(train)=9.26e-01, error(valid)=7.46e-01, acc(valid)=8.18e-01\n"
     ]
    },
    {
     "data": {
      "text/plain": [
       "  0%|          | 0/1000 [00:00<?, ?it/s]"
      ],
      "application/vnd.jupyter.widget-view+json": {
       "version_major": 2,
       "version_minor": 0,
       "model_id": "e02ef754c6b4461885da3ca95977cf7f"
      }
     },
     "metadata": {},
     "output_type": "display_data"
    },
    {
     "name": "stderr",
     "output_type": "stream",
     "text": [
      "Epoch 70: 5.8s to complete\n",
      "    error(train)=2.01e-01, acc(train)=9.23e-01, error(valid)=7.54e-01, acc(valid)=8.13e-01\n"
     ]
    },
    {
     "data": {
      "text/plain": [
       "  0%|          | 0/1000 [00:00<?, ?it/s]"
      ],
      "application/vnd.jupyter.widget-view+json": {
       "version_major": 2,
       "version_minor": 0,
       "model_id": "10a8ffd4a91244a69f9f38d9723d84ca"
      }
     },
     "metadata": {},
     "output_type": "display_data"
    },
    {
     "name": "stderr",
     "output_type": "stream",
     "text": [
      "Epoch 71: 5.4s to complete\n",
      "    error(train)=1.95e-01, acc(train)=9.25e-01, error(valid)=7.62e-01, acc(valid)=8.13e-01\n"
     ]
    },
    {
     "data": {
      "text/plain": [
       "  0%|          | 0/1000 [00:00<?, ?it/s]"
      ],
      "application/vnd.jupyter.widget-view+json": {
       "version_major": 2,
       "version_minor": 0,
       "model_id": "3e86ff48b4e4458d9b9aa44e7cf68953"
      }
     },
     "metadata": {},
     "output_type": "display_data"
    },
    {
     "name": "stderr",
     "output_type": "stream",
     "text": [
      "Epoch 72: 5.5s to complete\n",
      "    error(train)=2.00e-01, acc(train)=9.24e-01, error(valid)=7.80e-01, acc(valid)=8.15e-01\n"
     ]
    },
    {
     "data": {
      "text/plain": [
       "  0%|          | 0/1000 [00:00<?, ?it/s]"
      ],
      "application/vnd.jupyter.widget-view+json": {
       "version_major": 2,
       "version_minor": 0,
       "model_id": "050152671beb4eb89bbdb98d8d58c595"
      }
     },
     "metadata": {},
     "output_type": "display_data"
    },
    {
     "name": "stderr",
     "output_type": "stream",
     "text": [
      "Epoch 73: 6.5s to complete\n",
      "    error(train)=1.98e-01, acc(train)=9.25e-01, error(valid)=7.75e-01, acc(valid)=8.18e-01\n"
     ]
    },
    {
     "data": {
      "text/plain": [
       "  0%|          | 0/1000 [00:00<?, ?it/s]"
      ],
      "application/vnd.jupyter.widget-view+json": {
       "version_major": 2,
       "version_minor": 0,
       "model_id": "7a8ba7b261d540a8b124d1f184d06d45"
      }
     },
     "metadata": {},
     "output_type": "display_data"
    },
    {
     "name": "stderr",
     "output_type": "stream",
     "text": [
      "Epoch 74: 10.2s to complete\n",
      "    error(train)=1.90e-01, acc(train)=9.29e-01, error(valid)=7.78e-01, acc(valid)=8.13e-01\n"
     ]
    },
    {
     "data": {
      "text/plain": [
       "  0%|          | 0/1000 [00:00<?, ?it/s]"
      ],
      "application/vnd.jupyter.widget-view+json": {
       "version_major": 2,
       "version_minor": 0,
       "model_id": "19265af5401a4e4b96cb8f5955dd097f"
      }
     },
     "metadata": {},
     "output_type": "display_data"
    },
    {
     "name": "stderr",
     "output_type": "stream",
     "text": [
      "Epoch 75: 5.7s to complete\n",
      "    error(train)=1.86e-01, acc(train)=9.30e-01, error(valid)=7.80e-01, acc(valid)=8.17e-01\n"
     ]
    },
    {
     "data": {
      "text/plain": [
       "  0%|          | 0/1000 [00:00<?, ?it/s]"
      ],
      "application/vnd.jupyter.widget-view+json": {
       "version_major": 2,
       "version_minor": 0,
       "model_id": "8f7d89844eef4a309f0c5052c706b466"
      }
     },
     "metadata": {},
     "output_type": "display_data"
    },
    {
     "name": "stderr",
     "output_type": "stream",
     "text": [
      "Epoch 76: 8.1s to complete\n",
      "    error(train)=1.81e-01, acc(train)=9.32e-01, error(valid)=7.78e-01, acc(valid)=8.20e-01\n"
     ]
    },
    {
     "data": {
      "text/plain": [
       "  0%|          | 0/1000 [00:00<?, ?it/s]"
      ],
      "application/vnd.jupyter.widget-view+json": {
       "version_major": 2,
       "version_minor": 0,
       "model_id": "9f5dd437bd3246358d4d06efd0399c90"
      }
     },
     "metadata": {},
     "output_type": "display_data"
    },
    {
     "name": "stderr",
     "output_type": "stream",
     "text": [
      "Epoch 77: 8.5s to complete\n",
      "    error(train)=1.89e-01, acc(train)=9.28e-01, error(valid)=7.94e-01, acc(valid)=8.14e-01\n"
     ]
    },
    {
     "data": {
      "text/plain": [
       "  0%|          | 0/1000 [00:00<?, ?it/s]"
      ],
      "application/vnd.jupyter.widget-view+json": {
       "version_major": 2,
       "version_minor": 0,
       "model_id": "ffd33e5953ce4f049d4f8dfa47280585"
      }
     },
     "metadata": {},
     "output_type": "display_data"
    },
    {
     "name": "stderr",
     "output_type": "stream",
     "text": [
      "Epoch 78: 10.5s to complete\n",
      "    error(train)=1.81e-01, acc(train)=9.32e-01, error(valid)=7.97e-01, acc(valid)=8.17e-01\n"
     ]
    },
    {
     "data": {
      "text/plain": [
       "  0%|          | 0/1000 [00:00<?, ?it/s]"
      ],
      "application/vnd.jupyter.widget-view+json": {
       "version_major": 2,
       "version_minor": 0,
       "model_id": "d1cc43c3e4024769878dbbf0f3474936"
      }
     },
     "metadata": {},
     "output_type": "display_data"
    },
    {
     "name": "stderr",
     "output_type": "stream",
     "text": [
      "Epoch 79: 6.5s to complete\n",
      "    error(train)=1.83e-01, acc(train)=9.30e-01, error(valid)=8.07e-01, acc(valid)=8.14e-01\n"
     ]
    },
    {
     "data": {
      "text/plain": [
       "  0%|          | 0/1000 [00:00<?, ?it/s]"
      ],
      "application/vnd.jupyter.widget-view+json": {
       "version_major": 2,
       "version_minor": 0,
       "model_id": "50bd93f12e414a3695f0327f47ea5cc8"
      }
     },
     "metadata": {},
     "output_type": "display_data"
    },
    {
     "name": "stderr",
     "output_type": "stream",
     "text": [
      "Epoch 80: 5.7s to complete\n",
      "    error(train)=1.76e-01, acc(train)=9.34e-01, error(valid)=8.13e-01, acc(valid)=8.17e-01\n"
     ]
    },
    {
     "data": {
      "text/plain": [
       "  0%|          | 0/1000 [00:00<?, ?it/s]"
      ],
      "application/vnd.jupyter.widget-view+json": {
       "version_major": 2,
       "version_minor": 0,
       "model_id": "2cf31e98b04548798cf92959e93a8433"
      }
     },
     "metadata": {},
     "output_type": "display_data"
    },
    {
     "name": "stderr",
     "output_type": "stream",
     "text": [
      "Epoch 81: 6.4s to complete\n",
      "    error(train)=1.85e-01, acc(train)=9.28e-01, error(valid)=8.22e-01, acc(valid)=8.12e-01\n"
     ]
    },
    {
     "data": {
      "text/plain": [
       "  0%|          | 0/1000 [00:00<?, ?it/s]"
      ],
      "application/vnd.jupyter.widget-view+json": {
       "version_major": 2,
       "version_minor": 0,
       "model_id": "3dc3d468b5954a499367bfc17c8fb030"
      }
     },
     "metadata": {},
     "output_type": "display_data"
    },
    {
     "name": "stderr",
     "output_type": "stream",
     "text": [
      "Epoch 82: 6.2s to complete\n",
      "    error(train)=1.83e-01, acc(train)=9.30e-01, error(valid)=8.26e-01, acc(valid)=8.12e-01\n"
     ]
    },
    {
     "data": {
      "text/plain": [
       "  0%|          | 0/1000 [00:00<?, ?it/s]"
      ],
      "application/vnd.jupyter.widget-view+json": {
       "version_major": 2,
       "version_minor": 0,
       "model_id": "00a5c9b9047c4ce89a0f2c8d00bb8e82"
      }
     },
     "metadata": {},
     "output_type": "display_data"
    },
    {
     "name": "stderr",
     "output_type": "stream",
     "text": [
      "Epoch 83: 6.2s to complete\n",
      "    error(train)=1.75e-01, acc(train)=9.34e-01, error(valid)=8.30e-01, acc(valid)=8.14e-01\n"
     ]
    },
    {
     "data": {
      "text/plain": [
       "  0%|          | 0/1000 [00:00<?, ?it/s]"
      ],
      "application/vnd.jupyter.widget-view+json": {
       "version_major": 2,
       "version_minor": 0,
       "model_id": "7254bd9b966c4e56881dfe5ce3e31eac"
      }
     },
     "metadata": {},
     "output_type": "display_data"
    },
    {
     "name": "stderr",
     "output_type": "stream",
     "text": [
      "Epoch 84: 6.6s to complete\n",
      "    error(train)=1.81e-01, acc(train)=9.31e-01, error(valid)=8.41e-01, acc(valid)=8.15e-01\n"
     ]
    },
    {
     "data": {
      "text/plain": [
       "  0%|          | 0/1000 [00:00<?, ?it/s]"
      ],
      "application/vnd.jupyter.widget-view+json": {
       "version_major": 2,
       "version_minor": 0,
       "model_id": "26a896e771ae455492d379a1681034aa"
      }
     },
     "metadata": {},
     "output_type": "display_data"
    },
    {
     "name": "stderr",
     "output_type": "stream",
     "text": [
      "Epoch 85: 6.6s to complete\n",
      "    error(train)=1.70e-01, acc(train)=9.36e-01, error(valid)=8.33e-01, acc(valid)=8.13e-01\n"
     ]
    },
    {
     "data": {
      "text/plain": [
       "  0%|          | 0/1000 [00:00<?, ?it/s]"
      ],
      "application/vnd.jupyter.widget-view+json": {
       "version_major": 2,
       "version_minor": 0,
       "model_id": "cb15864792c145d7bc7c14b7cae90631"
      }
     },
     "metadata": {},
     "output_type": "display_data"
    },
    {
     "name": "stderr",
     "output_type": "stream",
     "text": [
      "Epoch 86: 5.6s to complete\n",
      "    error(train)=1.72e-01, acc(train)=9.36e-01, error(valid)=8.42e-01, acc(valid)=8.13e-01\n"
     ]
    },
    {
     "data": {
      "text/plain": [
       "  0%|          | 0/1000 [00:00<?, ?it/s]"
      ],
      "application/vnd.jupyter.widget-view+json": {
       "version_major": 2,
       "version_minor": 0,
       "model_id": "3e75e84924ad4866a79bf2be86c0606d"
      }
     },
     "metadata": {},
     "output_type": "display_data"
    },
    {
     "name": "stderr",
     "output_type": "stream",
     "text": [
      "Epoch 87: 5.6s to complete\n",
      "    error(train)=1.80e-01, acc(train)=9.31e-01, error(valid)=8.61e-01, acc(valid)=8.15e-01\n"
     ]
    },
    {
     "data": {
      "text/plain": [
       "  0%|          | 0/1000 [00:00<?, ?it/s]"
      ],
      "application/vnd.jupyter.widget-view+json": {
       "version_major": 2,
       "version_minor": 0,
       "model_id": "4ca668c261084ab1ad8adca2bee3f538"
      }
     },
     "metadata": {},
     "output_type": "display_data"
    },
    {
     "name": "stderr",
     "output_type": "stream",
     "text": [
      "Epoch 88: 5.4s to complete\n",
      "    error(train)=1.74e-01, acc(train)=9.33e-01, error(valid)=8.63e-01, acc(valid)=8.14e-01\n"
     ]
    },
    {
     "data": {
      "text/plain": [
       "  0%|          | 0/1000 [00:00<?, ?it/s]"
      ],
      "application/vnd.jupyter.widget-view+json": {
       "version_major": 2,
       "version_minor": 0,
       "model_id": "99aa7d8019cf46549f03a8fb186f3b60"
      }
     },
     "metadata": {},
     "output_type": "display_data"
    },
    {
     "name": "stderr",
     "output_type": "stream",
     "text": [
      "Epoch 89: 11.4s to complete\n",
      "    error(train)=1.79e-01, acc(train)=9.31e-01, error(valid)=8.70e-01, acc(valid)=8.13e-01\n"
     ]
    },
    {
     "data": {
      "text/plain": [
       "  0%|          | 0/1000 [00:00<?, ?it/s]"
      ],
      "application/vnd.jupyter.widget-view+json": {
       "version_major": 2,
       "version_minor": 0,
       "model_id": "022c5de37106427ea961e808e0346feb"
      }
     },
     "metadata": {},
     "output_type": "display_data"
    },
    {
     "name": "stderr",
     "output_type": "stream",
     "text": [
      "Epoch 90: 7.0s to complete\n",
      "    error(train)=1.72e-01, acc(train)=9.33e-01, error(valid)=8.74e-01, acc(valid)=8.11e-01\n"
     ]
    },
    {
     "data": {
      "text/plain": [
       "  0%|          | 0/1000 [00:00<?, ?it/s]"
      ],
      "application/vnd.jupyter.widget-view+json": {
       "version_major": 2,
       "version_minor": 0,
       "model_id": "d4d9b76c365945b3a4641e9ec9f897e5"
      }
     },
     "metadata": {},
     "output_type": "display_data"
    },
    {
     "name": "stderr",
     "output_type": "stream",
     "text": [
      "Epoch 91: 6.6s to complete\n",
      "    error(train)=1.76e-01, acc(train)=9.31e-01, error(valid)=8.79e-01, acc(valid)=8.11e-01\n"
     ]
    },
    {
     "data": {
      "text/plain": [
       "  0%|          | 0/1000 [00:00<?, ?it/s]"
      ],
      "application/vnd.jupyter.widget-view+json": {
       "version_major": 2,
       "version_minor": 0,
       "model_id": "4f1ddc7c947b4b6db410895dc32b602a"
      }
     },
     "metadata": {},
     "output_type": "display_data"
    },
    {
     "name": "stderr",
     "output_type": "stream",
     "text": [
      "Epoch 92: 6.7s to complete\n",
      "    error(train)=1.78e-01, acc(train)=9.31e-01, error(valid)=8.98e-01, acc(valid)=8.06e-01\n"
     ]
    },
    {
     "data": {
      "text/plain": [
       "  0%|          | 0/1000 [00:00<?, ?it/s]"
      ],
      "application/vnd.jupyter.widget-view+json": {
       "version_major": 2,
       "version_minor": 0,
       "model_id": "4fcbccca3edb45c0b5e30f47cd36f31b"
      }
     },
     "metadata": {},
     "output_type": "display_data"
    },
    {
     "name": "stderr",
     "output_type": "stream",
     "text": [
      "Epoch 93: 6.6s to complete\n",
      "    error(train)=1.73e-01, acc(train)=9.32e-01, error(valid)=8.97e-01, acc(valid)=8.06e-01\n"
     ]
    },
    {
     "data": {
      "text/plain": [
       "  0%|          | 0/1000 [00:00<?, ?it/s]"
      ],
      "application/vnd.jupyter.widget-view+json": {
       "version_major": 2,
       "version_minor": 0,
       "model_id": "0b8edf56ccef48cfb1776c616e859089"
      }
     },
     "metadata": {},
     "output_type": "display_data"
    },
    {
     "name": "stderr",
     "output_type": "stream",
     "text": [
      "Epoch 94: 8.6s to complete\n",
      "    error(train)=1.67e-01, acc(train)=9.35e-01, error(valid)=8.98e-01, acc(valid)=8.07e-01\n"
     ]
    },
    {
     "data": {
      "text/plain": [
       "  0%|          | 0/1000 [00:00<?, ?it/s]"
      ],
      "application/vnd.jupyter.widget-view+json": {
       "version_major": 2,
       "version_minor": 0,
       "model_id": "1d63e769773c42cda27c5b887a509945"
      }
     },
     "metadata": {},
     "output_type": "display_data"
    },
    {
     "name": "stderr",
     "output_type": "stream",
     "text": [
      "Epoch 95: 9.0s to complete\n",
      "    error(train)=1.67e-01, acc(train)=9.36e-01, error(valid)=9.01e-01, acc(valid)=8.13e-01\n"
     ]
    },
    {
     "data": {
      "text/plain": [
       "  0%|          | 0/1000 [00:00<?, ?it/s]"
      ],
      "application/vnd.jupyter.widget-view+json": {
       "version_major": 2,
       "version_minor": 0,
       "model_id": "bf826f1c48414c7ea55374f1a3d4f73b"
      }
     },
     "metadata": {},
     "output_type": "display_data"
    },
    {
     "name": "stderr",
     "output_type": "stream",
     "text": [
      "Epoch 96: 7.0s to complete\n",
      "    error(train)=1.63e-01, acc(train)=9.38e-01, error(valid)=9.05e-01, acc(valid)=8.11e-01\n"
     ]
    },
    {
     "data": {
      "text/plain": [
       "  0%|          | 0/1000 [00:00<?, ?it/s]"
      ],
      "application/vnd.jupyter.widget-view+json": {
       "version_major": 2,
       "version_minor": 0,
       "model_id": "1a37d32ed8dc418cac4eb2e8ab7a734c"
      }
     },
     "metadata": {},
     "output_type": "display_data"
    },
    {
     "name": "stderr",
     "output_type": "stream",
     "text": [
      "Epoch 97: 5.8s to complete\n",
      "    error(train)=1.61e-01, acc(train)=9.38e-01, error(valid)=9.10e-01, acc(valid)=8.12e-01\n"
     ]
    },
    {
     "data": {
      "text/plain": [
       "  0%|          | 0/1000 [00:00<?, ?it/s]"
      ],
      "application/vnd.jupyter.widget-view+json": {
       "version_major": 2,
       "version_minor": 0,
       "model_id": "9d6b2e4fbf5344008deacf96a90b2292"
      }
     },
     "metadata": {},
     "output_type": "display_data"
    },
    {
     "name": "stderr",
     "output_type": "stream",
     "text": [
      "Epoch 98: 5.8s to complete\n",
      "    error(train)=1.71e-01, acc(train)=9.33e-01, error(valid)=9.25e-01, acc(valid)=8.08e-01\n"
     ]
    },
    {
     "data": {
      "text/plain": [
       "  0%|          | 0/1000 [00:00<?, ?it/s]"
      ],
      "application/vnd.jupyter.widget-view+json": {
       "version_major": 2,
       "version_minor": 0,
       "model_id": "19e8361153644ecfa431f107fb082a97"
      }
     },
     "metadata": {},
     "output_type": "display_data"
    },
    {
     "name": "stderr",
     "output_type": "stream",
     "text": [
      "Epoch 99: 6.0s to complete\n",
      "    error(train)=1.62e-01, acc(train)=9.38e-01, error(valid)=9.26e-01, acc(valid)=8.10e-01\n"
     ]
    },
    {
     "data": {
      "text/plain": [
       "  0%|          | 0/1000 [00:00<?, ?it/s]"
      ],
      "application/vnd.jupyter.widget-view+json": {
       "version_major": 2,
       "version_minor": 0,
       "model_id": "5324af2d084b414b927429b040667b1e"
      }
     },
     "metadata": {},
     "output_type": "display_data"
    },
    {
     "name": "stderr",
     "output_type": "stream",
     "text": [
      "Epoch 100: 5.9s to complete\n",
      "    error(train)=1.64e-01, acc(train)=9.37e-01, error(valid)=9.32e-01, acc(valid)=8.08e-01\n"
     ]
    },
    {
     "name": "stdout",
     "output_type": "stream",
     "text": [
      "    final error(train) = 1.64e-01\n",
      "    final error(valid) = 9.32e-01\n",
      "    final acc(train)   = 9.37e-01\n",
      "    final acc(valid)   = 8.08e-01\n",
      "    run time per epoch = 7.49\n"
     ]
    }
   ],
   "execution_count": 27
  },
  {
   "metadata": {
    "ExecuteTime": {
     "end_time": "2024-10-24T10:17:10.732142Z",
     "start_time": "2024-10-24T10:17:10.366464Z"
    }
   },
   "cell_type": "code",
   "source": [
    "import matplotlib.pyplot as plt\n",
    "import numpy as np\n",
    "\n",
    "def plot_training_stats(stats_list, keys_list, hidden_dims, stats_interval):\n",
    "    # 创建第一个图，用于绘制 Error（误差）\n",
    "    fig_1 = plt.figure(figsize=(8, 4))\n",
    "    ax_1 = fig_1.add_subplot(111)\n",
    "    \n",
    "    # 创建第二个图，用于绘制 Accuracy（准确率）\n",
    "    fig_2 = plt.figure(figsize=(8, 4))\n",
    "    ax_2 = fig_2.add_subplot(111)\n",
    "\n",
    "    # 存储每个绘制的线条和标签，用于手动调整图例顺序\n",
    "    lines_1 = []\n",
    "    labels_1 = []\n",
    "    lines_2 = []\n",
    "    labels_2 = []\n",
    "\n",
    "    # 对每个模型（不同隐藏层宽度）循环\n",
    "    for i in range(len(stats_list)):\n",
    "        stats = stats_list[i]\n",
    "        keys = keys_list[i]\n",
    "        hidden_dim = hidden_dims[i]\n",
    "        \n",
    "        # 绘制训练集和验证集的 Error（误差）\n",
    "        for k in ['error(train)', 'error(valid)']:\n",
    "            if k == 'error(train)':\n",
    "                label = f'width {hidden_dim}(train)'\n",
    "                style = '-'  # 实线\n",
    "            else:\n",
    "                label = f'width {hidden_dim}(valid)'\n",
    "                style = '--'  # 虚线\n",
    "            \n",
    "            line, = ax_1.plot(np.arange(1, stats.shape[0]) * stats_interval, \n",
    "                              stats[1:, keys[k]], label=label, linestyle=style)\n",
    "            lines_1.append(line)\n",
    "            labels_1.append(label)\n",
    "        \n",
    "        ax_1.set_xlabel('Epoch number')\n",
    "        ax_1.set_ylabel('Error')\n",
    "\n",
    "        # 绘制训练集和验证集的 Accuracy（准确率）\n",
    "        for k in ['acc(train)', 'acc(valid)']:\n",
    "            if k == 'acc(train)':\n",
    "                label = f'width {hidden_dim}(train)'\n",
    "                style = '-'  # 实线\n",
    "            else:\n",
    "                label = f'width {hidden_dim}(valid)'\n",
    "                style = '--'  # 虚线\n",
    "            \n",
    "            line, = ax_2.plot(np.arange(1, stats.shape[0]) * stats_interval, \n",
    "                              stats[1:, keys[k]], label=label, linestyle=style)\n",
    "            lines_2.append(line)\n",
    "            labels_2.append(label)\n",
    "        \n",
    "        ax_2.set_xlabel('Epoch number')\n",
    "        ax_2.set_ylabel('Accuracy')\n",
    "\n",
    "    # 手动控制图例顺序 (Error 图)\n",
    "    ax_1.legend([lines_1[0], lines_1[2], lines_1[4], lines_1[1], lines_1[3], lines_1[5]],\n",
    "                [labels_1[0], labels_1[2], labels_1[4], labels_1[1], labels_1[3], labels_1[5]])\n",
    "\n",
    "    # 手动控制图例顺序 (Accuracy 图)\n",
    "    ax_2.legend([lines_2[0], lines_2[2], lines_2[4], lines_2[1], lines_2[3], lines_2[5]],\n",
    "                [labels_2[0], labels_2[2], labels_2[4], labels_2[1], labels_2[3], labels_2[5]])\n",
    "\n",
    "    plt.show()\n",
    "    fig_1.savefig('../outputs/task1-1-error.pdf')\n",
    "    fig_2.savefig('../outputs/task1-1-accuracy.pdf')\n",
    "\n",
    "# 示例调用\n",
    "# 假设 stats_list, keys_list, hidden_dims, stats_interval 已经定义\n",
    "plot_training_stats(stats_list, keys_list, hidden_dims, stats_interval)\n"
   ],
   "id": "64f9e4c06f4bc9cd",
   "outputs": [
    {
     "data": {
      "text/plain": [
       "<Figure size 800x400 with 1 Axes>"
      ],
      "image/png": "[encoded data removed]"
     },
     "metadata": {},
     "output_type": "display_data"
    },
    {
     "data": {
      "text/plain": [
       "<Figure size 800x400 with 1 Axes>"
      ],
      "image/png": "[encoded data removed]"
     },
     "metadata": {},
     "output_type": "display_data"
    },
    {
     "data": {
      "text/plain": [
       "<Figure size 800x400 with 1 Axes>"
      ],
      "image/png": "[encoded data removed]"
     },
     "metadata": {},
     "output_type": "display_data"
    },
    {
     "data": {
      "text/plain": [
       "<Figure size 800x400 with 1 Axes>"
      ],
      "image/png": "[encoded data removed]"
     },
     "metadata": {},
     "output_type": "display_data"
    },
    {
     "data": {
      "text/plain": [
       "<Figure size 800x400 with 1 Axes>"
      ],
      "image/png": "[encoded data removed]"
     },
     "metadata": {},
     "output_type": "display_data"
    },
    {
     "data": {
      "text/plain": [
       "<Figure size 800x400 with 1 Axes>"
      ],
      "image/png": "[encoded data removed]"
     },
     "metadata": {},
     "output_type": "display_data"
    },
    {
     "data": {
      "text/plain": [
       "<Figure size 800x400 with 1 Axes>"
      ],
      "image/png": "[encoded data removed]"
     },
     "metadata": {},
     "output_type": "display_data"
    },
    {
     "data": {
      "text/plain": [
       "<Figure size 800x400 with 1 Axes>"
      ],
      "image/png": "[encoded data removed]"
     },
     "metadata": {},
     "output_type": "display_data"
    }
   ],
   "execution_count": 28
  },
  {
   "metadata": {
    "ExecuteTime": {
     "end_time": "2024-10-24T10:41:01.296353Z",
     "start_time": "2024-10-24T10:41:01.289302Z"
    }
   },
   "cell_type": "code",
   "source": [
    "j = 0\n",
    "print('| hidden_dim | final error(train) | final error(valid) | final acc(train) | final acc(valid) |')\n",
    "print('|------------|--------------------|--------------------|------------------|------------------|')\n",
    "for hidden_dim in hidden_dims:\n",
    "    print('| {0}        | {1:.2e}           | {2:.2e}           |  {3:.2f}            | {4:.2f}             |'\n",
    "          .format(int(hidden_dim), \n",
    "                  final_errors_train[j], final_errors_valid[j],\n",
    "                  final_accs_train[j], final_accs_valid[j]))\n",
    "    j += 1"
   ],
   "id": "eb903670226255b9",
   "outputs": [
    {
     "name": "stdout",
     "output_type": "stream",
     "text": [
      "| hidden_dim | final error(train) | final error(valid) | final acc(train) | final acc(valid) |\n",
      "|------------|--------------------|--------------------|------------------|------------------|\n",
      "| 32        | 5.58e-01           | 6.94e-01           |  0.82            | 0.79             |\n",
      "| 64        | 3.33e-01           | 6.75e-01           |  0.88            | 0.80             |\n",
      "| 128        | 1.64e-01           | 9.32e-01           |  0.94            | 0.81             |\n"
     ]
    }
   ],
   "execution_count": 32
  }
 ],
 "metadata": {
  "kernelspec": {
   "display_name": "Python 3",
   "language": "python",
   "name": "python3"
  },
  "language_info": {
   "codemirror_mode": {
    "name": "ipython",
    "version": 2
   },
   "file_extension": ".py",
   "mimetype": "text/x-python",
   "name": "python",
   "nbconvert_exporter": "python",
   "pygments_lexer": "ipython2",
   "version": "2.7.6"
  }
 },
 "nbformat": 4,
 "nbformat_minor": 5
}
