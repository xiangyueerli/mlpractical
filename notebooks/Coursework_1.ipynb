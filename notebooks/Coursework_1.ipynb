{
 "cells": [
  {
   "cell_type": "markdown",
   "metadata": {},
   "source": [
    "# Coursework 1\n",
    "\n",
    "This notebook is intended to be used as a starting point for your experiments. The instructions can be found in the MLP2024_25_CW1_Spec.pdf (see Learn,  Assignment Submission, Coursework 1). The methods provided here are just helper functions. If you want more complex graphs such as side by side comparisons of different experiments you should learn more about matplotlib and implement them. Before each experiment remember to re-initialize neural network weights and reset the data providers so you get a properly initialized experiment. For each experiment try to keep most hyperparameters the same except the one under investigation so you can understand what the effects of each are."
   ]
  },
  {
   "cell_type": "code",
   "metadata": {},
   "source": [
    "import matplotlib.pyplot as plt\n",
    "%matplotlib inline\n",
    "plt.style.use('ggplot')\n",
    "\n",
    "def train_model_and_plot_stats(\n",
    "        model, error, learning_rule, train_data, valid_data, num_epochs, stats_interval, notebook=True):\n",
    "    \n",
    "    # As well as monitoring the error over training also monitor classification\n",
    "    # accuracy i.e. proportion of most-probable predicted classes being equal to targets\n",
    "    data_monitors={'acc': lambda y, t: (y.argmax(-1) == t.argmax(-1)).mean()}\n",
    "\n",
    "    # Use the created objects to initialise a new Optimiser instance.\n",
    "    optimiser = Optimiser(\n",
    "        model, error, learning_rule, train_data, valid_data, data_monitors, notebook=notebook)\n",
    "\n",
    "    # Run the optimiser for num_epochs epochs (full passes through the training set)\n",
    "    # printing statistics every epoch.\n",
    "    stats, keys, run_time = optimiser.train(num_epochs=num_epochs, stats_interval=stats_interval)\n",
    "\n",
    "    # Plot the change in the validation and training set error over training.\n",
    "    fig_1 = plt.figure(figsize=(8, 4))\n",
    "    ax_1 = fig_1.add_subplot(111)\n",
    "    for k in ['error(train)', 'error(valid)']:\n",
    "        ax_1.plot(np.arange(1, stats.shape[0]) * stats_interval, \n",
    "                  stats[1:, keys[k]], label=k)\n",
    "    ax_1.legend(loc=0)\n",
    "    ax_1.set_xlabel('Epoch number')\n",
    "    ax_1.set_ylabel('Error')\n",
    "\n",
    "    # Plot the change in the validation and training set accuracy over training.\n",
    "    fig_2 = plt.figure(figsize=(8, 4))\n",
    "    ax_2 = fig_2.add_subplot(111)\n",
    "    for k in ['acc(train)', 'acc(valid)']:\n",
    "        ax_2.plot(np.arange(1, stats.shape[0]) * stats_interval, \n",
    "                  stats[1:, keys[k]], label=k)\n",
    "    ax_2.legend(loc=0)\n",
    "    ax_2.set_xlabel('Epoch number')\n",
    "    ax_2.set_xlabel('Accuracy')\n",
    "    \n",
    "    return stats, keys, run_time, fig_1, ax_1, fig_2, ax_2"
   ],
   "outputs": [],
   "execution_count": null
  },
  {
   "cell_type": "code",
   "metadata": {},
   "source": [
    "# The below code will set up the data providers, random number\n",
    "# generator and logger objects needed for training runs. As\n",
    "# loading the data from file take a little while you generally\n",
    "# will probably not want to reload the data providers on\n",
    "# every training run. If you wish to reset their state you\n",
    "# should instead use the .reset() method of the data providers.\n",
    "import numpy as np\n",
    "import logging\n",
    "import sys\n",
    "# sys.path.append('/path/to/mlpractical')\n",
    "from mlp.data_providers import MNISTDataProvider, EMNISTDataProvider\n",
    "\n",
    "# Seed a random number generator\n",
    "seed = 11102019 \n",
    "rng = np.random.RandomState(seed)\n",
    "batch_size = 100\n",
    "# Set up a logger object to print info about the training run to stdout\n",
    "logger = logging.getLogger()\n",
    "logger.setLevel(logging.INFO)\n",
    "logger.handlers = [logging.StreamHandler()]\n",
    "\n",
    "# Create data provider objects for the MNIST data set\n",
    "train_data = EMNISTDataProvider('train', batch_size=batch_size, rng=rng)\n",
    "valid_data = EMNISTDataProvider('valid', batch_size=batch_size, rng=rng)"
   ],
   "outputs": [],
   "execution_count": null
  },
  {
   "cell_type": "code",
   "metadata": {},
   "source": [
    "# The model set up code below is provided as a starting point.\n",
    "# You will probably want to add further code cells for the\n",
    "# different experiments you run.\n",
    "\n",
    "%pip install tqdm\n",
    "\n",
    "from mlp.layers import AffineLayer, SoftmaxLayer, SigmoidLayer, ReluLayer\n",
    "from mlp.errors import CrossEntropySoftmaxError\n",
    "from mlp.models import MultipleLayerModel\n",
    "from mlp.initialisers import ConstantInit, GlorotUniformInit\n",
    "from mlp.learning_rules import AdamLearningRule\n",
    "from mlp.optimisers import Optimiser\n",
    "\n",
    "# Setup hyperparameters\n",
    "learning_rate = 0.001\n",
    "num_epochs = 100\n",
    "stats_interval = 1\n",
    "input_dim, output_dim, hidden_dim = 784, 47, 128\n",
    "\n",
    "weights_init = GlorotUniformInit(rng=rng)\n",
    "biases_init = ConstantInit(0.)\n",
    "\n",
    "# Create model with ONE hidden layer\n",
    "model = MultipleLayerModel([\n",
    "    AffineLayer(input_dim, hidden_dim, weights_init, biases_init), # hidden layer\n",
    "    ReluLayer(),\n",
    "    AffineLayer(hidden_dim, output_dim, weights_init, biases_init) # output layer\n",
    "])\n",
    "\n",
    "error = CrossEntropySoftmaxError()\n",
    "# Use a Adam learning rule\n",
    "learning_rule = AdamLearningRule(learning_rate=learning_rate)\n",
    "\n",
    "# Remember to use notebook=False when you write a script to be run in a terminal\n",
    "_ = train_model_and_plot_stats(\n",
    "    model, error, learning_rule, train_data, valid_data, num_epochs, stats_interval, notebook=True)"
   ],
   "outputs": [],
   "execution_count": null
  },
  {
   "cell_type": "code",
   "metadata": {},
   "source": [
    "# Create model with TWO hidden layers\n",
    "model = MultipleLayerModel([\n",
    "    AffineLayer(input_dim, hidden_dim, weights_init, biases_init), # first hidden layer\n",
    "    ReluLayer(),\n",
    "    AffineLayer(hidden_dim, hidden_dim, weights_init, biases_init), # second hidden layer\n",
    "    ReluLayer(),\n",
    "    AffineLayer(hidden_dim, output_dim, weights_init, biases_init) # output layer\n",
    "])\n",
    "\n",
    "error = CrossEntropySoftmaxError()\n",
    "# Use a Adam learning rule\n",
    "learning_rule = AdamLearningRule(learning_rate=learning_rate)\n",
    "\n",
    "# Remember to use notebook=False when you write a script to be run in a terminal\n",
    "_ = train_model_and_plot_stats(\n",
    "    model, error, learning_rule, train_data, valid_data, num_epochs, stats_interval, notebook=True)"
   ],
   "outputs": [],
   "execution_count": null
  },
  {
   "metadata": {},
   "cell_type": "markdown",
   "source": [
    "## Task1\n",
    "### 1.1 Network width"
   ]
  },
  {
   "metadata": {},
   "cell_type": "code",
   "source": [
    "# The model set up code below is provided as a starting point.\n",
    "# You will probably want to add further code cells for the\n",
    "# different experiments you run.\n",
    "\n",
    "%pip install tqdm\n",
    "\n",
    "from mlp.layers import AffineLayer, SoftmaxLayer, SigmoidLayer, ReluLayer\n",
    "from mlp.errors import CrossEntropySoftmaxError\n",
    "from mlp.models import MultipleLayerModel\n",
    "from mlp.initialisers import ConstantInit, GlorotUniformInit\n",
    "from mlp.learning_rules import AdamLearningRule\n",
    "from mlp.optimisers import Optimiser\n",
    "\n",
    "# Setup hyperparameters\n",
    "learning_rate = 9e-4\n",
    "num_epochs = 100\n",
    "stats_interval = 1\n",
    "input_dim, output_dim = 784, 47\n",
    "\n",
    "hidden_dims = [32, 64, 128]  # 3 choices of ReLU hidden units\n",
    "final_errors_train = []\n",
    "final_errors_valid = []\n",
    "final_accs_train = []\n",
    "final_accs_valid = []\n",
    "stats_list = []\n",
    "keys_list = []\n",
    "\n",
    "for hidden_dim in hidden_dims:\n",
    "    weights_init = GlorotUniformInit(rng=rng)\n",
    "    biases_init = ConstantInit(0.)\n",
    "    \n",
    "    # Create model with ONE hidden layer\n",
    "    model = MultipleLayerModel([\n",
    "        AffineLayer(input_dim, hidden_dim, weights_init, biases_init), # hidden layer\n",
    "        ReluLayer(),\n",
    "        AffineLayer(hidden_dim, output_dim, weights_init, biases_init) # output layer\n",
    "    ])\n",
    "    \n",
    "    error = CrossEntropySoftmaxError()\n",
    "    # Use a Adam learning rule\n",
    "    learning_rule = AdamLearningRule(learning_rate=learning_rate)\n",
    "    \n",
    "    # Remember to use notebook=False when you write a script to be run in a terminal\n",
    "    stats, keys, run_time, fig_1, ax_1, fig_2, ax_2 = train_model_and_plot_stats(\n",
    "        model, error, learning_rule, train_data, valid_data, num_epochs, stats_interval, notebook=True)\n",
    "    \n",
    "    stats_list.append(stats)\n",
    "    keys_list.append(keys)\n",
    "    print('    final error(train) = {0:.2e}'.format(stats[-1, keys['error(train)']]))\n",
    "    print('    final error(valid) = {0:.2e}'.format(stats[-1, keys['error(valid)']]))\n",
    "    print('    final acc(train)   = {0:.2e}'.format(stats[-1, keys['acc(train)']]))\n",
    "    print('    final acc(valid)   = {0:.2e}'.format(stats[-1, keys['acc(valid)']]))\n",
    "    print('    run time per epoch = {0:.2f}'.format(run_time * 1. / num_epochs))\n",
    "\n",
    "    final_errors_train.append(stats[-1, keys['error(train)']])\n",
    "    final_errors_valid.append(stats[-1, keys['error(valid)']])\n",
    "    final_accs_train.append(stats[-1, keys['acc(train)']])\n",
    "    final_accs_valid.append(stats[-1, keys['acc(valid)']])"
   ],
   "outputs": [],
   "execution_count": null
  },
  {
   "metadata": {},
   "cell_type": "code",
   "source": [
    "import matplotlib.pyplot as plt\n",
    "import numpy as np\n",
    "\n",
    "def plot_training_stats(stats_list, keys_list, hidden_dims, stats_interval):\n",
    "    # Create the first plot to plot Error\n",
    "    fig_1 = plt.figure(figsize=(8, 4))\n",
    "    ax_1 = fig_1.add_subplot(111)\n",
    "    \n",
    "    # Create a second graph plotting Accuracy\n",
    "    fig_2 = plt.figure(figsize=(8, 4))\n",
    "    ax_2 = fig_2.add_subplot(111)\n",
    "\n",
    "    # Stores each drawn line and label for manual adjustment of legend order\n",
    "    lines_1 = []\n",
    "    labels_1 = []\n",
    "    lines_2 = []\n",
    "    labels_2 = []\n",
    "\n",
    "    # Loop for each model (different hidden layer width)\n",
    "    for i in range(len(stats_list)):\n",
    "        stats = stats_list[i]\n",
    "        keys = keys_list[i]\n",
    "        hidden_dim = hidden_dims[i]\n",
    "        \n",
    "        # Plot Error for training and validation sets\n",
    "        for k in ['error(train)', 'error(valid)']:\n",
    "            if k == 'error(train)':\n",
    "                label = f'width {hidden_dim}(train)'\n",
    "                style = '-'  # solid line\n",
    "            else:\n",
    "                label = f'width {hidden_dim}(valid)'\n",
    "                style = '--'  # dotted line\n",
    "            \n",
    "            line, = ax_1.plot(np.arange(1, stats.shape[0]) * stats_interval, \n",
    "                              stats[1:, keys[k]], label=label, linestyle=style)\n",
    "            lines_1.append(line)\n",
    "            labels_1.append(label)\n",
    "        \n",
    "        ax_1.set_xlabel('Epoch number')\n",
    "        ax_1.set_ylabel('Error')\n",
    "\n",
    "        # Plot Accuracy for training and validation sets\n",
    "        for k in ['acc(train)', 'acc(valid)']:\n",
    "            if k == 'acc(train)':\n",
    "                label = f'width {hidden_dim}(train)'\n",
    "                style = '-'\n",
    "            else:\n",
    "                label = f'width {hidden_dim}(valid)'\n",
    "                style = '--'\n",
    "            \n",
    "            line, = ax_2.plot(np.arange(1, stats.shape[0]) * stats_interval, \n",
    "                              stats[1:, keys[k]], label=label, linestyle=style)\n",
    "            lines_2.append(line)\n",
    "            labels_2.append(label)\n",
    "        \n",
    "        ax_2.set_xlabel('Epoch number')\n",
    "        ax_2.set_ylabel('Accuracy')\n",
    "\n",
    "    # Manual control of legend order (Error plot)\n",
    "    ax_1.legend([lines_1[0], lines_1[2], lines_1[4], lines_1[1], lines_1[3], lines_1[5]],\n",
    "                [labels_1[0], labels_1[2], labels_1[4], labels_1[1], labels_1[3], labels_1[5]])\n",
    "\n",
    "    # Manually control legend order (Accuracy plots)\n",
    "    ax_2.legend([lines_2[0], lines_2[2], lines_2[4], lines_2[1], lines_2[3], lines_2[5]],\n",
    "                [labels_2[0], labels_2[2], labels_2[4], labels_2[1], labels_2[3], labels_2[5]])\n",
    "\n",
    "    plt.show()\n",
    "    fig_1.savefig('../outputs/task1-1-error.pdf')\n",
    "    fig_2.savefig('../outputs/task1-1-accuracy.pdf')\n",
    "\n",
    "# Example call\n",
    "# Assume stats_list, keys_list, hidden_dims, stats_interval are defined\n",
    "plot_training_stats(stats_list, keys_list, hidden_dims, stats_interval)\n"
   ],
   "outputs": [],
   "execution_count": null
  },
  {
   "metadata": {},
   "cell_type": "markdown",
   "source": "### 1.2 Network depth"
  },
  {
   "metadata": {},
   "cell_type": "code",
   "source": [
    "# The model set up code below is provided as a starting point.\n",
    "# You will probably want to add further code cells for the\n",
    "# different experiments you run.\n",
    "\n",
    "%pip install tqdm\n",
    "\n",
    "from mlp.layers import AffineLayer, SoftmaxLayer, SigmoidLayer, ReluLayer\n",
    "from mlp.errors import CrossEntropySoftmaxError\n",
    "from mlp.models import MultipleLayerModel\n",
    "from mlp.initialisers import ConstantInit, GlorotUniformInit\n",
    "from mlp.learning_rules import AdamLearningRule\n",
    "from mlp.optimisers import Optimiser\n",
    "\n",
    "# Reset the data providers\n",
    "train_data.reset()\n",
    "valid_data.reset()\n",
    "\n",
    "# Setup hyperparameters\n",
    "learning_rate = 9e-4\n",
    "num_epochs = 100\n",
    "stats_interval = 1\n",
    "input_dim, output_dim, hidden_dim = 784, 47, 128\n",
    "\n",
    "final_errors_train = []\n",
    "final_errors_valid = []\n",
    "final_accs_train = []\n",
    "final_accs_valid = []\n",
    "stats_list = []\n",
    "keys_list = []\n",
    "\n",
    "for i in range(3):\n",
    "    weights_init = GlorotUniformInit(rng=rng)\n",
    "    biases_init = ConstantInit(0.)\n",
    "    \n",
    "    # Create model with ONE hidden layer\n",
    "    if i == 0:\n",
    "        model = MultipleLayerModel([\n",
    "            AffineLayer(input_dim, hidden_dim, weights_init, biases_init), # hidden layer\n",
    "            ReluLayer(),\n",
    "            AffineLayer(hidden_dim, output_dim, weights_init, biases_init) # output layer\n",
    "        ])\n",
    "    elif i == 1:\n",
    "        model = MultipleLayerModel([\n",
    "            AffineLayer(input_dim, hidden_dim, weights_init, biases_init), # hidden layer\n",
    "            ReluLayer(),\n",
    "            AffineLayer(hidden_dim, hidden_dim, weights_init, biases_init), # output layer\n",
    "            ReluLayer(),\n",
    "            AffineLayer(hidden_dim, output_dim, weights_init, biases_init) # output layer\n",
    "        ])\n",
    "    else:\n",
    "        model = MultipleLayerModel([\n",
    "            AffineLayer(input_dim, hidden_dim, weights_init, biases_init), # hidden layer\n",
    "            ReluLayer(),\n",
    "            AffineLayer(hidden_dim, hidden_dim, weights_init, biases_init), # output layer\n",
    "            ReluLayer(),\n",
    "            AffineLayer(hidden_dim, hidden_dim, weights_init, biases_init), # output layer\n",
    "            ReluLayer(),\n",
    "            AffineLayer(hidden_dim, output_dim, weights_init, biases_init) # output layer\n",
    "        ])\n",
    "    \n",
    "    error = CrossEntropySoftmaxError()\n",
    "    # Use a Adam learning rule\n",
    "    learning_rule = AdamLearningRule(learning_rate=learning_rate)\n",
    "    \n",
    "    # Remember to use notebook=False when you write a script to be run in a terminal\n",
    "    stats, keys, run_time, fig_1, ax_1, fig_2, ax_2 = train_model_and_plot_stats(\n",
    "        model, error, learning_rule, train_data, valid_data, num_epochs, stats_interval, notebook=True)\n",
    "    \n",
    "    stats_list.append(stats)\n",
    "    keys_list.append(keys)\n",
    "    print('    final error(train) = {0:.2e}'.format(stats[-1, keys['error(train)']]))\n",
    "    print('    final error(valid) = {0:.2e}'.format(stats[-1, keys['error(valid)']]))\n",
    "    print('    final acc(train)   = {0:.2e}'.format(stats[-1, keys['acc(train)']]))\n",
    "    print('    final acc(valid)   = {0:.2e}'.format(stats[-1, keys['acc(valid)']]))\n",
    "    print('    run time per epoch = {0:.2f}'.format(run_time * 1. / num_epochs))\n",
    "\n",
    "    final_errors_train.append(stats[-1, keys['error(train)']])\n",
    "    final_errors_valid.append(stats[-1, keys['error(valid)']])\n",
    "    final_accs_train.append(stats[-1, keys['acc(train)']])\n",
    "    final_accs_valid.append(stats[-1, keys['acc(valid)']])"
   ],
   "outputs": [],
   "execution_count": null
  },
  {
   "metadata": {},
   "cell_type": "code",
   "source": [
    "import matplotlib.pyplot as plt\n",
    "import numpy as np\n",
    "\n",
    "def plot_training_stats_layers(stats_list, keys_list, stats_interval):\n",
    "    fig_1 = plt.figure(figsize=(8, 4))\n",
    "    ax_1 = fig_1.add_subplot(111)\n",
    "    \n",
    "    fig_2 = plt.figure(figsize=(8, 4))\n",
    "    ax_2 = fig_2.add_subplot(111)\n",
    "\n",
    "    lines_1 = []\n",
    "    labels_1 = []\n",
    "    lines_2 = []\n",
    "    labels_2 = []\n",
    "\n",
    "    for i in range(len(stats_list)):\n",
    "        stats = stats_list[i]\n",
    "        keys = keys_list[i]\n",
    "        \n",
    "        for k in ['error(train)', 'error(valid)']:\n",
    "            if k == 'error(train)':\n",
    "                label = f'depth {i+1}(train)'\n",
    "                style = '-' \n",
    "            else:\n",
    "                label = f'depth {i+1}(valid)'\n",
    "                style = '--' \n",
    "            \n",
    "            line, = ax_1.plot(np.arange(1, stats.shape[0]) * stats_interval, \n",
    "                              stats[1:, keys[k]], label=label, linestyle=style)\n",
    "            lines_1.append(line)\n",
    "            labels_1.append(label)\n",
    "        \n",
    "        ax_1.set_xlabel('Epoch number')\n",
    "        ax_1.set_ylabel('Error')\n",
    "\n",
    "        for k in ['acc(train)', 'acc(valid)']:\n",
    "            if k == 'acc(train)':\n",
    "                label = f'depth {i+1}(train)'\n",
    "                style = '-'  # 实线\n",
    "            else:\n",
    "                label = f'depth {i+1}(valid)'\n",
    "                style = '--'  # 虚线\n",
    "            \n",
    "            line, = ax_2.plot(np.arange(1, stats.shape[0]) * stats_interval, \n",
    "                              stats[1:, keys[k]], label=label, linestyle=style)\n",
    "            lines_2.append(line)\n",
    "            labels_2.append(label)\n",
    "        \n",
    "        ax_2.set_xlabel('Epoch number')\n",
    "        ax_2.set_ylabel('Accuracy')\n",
    "\n",
    "    ax_1.legend([lines_1[0], lines_1[2], lines_1[4], lines_1[1], lines_1[3], lines_1[5]],\n",
    "                [labels_1[0], labels_1[2], labels_1[4], labels_1[1], labels_1[3], labels_1[5]])\n",
    "\n",
    "    ax_2.legend([lines_2[0], lines_2[2], lines_2[4], lines_2[1], lines_2[3], lines_2[5]],\n",
    "                [labels_2[0], labels_2[2], labels_2[4], labels_2[1], labels_2[3], labels_2[5]])\n",
    "\n",
    "    plt.show()\n",
    "    fig_1.savefig('../outputs/task1-2-error.pdf')\n",
    "    fig_2.savefig('../outputs/task1-2-accuracy.pdf')\n",
    "\n",
    "plot_training_stats_layers(stats_list, keys_list, stats_interval)"
   ],
   "outputs": [],
   "execution_count": null
  },
  {
   "metadata": {},
   "cell_type": "code",
   "source": [
    "print('| Hidden Layers | final error(train) | final error(valid) | final acc(train) | final acc(valid) |')\n",
    "print('|------------|--------------------|--------------------|------------------|------------------|')\n",
    "for j in range(3):\n",
    "    print('| {0}        | {1:.2e}           | {2:.2e}           |  {3:.2f}            | {4:.2f}             |'\n",
    "          .format(j + 1,\n",
    "                  final_errors_train[j], final_errors_valid[j],\n",
    "                  final_accs_train[j], final_accs_valid[j]))"
   ],
   "outputs": [],
   "execution_count": null
  },
  {
   "metadata": {},
   "cell_type": "markdown",
   "source": "## Test label smoothing"
  },
  {
   "metadata": {},
   "cell_type": "code",
   "source": [
    "input = [1, 45, 20, 10, 46, 23, 2, 3, 8, 9]\n",
    "input = np.array(input)\n",
    "# output = label_smoothing(47, input, alpha=0)\n",
    "output = train_data.label_smoothing(input, alpha=0)\n",
    "print(output[0:3])\n",
    "print(len(output[0]))\n",
    "print(len(output))\n",
    "print(np.sum(output, -1)[5])"
   ],
   "outputs": [],
   "execution_count": null
  },
  {
   "metadata": {},
   "cell_type": "markdown",
   "source": "## Dropout"
  },
  {
   "metadata": {
    "ExecuteTime": {
     "end_time": "2024-10-24T20:48:21.510273Z",
     "start_time": "2024-10-24T20:36:45.175565Z"
    }
   },
   "cell_type": "code",
   "source": [
    "# The model set up code below is provided as a starting point.\n",
    "# You will probably want to add further code cells for the\n",
    "# different experiments you run.\n",
    "\n",
    "%pip install tqdm\n",
    "\n",
    "from mlp.layers import AffineLayer, SoftmaxLayer, SigmoidLayer, ReluLayer, DropoutLayer\n",
    "from mlp.errors import CrossEntropySoftmaxError\n",
    "from mlp.models import MultipleLayerModel\n",
    "from mlp.initialisers import ConstantInit, GlorotUniformInit\n",
    "from mlp.learning_rules import AdamLearningRule\n",
    "from mlp.optimisers import Optimiser\n",
    "\n",
    "train_data.reset()\n",
    "valid_data.reset()\n",
    "\n",
    "# Setup hyperparameters\n",
    "learning_rate = 1e-4\n",
    "num_epochs = 100\n",
    "stats_interval = 1  # Every 1 epoch record the error and acc data\n",
    "input_dim, output_dim, hidden_dim = 784, 47, 128\n",
    "dropout_rate = 0.7\n",
    "\n",
    "final_errors_train = []\n",
    "final_errors_valid = []\n",
    "final_accs_train = []\n",
    "final_accs_valid = []\n",
    "stats_list = []\n",
    "keys_list = []\n",
    "\n",
    "weights_init = GlorotUniformInit(rng=rng)\n",
    "biases_init = ConstantInit(0.)\n",
    "\n",
    "# Create model with 3 hidden layer\n",
    "model = MultipleLayerModel([\n",
    "    AffineLayer(input_dim, hidden_dim, weights_init, biases_init),\n",
    "    ReluLayer(),\n",
    "    DropoutLayer(rng=rng, incl_prob=dropout_rate),\n",
    "    AffineLayer(hidden_dim, hidden_dim, weights_init, biases_init),\n",
    "    ReluLayer(),\n",
    "    DropoutLayer(rng=rng, incl_prob=dropout_rate),\n",
    "    AffineLayer(hidden_dim, hidden_dim, weights_init, biases_init),\n",
    "    ReluLayer(),\n",
    "    DropoutLayer(rng=rng, incl_prob=dropout_rate),\n",
    "    AffineLayer(hidden_dim, output_dim, weights_init, biases_init)\n",
    "])\n",
    "\n",
    "error = CrossEntropySoftmaxError()\n",
    "# Use a Adam learning rule\n",
    "learning_rule = AdamLearningRule(learning_rate=learning_rate)\n",
    "\n",
    "# Remember to use notebook=False when you write a script to be run in a terminal\n",
    "stats, keys, run_time, fig_1, ax_1, fig_2, ax_2 = train_model_and_plot_stats(\n",
    "    model, error, learning_rule, train_data, valid_data, num_epochs, stats_interval, notebook=True)\n",
    "\n",
    "print('    final error(train) = {0:.2e}'.format(stats[-1, keys['error(train)']]))\n",
    "print('    final error(valid) = {0:.2e}'.format(stats[-1, keys['error(valid)']]))\n",
    "print('    final acc(train)   = {0:.2e}'.format(stats[-1, keys['acc(train)']]))\n",
    "print('    final acc(valid)   = {0:.2e}'.format(stats[-1, keys['acc(valid)']]))\n",
    "print('    run time per epoch = {0:.2f}'.format(run_time * 1. / num_epochs))\n",
    "\n",
    "final_errors_train.append(stats[-1, keys['error(train)']])\n",
    "final_errors_valid.append(stats[-1, keys['error(valid)']])\n",
    "final_accs_train.append(stats[-1, keys['acc(train)']])\n",
    "final_accs_valid.append(stats[-1, keys['acc(valid)']])"
   ],
   "outputs": [
    {
     "name": "stdout",
     "output_type": "stream",
     "text": [
      "Looking in indexes: https://pypi.tuna.tsinghua.edu.cn/simple\r\n",
      "Requirement already satisfied: tqdm in /Users/ycy/opt/anaconda3/envs/mlp/lib/python3.12/site-packages (4.66.5)\r\n",
      "Note: you may need to restart the kernel to use updated packages.\n"
     ]
    },
    {
     "data": {
      "text/plain": [
       "  0%|          | 0/100 [00:00<?, ?it/s]"
      ],
      "application/vnd.jupyter.widget-view+json": {
       "version_major": 2,
       "version_minor": 0,
       "model_id": "3ae2b2ad3cdf4806b068f11c820a38ea"
      }
     },
     "metadata": {},
     "output_type": "display_data"
    },
    {
     "data": {
      "text/plain": [
       "  0%|          | 0/1000 [00:00<?, ?it/s]"
      ],
      "application/vnd.jupyter.widget-view+json": {
       "version_major": 2,
       "version_minor": 0,
       "model_id": "718fe70318234970a9eabc549fd951ba"
      }
     },
     "metadata": {},
     "output_type": "display_data"
    },
    {
     "name": "stderr",
     "output_type": "stream",
     "text": [
      "Epoch 1: 7.7s to complete\n",
      "    error(train)=2.40e+00, acc(train)=4.11e-01, error(valid)=2.40e+00, acc(valid)=4.11e-01\n"
     ]
    },
    {
     "data": {
      "text/plain": [
       "  0%|          | 0/1000 [00:00<?, ?it/s]"
      ],
      "application/vnd.jupyter.widget-view+json": {
       "version_major": 2,
       "version_minor": 0,
       "model_id": "f36ed10d6c574f3588bd7faa47fead83"
      }
     },
     "metadata": {},
     "output_type": "display_data"
    },
    {
     "name": "stderr",
     "output_type": "stream",
     "text": [
      "Epoch 2: 5.3s to complete\n",
      "    error(train)=1.79e+00, acc(train)=5.42e-01, error(valid)=1.80e+00, acc(valid)=5.40e-01\n"
     ]
    },
    {
     "data": {
      "text/plain": [
       "  0%|          | 0/1000 [00:00<?, ?it/s]"
      ],
      "application/vnd.jupyter.widget-view+json": {
       "version_major": 2,
       "version_minor": 0,
       "model_id": "a2e8fe1b2d544fb4b78bceb90ede59b1"
      }
     },
     "metadata": {},
     "output_type": "display_data"
    },
    {
     "name": "stderr",
     "output_type": "stream",
     "text": [
      "Epoch 3: 5.2s to complete\n",
      "    error(train)=1.54e+00, acc(train)=5.87e-01, error(valid)=1.55e+00, acc(valid)=5.83e-01\n"
     ]
    },
    {
     "data": {
      "text/plain": [
       "  0%|          | 0/1000 [00:00<?, ?it/s]"
      ],
      "application/vnd.jupyter.widget-view+json": {
       "version_major": 2,
       "version_minor": 0,
       "model_id": "caa80263f31742a7a010e1b498e4405c"
      }
     },
     "metadata": {},
     "output_type": "display_data"
    },
    {
     "name": "stderr",
     "output_type": "stream",
     "text": [
      "Epoch 4: 5.6s to complete\n",
      "    error(train)=1.39e+00, acc(train)=6.20e-01, error(valid)=1.40e+00, acc(valid)=6.17e-01\n"
     ]
    },
    {
     "data": {
      "text/plain": [
       "  0%|          | 0/1000 [00:00<?, ?it/s]"
      ],
      "application/vnd.jupyter.widget-view+json": {
       "version_major": 2,
       "version_minor": 0,
       "model_id": "902e5551dc4f4d5db5897dc7300d06f0"
      }
     },
     "metadata": {},
     "output_type": "display_data"
    },
    {
     "name": "stderr",
     "output_type": "stream",
     "text": [
      "Epoch 5: 6.2s to complete\n",
      "    error(train)=1.28e+00, acc(train)=6.42e-01, error(valid)=1.29e+00, acc(valid)=6.39e-01\n"
     ]
    },
    {
     "data": {
      "text/plain": [
       "  0%|          | 0/1000 [00:00<?, ?it/s]"
      ],
      "application/vnd.jupyter.widget-view+json": {
       "version_major": 2,
       "version_minor": 0,
       "model_id": "79acf67af5844e03812c62ecf83a2044"
      }
     },
     "metadata": {},
     "output_type": "display_data"
    },
    {
     "name": "stderr",
     "output_type": "stream",
     "text": [
      "Epoch 6: 4.9s to complete\n",
      "    error(train)=1.19e+00, acc(train)=6.60e-01, error(valid)=1.20e+00, acc(valid)=6.56e-01\n"
     ]
    },
    {
     "data": {
      "text/plain": [
       "  0%|          | 0/1000 [00:00<?, ?it/s]"
      ],
      "application/vnd.jupyter.widget-view+json": {
       "version_major": 2,
       "version_minor": 0,
       "model_id": "7e4132de830c43588a8e3349ea1b147a"
      }
     },
     "metadata": {},
     "output_type": "display_data"
    },
    {
     "name": "stderr",
     "output_type": "stream",
     "text": [
      "Epoch 7: 5.2s to complete\n",
      "    error(train)=1.12e+00, acc(train)=6.77e-01, error(valid)=1.13e+00, acc(valid)=6.73e-01\n"
     ]
    },
    {
     "data": {
      "text/plain": [
       "  0%|          | 0/1000 [00:00<?, ?it/s]"
      ],
      "application/vnd.jupyter.widget-view+json": {
       "version_major": 2,
       "version_minor": 0,
       "model_id": "8eb5a5d2081245bb97e1a174177c75b3"
      }
     },
     "metadata": {},
     "output_type": "display_data"
    },
    {
     "name": "stderr",
     "output_type": "stream",
     "text": [
      "Epoch 8: 6.1s to complete\n",
      "    error(train)=1.06e+00, acc(train)=6.92e-01, error(valid)=1.07e+00, acc(valid)=6.88e-01\n"
     ]
    },
    {
     "data": {
      "text/plain": [
       "  0%|          | 0/1000 [00:00<?, ?it/s]"
      ],
      "application/vnd.jupyter.widget-view+json": {
       "version_major": 2,
       "version_minor": 0,
       "model_id": "eec33a2926c244e891a21114dbe11a7d"
      }
     },
     "metadata": {},
     "output_type": "display_data"
    },
    {
     "name": "stderr",
     "output_type": "stream",
     "text": [
      "Epoch 9: 6.0s to complete\n",
      "    error(train)=1.01e+00, acc(train)=7.03e-01, error(valid)=1.02e+00, acc(valid)=6.97e-01\n"
     ]
    },
    {
     "data": {
      "text/plain": [
       "  0%|          | 0/1000 [00:00<?, ?it/s]"
      ],
      "application/vnd.jupyter.widget-view+json": {
       "version_major": 2,
       "version_minor": 0,
       "model_id": "0ac8d6c780d145acb85d9b1fb7e09bc6"
      }
     },
     "metadata": {},
     "output_type": "display_data"
    },
    {
     "name": "stderr",
     "output_type": "stream",
     "text": [
      "Epoch 10: 5.1s to complete\n",
      "    error(train)=9.68e-01, acc(train)=7.11e-01, error(valid)=9.78e-01, acc(valid)=7.05e-01\n"
     ]
    },
    {
     "data": {
      "text/plain": [
       "  0%|          | 0/1000 [00:00<?, ?it/s]"
      ],
      "application/vnd.jupyter.widget-view+json": {
       "version_major": 2,
       "version_minor": 0,
       "model_id": "e6c6221b32874845b395731bbd3fb9df"
      }
     },
     "metadata": {},
     "output_type": "display_data"
    },
    {
     "name": "stderr",
     "output_type": "stream",
     "text": [
      "Epoch 11: 4.4s to complete\n",
      "    error(train)=9.36e-01, acc(train)=7.21e-01, error(valid)=9.47e-01, acc(valid)=7.14e-01\n"
     ]
    },
    {
     "data": {
      "text/plain": [
       "  0%|          | 0/1000 [00:00<?, ?it/s]"
      ],
      "application/vnd.jupyter.widget-view+json": {
       "version_major": 2,
       "version_minor": 0,
       "model_id": "7130ab7621544f2e98fe0fe6b245c094"
      }
     },
     "metadata": {},
     "output_type": "display_data"
    },
    {
     "name": "stderr",
     "output_type": "stream",
     "text": [
      "Epoch 12: 4.7s to complete\n",
      "    error(train)=9.06e-01, acc(train)=7.29e-01, error(valid)=9.16e-01, acc(valid)=7.24e-01\n"
     ]
    },
    {
     "data": {
      "text/plain": [
       "  0%|          | 0/1000 [00:00<?, ?it/s]"
      ],
      "application/vnd.jupyter.widget-view+json": {
       "version_major": 2,
       "version_minor": 0,
       "model_id": "073dbc938995443f867c302ecb11f370"
      }
     },
     "metadata": {},
     "output_type": "display_data"
    },
    {
     "name": "stderr",
     "output_type": "stream",
     "text": [
      "Epoch 13: 5.8s to complete\n",
      "    error(train)=8.79e-01, acc(train)=7.36e-01, error(valid)=8.92e-01, acc(valid)=7.28e-01\n"
     ]
    },
    {
     "data": {
      "text/plain": [
       "  0%|          | 0/1000 [00:00<?, ?it/s]"
      ],
      "application/vnd.jupyter.widget-view+json": {
       "version_major": 2,
       "version_minor": 0,
       "model_id": "0e2e190a39b64838af8745136ec30c65"
      }
     },
     "metadata": {},
     "output_type": "display_data"
    },
    {
     "name": "stderr",
     "output_type": "stream",
     "text": [
      "Epoch 14: 6.8s to complete\n",
      "    error(train)=8.51e-01, acc(train)=7.44e-01, error(valid)=8.64e-01, acc(valid)=7.37e-01\n"
     ]
    },
    {
     "data": {
      "text/plain": [
       "  0%|          | 0/1000 [00:00<?, ?it/s]"
      ],
      "application/vnd.jupyter.widget-view+json": {
       "version_major": 2,
       "version_minor": 0,
       "model_id": "e7ae0b05318d47728cb8b4b59c96f417"
      }
     },
     "metadata": {},
     "output_type": "display_data"
    },
    {
     "name": "stderr",
     "output_type": "stream",
     "text": [
      "Epoch 15: 4.7s to complete\n",
      "    error(train)=8.33e-01, acc(train)=7.47e-01, error(valid)=8.47e-01, acc(valid)=7.40e-01\n"
     ]
    },
    {
     "data": {
      "text/plain": [
       "  0%|          | 0/1000 [00:00<?, ?it/s]"
      ],
      "application/vnd.jupyter.widget-view+json": {
       "version_major": 2,
       "version_minor": 0,
       "model_id": "fdeda515f3de4c87bfe702ea80ce23b6"
      }
     },
     "metadata": {},
     "output_type": "display_data"
    },
    {
     "name": "stderr",
     "output_type": "stream",
     "text": [
      "Epoch 16: 5.0s to complete\n",
      "    error(train)=8.09e-01, acc(train)=7.54e-01, error(valid)=8.25e-01, acc(valid)=7.48e-01\n"
     ]
    },
    {
     "data": {
      "text/plain": [
       "  0%|          | 0/1000 [00:00<?, ?it/s]"
      ],
      "application/vnd.jupyter.widget-view+json": {
       "version_major": 2,
       "version_minor": 0,
       "model_id": "e1e7fc137d594eb6a7dda8d5ced1b9c7"
      }
     },
     "metadata": {},
     "output_type": "display_data"
    },
    {
     "name": "stderr",
     "output_type": "stream",
     "text": [
      "Epoch 17: 5.5s to complete\n",
      "    error(train)=7.89e-01, acc(train)=7.59e-01, error(valid)=8.05e-01, acc(valid)=7.51e-01\n"
     ]
    },
    {
     "data": {
      "text/plain": [
       "  0%|          | 0/1000 [00:00<?, ?it/s]"
      ],
      "application/vnd.jupyter.widget-view+json": {
       "version_major": 2,
       "version_minor": 0,
       "model_id": "a43dbc48ead44839b5b090d9fe80f046"
      }
     },
     "metadata": {},
     "output_type": "display_data"
    },
    {
     "name": "stderr",
     "output_type": "stream",
     "text": [
      "Epoch 18: 4.5s to complete\n",
      "    error(train)=7.72e-01, acc(train)=7.62e-01, error(valid)=7.89e-01, acc(valid)=7.54e-01\n"
     ]
    },
    {
     "data": {
      "text/plain": [
       "  0%|          | 0/1000 [00:00<?, ?it/s]"
      ],
      "application/vnd.jupyter.widget-view+json": {
       "version_major": 2,
       "version_minor": 0,
       "model_id": "0124690b44b74b84968a7a24335a995b"
      }
     },
     "metadata": {},
     "output_type": "display_data"
    },
    {
     "name": "stderr",
     "output_type": "stream",
     "text": [
      "Epoch 19: 5.1s to complete\n",
      "    error(train)=7.56e-01, acc(train)=7.66e-01, error(valid)=7.73e-01, acc(valid)=7.59e-01\n"
     ]
    },
    {
     "data": {
      "text/plain": [
       "  0%|          | 0/1000 [00:00<?, ?it/s]"
      ],
      "application/vnd.jupyter.widget-view+json": {
       "version_major": 2,
       "version_minor": 0,
       "model_id": "3248ba6f42854a3da13474296afc3337"
      }
     },
     "metadata": {},
     "output_type": "display_data"
    },
    {
     "name": "stderr",
     "output_type": "stream",
     "text": [
      "Epoch 20: 4.6s to complete\n",
      "    error(train)=7.45e-01, acc(train)=7.70e-01, error(valid)=7.63e-01, acc(valid)=7.64e-01\n"
     ]
    },
    {
     "data": {
      "text/plain": [
       "  0%|          | 0/1000 [00:00<?, ?it/s]"
      ],
      "application/vnd.jupyter.widget-view+json": {
       "version_major": 2,
       "version_minor": 0,
       "model_id": "0abd88dfc63a4cbd9c43f294ba86cb99"
      }
     },
     "metadata": {},
     "output_type": "display_data"
    },
    {
     "name": "stderr",
     "output_type": "stream",
     "text": [
      "Epoch 21: 4.9s to complete\n",
      "    error(train)=7.28e-01, acc(train)=7.73e-01, error(valid)=7.48e-01, acc(valid)=7.67e-01\n"
     ]
    },
    {
     "data": {
      "text/plain": [
       "  0%|          | 0/1000 [00:00<?, ?it/s]"
      ],
      "application/vnd.jupyter.widget-view+json": {
       "version_major": 2,
       "version_minor": 0,
       "model_id": "b7f75d26ec5840f5becbad2565201daa"
      }
     },
     "metadata": {},
     "output_type": "display_data"
    },
    {
     "name": "stderr",
     "output_type": "stream",
     "text": [
      "Epoch 22: 4.5s to complete\n",
      "    error(train)=7.15e-01, acc(train)=7.77e-01, error(valid)=7.35e-01, acc(valid)=7.70e-01\n"
     ]
    },
    {
     "data": {
      "text/plain": [
       "  0%|          | 0/1000 [00:00<?, ?it/s]"
      ],
      "application/vnd.jupyter.widget-view+json": {
       "version_major": 2,
       "version_minor": 0,
       "model_id": "00ebb320cd7d4cdf911d672d673d2322"
      }
     },
     "metadata": {},
     "output_type": "display_data"
    },
    {
     "name": "stderr",
     "output_type": "stream",
     "text": [
      "Epoch 23: 4.2s to complete\n",
      "    error(train)=7.02e-01, acc(train)=7.79e-01, error(valid)=7.23e-01, acc(valid)=7.74e-01\n"
     ]
    },
    {
     "data": {
      "text/plain": [
       "  0%|          | 0/1000 [00:00<?, ?it/s]"
      ],
      "application/vnd.jupyter.widget-view+json": {
       "version_major": 2,
       "version_minor": 0,
       "model_id": "c744526a69174a10bb6ed66446b5c126"
      }
     },
     "metadata": {},
     "output_type": "display_data"
    },
    {
     "name": "stderr",
     "output_type": "stream",
     "text": [
      "Epoch 24: 4.4s to complete\n",
      "    error(train)=6.95e-01, acc(train)=7.81e-01, error(valid)=7.16e-01, acc(valid)=7.76e-01\n"
     ]
    },
    {
     "data": {
      "text/plain": [
       "  0%|          | 0/1000 [00:00<?, ?it/s]"
      ],
      "application/vnd.jupyter.widget-view+json": {
       "version_major": 2,
       "version_minor": 0,
       "model_id": "11a1b4067b824434bf99587731e0a9bc"
      }
     },
     "metadata": {},
     "output_type": "display_data"
    },
    {
     "name": "stderr",
     "output_type": "stream",
     "text": [
      "Epoch 25: 4.0s to complete\n",
      "    error(train)=6.84e-01, acc(train)=7.85e-01, error(valid)=7.08e-01, acc(valid)=7.78e-01\n"
     ]
    },
    {
     "data": {
      "text/plain": [
       "  0%|          | 0/1000 [00:00<?, ?it/s]"
      ],
      "application/vnd.jupyter.widget-view+json": {
       "version_major": 2,
       "version_minor": 0,
       "model_id": "78fbe0e196634cd2a0ce5c914a275b1d"
      }
     },
     "metadata": {},
     "output_type": "display_data"
    },
    {
     "name": "stderr",
     "output_type": "stream",
     "text": [
      "Epoch 26: 4.2s to complete\n",
      "    error(train)=6.74e-01, acc(train)=7.88e-01, error(valid)=6.97e-01, acc(valid)=7.80e-01\n"
     ]
    },
    {
     "data": {
      "text/plain": [
       "  0%|          | 0/1000 [00:00<?, ?it/s]"
      ],
      "application/vnd.jupyter.widget-view+json": {
       "version_major": 2,
       "version_minor": 0,
       "model_id": "3366c6c1a1d140ddb9d86ef11dd0cda4"
      }
     },
     "metadata": {},
     "output_type": "display_data"
    },
    {
     "name": "stderr",
     "output_type": "stream",
     "text": [
      "Epoch 27: 4.9s to complete\n",
      "    error(train)=6.65e-01, acc(train)=7.90e-01, error(valid)=6.89e-01, acc(valid)=7.83e-01\n"
     ]
    },
    {
     "data": {
      "text/plain": [
       "  0%|          | 0/1000 [00:00<?, ?it/s]"
      ],
      "application/vnd.jupyter.widget-view+json": {
       "version_major": 2,
       "version_minor": 0,
       "model_id": "ad8b827cf7e74c5bb14f6d27fdf43a33"
      }
     },
     "metadata": {},
     "output_type": "display_data"
    },
    {
     "name": "stderr",
     "output_type": "stream",
     "text": [
      "Epoch 28: 5.7s to complete\n",
      "    error(train)=6.54e-01, acc(train)=7.92e-01, error(valid)=6.78e-01, acc(valid)=7.85e-01\n"
     ]
    },
    {
     "data": {
      "text/plain": [
       "  0%|          | 0/1000 [00:00<?, ?it/s]"
      ],
      "application/vnd.jupyter.widget-view+json": {
       "version_major": 2,
       "version_minor": 0,
       "model_id": "2bb4714b9d8c4bd0bdc36f8711f79c49"
      }
     },
     "metadata": {},
     "output_type": "display_data"
    },
    {
     "name": "stderr",
     "output_type": "stream",
     "text": [
      "Epoch 29: 4.6s to complete\n",
      "    error(train)=6.45e-01, acc(train)=7.95e-01, error(valid)=6.71e-01, acc(valid)=7.86e-01\n"
     ]
    },
    {
     "data": {
      "text/plain": [
       "  0%|          | 0/1000 [00:00<?, ?it/s]"
      ],
      "application/vnd.jupyter.widget-view+json": {
       "version_major": 2,
       "version_minor": 0,
       "model_id": "7ed89bf548814e7086f7c539cae434f3"
      }
     },
     "metadata": {},
     "output_type": "display_data"
    },
    {
     "name": "stderr",
     "output_type": "stream",
     "text": [
      "Epoch 30: 3.9s to complete\n",
      "    error(train)=6.41e-01, acc(train)=7.97e-01, error(valid)=6.67e-01, acc(valid)=7.88e-01\n"
     ]
    },
    {
     "data": {
      "text/plain": [
       "  0%|          | 0/1000 [00:00<?, ?it/s]"
      ],
      "application/vnd.jupyter.widget-view+json": {
       "version_major": 2,
       "version_minor": 0,
       "model_id": "ddf67378c37f4bdab721bf51c6fdcac9"
      }
     },
     "metadata": {},
     "output_type": "display_data"
    },
    {
     "name": "stderr",
     "output_type": "stream",
     "text": [
      "Epoch 31: 4.5s to complete\n",
      "    error(train)=6.29e-01, acc(train)=7.99e-01, error(valid)=6.56e-01, acc(valid)=7.89e-01\n"
     ]
    },
    {
     "data": {
      "text/plain": [
       "  0%|          | 0/1000 [00:00<?, ?it/s]"
      ],
      "application/vnd.jupyter.widget-view+json": {
       "version_major": 2,
       "version_minor": 0,
       "model_id": "ca3a9e533cef41be9893bd24f1431274"
      }
     },
     "metadata": {},
     "output_type": "display_data"
    },
    {
     "name": "stderr",
     "output_type": "stream",
     "text": [
      "Epoch 32: 4.2s to complete\n",
      "    error(train)=6.25e-01, acc(train)=8.00e-01, error(valid)=6.50e-01, acc(valid)=7.92e-01\n"
     ]
    },
    {
     "data": {
      "text/plain": [
       "  0%|          | 0/1000 [00:00<?, ?it/s]"
      ],
      "application/vnd.jupyter.widget-view+json": {
       "version_major": 2,
       "version_minor": 0,
       "model_id": "07a5cfd5a1a94e97b3583f4c6715301f"
      }
     },
     "metadata": {},
     "output_type": "display_data"
    },
    {
     "name": "stderr",
     "output_type": "stream",
     "text": [
      "Epoch 33: 4.7s to complete\n",
      "    error(train)=6.19e-01, acc(train)=8.02e-01, error(valid)=6.47e-01, acc(valid)=7.94e-01\n"
     ]
    },
    {
     "data": {
      "text/plain": [
       "  0%|          | 0/1000 [00:00<?, ?it/s]"
      ],
      "application/vnd.jupyter.widget-view+json": {
       "version_major": 2,
       "version_minor": 0,
       "model_id": "09df7f619af0409f892dbd3c7fffe8e8"
      }
     },
     "metadata": {},
     "output_type": "display_data"
    },
    {
     "name": "stderr",
     "output_type": "stream",
     "text": [
      "Epoch 34: 5.8s to complete\n",
      "    error(train)=6.11e-01, acc(train)=8.05e-01, error(valid)=6.38e-01, acc(valid)=7.97e-01\n"
     ]
    },
    {
     "data": {
      "text/plain": [
       "  0%|          | 0/1000 [00:00<?, ?it/s]"
      ],
      "application/vnd.jupyter.widget-view+json": {
       "version_major": 2,
       "version_minor": 0,
       "model_id": "1e32db2c2d224d248232819feb2e5a69"
      }
     },
     "metadata": {},
     "output_type": "display_data"
    },
    {
     "name": "stderr",
     "output_type": "stream",
     "text": [
      "Epoch 35: 5.3s to complete\n",
      "    error(train)=6.05e-01, acc(train)=8.05e-01, error(valid)=6.33e-01, acc(valid)=7.97e-01\n"
     ]
    },
    {
     "data": {
      "text/plain": [
       "  0%|          | 0/1000 [00:00<?, ?it/s]"
      ],
      "application/vnd.jupyter.widget-view+json": {
       "version_major": 2,
       "version_minor": 0,
       "model_id": "8f218459231a488e85c244b04a96801a"
      }
     },
     "metadata": {},
     "output_type": "display_data"
    },
    {
     "name": "stderr",
     "output_type": "stream",
     "text": [
      "Epoch 36: 7.1s to complete\n",
      "    error(train)=6.00e-01, acc(train)=8.07e-01, error(valid)=6.28e-01, acc(valid)=7.97e-01\n"
     ]
    },
    {
     "data": {
      "text/plain": [
       "  0%|          | 0/1000 [00:00<?, ?it/s]"
      ],
      "application/vnd.jupyter.widget-view+json": {
       "version_major": 2,
       "version_minor": 0,
       "model_id": "ab5114627d994992b9337aa4c602b478"
      }
     },
     "metadata": {},
     "output_type": "display_data"
    },
    {
     "name": "stderr",
     "output_type": "stream",
     "text": [
      "Epoch 37: 4.6s to complete\n",
      "    error(train)=5.97e-01, acc(train)=8.08e-01, error(valid)=6.25e-01, acc(valid)=7.99e-01\n"
     ]
    },
    {
     "data": {
      "text/plain": [
       "  0%|          | 0/1000 [00:00<?, ?it/s]"
      ],
      "application/vnd.jupyter.widget-view+json": {
       "version_major": 2,
       "version_minor": 0,
       "model_id": "3a5c40febbaa4c78bdd065ad47a02efe"
      }
     },
     "metadata": {},
     "output_type": "display_data"
    },
    {
     "name": "stderr",
     "output_type": "stream",
     "text": [
      "Epoch 38: 5.1s to complete\n",
      "    error(train)=5.91e-01, acc(train)=8.09e-01, error(valid)=6.21e-01, acc(valid)=7.99e-01\n"
     ]
    },
    {
     "data": {
      "text/plain": [
       "  0%|          | 0/1000 [00:00<?, ?it/s]"
      ],
      "application/vnd.jupyter.widget-view+json": {
       "version_major": 2,
       "version_minor": 0,
       "model_id": "4f63607406bf4a42935987251733facd"
      }
     },
     "metadata": {},
     "output_type": "display_data"
    },
    {
     "name": "stderr",
     "output_type": "stream",
     "text": [
      "Epoch 39: 4.9s to complete\n",
      "    error(train)=5.88e-01, acc(train)=8.10e-01, error(valid)=6.19e-01, acc(valid)=8.00e-01\n"
     ]
    },
    {
     "data": {
      "text/plain": [
       "  0%|          | 0/1000 [00:00<?, ?it/s]"
      ],
      "application/vnd.jupyter.widget-view+json": {
       "version_major": 2,
       "version_minor": 0,
       "model_id": "5329cb5a2cc6490ca80916f66304ee40"
      }
     },
     "metadata": {},
     "output_type": "display_data"
    },
    {
     "name": "stderr",
     "output_type": "stream",
     "text": [
      "Epoch 40: 5.1s to complete\n",
      "    error(train)=5.81e-01, acc(train)=8.11e-01, error(valid)=6.11e-01, acc(valid)=8.02e-01\n"
     ]
    },
    {
     "data": {
      "text/plain": [
       "  0%|          | 0/1000 [00:00<?, ?it/s]"
      ],
      "application/vnd.jupyter.widget-view+json": {
       "version_major": 2,
       "version_minor": 0,
       "model_id": "6b0f06223e0d4d5ead38f3f94c9bb0e5"
      }
     },
     "metadata": {},
     "output_type": "display_data"
    },
    {
     "name": "stderr",
     "output_type": "stream",
     "text": [
      "Epoch 41: 4.5s to complete\n",
      "    error(train)=5.75e-01, acc(train)=8.12e-01, error(valid)=6.07e-01, acc(valid)=8.04e-01\n"
     ]
    },
    {
     "data": {
      "text/plain": [
       "  0%|          | 0/1000 [00:00<?, ?it/s]"
      ],
      "application/vnd.jupyter.widget-view+json": {
       "version_major": 2,
       "version_minor": 0,
       "model_id": "4274c72261ec4f78a817cf77faf409c9"
      }
     },
     "metadata": {},
     "output_type": "display_data"
    },
    {
     "name": "stderr",
     "output_type": "stream",
     "text": [
      "Epoch 42: 4.7s to complete\n",
      "    error(train)=5.73e-01, acc(train)=8.13e-01, error(valid)=6.05e-01, acc(valid)=8.04e-01\n"
     ]
    },
    {
     "data": {
      "text/plain": [
       "  0%|          | 0/1000 [00:00<?, ?it/s]"
      ],
      "application/vnd.jupyter.widget-view+json": {
       "version_major": 2,
       "version_minor": 0,
       "model_id": "0abe3d3bcc334c56a232432a61d27b39"
      }
     },
     "metadata": {},
     "output_type": "display_data"
    },
    {
     "name": "stderr",
     "output_type": "stream",
     "text": [
      "Epoch 43: 5.0s to complete\n",
      "    error(train)=5.69e-01, acc(train)=8.15e-01, error(valid)=6.01e-01, acc(valid)=8.06e-01\n"
     ]
    },
    {
     "data": {
      "text/plain": [
       "  0%|          | 0/1000 [00:00<?, ?it/s]"
      ],
      "application/vnd.jupyter.widget-view+json": {
       "version_major": 2,
       "version_minor": 0,
       "model_id": "d42b013357af4e319e212dccf0872102"
      }
     },
     "metadata": {},
     "output_type": "display_data"
    },
    {
     "name": "stderr",
     "output_type": "stream",
     "text": [
      "Epoch 44: 5.0s to complete\n",
      "    error(train)=5.63e-01, acc(train)=8.16e-01, error(valid)=5.97e-01, acc(valid)=8.07e-01\n"
     ]
    },
    {
     "data": {
      "text/plain": [
       "  0%|          | 0/1000 [00:00<?, ?it/s]"
      ],
      "application/vnd.jupyter.widget-view+json": {
       "version_major": 2,
       "version_minor": 0,
       "model_id": "8821a4b79f5444fa91ec7f9571a20c26"
      }
     },
     "metadata": {},
     "output_type": "display_data"
    },
    {
     "name": "stderr",
     "output_type": "stream",
     "text": [
      "Epoch 45: 5.2s to complete\n",
      "    error(train)=5.59e-01, acc(train)=8.17e-01, error(valid)=5.92e-01, acc(valid)=8.08e-01\n"
     ]
    },
    {
     "data": {
      "text/plain": [
       "  0%|          | 0/1000 [00:00<?, ?it/s]"
      ],
      "application/vnd.jupyter.widget-view+json": {
       "version_major": 2,
       "version_minor": 0,
       "model_id": "8dbe473df2ef4403b6ac91d10c556bb8"
      }
     },
     "metadata": {},
     "output_type": "display_data"
    },
    {
     "name": "stderr",
     "output_type": "stream",
     "text": [
      "Epoch 46: 4.3s to complete\n",
      "    error(train)=5.60e-01, acc(train)=8.17e-01, error(valid)=5.94e-01, acc(valid)=8.07e-01\n"
     ]
    },
    {
     "data": {
      "text/plain": [
       "  0%|          | 0/1000 [00:00<?, ?it/s]"
      ],
      "application/vnd.jupyter.widget-view+json": {
       "version_major": 2,
       "version_minor": 0,
       "model_id": "063bf2fea97949aeb4c585df8aa55419"
      }
     },
     "metadata": {},
     "output_type": "display_data"
    },
    {
     "name": "stderr",
     "output_type": "stream",
     "text": [
      "Epoch 47: 4.4s to complete\n",
      "    error(train)=5.49e-01, acc(train)=8.20e-01, error(valid)=5.84e-01, acc(valid)=8.11e-01\n"
     ]
    },
    {
     "data": {
      "text/plain": [
       "  0%|          | 0/1000 [00:00<?, ?it/s]"
      ],
      "application/vnd.jupyter.widget-view+json": {
       "version_major": 2,
       "version_minor": 0,
       "model_id": "3ed3aa06c7604fcbb9c1ca978ae9ad06"
      }
     },
     "metadata": {},
     "output_type": "display_data"
    },
    {
     "name": "stderr",
     "output_type": "stream",
     "text": [
      "Epoch 48: 4.3s to complete\n",
      "    error(train)=5.49e-01, acc(train)=8.20e-01, error(valid)=5.83e-01, acc(valid)=8.10e-01\n"
     ]
    },
    {
     "data": {
      "text/plain": [
       "  0%|          | 0/1000 [00:00<?, ?it/s]"
      ],
      "application/vnd.jupyter.widget-view+json": {
       "version_major": 2,
       "version_minor": 0,
       "model_id": "63419d4428b44346922e105437d3b90f"
      }
     },
     "metadata": {},
     "output_type": "display_data"
    },
    {
     "name": "stderr",
     "output_type": "stream",
     "text": [
      "Epoch 49: 4.8s to complete\n",
      "    error(train)=5.43e-01, acc(train)=8.21e-01, error(valid)=5.79e-01, acc(valid)=8.11e-01\n"
     ]
    },
    {
     "data": {
      "text/plain": [
       "  0%|          | 0/1000 [00:00<?, ?it/s]"
      ],
      "application/vnd.jupyter.widget-view+json": {
       "version_major": 2,
       "version_minor": 0,
       "model_id": "dfcb994e444546048a4891cba5f15b39"
      }
     },
     "metadata": {},
     "output_type": "display_data"
    },
    {
     "name": "stderr",
     "output_type": "stream",
     "text": [
      "Epoch 50: 4.8s to complete\n",
      "    error(train)=5.39e-01, acc(train)=8.22e-01, error(valid)=5.75e-01, acc(valid)=8.12e-01\n"
     ]
    },
    {
     "data": {
      "text/plain": [
       "  0%|          | 0/1000 [00:00<?, ?it/s]"
      ],
      "application/vnd.jupyter.widget-view+json": {
       "version_major": 2,
       "version_minor": 0,
       "model_id": "d128c54efabe42cf85b805b085b812ba"
      }
     },
     "metadata": {},
     "output_type": "display_data"
    },
    {
     "name": "stderr",
     "output_type": "stream",
     "text": [
      "Epoch 51: 4.6s to complete\n",
      "    error(train)=5.37e-01, acc(train)=8.23e-01, error(valid)=5.74e-01, acc(valid)=8.11e-01\n"
     ]
    },
    {
     "data": {
      "text/plain": [
       "  0%|          | 0/1000 [00:00<?, ?it/s]"
      ],
      "application/vnd.jupyter.widget-view+json": {
       "version_major": 2,
       "version_minor": 0,
       "model_id": "418f5e2e372a45b99294fd6d518d43ae"
      }
     },
     "metadata": {},
     "output_type": "display_data"
    },
    {
     "name": "stderr",
     "output_type": "stream",
     "text": [
      "Epoch 52: 4.6s to complete\n",
      "    error(train)=5.35e-01, acc(train)=8.23e-01, error(valid)=5.73e-01, acc(valid)=8.10e-01\n"
     ]
    },
    {
     "data": {
      "text/plain": [
       "  0%|          | 0/1000 [00:00<?, ?it/s]"
      ],
      "application/vnd.jupyter.widget-view+json": {
       "version_major": 2,
       "version_minor": 0,
       "model_id": "675aa3a305f3447f81c067a17f141966"
      }
     },
     "metadata": {},
     "output_type": "display_data"
    },
    {
     "name": "stderr",
     "output_type": "stream",
     "text": [
      "Epoch 53: 4.7s to complete\n",
      "    error(train)=5.29e-01, acc(train)=8.24e-01, error(valid)=5.66e-01, acc(valid)=8.14e-01\n"
     ]
    },
    {
     "data": {
      "text/plain": [
       "  0%|          | 0/1000 [00:00<?, ?it/s]"
      ],
      "application/vnd.jupyter.widget-view+json": {
       "version_major": 2,
       "version_minor": 0,
       "model_id": "45d0f5f6fb47483086e4ffdd5388d761"
      }
     },
     "metadata": {},
     "output_type": "display_data"
    },
    {
     "name": "stderr",
     "output_type": "stream",
     "text": [
      "Epoch 54: 5.0s to complete\n",
      "    error(train)=5.29e-01, acc(train)=8.25e-01, error(valid)=5.67e-01, acc(valid)=8.12e-01\n"
     ]
    },
    {
     "data": {
      "text/plain": [
       "  0%|          | 0/1000 [00:00<?, ?it/s]"
      ],
      "application/vnd.jupyter.widget-view+json": {
       "version_major": 2,
       "version_minor": 0,
       "model_id": "36ffd8f0a5dd4fdcb19448e578aafc58"
      }
     },
     "metadata": {},
     "output_type": "display_data"
    },
    {
     "name": "stderr",
     "output_type": "stream",
     "text": [
      "Epoch 55: 4.6s to complete\n",
      "    error(train)=5.27e-01, acc(train)=8.25e-01, error(valid)=5.65e-01, acc(valid)=8.12e-01\n"
     ]
    },
    {
     "data": {
      "text/plain": [
       "  0%|          | 0/1000 [00:00<?, ?it/s]"
      ],
      "application/vnd.jupyter.widget-view+json": {
       "version_major": 2,
       "version_minor": 0,
       "model_id": "ef9a780c9f7e488c81fd4db29953b452"
      }
     },
     "metadata": {},
     "output_type": "display_data"
    },
    {
     "name": "stderr",
     "output_type": "stream",
     "text": [
      "Epoch 56: 4.7s to complete\n",
      "    error(train)=5.21e-01, acc(train)=8.27e-01, error(valid)=5.59e-01, acc(valid)=8.13e-01\n"
     ]
    },
    {
     "data": {
      "text/plain": [
       "  0%|          | 0/1000 [00:00<?, ?it/s]"
      ],
      "application/vnd.jupyter.widget-view+json": {
       "version_major": 2,
       "version_minor": 0,
       "model_id": "20291c136bff42109be5eda1fc752438"
      }
     },
     "metadata": {},
     "output_type": "display_data"
    },
    {
     "name": "stderr",
     "output_type": "stream",
     "text": [
      "Epoch 57: 4.5s to complete\n",
      "    error(train)=5.20e-01, acc(train)=8.27e-01, error(valid)=5.60e-01, acc(valid)=8.15e-01\n"
     ]
    },
    {
     "data": {
      "text/plain": [
       "  0%|          | 0/1000 [00:00<?, ?it/s]"
      ],
      "application/vnd.jupyter.widget-view+json": {
       "version_major": 2,
       "version_minor": 0,
       "model_id": "b34719b921c34db192fdd66caa4a8c65"
      }
     },
     "metadata": {},
     "output_type": "display_data"
    },
    {
     "name": "stderr",
     "output_type": "stream",
     "text": [
      "Epoch 58: 4.8s to complete\n",
      "    error(train)=5.16e-01, acc(train)=8.29e-01, error(valid)=5.55e-01, acc(valid)=8.16e-01\n"
     ]
    },
    {
     "data": {
      "text/plain": [
       "  0%|          | 0/1000 [00:00<?, ?it/s]"
      ],
      "application/vnd.jupyter.widget-view+json": {
       "version_major": 2,
       "version_minor": 0,
       "model_id": "26891e683cff450f812248891fd0ad27"
      }
     },
     "metadata": {},
     "output_type": "display_data"
    },
    {
     "name": "stderr",
     "output_type": "stream",
     "text": [
      "Epoch 59: 5.5s to complete\n",
      "    error(train)=5.15e-01, acc(train)=8.29e-01, error(valid)=5.55e-01, acc(valid)=8.17e-01\n"
     ]
    },
    {
     "data": {
      "text/plain": [
       "  0%|          | 0/1000 [00:00<?, ?it/s]"
      ],
      "application/vnd.jupyter.widget-view+json": {
       "version_major": 2,
       "version_minor": 0,
       "model_id": "e402055f7faa4a98a781cc84ccafbf45"
      }
     },
     "metadata": {},
     "output_type": "display_data"
    },
    {
     "name": "stderr",
     "output_type": "stream",
     "text": [
      "Epoch 60: 4.6s to complete\n",
      "    error(train)=5.14e-01, acc(train)=8.29e-01, error(valid)=5.54e-01, acc(valid)=8.16e-01\n"
     ]
    },
    {
     "data": {
      "text/plain": [
       "  0%|          | 0/1000 [00:00<?, ?it/s]"
      ],
      "application/vnd.jupyter.widget-view+json": {
       "version_major": 2,
       "version_minor": 0,
       "model_id": "aa60704968844fd8b24aef7770350a4a"
      }
     },
     "metadata": {},
     "output_type": "display_data"
    },
    {
     "name": "stderr",
     "output_type": "stream",
     "text": [
      "Epoch 61: 4.5s to complete\n",
      "    error(train)=5.07e-01, acc(train)=8.31e-01, error(valid)=5.48e-01, acc(valid)=8.17e-01\n"
     ]
    },
    {
     "data": {
      "text/plain": [
       "  0%|          | 0/1000 [00:00<?, ?it/s]"
      ],
      "application/vnd.jupyter.widget-view+json": {
       "version_major": 2,
       "version_minor": 0,
       "model_id": "2f34596d921d4b5e980757847c5aa9f6"
      }
     },
     "metadata": {},
     "output_type": "display_data"
    },
    {
     "name": "stderr",
     "output_type": "stream",
     "text": [
      "Epoch 62: 4.9s to complete\n",
      "    error(train)=5.06e-01, acc(train)=8.31e-01, error(valid)=5.48e-01, acc(valid)=8.17e-01\n"
     ]
    },
    {
     "data": {
      "text/plain": [
       "  0%|          | 0/1000 [00:00<?, ?it/s]"
      ],
      "application/vnd.jupyter.widget-view+json": {
       "version_major": 2,
       "version_minor": 0,
       "model_id": "8bbcaebcbdd8445ba8709cd319a7b7b0"
      }
     },
     "metadata": {},
     "output_type": "display_data"
    },
    {
     "name": "stderr",
     "output_type": "stream",
     "text": [
      "Epoch 63: 6.0s to complete\n",
      "    error(train)=5.05e-01, acc(train)=8.31e-01, error(valid)=5.47e-01, acc(valid)=8.19e-01\n"
     ]
    },
    {
     "data": {
      "text/plain": [
       "  0%|          | 0/1000 [00:00<?, ?it/s]"
      ],
      "application/vnd.jupyter.widget-view+json": {
       "version_major": 2,
       "version_minor": 0,
       "model_id": "ccd7752a6806475c91e7ea554487e4ac"
      }
     },
     "metadata": {},
     "output_type": "display_data"
    },
    {
     "name": "stderr",
     "output_type": "stream",
     "text": [
      "Epoch 64: 5.0s to complete\n",
      "    error(train)=5.04e-01, acc(train)=8.31e-01, error(valid)=5.48e-01, acc(valid)=8.18e-01\n"
     ]
    },
    {
     "data": {
      "text/plain": [
       "  0%|          | 0/1000 [00:00<?, ?it/s]"
      ],
      "application/vnd.jupyter.widget-view+json": {
       "version_major": 2,
       "version_minor": 0,
       "model_id": "c3a31164f9334d0f8c3d8bab85ac474a"
      }
     },
     "metadata": {},
     "output_type": "display_data"
    },
    {
     "name": "stderr",
     "output_type": "stream",
     "text": [
      "Epoch 65: 4.6s to complete\n",
      "    error(train)=5.00e-01, acc(train)=8.32e-01, error(valid)=5.44e-01, acc(valid)=8.20e-01\n"
     ]
    },
    {
     "data": {
      "text/plain": [
       "  0%|          | 0/1000 [00:00<?, ?it/s]"
      ],
      "application/vnd.jupyter.widget-view+json": {
       "version_major": 2,
       "version_minor": 0,
       "model_id": "f6be44849b5340d2b9c80a9e67bb8586"
      }
     },
     "metadata": {},
     "output_type": "display_data"
    },
    {
     "name": "stderr",
     "output_type": "stream",
     "text": [
      "Epoch 66: 4.5s to complete\n",
      "    error(train)=4.96e-01, acc(train)=8.34e-01, error(valid)=5.39e-01, acc(valid)=8.21e-01\n"
     ]
    },
    {
     "data": {
      "text/plain": [
       "  0%|          | 0/1000 [00:00<?, ?it/s]"
      ],
      "application/vnd.jupyter.widget-view+json": {
       "version_major": 2,
       "version_minor": 0,
       "model_id": "d7fac92524da4160a25d671d87b5fec6"
      }
     },
     "metadata": {},
     "output_type": "display_data"
    },
    {
     "name": "stderr",
     "output_type": "stream",
     "text": [
      "Epoch 67: 5.1s to complete\n",
      "    error(train)=4.97e-01, acc(train)=8.33e-01, error(valid)=5.41e-01, acc(valid)=8.20e-01\n"
     ]
    },
    {
     "data": {
      "text/plain": [
       "  0%|          | 0/1000 [00:00<?, ?it/s]"
      ],
      "application/vnd.jupyter.widget-view+json": {
       "version_major": 2,
       "version_minor": 0,
       "model_id": "e8ce5fdd26184904b702f69234722c80"
      }
     },
     "metadata": {},
     "output_type": "display_data"
    },
    {
     "name": "stderr",
     "output_type": "stream",
     "text": [
      "Epoch 68: 5.3s to complete\n",
      "    error(train)=4.95e-01, acc(train)=8.34e-01, error(valid)=5.40e-01, acc(valid)=8.18e-01\n"
     ]
    },
    {
     "data": {
      "text/plain": [
       "  0%|          | 0/1000 [00:00<?, ?it/s]"
      ],
      "application/vnd.jupyter.widget-view+json": {
       "version_major": 2,
       "version_minor": 0,
       "model_id": "35a8fe875e9441a291513357bc69fe83"
      }
     },
     "metadata": {},
     "output_type": "display_data"
    },
    {
     "name": "stderr",
     "output_type": "stream",
     "text": [
      "Epoch 69: 5.3s to complete\n",
      "    error(train)=4.90e-01, acc(train)=8.34e-01, error(valid)=5.35e-01, acc(valid)=8.21e-01\n"
     ]
    },
    {
     "data": {
      "text/plain": [
       "  0%|          | 0/1000 [00:00<?, ?it/s]"
      ],
      "application/vnd.jupyter.widget-view+json": {
       "version_major": 2,
       "version_minor": 0,
       "model_id": "1c3c5f830890435c902629ccefbe00ec"
      }
     },
     "metadata": {},
     "output_type": "display_data"
    },
    {
     "name": "stderr",
     "output_type": "stream",
     "text": [
      "Epoch 70: 5.1s to complete\n",
      "    error(train)=4.89e-01, acc(train)=8.35e-01, error(valid)=5.35e-01, acc(valid)=8.22e-01\n"
     ]
    },
    {
     "data": {
      "text/plain": [
       "  0%|          | 0/1000 [00:00<?, ?it/s]"
      ],
      "application/vnd.jupyter.widget-view+json": {
       "version_major": 2,
       "version_minor": 0,
       "model_id": "0eb7ae3ddd6d421c81fbbaed6a6d7d3e"
      }
     },
     "metadata": {},
     "output_type": "display_data"
    },
    {
     "name": "stderr",
     "output_type": "stream",
     "text": [
      "Epoch 71: 4.7s to complete\n",
      "    error(train)=4.87e-01, acc(train)=8.35e-01, error(valid)=5.35e-01, acc(valid)=8.22e-01\n"
     ]
    },
    {
     "data": {
      "text/plain": [
       "  0%|          | 0/1000 [00:00<?, ?it/s]"
      ],
      "application/vnd.jupyter.widget-view+json": {
       "version_major": 2,
       "version_minor": 0,
       "model_id": "6caec07fd39b4788bb59a24f31263973"
      }
     },
     "metadata": {},
     "output_type": "display_data"
    },
    {
     "name": "stderr",
     "output_type": "stream",
     "text": [
      "Epoch 72: 5.4s to complete\n",
      "    error(train)=4.84e-01, acc(train)=8.37e-01, error(valid)=5.31e-01, acc(valid)=8.23e-01\n"
     ]
    },
    {
     "data": {
      "text/plain": [
       "  0%|          | 0/1000 [00:00<?, ?it/s]"
      ],
      "application/vnd.jupyter.widget-view+json": {
       "version_major": 2,
       "version_minor": 0,
       "model_id": "7f779a30bc024392ad85a38cfd504ad0"
      }
     },
     "metadata": {},
     "output_type": "display_data"
    },
    {
     "name": "stderr",
     "output_type": "stream",
     "text": [
      "Epoch 73: 4.8s to complete\n",
      "    error(train)=4.83e-01, acc(train)=8.37e-01, error(valid)=5.31e-01, acc(valid)=8.23e-01\n"
     ]
    },
    {
     "data": {
      "text/plain": [
       "  0%|          | 0/1000 [00:00<?, ?it/s]"
      ],
      "application/vnd.jupyter.widget-view+json": {
       "version_major": 2,
       "version_minor": 0,
       "model_id": "d5a38e70e7cc48b6b3dddd67a33733b1"
      }
     },
     "metadata": {},
     "output_type": "display_data"
    },
    {
     "name": "stderr",
     "output_type": "stream",
     "text": [
      "Epoch 74: 4.7s to complete\n",
      "    error(train)=4.81e-01, acc(train)=8.38e-01, error(valid)=5.29e-01, acc(valid)=8.25e-01\n"
     ]
    },
    {
     "data": {
      "text/plain": [
       "  0%|          | 0/1000 [00:00<?, ?it/s]"
      ],
      "application/vnd.jupyter.widget-view+json": {
       "version_major": 2,
       "version_minor": 0,
       "model_id": "08d4c74c39c5425696b3a010c90b6e79"
      }
     },
     "metadata": {},
     "output_type": "display_data"
    },
    {
     "name": "stderr",
     "output_type": "stream",
     "text": [
      "Epoch 75: 4.5s to complete\n",
      "    error(train)=4.79e-01, acc(train)=8.38e-01, error(valid)=5.27e-01, acc(valid)=8.25e-01\n"
     ]
    },
    {
     "data": {
      "text/plain": [
       "  0%|          | 0/1000 [00:00<?, ?it/s]"
      ],
      "application/vnd.jupyter.widget-view+json": {
       "version_major": 2,
       "version_minor": 0,
       "model_id": "96a6ae8f4da945908ce3c1ba788903c3"
      }
     },
     "metadata": {},
     "output_type": "display_data"
    },
    {
     "name": "stderr",
     "output_type": "stream",
     "text": [
      "Epoch 76: 4.7s to complete\n",
      "    error(train)=4.81e-01, acc(train)=8.37e-01, error(valid)=5.31e-01, acc(valid)=8.23e-01\n"
     ]
    },
    {
     "data": {
      "text/plain": [
       "  0%|          | 0/1000 [00:00<?, ?it/s]"
      ],
      "application/vnd.jupyter.widget-view+json": {
       "version_major": 2,
       "version_minor": 0,
       "model_id": "22a4d785d97d4675b27cbd6f4cd96222"
      }
     },
     "metadata": {},
     "output_type": "display_data"
    },
    {
     "name": "stderr",
     "output_type": "stream",
     "text": [
      "Epoch 77: 5.3s to complete\n",
      "    error(train)=4.75e-01, acc(train)=8.39e-01, error(valid)=5.24e-01, acc(valid)=8.25e-01\n"
     ]
    },
    {
     "data": {
      "text/plain": [
       "  0%|          | 0/1000 [00:00<?, ?it/s]"
      ],
      "application/vnd.jupyter.widget-view+json": {
       "version_major": 2,
       "version_minor": 0,
       "model_id": "aa6e43638fa344709b71f5b6cb5e2c35"
      }
     },
     "metadata": {},
     "output_type": "display_data"
    },
    {
     "name": "stderr",
     "output_type": "stream",
     "text": [
      "Epoch 78: 5.0s to complete\n",
      "    error(train)=4.74e-01, acc(train)=8.39e-01, error(valid)=5.24e-01, acc(valid)=8.26e-01\n"
     ]
    },
    {
     "data": {
      "text/plain": [
       "  0%|          | 0/1000 [00:00<?, ?it/s]"
      ],
      "application/vnd.jupyter.widget-view+json": {
       "version_major": 2,
       "version_minor": 0,
       "model_id": "095f36df985c4a0c9751a41b10e19764"
      }
     },
     "metadata": {},
     "output_type": "display_data"
    },
    {
     "name": "stderr",
     "output_type": "stream",
     "text": [
      "Epoch 79: 5.5s to complete\n",
      "    error(train)=4.73e-01, acc(train)=8.39e-01, error(valid)=5.24e-01, acc(valid)=8.24e-01\n"
     ]
    },
    {
     "data": {
      "text/plain": [
       "  0%|          | 0/1000 [00:00<?, ?it/s]"
      ],
      "application/vnd.jupyter.widget-view+json": {
       "version_major": 2,
       "version_minor": 0,
       "model_id": "886fa2d31632429c88dce5bbac10c8c1"
      }
     },
     "metadata": {},
     "output_type": "display_data"
    },
    {
     "name": "stderr",
     "output_type": "stream",
     "text": [
      "Epoch 80: 4.6s to complete\n",
      "    error(train)=4.71e-01, acc(train)=8.40e-01, error(valid)=5.23e-01, acc(valid)=8.26e-01\n"
     ]
    },
    {
     "data": {
      "text/plain": [
       "  0%|          | 0/1000 [00:00<?, ?it/s]"
      ],
      "application/vnd.jupyter.widget-view+json": {
       "version_major": 2,
       "version_minor": 0,
       "model_id": "94f91fa4d7d74200b6f87b2ac6dc136a"
      }
     },
     "metadata": {},
     "output_type": "display_data"
    },
    {
     "name": "stderr",
     "output_type": "stream",
     "text": [
      "Epoch 81: 4.9s to complete\n",
      "    error(train)=4.68e-01, acc(train)=8.40e-01, error(valid)=5.20e-01, acc(valid)=8.26e-01\n"
     ]
    },
    {
     "data": {
      "text/plain": [
       "  0%|          | 0/1000 [00:00<?, ?it/s]"
      ],
      "application/vnd.jupyter.widget-view+json": {
       "version_major": 2,
       "version_minor": 0,
       "model_id": "bf8e8265eb234513ba9d7bed6903427c"
      }
     },
     "metadata": {},
     "output_type": "display_data"
    },
    {
     "name": "stderr",
     "output_type": "stream",
     "text": [
      "Epoch 82: 4.8s to complete\n",
      "    error(train)=4.67e-01, acc(train)=8.40e-01, error(valid)=5.20e-01, acc(valid)=8.27e-01\n"
     ]
    },
    {
     "data": {
      "text/plain": [
       "  0%|          | 0/1000 [00:00<?, ?it/s]"
      ],
      "application/vnd.jupyter.widget-view+json": {
       "version_major": 2,
       "version_minor": 0,
       "model_id": "cd760f960afc45debca490ce4e5b2449"
      }
     },
     "metadata": {},
     "output_type": "display_data"
    },
    {
     "name": "stderr",
     "output_type": "stream",
     "text": [
      "Epoch 83: 4.7s to complete\n",
      "    error(train)=4.67e-01, acc(train)=8.40e-01, error(valid)=5.20e-01, acc(valid)=8.26e-01\n"
     ]
    },
    {
     "data": {
      "text/plain": [
       "  0%|          | 0/1000 [00:00<?, ?it/s]"
      ],
      "application/vnd.jupyter.widget-view+json": {
       "version_major": 2,
       "version_minor": 0,
       "model_id": "8443bff7efc14bd78a2498aea4e25b9e"
      }
     },
     "metadata": {},
     "output_type": "display_data"
    },
    {
     "name": "stderr",
     "output_type": "stream",
     "text": [
      "Epoch 84: 4.3s to complete\n",
      "    error(train)=4.66e-01, acc(train)=8.41e-01, error(valid)=5.19e-01, acc(valid)=8.26e-01\n"
     ]
    },
    {
     "data": {
      "text/plain": [
       "  0%|          | 0/1000 [00:00<?, ?it/s]"
      ],
      "application/vnd.jupyter.widget-view+json": {
       "version_major": 2,
       "version_minor": 0,
       "model_id": "965ac8c1a6f54d6baddd59111ff5df6f"
      }
     },
     "metadata": {},
     "output_type": "display_data"
    },
    {
     "name": "stderr",
     "output_type": "stream",
     "text": [
      "Epoch 85: 6.9s to complete\n",
      "    error(train)=4.62e-01, acc(train)=8.42e-01, error(valid)=5.16e-01, acc(valid)=8.27e-01\n"
     ]
    },
    {
     "data": {
      "text/plain": [
       "  0%|          | 0/1000 [00:00<?, ?it/s]"
      ],
      "application/vnd.jupyter.widget-view+json": {
       "version_major": 2,
       "version_minor": 0,
       "model_id": "51c604305437486d9209eda0416466cc"
      }
     },
     "metadata": {},
     "output_type": "display_data"
    },
    {
     "name": "stderr",
     "output_type": "stream",
     "text": [
      "Epoch 86: 5.3s to complete\n",
      "    error(train)=4.62e-01, acc(train)=8.42e-01, error(valid)=5.17e-01, acc(valid)=8.26e-01\n"
     ]
    },
    {
     "data": {
      "text/plain": [
       "  0%|          | 0/1000 [00:00<?, ?it/s]"
      ],
      "application/vnd.jupyter.widget-view+json": {
       "version_major": 2,
       "version_minor": 0,
       "model_id": "7939696d21ad4540be1344f5d8b536b1"
      }
     },
     "metadata": {},
     "output_type": "display_data"
    },
    {
     "name": "stderr",
     "output_type": "stream",
     "text": [
      "Epoch 87: 5.2s to complete\n",
      "    error(train)=4.58e-01, acc(train)=8.44e-01, error(valid)=5.11e-01, acc(valid)=8.29e-01\n"
     ]
    },
    {
     "data": {
      "text/plain": [
       "  0%|          | 0/1000 [00:00<?, ?it/s]"
      ],
      "application/vnd.jupyter.widget-view+json": {
       "version_major": 2,
       "version_minor": 0,
       "model_id": "c476b7012e5f4c07b70b77bb2dc346a6"
      }
     },
     "metadata": {},
     "output_type": "display_data"
    },
    {
     "name": "stderr",
     "output_type": "stream",
     "text": [
      "Epoch 88: 5.9s to complete\n",
      "    error(train)=4.60e-01, acc(train)=8.43e-01, error(valid)=5.16e-01, acc(valid)=8.25e-01\n"
     ]
    },
    {
     "data": {
      "text/plain": [
       "  0%|          | 0/1000 [00:00<?, ?it/s]"
      ],
      "application/vnd.jupyter.widget-view+json": {
       "version_major": 2,
       "version_minor": 0,
       "model_id": "df7571fbb5854c5fb969c5c384ad7d15"
      }
     },
     "metadata": {},
     "output_type": "display_data"
    },
    {
     "name": "stderr",
     "output_type": "stream",
     "text": [
      "Epoch 89: 5.8s to complete\n",
      "    error(train)=4.57e-01, acc(train)=8.44e-01, error(valid)=5.13e-01, acc(valid)=8.28e-01\n"
     ]
    },
    {
     "data": {
      "text/plain": [
       "  0%|          | 0/1000 [00:00<?, ?it/s]"
      ],
      "application/vnd.jupyter.widget-view+json": {
       "version_major": 2,
       "version_minor": 0,
       "model_id": "4ac73fca60514cdfb2049f67d68783a1"
      }
     },
     "metadata": {},
     "output_type": "display_data"
    },
    {
     "name": "stderr",
     "output_type": "stream",
     "text": [
      "Epoch 90: 6.4s to complete\n",
      "    error(train)=4.56e-01, acc(train)=8.44e-01, error(valid)=5.11e-01, acc(valid)=8.27e-01\n"
     ]
    },
    {
     "data": {
      "text/plain": [
       "  0%|          | 0/1000 [00:00<?, ?it/s]"
      ],
      "application/vnd.jupyter.widget-view+json": {
       "version_major": 2,
       "version_minor": 0,
       "model_id": "096f685bfe6d4382a9fe4ef00f6821a7"
      }
     },
     "metadata": {},
     "output_type": "display_data"
    },
    {
     "name": "stderr",
     "output_type": "stream",
     "text": [
      "Epoch 91: 5.0s to complete\n",
      "    error(train)=4.53e-01, acc(train)=8.45e-01, error(valid)=5.09e-01, acc(valid)=8.29e-01\n"
     ]
    },
    {
     "data": {
      "text/plain": [
       "  0%|          | 0/1000 [00:00<?, ?it/s]"
      ],
      "application/vnd.jupyter.widget-view+json": {
       "version_major": 2,
       "version_minor": 0,
       "model_id": "d5e06d95ac7a480088cfdf1b9bc428d6"
      }
     },
     "metadata": {},
     "output_type": "display_data"
    },
    {
     "name": "stderr",
     "output_type": "stream",
     "text": [
      "Epoch 92: 9.4s to complete\n",
      "    error(train)=4.54e-01, acc(train)=8.44e-01, error(valid)=5.12e-01, acc(valid)=8.27e-01\n"
     ]
    },
    {
     "data": {
      "text/plain": [
       "  0%|          | 0/1000 [00:00<?, ?it/s]"
      ],
      "application/vnd.jupyter.widget-view+json": {
       "version_major": 2,
       "version_minor": 0,
       "model_id": "40257adbd5314d1f802d710210c1ca21"
      }
     },
     "metadata": {},
     "output_type": "display_data"
    },
    {
     "name": "stderr",
     "output_type": "stream",
     "text": [
      "Epoch 93: 7.9s to complete\n",
      "    error(train)=4.51e-01, acc(train)=8.45e-01, error(valid)=5.09e-01, acc(valid)=8.29e-01\n"
     ]
    },
    {
     "data": {
      "text/plain": [
       "  0%|          | 0/1000 [00:00<?, ?it/s]"
      ],
      "application/vnd.jupyter.widget-view+json": {
       "version_major": 2,
       "version_minor": 0,
       "model_id": "d7cc409901fb4280b2394a995a0ff3e5"
      }
     },
     "metadata": {},
     "output_type": "display_data"
    },
    {
     "name": "stderr",
     "output_type": "stream",
     "text": [
      "Epoch 94: 4.1s to complete\n",
      "    error(train)=4.50e-01, acc(train)=8.45e-01, error(valid)=5.08e-01, acc(valid)=8.29e-01\n"
     ]
    },
    {
     "data": {
      "text/plain": [
       "  0%|          | 0/1000 [00:00<?, ?it/s]"
      ],
      "application/vnd.jupyter.widget-view+json": {
       "version_major": 2,
       "version_minor": 0,
       "model_id": "29b8c83c056242af9ec0dfc25eddaa06"
      }
     },
     "metadata": {},
     "output_type": "display_data"
    },
    {
     "name": "stderr",
     "output_type": "stream",
     "text": [
      "Epoch 95: 4.4s to complete\n",
      "    error(train)=4.49e-01, acc(train)=8.46e-01, error(valid)=5.08e-01, acc(valid)=8.27e-01\n"
     ]
    },
    {
     "data": {
      "text/plain": [
       "  0%|          | 0/1000 [00:00<?, ?it/s]"
      ],
      "application/vnd.jupyter.widget-view+json": {
       "version_major": 2,
       "version_minor": 0,
       "model_id": "6a6b5d59392c4c82b66aa5ecea3d935b"
      }
     },
     "metadata": {},
     "output_type": "display_data"
    },
    {
     "name": "stderr",
     "output_type": "stream",
     "text": [
      "Epoch 96: 5.8s to complete\n",
      "    error(train)=4.48e-01, acc(train)=8.46e-01, error(valid)=5.06e-01, acc(valid)=8.29e-01\n"
     ]
    },
    {
     "data": {
      "text/plain": [
       "  0%|          | 0/1000 [00:00<?, ?it/s]"
      ],
      "application/vnd.jupyter.widget-view+json": {
       "version_major": 2,
       "version_minor": 0,
       "model_id": "9d8c520e756141278ab16b0c7aa34186"
      }
     },
     "metadata": {},
     "output_type": "display_data"
    },
    {
     "name": "stderr",
     "output_type": "stream",
     "text": [
      "Epoch 97: 8.5s to complete\n",
      "    error(train)=4.45e-01, acc(train)=8.47e-01, error(valid)=5.04e-01, acc(valid)=8.31e-01\n"
     ]
    },
    {
     "data": {
      "text/plain": [
       "  0%|          | 0/1000 [00:00<?, ?it/s]"
      ],
      "application/vnd.jupyter.widget-view+json": {
       "version_major": 2,
       "version_minor": 0,
       "model_id": "3f52747d05bc42869d8aeb460d06e3ea"
      }
     },
     "metadata": {},
     "output_type": "display_data"
    },
    {
     "name": "stderr",
     "output_type": "stream",
     "text": [
      "Epoch 98: 5.2s to complete\n",
      "    error(train)=4.45e-01, acc(train)=8.48e-01, error(valid)=5.05e-01, acc(valid)=8.30e-01\n"
     ]
    },
    {
     "data": {
      "text/plain": [
       "  0%|          | 0/1000 [00:00<?, ?it/s]"
      ],
      "application/vnd.jupyter.widget-view+json": {
       "version_major": 2,
       "version_minor": 0,
       "model_id": "dfd8dddb799543c9afe867f048b1df38"
      }
     },
     "metadata": {},
     "output_type": "display_data"
    },
    {
     "name": "stderr",
     "output_type": "stream",
     "text": [
      "Epoch 99: 7.7s to complete\n",
      "    error(train)=4.43e-01, acc(train)=8.48e-01, error(valid)=5.04e-01, acc(valid)=8.32e-01\n"
     ]
    },
    {
     "data": {
      "text/plain": [
       "  0%|          | 0/1000 [00:00<?, ?it/s]"
      ],
      "application/vnd.jupyter.widget-view+json": {
       "version_major": 2,
       "version_minor": 0,
       "model_id": "c889081412464e7c9acbf2d264ab1b42"
      }
     },
     "metadata": {},
     "output_type": "display_data"
    },
    {
     "name": "stderr",
     "output_type": "stream",
     "text": [
      "Epoch 100: 8.3s to complete\n",
      "    error(train)=4.41e-01, acc(train)=8.48e-01, error(valid)=5.00e-01, acc(valid)=8.31e-01\n"
     ]
    },
    {
     "name": "stdout",
     "output_type": "stream",
     "text": [
      "    final error(train) = 4.41e-01\n",
      "    final error(valid) = 5.00e-01\n",
      "    final acc(train)   = 8.48e-01\n",
      "    final acc(valid)   = 8.31e-01\n",
      "    run time per epoch = 6.95\n"
     ]
    }
   ],
   "execution_count": 4
  },
  {
   "metadata": {
    "ExecuteTime": {
     "end_time": "2024-10-24T20:48:32.650421Z",
     "start_time": "2024-10-24T20:48:32.645336Z"
    }
   },
   "cell_type": "code",
   "source": [
    "stats_dropout = stats\n",
    "keys_dropout = keys"
   ],
   "outputs": [],
   "execution_count": 5
  },
  {
   "metadata": {
    "ExecuteTime": {
     "end_time": "2024-10-24T22:59:41.841565Z",
     "start_time": "2024-10-24T22:59:41.830571Z"
    }
   },
   "cell_type": "code",
   "source": "stats_dropout, keys_dropout",
   "outputs": [
    {
     "data": {
      "text/plain": [
       "(array([[3.84915105, 0.02286   , 3.84906792, 0.02443038],\n",
       "        [2.39954451, 0.41053   , 2.39952295, 0.41101266],\n",
       "        [1.79008031, 0.54151   , 1.7957154 , 0.54025316],\n",
       "        [1.54128131, 0.58736   , 1.54874519, 0.58253165],\n",
       "        [1.386306  , 0.61986   , 1.39581427, 0.61658228],\n",
       "        [1.27602908, 0.64234   , 1.28561717, 0.63860759],\n",
       "        [1.18767692, 0.66047   , 1.19748447, 0.65639241],\n",
       "        [1.11680689, 0.67692   , 1.12651337, 0.67297468],\n",
       "        [1.05991791, 0.6924    , 1.07031329, 0.68841772],\n",
       "        [1.01227186, 0.70347   , 1.02286388, 0.6971519 ],\n",
       "        [0.96778642, 0.71075   , 0.97781665, 0.70544304],\n",
       "        [0.9359486 , 0.72149   , 0.94722108, 0.71367089],\n",
       "        [0.90551516, 0.7285    , 0.91643944, 0.72360759],\n",
       "        [0.87901835, 0.73572   , 0.89162803, 0.72803797],\n",
       "        [0.85139304, 0.74427   , 0.86405079, 0.73727848],\n",
       "        [0.83259533, 0.7465    , 0.84669257, 0.74012658],\n",
       "        [0.8087697 , 0.75399   , 0.8245485 , 0.74778481],\n",
       "        [0.78869098, 0.7591    , 0.805006  , 0.7514557 ],\n",
       "        [0.77186272, 0.76187   , 0.78908905, 0.75373418],\n",
       "        [0.75570896, 0.76617   , 0.77267006, 0.75898734],\n",
       "        [0.74450431, 0.77017   , 0.76285198, 0.76379747],\n",
       "        [0.72808707, 0.77342   , 0.74762079, 0.76689873],\n",
       "        [0.71461294, 0.77696   , 0.73523816, 0.76968354],\n",
       "        [0.70245072, 0.7792    , 0.7226315 , 0.77424051],\n",
       "        [0.69490087, 0.7813    , 0.71648715, 0.77563291],\n",
       "        [0.68430466, 0.78513   , 0.70807032, 0.7778481 ],\n",
       "        [0.67392563, 0.7876    , 0.69671964, 0.77987342],\n",
       "        [0.66484056, 0.78978   , 0.68876272, 0.78291139],\n",
       "        [0.65427999, 0.79179   , 0.67840794, 0.785     ],\n",
       "        [0.64505475, 0.79524   , 0.67096044, 0.78601266],\n",
       "        [0.64126794, 0.79654   , 0.66690952, 0.78759494],\n",
       "        [0.62918777, 0.79864   , 0.65574331, 0.7893038 ],\n",
       "        [0.62457236, 0.80001   , 0.65022335, 0.79202532],\n",
       "        [0.61944865, 0.80201   , 0.64688089, 0.79405063],\n",
       "        [0.61050647, 0.80455   , 0.63808936, 0.79651899],\n",
       "        [0.60529267, 0.80473   , 0.63331577, 0.79721519],\n",
       "        [0.60016844, 0.80655   , 0.62821793, 0.79670886],\n",
       "        [0.59710902, 0.80752   , 0.62458654, 0.79905063],\n",
       "        [0.59111204, 0.80892   , 0.6206578 , 0.79860759],\n",
       "        [0.58750835, 0.81022   , 0.61858572, 0.80012658],\n",
       "        [0.58119976, 0.81112   , 0.61093345, 0.80151899],\n",
       "        [0.5752067 , 0.8124    , 0.60686166, 0.80379747],\n",
       "        [0.57288749, 0.81327   , 0.60500643, 0.80360759],\n",
       "        [0.56855368, 0.81495   , 0.60103193, 0.80550633],\n",
       "        [0.56315218, 0.81556   , 0.59690443, 0.80708861],\n",
       "        [0.55873914, 0.81713   , 0.59157826, 0.80765823],\n",
       "        [0.55960974, 0.8169    , 0.59353572, 0.80664557],\n",
       "        [0.54854287, 0.82002   , 0.58385127, 0.81107595],\n",
       "        [0.5485481 , 0.82038   , 0.58299213, 0.81006329],\n",
       "        [0.5434051 , 0.82085   , 0.57856014, 0.81107595],\n",
       "        [0.5386075 , 0.82192   , 0.57467032, 0.81170886],\n",
       "        [0.53690021, 0.82266   , 0.57396463, 0.81094937],\n",
       "        [0.5354764 , 0.82339   , 0.57258385, 0.80987342],\n",
       "        [0.52942594, 0.8241    , 0.56639646, 0.81398734],\n",
       "        [0.52898557, 0.82477   , 0.56739921, 0.81177215],\n",
       "        [0.52656143, 0.82488   , 0.56473371, 0.81240506],\n",
       "        [0.52076232, 0.82668   , 0.55932612, 0.81335443],\n",
       "        [0.51957631, 0.82719   , 0.55950603, 0.815     ],\n",
       "        [0.51559209, 0.82858   , 0.55493493, 0.81632911],\n",
       "        [0.51541857, 0.82907   , 0.55511476, 0.81658228],\n",
       "        [0.51361436, 0.82857   , 0.55409346, 0.81620253],\n",
       "        [0.50652484, 0.8306    , 0.54795959, 0.81708861],\n",
       "        [0.50603748, 0.83098   , 0.54849917, 0.81740506],\n",
       "        [0.50523457, 0.83066   , 0.54674461, 0.81873418],\n",
       "        [0.50363904, 0.83137   , 0.547507  , 0.81835443],\n",
       "        [0.50003865, 0.83205   , 0.54411702, 0.82006329],\n",
       "        [0.49596061, 0.83403   , 0.53938254, 0.82113924],\n",
       "        [0.49665097, 0.83322   , 0.54061784, 0.82018987],\n",
       "        [0.49505279, 0.83363   , 0.53983004, 0.81803797],\n",
       "        [0.49011281, 0.8343    , 0.53542209, 0.82107595],\n",
       "        [0.48893882, 0.83544   , 0.53516126, 0.82177215],\n",
       "        [0.48747634, 0.83526   , 0.53493493, 0.82170886],\n",
       "        [0.48367518, 0.83703   , 0.53118402, 0.82329114],\n",
       "        [0.48265156, 0.83651   , 0.53113938, 0.82341772],\n",
       "        [0.48102633, 0.83814   , 0.52864362, 0.82468354],\n",
       "        [0.47862934, 0.83795   , 0.5269912 , 0.82462025],\n",
       "        [0.48088884, 0.83732   , 0.53132714, 0.82329114],\n",
       "        [0.47548654, 0.83925   , 0.52446763, 0.82531646],\n",
       "        [0.47358124, 0.83926   , 0.52368885, 0.82588608],\n",
       "        [0.4731346 , 0.83863   , 0.52414109, 0.82424051],\n",
       "        [0.47088264, 0.84028   , 0.52334402, 0.8256962 ],\n",
       "        [0.46824458, 0.84004   , 0.52036784, 0.8256962 ],\n",
       "        [0.46719104, 0.84001   , 0.51956324, 0.82721519],\n",
       "        [0.46674603, 0.84034   , 0.52005856, 0.82575949],\n",
       "        [0.46567393, 0.84135   , 0.5192098 , 0.82550633],\n",
       "        [0.46226777, 0.84209   , 0.51591691, 0.82734177],\n",
       "        [0.46180708, 0.84222   , 0.51655033, 0.82607595],\n",
       "        [0.4576408 , 0.84426   , 0.5112476 , 0.82873418],\n",
       "        [0.46046668, 0.84281   , 0.51647382, 0.82518987],\n",
       "        [0.45672551, 0.84371   , 0.51268934, 0.8278481 ],\n",
       "        [0.45581011, 0.84369   , 0.51140865, 0.82664557],\n",
       "        [0.45305591, 0.84518   , 0.50922864, 0.82917722],\n",
       "        [0.45417016, 0.84363   , 0.51173881, 0.82696203],\n",
       "        [0.45104271, 0.84503   , 0.50890233, 0.82898734],\n",
       "        [0.45042759, 0.84534   , 0.50841473, 0.8285443 ],\n",
       "        [0.4491164 , 0.84634   , 0.50808772, 0.82740506],\n",
       "        [0.44818078, 0.84598   , 0.50574351, 0.82860759],\n",
       "        [0.44497254, 0.84728   , 0.50422982, 0.83120253],\n",
       "        [0.4447091 , 0.84804   , 0.50464118, 0.83012658],\n",
       "        [0.44320688, 0.8477    , 0.50374442, 0.83151899],\n",
       "        [0.44081878, 0.84798   , 0.50033953, 0.83056962]]),\n",
       " {'error(train)': 0, 'acc(train)': 1, 'error(valid)': 2, 'acc(valid)': 3})"
      ]
     },
     "execution_count": 16,
     "metadata": {},
     "output_type": "execute_result"
    }
   ],
   "execution_count": 16
  },
  {
   "metadata": {
    "ExecuteTime": {
     "end_time": "2024-10-24T20:48:37.800465Z",
     "start_time": "2024-10-24T20:48:37.667703Z"
    }
   },
   "cell_type": "code",
   "source": "plt.show()",
   "outputs": [
    {
     "data": {
      "text/plain": [
       "<Figure size 800x400 with 1 Axes>"
      ],
      "image/png": "[encoded data removed]"
     },
     "metadata": {},
     "output_type": "display_data"
    },
    {
     "data": {
      "text/plain": [
       "<Figure size 800x400 with 1 Axes>"
      ],
      "image/png": "[encoded data removed]"
     },
     "metadata": {},
     "output_type": "display_data"
    }
   ],
   "execution_count": 6
  },
  {
   "metadata": {},
   "cell_type": "markdown",
   "source": "## L1"
  },
  {
   "metadata": {
    "ExecuteTime": {
     "end_time": "2024-10-24T22:29:49.265575Z",
     "start_time": "2024-10-24T22:07:55.483729Z"
    }
   },
   "cell_type": "code",
   "source": [
    "from mlp.penalties import L1Penalty\n",
    "\n",
    "train_data.reset()\n",
    "valid_data.reset()\n",
    "\n",
    "# Setup hyperparameters\n",
    "learning_rate = 1e-4\n",
    "num_epochs = 100\n",
    "stats_interval = 1  # Every 1 epoch record the error and acc data\n",
    "input_dim, output_dim, hidden_dim = 784, 47, 128\n",
    "l1_coefficient = 1e-3\n",
    "\n",
    "final_errors_train = []\n",
    "final_errors_valid = []\n",
    "final_accs_train = []\n",
    "final_accs_valid = []\n",
    "stats_list = []\n",
    "keys_list = []\n",
    "\n",
    "weights_init = GlorotUniformInit(rng=rng)\n",
    "biases_init = ConstantInit(0.)\n",
    "\n",
    "l1_penalty = L1Penalty(coefficient=l1_coefficient)\n",
    "\n",
    "# Create model with 3 hidden layer\n",
    "model = MultipleLayerModel([\n",
    "    AffineLayer(input_dim, hidden_dim, weights_init, biases_init, weights_penalty=l1_penalty, biases_penalty=l1_penalty),\n",
    "    ReluLayer(),\n",
    "    AffineLayer(hidden_dim, hidden_dim, weights_init, biases_init, weights_penalty=l1_penalty, biases_penalty=l1_penalty),\n",
    "    ReluLayer(),\n",
    "    AffineLayer(hidden_dim, hidden_dim, weights_init, biases_init, weights_penalty=l1_penalty, biases_penalty=l1_penalty),\n",
    "    ReluLayer(),\n",
    "    AffineLayer(hidden_dim, output_dim, weights_init, biases_init, weights_penalty=l1_penalty, biases_penalty=l1_penalty)\n",
    "])\n",
    "\n",
    "# 原始的交叉熵损失函数\n",
    "error = CrossEntropySoftmaxError()\n",
    "\n",
    "# Use a Adam learning rule\n",
    "learning_rule = AdamLearningRule(learning_rate=learning_rate)\n",
    "\n",
    "# Remember to use notebook=False when you write a script to be run in a terminal\n",
    "stats, keys, run_time, fig_1, ax_1, fig_2, ax_2 = train_model_and_plot_stats(\n",
    "    model, error, learning_rule, train_data, valid_data, num_epochs, stats_interval, notebook=True)\n",
    "\n",
    "print('    final error(train) = {0:.2e}'.format(stats[-1, keys['error(train)']]))\n",
    "print('    final error(valid) = {0:.2e}'.format(stats[-1, keys['error(valid)']]))\n",
    "print('    final acc(train)   = {0:.2e}'.format(stats[-1, keys['acc(train)']]))\n",
    "print('    final acc(valid)   = {0:.2e}'.format(stats[-1, keys['acc(valid)']]))\n",
    "print('    run time per epoch = {0:.2f}'.format(run_time * 1. / num_epochs))\n",
    "\n",
    "final_errors_train.append(stats[-1, keys['error(train)']])\n",
    "final_errors_valid.append(stats[-1, keys['error(valid)']])\n",
    "final_accs_train.append(stats[-1, keys['acc(train)']])\n",
    "final_accs_valid.append(stats[-1, keys['acc(valid)']])\n",
    "stats_L1 = stats\n",
    "keys_L1 = keys"
   ],
   "outputs": [
    {
     "data": {
      "text/plain": [
       "  0%|          | 0/100 [00:00<?, ?it/s]"
      ],
      "application/vnd.jupyter.widget-view+json": {
       "version_major": 2,
       "version_minor": 0,
       "model_id": "4b29abb6feed4f5bac751d13f60ea159"
      }
     },
     "metadata": {},
     "output_type": "display_data"
    },
    {
     "data": {
      "text/plain": [
       "  0%|          | 0/1000 [00:00<?, ?it/s]"
      ],
      "application/vnd.jupyter.widget-view+json": {
       "version_major": 2,
       "version_minor": 0,
       "model_id": "66d5fbe9310b45b9aea512b88e36d513"
      }
     },
     "metadata": {},
     "output_type": "display_data"
    },
    {
     "name": "stderr",
     "output_type": "stream",
     "text": [
      "Epoch 1: 8.0s to complete\n",
      "    error(train)=1.66e+00, acc(train)=5.56e-01, error(valid)=1.66e+00, acc(valid)=5.53e-01\n"
     ]
    },
    {
     "data": {
      "text/plain": [
       "  0%|          | 0/1000 [00:00<?, ?it/s]"
      ],
      "application/vnd.jupyter.widget-view+json": {
       "version_major": 2,
       "version_minor": 0,
       "model_id": "d816e6a9c65b419daceff1e043686e69"
      }
     },
     "metadata": {},
     "output_type": "display_data"
    },
    {
     "name": "stderr",
     "output_type": "stream",
     "text": [
      "Epoch 2: 6.7s to complete\n",
      "    error(train)=1.53e+00, acc(train)=5.91e-01, error(valid)=1.53e+00, acc(valid)=5.88e-01\n"
     ]
    },
    {
     "data": {
      "text/plain": [
       "  0%|          | 0/1000 [00:00<?, ?it/s]"
      ],
      "application/vnd.jupyter.widget-view+json": {
       "version_major": 2,
       "version_minor": 0,
       "model_id": "45183d58b9f04f38ab9c91ed50f46fd9"
      }
     },
     "metadata": {},
     "output_type": "display_data"
    },
    {
     "name": "stderr",
     "output_type": "stream",
     "text": [
      "Epoch 3: 11.9s to complete\n",
      "    error(train)=1.46e+00, acc(train)=6.06e-01, error(valid)=1.47e+00, acc(valid)=6.02e-01\n"
     ]
    },
    {
     "data": {
      "text/plain": [
       "  0%|          | 0/1000 [00:00<?, ?it/s]"
      ],
      "application/vnd.jupyter.widget-view+json": {
       "version_major": 2,
       "version_minor": 0,
       "model_id": "fb1496de5e9e4e539d3bfb6e824f08fb"
      }
     },
     "metadata": {},
     "output_type": "display_data"
    },
    {
     "name": "stderr",
     "output_type": "stream",
     "text": [
      "Epoch 4: 10.1s to complete\n",
      "    error(train)=1.42e+00, acc(train)=6.14e-01, error(valid)=1.43e+00, acc(valid)=6.11e-01\n"
     ]
    },
    {
     "data": {
      "text/plain": [
       "  0%|          | 0/1000 [00:00<?, ?it/s]"
      ],
      "application/vnd.jupyter.widget-view+json": {
       "version_major": 2,
       "version_minor": 0,
       "model_id": "b548c0aa2556441092ad893b0302817c"
      }
     },
     "metadata": {},
     "output_type": "display_data"
    },
    {
     "name": "stderr",
     "output_type": "stream",
     "text": [
      "Epoch 5: 6.6s to complete\n",
      "    error(train)=1.39e+00, acc(train)=6.24e-01, error(valid)=1.39e+00, acc(valid)=6.19e-01\n"
     ]
    },
    {
     "data": {
      "text/plain": [
       "  0%|          | 0/1000 [00:00<?, ?it/s]"
      ],
      "application/vnd.jupyter.widget-view+json": {
       "version_major": 2,
       "version_minor": 0,
       "model_id": "869ccdb301b142d99dff92f92db7b53a"
      }
     },
     "metadata": {},
     "output_type": "display_data"
    },
    {
     "name": "stderr",
     "output_type": "stream",
     "text": [
      "Epoch 6: 10.4s to complete\n",
      "    error(train)=1.36e+00, acc(train)=6.31e-01, error(valid)=1.36e+00, acc(valid)=6.29e-01\n"
     ]
    },
    {
     "data": {
      "text/plain": [
       "  0%|          | 0/1000 [00:00<?, ?it/s]"
      ],
      "application/vnd.jupyter.widget-view+json": {
       "version_major": 2,
       "version_minor": 0,
       "model_id": "c1abbf9616df483c8f055d378f8cf667"
      }
     },
     "metadata": {},
     "output_type": "display_data"
    },
    {
     "name": "stderr",
     "output_type": "stream",
     "text": [
      "Epoch 7: 10.0s to complete\n",
      "    error(train)=1.33e+00, acc(train)=6.36e-01, error(valid)=1.34e+00, acc(valid)=6.34e-01\n"
     ]
    },
    {
     "data": {
      "text/plain": [
       "  0%|          | 0/1000 [00:00<?, ?it/s]"
      ],
      "application/vnd.jupyter.widget-view+json": {
       "version_major": 2,
       "version_minor": 0,
       "model_id": "b97c787c1c4346f289fbe539992e98be"
      }
     },
     "metadata": {},
     "output_type": "display_data"
    },
    {
     "name": "stderr",
     "output_type": "stream",
     "text": [
      "Epoch 8: 8.3s to complete\n",
      "    error(train)=1.31e+00, acc(train)=6.41e-01, error(valid)=1.32e+00, acc(valid)=6.36e-01\n"
     ]
    },
    {
     "data": {
      "text/plain": [
       "  0%|          | 0/1000 [00:00<?, ?it/s]"
      ],
      "application/vnd.jupyter.widget-view+json": {
       "version_major": 2,
       "version_minor": 0,
       "model_id": "eb7131b5c3a743adbc8451af2a86a6db"
      }
     },
     "metadata": {},
     "output_type": "display_data"
    },
    {
     "name": "stderr",
     "output_type": "stream",
     "text": [
      "Epoch 9: 13.8s to complete\n",
      "    error(train)=1.28e+00, acc(train)=6.47e-01, error(valid)=1.29e+00, acc(valid)=6.43e-01\n"
     ]
    },
    {
     "data": {
      "text/plain": [
       "  0%|          | 0/1000 [00:00<?, ?it/s]"
      ],
      "application/vnd.jupyter.widget-view+json": {
       "version_major": 2,
       "version_minor": 0,
       "model_id": "d40202be0f8d4b9cad783be317a8ca75"
      }
     },
     "metadata": {},
     "output_type": "display_data"
    },
    {
     "name": "stderr",
     "output_type": "stream",
     "text": [
      "Epoch 10: 13.1s to complete\n",
      "    error(train)=1.27e+00, acc(train)=6.50e-01, error(valid)=1.27e+00, acc(valid)=6.47e-01\n"
     ]
    },
    {
     "data": {
      "text/plain": [
       "  0%|          | 0/1000 [00:00<?, ?it/s]"
      ],
      "application/vnd.jupyter.widget-view+json": {
       "version_major": 2,
       "version_minor": 0,
       "model_id": "7968fda3b9fb429e8c59cc5b9cda8370"
      }
     },
     "metadata": {},
     "output_type": "display_data"
    },
    {
     "name": "stderr",
     "output_type": "stream",
     "text": [
      "Epoch 11: 8.0s to complete\n",
      "    error(train)=1.24e+00, acc(train)=6.56e-01, error(valid)=1.25e+00, acc(valid)=6.52e-01\n"
     ]
    },
    {
     "data": {
      "text/plain": [
       "  0%|          | 0/1000 [00:00<?, ?it/s]"
      ],
      "application/vnd.jupyter.widget-view+json": {
       "version_major": 2,
       "version_minor": 0,
       "model_id": "71138a0a20bb4491be405fd4b8674fee"
      }
     },
     "metadata": {},
     "output_type": "display_data"
    },
    {
     "name": "stderr",
     "output_type": "stream",
     "text": [
      "Epoch 12: 6.5s to complete\n",
      "    error(train)=1.22e+00, acc(train)=6.61e-01, error(valid)=1.23e+00, acc(valid)=6.59e-01\n"
     ]
    },
    {
     "data": {
      "text/plain": [
       "  0%|          | 0/1000 [00:00<?, ?it/s]"
      ],
      "application/vnd.jupyter.widget-view+json": {
       "version_major": 2,
       "version_minor": 0,
       "model_id": "66243bc311394942b809b8d5a8cd1aa1"
      }
     },
     "metadata": {},
     "output_type": "display_data"
    },
    {
     "name": "stderr",
     "output_type": "stream",
     "text": [
      "Epoch 13: 10.9s to complete\n",
      "    error(train)=1.21e+00, acc(train)=6.64e-01, error(valid)=1.21e+00, acc(valid)=6.63e-01\n"
     ]
    },
    {
     "data": {
      "text/plain": [
       "  0%|          | 0/1000 [00:00<?, ?it/s]"
      ],
      "application/vnd.jupyter.widget-view+json": {
       "version_major": 2,
       "version_minor": 0,
       "model_id": "c3bc6207540e44e692387bb6e83dfeda"
      }
     },
     "metadata": {},
     "output_type": "display_data"
    },
    {
     "name": "stderr",
     "output_type": "stream",
     "text": [
      "Epoch 14: 6.6s to complete\n",
      "    error(train)=1.19e+00, acc(train)=6.68e-01, error(valid)=1.20e+00, acc(valid)=6.64e-01\n"
     ]
    },
    {
     "data": {
      "text/plain": [
       "  0%|          | 0/1000 [00:00<?, ?it/s]"
      ],
      "application/vnd.jupyter.widget-view+json": {
       "version_major": 2,
       "version_minor": 0,
       "model_id": "95bce0e2cdc449bcb5d82d69edc41b0e"
      }
     },
     "metadata": {},
     "output_type": "display_data"
    },
    {
     "name": "stderr",
     "output_type": "stream",
     "text": [
      "Epoch 15: 9.5s to complete\n",
      "    error(train)=1.18e+00, acc(train)=6.70e-01, error(valid)=1.19e+00, acc(valid)=6.66e-01\n"
     ]
    },
    {
     "data": {
      "text/plain": [
       "  0%|          | 0/1000 [00:00<?, ?it/s]"
      ],
      "application/vnd.jupyter.widget-view+json": {
       "version_major": 2,
       "version_minor": 0,
       "model_id": "bf89170516854704a7a0e090815bfe4d"
      }
     },
     "metadata": {},
     "output_type": "display_data"
    },
    {
     "name": "stderr",
     "output_type": "stream",
     "text": [
      "Epoch 16: 6.1s to complete\n",
      "    error(train)=1.16e+00, acc(train)=6.73e-01, error(valid)=1.17e+00, acc(valid)=6.69e-01\n"
     ]
    },
    {
     "data": {
      "text/plain": [
       "  0%|          | 0/1000 [00:00<?, ?it/s]"
      ],
      "application/vnd.jupyter.widget-view+json": {
       "version_major": 2,
       "version_minor": 0,
       "model_id": "b12eafd813244e349cce5330776739a8"
      }
     },
     "metadata": {},
     "output_type": "display_data"
    },
    {
     "name": "stderr",
     "output_type": "stream",
     "text": [
      "Epoch 17: 6.4s to complete\n",
      "    error(train)=1.15e+00, acc(train)=6.75e-01, error(valid)=1.16e+00, acc(valid)=6.71e-01\n"
     ]
    },
    {
     "data": {
      "text/plain": [
       "  0%|          | 0/1000 [00:00<?, ?it/s]"
      ],
      "application/vnd.jupyter.widget-view+json": {
       "version_major": 2,
       "version_minor": 0,
       "model_id": "490c5a81b8d8462fb42620e37e06f08c"
      }
     },
     "metadata": {},
     "output_type": "display_data"
    },
    {
     "name": "stderr",
     "output_type": "stream",
     "text": [
      "Epoch 18: 6.4s to complete\n",
      "    error(train)=1.14e+00, acc(train)=6.80e-01, error(valid)=1.15e+00, acc(valid)=6.76e-01\n"
     ]
    },
    {
     "data": {
      "text/plain": [
       "  0%|          | 0/1000 [00:00<?, ?it/s]"
      ],
      "application/vnd.jupyter.widget-view+json": {
       "version_major": 2,
       "version_minor": 0,
       "model_id": "1775e8748c1745b2bbb33f43636ef51b"
      }
     },
     "metadata": {},
     "output_type": "display_data"
    },
    {
     "name": "stderr",
     "output_type": "stream",
     "text": [
      "Epoch 19: 6.2s to complete\n",
      "    error(train)=1.13e+00, acc(train)=6.82e-01, error(valid)=1.14e+00, acc(valid)=6.79e-01\n"
     ]
    },
    {
     "data": {
      "text/plain": [
       "  0%|          | 0/1000 [00:00<?, ?it/s]"
      ],
      "application/vnd.jupyter.widget-view+json": {
       "version_major": 2,
       "version_minor": 0,
       "model_id": "e5429bc51f7d4504804a4a5d89b60952"
      }
     },
     "metadata": {},
     "output_type": "display_data"
    },
    {
     "name": "stderr",
     "output_type": "stream",
     "text": [
      "Epoch 20: 5.9s to complete\n",
      "    error(train)=1.12e+00, acc(train)=6.82e-01, error(valid)=1.13e+00, acc(valid)=6.80e-01\n"
     ]
    },
    {
     "data": {
      "text/plain": [
       "  0%|          | 0/1000 [00:00<?, ?it/s]"
      ],
      "application/vnd.jupyter.widget-view+json": {
       "version_major": 2,
       "version_minor": 0,
       "model_id": "cfd9222fb7014238ac65f52ab6ee96c9"
      }
     },
     "metadata": {},
     "output_type": "display_data"
    },
    {
     "name": "stderr",
     "output_type": "stream",
     "text": [
      "Epoch 21: 8.1s to complete\n",
      "    error(train)=1.11e+00, acc(train)=6.87e-01, error(valid)=1.12e+00, acc(valid)=6.86e-01\n"
     ]
    },
    {
     "data": {
      "text/plain": [
       "  0%|          | 0/1000 [00:00<?, ?it/s]"
      ],
      "application/vnd.jupyter.widget-view+json": {
       "version_major": 2,
       "version_minor": 0,
       "model_id": "4a70706a7c834f0d913b05c42d28d8a3"
      }
     },
     "metadata": {},
     "output_type": "display_data"
    },
    {
     "name": "stderr",
     "output_type": "stream",
     "text": [
      "Epoch 22: 7.7s to complete\n",
      "    error(train)=1.10e+00, acc(train)=6.88e-01, error(valid)=1.11e+00, acc(valid)=6.85e-01\n"
     ]
    },
    {
     "data": {
      "text/plain": [
       "  0%|          | 0/1000 [00:00<?, ?it/s]"
      ],
      "application/vnd.jupyter.widget-view+json": {
       "version_major": 2,
       "version_minor": 0,
       "model_id": "15349dc492124809ae91b89a057d08cd"
      }
     },
     "metadata": {},
     "output_type": "display_data"
    },
    {
     "name": "stderr",
     "output_type": "stream",
     "text": [
      "Epoch 23: 6.9s to complete\n",
      "    error(train)=1.10e+00, acc(train)=6.88e-01, error(valid)=1.10e+00, acc(valid)=6.86e-01\n"
     ]
    },
    {
     "data": {
      "text/plain": [
       "  0%|          | 0/1000 [00:00<?, ?it/s]"
      ],
      "application/vnd.jupyter.widget-view+json": {
       "version_major": 2,
       "version_minor": 0,
       "model_id": "a1a61e5e66544168995f90aa3ff6d118"
      }
     },
     "metadata": {},
     "output_type": "display_data"
    },
    {
     "name": "stderr",
     "output_type": "stream",
     "text": [
      "Epoch 24: 8.3s to complete\n",
      "    error(train)=1.09e+00, acc(train)=6.92e-01, error(valid)=1.10e+00, acc(valid)=6.88e-01\n"
     ]
    },
    {
     "data": {
      "text/plain": [
       "  0%|          | 0/1000 [00:00<?, ?it/s]"
      ],
      "application/vnd.jupyter.widget-view+json": {
       "version_major": 2,
       "version_minor": 0,
       "model_id": "5b19985d83784539b984d15c3d4c7f7b"
      }
     },
     "metadata": {},
     "output_type": "display_data"
    },
    {
     "name": "stderr",
     "output_type": "stream",
     "text": [
      "Epoch 25: 6.7s to complete\n",
      "    error(train)=1.08e+00, acc(train)=6.93e-01, error(valid)=1.09e+00, acc(valid)=6.91e-01\n"
     ]
    },
    {
     "data": {
      "text/plain": [
       "  0%|          | 0/1000 [00:00<?, ?it/s]"
      ],
      "application/vnd.jupyter.widget-view+json": {
       "version_major": 2,
       "version_minor": 0,
       "model_id": "f9f48d3ba2624fc897358375f53b24cb"
      }
     },
     "metadata": {},
     "output_type": "display_data"
    },
    {
     "name": "stderr",
     "output_type": "stream",
     "text": [
      "Epoch 26: 7.3s to complete\n",
      "    error(train)=1.08e+00, acc(train)=6.95e-01, error(valid)=1.08e+00, acc(valid)=6.93e-01\n"
     ]
    },
    {
     "data": {
      "text/plain": [
       "  0%|          | 0/1000 [00:00<?, ?it/s]"
      ],
      "application/vnd.jupyter.widget-view+json": {
       "version_major": 2,
       "version_minor": 0,
       "model_id": "473b1304e9704baea49f5726ce62ff4c"
      }
     },
     "metadata": {},
     "output_type": "display_data"
    },
    {
     "name": "stderr",
     "output_type": "stream",
     "text": [
      "Epoch 27: 6.1s to complete\n",
      "    error(train)=1.07e+00, acc(train)=6.95e-01, error(valid)=1.08e+00, acc(valid)=6.93e-01\n"
     ]
    },
    {
     "data": {
      "text/plain": [
       "  0%|          | 0/1000 [00:00<?, ?it/s]"
      ],
      "application/vnd.jupyter.widget-view+json": {
       "version_major": 2,
       "version_minor": 0,
       "model_id": "9ae2023d6bd74a84b59c6daa21a020ae"
      }
     },
     "metadata": {},
     "output_type": "display_data"
    },
    {
     "name": "stderr",
     "output_type": "stream",
     "text": [
      "Epoch 28: 8.5s to complete\n",
      "    error(train)=1.06e+00, acc(train)=6.97e-01, error(valid)=1.07e+00, acc(valid)=6.94e-01\n"
     ]
    },
    {
     "data": {
      "text/plain": [
       "  0%|          | 0/1000 [00:00<?, ?it/s]"
      ],
      "application/vnd.jupyter.widget-view+json": {
       "version_major": 2,
       "version_minor": 0,
       "model_id": "31b8482fdd424f049adcfa9fa183725e"
      }
     },
     "metadata": {},
     "output_type": "display_data"
    },
    {
     "name": "stderr",
     "output_type": "stream",
     "text": [
      "Epoch 29: 6.6s to complete\n",
      "    error(train)=1.06e+00, acc(train)=6.99e-01, error(valid)=1.06e+00, acc(valid)=6.98e-01\n"
     ]
    },
    {
     "data": {
      "text/plain": [
       "  0%|          | 0/1000 [00:00<?, ?it/s]"
      ],
      "application/vnd.jupyter.widget-view+json": {
       "version_major": 2,
       "version_minor": 0,
       "model_id": "cb82de31592245448c1f15c65af81a16"
      }
     },
     "metadata": {},
     "output_type": "display_data"
    },
    {
     "name": "stderr",
     "output_type": "stream",
     "text": [
      "Epoch 30: 6.5s to complete\n",
      "    error(train)=1.05e+00, acc(train)=7.01e-01, error(valid)=1.06e+00, acc(valid)=7.00e-01\n"
     ]
    },
    {
     "data": {
      "text/plain": [
       "  0%|          | 0/1000 [00:00<?, ?it/s]"
      ],
      "application/vnd.jupyter.widget-view+json": {
       "version_major": 2,
       "version_minor": 0,
       "model_id": "004caa28549c4973a035eaaa13e80e40"
      }
     },
     "metadata": {},
     "output_type": "display_data"
    },
    {
     "name": "stderr",
     "output_type": "stream",
     "text": [
      "Epoch 31: 8.1s to complete\n",
      "    error(train)=1.04e+00, acc(train)=7.02e-01, error(valid)=1.05e+00, acc(valid)=7.02e-01\n"
     ]
    },
    {
     "data": {
      "text/plain": [
       "  0%|          | 0/1000 [00:00<?, ?it/s]"
      ],
      "application/vnd.jupyter.widget-view+json": {
       "version_major": 2,
       "version_minor": 0,
       "model_id": "581690d35e594d24bb4adf749804ce53"
      }
     },
     "metadata": {},
     "output_type": "display_data"
    },
    {
     "name": "stderr",
     "output_type": "stream",
     "text": [
      "Epoch 32: 6.3s to complete\n",
      "    error(train)=1.04e+00, acc(train)=7.04e-01, error(valid)=1.05e+00, acc(valid)=7.03e-01\n"
     ]
    },
    {
     "data": {
      "text/plain": [
       "  0%|          | 0/1000 [00:00<?, ?it/s]"
      ],
      "application/vnd.jupyter.widget-view+json": {
       "version_major": 2,
       "version_minor": 0,
       "model_id": "c6b694bb36aa4815b94b6a40932e2204"
      }
     },
     "metadata": {},
     "output_type": "display_data"
    },
    {
     "name": "stderr",
     "output_type": "stream",
     "text": [
      "Epoch 33: 5.9s to complete\n",
      "    error(train)=1.03e+00, acc(train)=7.05e-01, error(valid)=1.04e+00, acc(valid)=7.02e-01\n"
     ]
    },
    {
     "data": {
      "text/plain": [
       "  0%|          | 0/1000 [00:00<?, ?it/s]"
      ],
      "application/vnd.jupyter.widget-view+json": {
       "version_major": 2,
       "version_minor": 0,
       "model_id": "9f142fa3168748f49b132f25edaff1b8"
      }
     },
     "metadata": {},
     "output_type": "display_data"
    },
    {
     "name": "stderr",
     "output_type": "stream",
     "text": [
      "Epoch 34: 6.0s to complete\n",
      "    error(train)=1.03e+00, acc(train)=7.06e-01, error(valid)=1.04e+00, acc(valid)=7.02e-01\n"
     ]
    },
    {
     "data": {
      "text/plain": [
       "  0%|          | 0/1000 [00:00<?, ?it/s]"
      ],
      "application/vnd.jupyter.widget-view+json": {
       "version_major": 2,
       "version_minor": 0,
       "model_id": "0d189ed574a249a682dd704b830935ca"
      }
     },
     "metadata": {},
     "output_type": "display_data"
    },
    {
     "name": "stderr",
     "output_type": "stream",
     "text": [
      "Epoch 35: 6.5s to complete\n",
      "    error(train)=1.02e+00, acc(train)=7.07e-01, error(valid)=1.03e+00, acc(valid)=7.06e-01\n"
     ]
    },
    {
     "data": {
      "text/plain": [
       "  0%|          | 0/1000 [00:00<?, ?it/s]"
      ],
      "application/vnd.jupyter.widget-view+json": {
       "version_major": 2,
       "version_minor": 0,
       "model_id": "33bd525b73a54974b9c8c4019f7778a9"
      }
     },
     "metadata": {},
     "output_type": "display_data"
    },
    {
     "name": "stderr",
     "output_type": "stream",
     "text": [
      "Epoch 36: 7.6s to complete\n",
      "    error(train)=1.02e+00, acc(train)=7.07e-01, error(valid)=1.03e+00, acc(valid)=7.07e-01\n"
     ]
    },
    {
     "data": {
      "text/plain": [
       "  0%|          | 0/1000 [00:00<?, ?it/s]"
      ],
      "application/vnd.jupyter.widget-view+json": {
       "version_major": 2,
       "version_minor": 0,
       "model_id": "e1ad3bd1c94c4a759248f91bed26e121"
      }
     },
     "metadata": {},
     "output_type": "display_data"
    },
    {
     "name": "stderr",
     "output_type": "stream",
     "text": [
      "Epoch 37: 9.2s to complete\n",
      "    error(train)=1.01e+00, acc(train)=7.10e-01, error(valid)=1.02e+00, acc(valid)=7.07e-01\n"
     ]
    },
    {
     "data": {
      "text/plain": [
       "  0%|          | 0/1000 [00:00<?, ?it/s]"
      ],
      "application/vnd.jupyter.widget-view+json": {
       "version_major": 2,
       "version_minor": 0,
       "model_id": "4f461e36c23b4e07a432d48b1b6c8e8b"
      }
     },
     "metadata": {},
     "output_type": "display_data"
    },
    {
     "name": "stderr",
     "output_type": "stream",
     "text": [
      "Epoch 38: 7.2s to complete\n",
      "    error(train)=1.01e+00, acc(train)=7.10e-01, error(valid)=1.02e+00, acc(valid)=7.08e-01\n"
     ]
    },
    {
     "data": {
      "text/plain": [
       "  0%|          | 0/1000 [00:00<?, ?it/s]"
      ],
      "application/vnd.jupyter.widget-view+json": {
       "version_major": 2,
       "version_minor": 0,
       "model_id": "82929f086b6348f8986595dd982b9bc1"
      }
     },
     "metadata": {},
     "output_type": "display_data"
    },
    {
     "name": "stderr",
     "output_type": "stream",
     "text": [
      "Epoch 39: 6.4s to complete\n",
      "    error(train)=1.01e+00, acc(train)=7.11e-01, error(valid)=1.01e+00, acc(valid)=7.06e-01\n"
     ]
    },
    {
     "data": {
      "text/plain": [
       "  0%|          | 0/1000 [00:00<?, ?it/s]"
      ],
      "application/vnd.jupyter.widget-view+json": {
       "version_major": 2,
       "version_minor": 0,
       "model_id": "2a20904a0a4f40d590813a7a2aafa516"
      }
     },
     "metadata": {},
     "output_type": "display_data"
    },
    {
     "name": "stderr",
     "output_type": "stream",
     "text": [
      "Epoch 40: 6.1s to complete\n",
      "    error(train)=1.00e+00, acc(train)=7.13e-01, error(valid)=1.01e+00, acc(valid)=7.11e-01\n"
     ]
    },
    {
     "data": {
      "text/plain": [
       "  0%|          | 0/1000 [00:00<?, ?it/s]"
      ],
      "application/vnd.jupyter.widget-view+json": {
       "version_major": 2,
       "version_minor": 0,
       "model_id": "62689a4a56d4451e9c0b80ed6ecd5ed2"
      }
     },
     "metadata": {},
     "output_type": "display_data"
    },
    {
     "name": "stderr",
     "output_type": "stream",
     "text": [
      "Epoch 41: 6.2s to complete\n",
      "    error(train)=9.96e-01, acc(train)=7.14e-01, error(valid)=1.00e+00, acc(valid)=7.12e-01\n"
     ]
    },
    {
     "data": {
      "text/plain": [
       "  0%|          | 0/1000 [00:00<?, ?it/s]"
      ],
      "application/vnd.jupyter.widget-view+json": {
       "version_major": 2,
       "version_minor": 0,
       "model_id": "9d91902fee9244b4b1e4890fb7950a34"
      }
     },
     "metadata": {},
     "output_type": "display_data"
    },
    {
     "name": "stderr",
     "output_type": "stream",
     "text": [
      "Epoch 42: 6.5s to complete\n",
      "    error(train)=9.94e-01, acc(train)=7.15e-01, error(valid)=1.00e+00, acc(valid)=7.15e-01\n"
     ]
    },
    {
     "data": {
      "text/plain": [
       "  0%|          | 0/1000 [00:00<?, ?it/s]"
      ],
      "application/vnd.jupyter.widget-view+json": {
       "version_major": 2,
       "version_minor": 0,
       "model_id": "d7d8e802381f4c7dbba57cec3f0d415f"
      }
     },
     "metadata": {},
     "output_type": "display_data"
    },
    {
     "name": "stderr",
     "output_type": "stream",
     "text": [
      "Epoch 43: 6.1s to complete\n",
      "    error(train)=9.90e-01, acc(train)=7.16e-01, error(valid)=9.97e-01, acc(valid)=7.12e-01\n"
     ]
    },
    {
     "data": {
      "text/plain": [
       "  0%|          | 0/1000 [00:00<?, ?it/s]"
      ],
      "application/vnd.jupyter.widget-view+json": {
       "version_major": 2,
       "version_minor": 0,
       "model_id": "27fa0892919b45b9a24825b95a354760"
      }
     },
     "metadata": {},
     "output_type": "display_data"
    },
    {
     "name": "stderr",
     "output_type": "stream",
     "text": [
      "Epoch 44: 6.2s to complete\n",
      "    error(train)=9.84e-01, acc(train)=7.18e-01, error(valid)=9.91e-01, acc(valid)=7.13e-01\n"
     ]
    },
    {
     "data": {
      "text/plain": [
       "  0%|          | 0/1000 [00:00<?, ?it/s]"
      ],
      "application/vnd.jupyter.widget-view+json": {
       "version_major": 2,
       "version_minor": 0,
       "model_id": "182eb538dbc944d6949000be5d832eba"
      }
     },
     "metadata": {},
     "output_type": "display_data"
    },
    {
     "name": "stderr",
     "output_type": "stream",
     "text": [
      "Epoch 45: 6.5s to complete\n",
      "    error(train)=9.81e-01, acc(train)=7.18e-01, error(valid)=9.87e-01, acc(valid)=7.15e-01\n"
     ]
    },
    {
     "data": {
      "text/plain": [
       "  0%|          | 0/1000 [00:00<?, ?it/s]"
      ],
      "application/vnd.jupyter.widget-view+json": {
       "version_major": 2,
       "version_minor": 0,
       "model_id": "0fceef16c23443f3942355493f526f91"
      }
     },
     "metadata": {},
     "output_type": "display_data"
    },
    {
     "name": "stderr",
     "output_type": "stream",
     "text": [
      "Epoch 46: 7.7s to complete\n",
      "    error(train)=9.77e-01, acc(train)=7.21e-01, error(valid)=9.85e-01, acc(valid)=7.16e-01\n"
     ]
    },
    {
     "data": {
      "text/plain": [
       "  0%|          | 0/1000 [00:00<?, ?it/s]"
      ],
      "application/vnd.jupyter.widget-view+json": {
       "version_major": 2,
       "version_minor": 0,
       "model_id": "77cc7dcb6a2747ecb4ff336979197a46"
      }
     },
     "metadata": {},
     "output_type": "display_data"
    },
    {
     "name": "stderr",
     "output_type": "stream",
     "text": [
      "Epoch 47: 6.3s to complete\n",
      "    error(train)=9.76e-01, acc(train)=7.20e-01, error(valid)=9.83e-01, acc(valid)=7.15e-01\n"
     ]
    },
    {
     "data": {
      "text/plain": [
       "  0%|          | 0/1000 [00:00<?, ?it/s]"
      ],
      "application/vnd.jupyter.widget-view+json": {
       "version_major": 2,
       "version_minor": 0,
       "model_id": "2562ec4652a343958754695b8912a852"
      }
     },
     "metadata": {},
     "output_type": "display_data"
    },
    {
     "name": "stderr",
     "output_type": "stream",
     "text": [
      "Epoch 48: 6.5s to complete\n",
      "    error(train)=9.71e-01, acc(train)=7.21e-01, error(valid)=9.79e-01, acc(valid)=7.17e-01\n"
     ]
    },
    {
     "data": {
      "text/plain": [
       "  0%|          | 0/1000 [00:00<?, ?it/s]"
      ],
      "application/vnd.jupyter.widget-view+json": {
       "version_major": 2,
       "version_minor": 0,
       "model_id": "e4bbcdf494a9406ab25a87ec242950a0"
      }
     },
     "metadata": {},
     "output_type": "display_data"
    },
    {
     "name": "stderr",
     "output_type": "stream",
     "text": [
      "Epoch 49: 6.5s to complete\n",
      "    error(train)=9.72e-01, acc(train)=7.20e-01, error(valid)=9.80e-01, acc(valid)=7.16e-01\n"
     ]
    },
    {
     "data": {
      "text/plain": [
       "  0%|          | 0/1000 [00:00<?, ?it/s]"
      ],
      "application/vnd.jupyter.widget-view+json": {
       "version_major": 2,
       "version_minor": 0,
       "model_id": "a57f02a2e2d94ea8bb5f5713af10ce51"
      }
     },
     "metadata": {},
     "output_type": "display_data"
    },
    {
     "name": "stderr",
     "output_type": "stream",
     "text": [
      "Epoch 50: 6.1s to complete\n",
      "    error(train)=9.66e-01, acc(train)=7.22e-01, error(valid)=9.73e-01, acc(valid)=7.19e-01\n"
     ]
    },
    {
     "data": {
      "text/plain": [
       "  0%|          | 0/1000 [00:00<?, ?it/s]"
      ],
      "application/vnd.jupyter.widget-view+json": {
       "version_major": 2,
       "version_minor": 0,
       "model_id": "2c24cf1d076d4302878e0400a05451c7"
      }
     },
     "metadata": {},
     "output_type": "display_data"
    },
    {
     "name": "stderr",
     "output_type": "stream",
     "text": [
      "Epoch 51: 6.3s to complete\n",
      "    error(train)=9.61e-01, acc(train)=7.24e-01, error(valid)=9.69e-01, acc(valid)=7.20e-01\n"
     ]
    },
    {
     "data": {
      "text/plain": [
       "  0%|          | 0/1000 [00:00<?, ?it/s]"
      ],
      "application/vnd.jupyter.widget-view+json": {
       "version_major": 2,
       "version_minor": 0,
       "model_id": "d5dba489c02148d8bcd03d49e943176f"
      }
     },
     "metadata": {},
     "output_type": "display_data"
    },
    {
     "name": "stderr",
     "output_type": "stream",
     "text": [
      "Epoch 52: 6.5s to complete\n",
      "    error(train)=9.58e-01, acc(train)=7.24e-01, error(valid)=9.64e-01, acc(valid)=7.20e-01\n"
     ]
    },
    {
     "data": {
      "text/plain": [
       "  0%|          | 0/1000 [00:00<?, ?it/s]"
      ],
      "application/vnd.jupyter.widget-view+json": {
       "version_major": 2,
       "version_minor": 0,
       "model_id": "cb9826d473e44a939fd775889d3a55da"
      }
     },
     "metadata": {},
     "output_type": "display_data"
    },
    {
     "name": "stderr",
     "output_type": "stream",
     "text": [
      "Epoch 53: 6.4s to complete\n",
      "    error(train)=9.58e-01, acc(train)=7.23e-01, error(valid)=9.64e-01, acc(valid)=7.20e-01\n"
     ]
    },
    {
     "data": {
      "text/plain": [
       "  0%|          | 0/1000 [00:00<?, ?it/s]"
      ],
      "application/vnd.jupyter.widget-view+json": {
       "version_major": 2,
       "version_minor": 0,
       "model_id": "5d66dcafdc434f55a0d237014e14bb61"
      }
     },
     "metadata": {},
     "output_type": "display_data"
    },
    {
     "name": "stderr",
     "output_type": "stream",
     "text": [
      "Epoch 54: 6.1s to complete\n",
      "    error(train)=9.54e-01, acc(train)=7.27e-01, error(valid)=9.62e-01, acc(valid)=7.22e-01\n"
     ]
    },
    {
     "data": {
      "text/plain": [
       "  0%|          | 0/1000 [00:00<?, ?it/s]"
      ],
      "application/vnd.jupyter.widget-view+json": {
       "version_major": 2,
       "version_minor": 0,
       "model_id": "ff17eabfe52b4f2d9c7913a0ccb54af6"
      }
     },
     "metadata": {},
     "output_type": "display_data"
    },
    {
     "name": "stderr",
     "output_type": "stream",
     "text": [
      "Epoch 55: 6.1s to complete\n",
      "    error(train)=9.52e-01, acc(train)=7.26e-01, error(valid)=9.58e-01, acc(valid)=7.23e-01\n"
     ]
    },
    {
     "data": {
      "text/plain": [
       "  0%|          | 0/1000 [00:00<?, ?it/s]"
      ],
      "application/vnd.jupyter.widget-view+json": {
       "version_major": 2,
       "version_minor": 0,
       "model_id": "b988490ea21a49209e00c9cf4774836f"
      }
     },
     "metadata": {},
     "output_type": "display_data"
    },
    {
     "name": "stderr",
     "output_type": "stream",
     "text": [
      "Epoch 56: 6.7s to complete\n",
      "    error(train)=9.49e-01, acc(train)=7.27e-01, error(valid)=9.56e-01, acc(valid)=7.26e-01\n"
     ]
    },
    {
     "data": {
      "text/plain": [
       "  0%|          | 0/1000 [00:00<?, ?it/s]"
      ],
      "application/vnd.jupyter.widget-view+json": {
       "version_major": 2,
       "version_minor": 0,
       "model_id": "00a75e427a5945058680371649eaabf7"
      }
     },
     "metadata": {},
     "output_type": "display_data"
    },
    {
     "name": "stderr",
     "output_type": "stream",
     "text": [
      "Epoch 57: 8.1s to complete\n",
      "    error(train)=9.46e-01, acc(train)=7.27e-01, error(valid)=9.53e-01, acc(valid)=7.24e-01\n"
     ]
    },
    {
     "data": {
      "text/plain": [
       "  0%|          | 0/1000 [00:00<?, ?it/s]"
      ],
      "application/vnd.jupyter.widget-view+json": {
       "version_major": 2,
       "version_minor": 0,
       "model_id": "ab44e15ec8c34e368e514a9fa9e295a7"
      }
     },
     "metadata": {},
     "output_type": "display_data"
    },
    {
     "name": "stderr",
     "output_type": "stream",
     "text": [
      "Epoch 58: 6.5s to complete\n",
      "    error(train)=9.43e-01, acc(train)=7.29e-01, error(valid)=9.50e-01, acc(valid)=7.27e-01\n"
     ]
    },
    {
     "data": {
      "text/plain": [
       "  0%|          | 0/1000 [00:00<?, ?it/s]"
      ],
      "application/vnd.jupyter.widget-view+json": {
       "version_major": 2,
       "version_minor": 0,
       "model_id": "d69137023ec84ade81b9465362be03d3"
      }
     },
     "metadata": {},
     "output_type": "display_data"
    },
    {
     "name": "stderr",
     "output_type": "stream",
     "text": [
      "Epoch 59: 6.9s to complete\n",
      "    error(train)=9.42e-01, acc(train)=7.28e-01, error(valid)=9.48e-01, acc(valid)=7.27e-01\n"
     ]
    },
    {
     "data": {
      "text/plain": [
       "  0%|          | 0/1000 [00:00<?, ?it/s]"
      ],
      "application/vnd.jupyter.widget-view+json": {
       "version_major": 2,
       "version_minor": 0,
       "model_id": "96532c90d1f644c0ac82a0dc842e9ed5"
      }
     },
     "metadata": {},
     "output_type": "display_data"
    },
    {
     "name": "stderr",
     "output_type": "stream",
     "text": [
      "Epoch 60: 6.3s to complete\n",
      "    error(train)=9.38e-01, acc(train)=7.29e-01, error(valid)=9.45e-01, acc(valid)=7.27e-01\n"
     ]
    },
    {
     "data": {
      "text/plain": [
       "  0%|          | 0/1000 [00:00<?, ?it/s]"
      ],
      "application/vnd.jupyter.widget-view+json": {
       "version_major": 2,
       "version_minor": 0,
       "model_id": "77c5bdf808a6494dab320525671efb09"
      }
     },
     "metadata": {},
     "output_type": "display_data"
    },
    {
     "name": "stderr",
     "output_type": "stream",
     "text": [
      "Epoch 61: 7.5s to complete\n",
      "    error(train)=9.36e-01, acc(train)=7.30e-01, error(valid)=9.43e-01, acc(valid)=7.27e-01\n"
     ]
    },
    {
     "data": {
      "text/plain": [
       "  0%|          | 0/1000 [00:00<?, ?it/s]"
      ],
      "application/vnd.jupyter.widget-view+json": {
       "version_major": 2,
       "version_minor": 0,
       "model_id": "5ff5f74d950a43ad8a868dc0946c7b5d"
      }
     },
     "metadata": {},
     "output_type": "display_data"
    },
    {
     "name": "stderr",
     "output_type": "stream",
     "text": [
      "Epoch 62: 6.9s to complete\n",
      "    error(train)=9.37e-01, acc(train)=7.30e-01, error(valid)=9.43e-01, acc(valid)=7.28e-01\n"
     ]
    },
    {
     "data": {
      "text/plain": [
       "  0%|          | 0/1000 [00:00<?, ?it/s]"
      ],
      "application/vnd.jupyter.widget-view+json": {
       "version_major": 2,
       "version_minor": 0,
       "model_id": "1b019130924b4ed79e0e6f7d2731dcef"
      }
     },
     "metadata": {},
     "output_type": "display_data"
    },
    {
     "name": "stderr",
     "output_type": "stream",
     "text": [
      "Epoch 63: 7.6s to complete\n",
      "    error(train)=9.32e-01, acc(train)=7.31e-01, error(valid)=9.38e-01, acc(valid)=7.28e-01\n"
     ]
    },
    {
     "data": {
      "text/plain": [
       "  0%|          | 0/1000 [00:00<?, ?it/s]"
      ],
      "application/vnd.jupyter.widget-view+json": {
       "version_major": 2,
       "version_minor": 0,
       "model_id": "862e4b2a4c164d3d8497e9f474c6bac3"
      }
     },
     "metadata": {},
     "output_type": "display_data"
    },
    {
     "name": "stderr",
     "output_type": "stream",
     "text": [
      "Epoch 64: 6.4s to complete\n",
      "    error(train)=9.29e-01, acc(train)=7.32e-01, error(valid)=9.36e-01, acc(valid)=7.29e-01\n"
     ]
    },
    {
     "data": {
      "text/plain": [
       "  0%|          | 0/1000 [00:00<?, ?it/s]"
      ],
      "application/vnd.jupyter.widget-view+json": {
       "version_major": 2,
       "version_minor": 0,
       "model_id": "59ec613356114586be5cfcd87bd5b2e0"
      }
     },
     "metadata": {},
     "output_type": "display_data"
    },
    {
     "name": "stderr",
     "output_type": "stream",
     "text": [
      "Epoch 65: 7.5s to complete\n",
      "    error(train)=9.27e-01, acc(train)=7.33e-01, error(valid)=9.35e-01, acc(valid)=7.29e-01\n"
     ]
    },
    {
     "data": {
      "text/plain": [
       "  0%|          | 0/1000 [00:00<?, ?it/s]"
      ],
      "application/vnd.jupyter.widget-view+json": {
       "version_major": 2,
       "version_minor": 0,
       "model_id": "157d3b99b5e14cdaa4e2a5b6c0fac8ee"
      }
     },
     "metadata": {},
     "output_type": "display_data"
    },
    {
     "name": "stderr",
     "output_type": "stream",
     "text": [
      "Epoch 66: 6.6s to complete\n",
      "    error(train)=9.26e-01, acc(train)=7.32e-01, error(valid)=9.34e-01, acc(valid)=7.28e-01\n"
     ]
    },
    {
     "data": {
      "text/plain": [
       "  0%|          | 0/1000 [00:00<?, ?it/s]"
      ],
      "application/vnd.jupyter.widget-view+json": {
       "version_major": 2,
       "version_minor": 0,
       "model_id": "1c111056ad404cee9423f50347c9ace5"
      }
     },
     "metadata": {},
     "output_type": "display_data"
    },
    {
     "name": "stderr",
     "output_type": "stream",
     "text": [
      "Epoch 67: 8.5s to complete\n",
      "    error(train)=9.23e-01, acc(train)=7.34e-01, error(valid)=9.30e-01, acc(valid)=7.30e-01\n"
     ]
    },
    {
     "data": {
      "text/plain": [
       "  0%|          | 0/1000 [00:00<?, ?it/s]"
      ],
      "application/vnd.jupyter.widget-view+json": {
       "version_major": 2,
       "version_minor": 0,
       "model_id": "add00deeca3f4331b630f92c746bd753"
      }
     },
     "metadata": {},
     "output_type": "display_data"
    },
    {
     "name": "stderr",
     "output_type": "stream",
     "text": [
      "Epoch 68: 6.4s to complete\n",
      "    error(train)=9.24e-01, acc(train)=7.32e-01, error(valid)=9.32e-01, acc(valid)=7.28e-01\n"
     ]
    },
    {
     "data": {
      "text/plain": [
       "  0%|          | 0/1000 [00:00<?, ?it/s]"
      ],
      "application/vnd.jupyter.widget-view+json": {
       "version_major": 2,
       "version_minor": 0,
       "model_id": "3b84582e93d24b0f952facf98782d1c7"
      }
     },
     "metadata": {},
     "output_type": "display_data"
    },
    {
     "name": "stderr",
     "output_type": "stream",
     "text": [
      "Epoch 69: 6.5s to complete\n",
      "    error(train)=9.20e-01, acc(train)=7.33e-01, error(valid)=9.27e-01, acc(valid)=7.29e-01\n"
     ]
    },
    {
     "data": {
      "text/plain": [
       "  0%|          | 0/1000 [00:00<?, ?it/s]"
      ],
      "application/vnd.jupyter.widget-view+json": {
       "version_major": 2,
       "version_minor": 0,
       "model_id": "341ca0380e11454d90a09bb184824d2b"
      }
     },
     "metadata": {},
     "output_type": "display_data"
    },
    {
     "name": "stderr",
     "output_type": "stream",
     "text": [
      "Epoch 70: 6.1s to complete\n",
      "    error(train)=9.19e-01, acc(train)=7.34e-01, error(valid)=9.26e-01, acc(valid)=7.31e-01\n"
     ]
    },
    {
     "data": {
      "text/plain": [
       "  0%|          | 0/1000 [00:00<?, ?it/s]"
      ],
      "application/vnd.jupyter.widget-view+json": {
       "version_major": 2,
       "version_minor": 0,
       "model_id": "b4aaa0cc5e9c4a1bba598ed8008a217b"
      }
     },
     "metadata": {},
     "output_type": "display_data"
    },
    {
     "name": "stderr",
     "output_type": "stream",
     "text": [
      "Epoch 71: 6.0s to complete\n",
      "    error(train)=9.21e-01, acc(train)=7.33e-01, error(valid)=9.28e-01, acc(valid)=7.30e-01\n"
     ]
    },
    {
     "data": {
      "text/plain": [
       "  0%|          | 0/1000 [00:00<?, ?it/s]"
      ],
      "application/vnd.jupyter.widget-view+json": {
       "version_major": 2,
       "version_minor": 0,
       "model_id": "0390528bb2d04ea8bea22b08a8db7b74"
      }
     },
     "metadata": {},
     "output_type": "display_data"
    },
    {
     "name": "stderr",
     "output_type": "stream",
     "text": [
      "Epoch 72: 7.6s to complete\n",
      "    error(train)=9.13e-01, acc(train)=7.35e-01, error(valid)=9.22e-01, acc(valid)=7.33e-01\n"
     ]
    },
    {
     "data": {
      "text/plain": [
       "  0%|          | 0/1000 [00:00<?, ?it/s]"
      ],
      "application/vnd.jupyter.widget-view+json": {
       "version_major": 2,
       "version_minor": 0,
       "model_id": "2c3873ad018142e6932b2890e4d6a300"
      }
     },
     "metadata": {},
     "output_type": "display_data"
    },
    {
     "name": "stderr",
     "output_type": "stream",
     "text": [
      "Epoch 73: 7.5s to complete\n",
      "    error(train)=9.12e-01, acc(train)=7.36e-01, error(valid)=9.19e-01, acc(valid)=7.33e-01\n"
     ]
    },
    {
     "data": {
      "text/plain": [
       "  0%|          | 0/1000 [00:00<?, ?it/s]"
      ],
      "application/vnd.jupyter.widget-view+json": {
       "version_major": 2,
       "version_minor": 0,
       "model_id": "8fae8c577e9d4bf295a4e2e669d79e7e"
      }
     },
     "metadata": {},
     "output_type": "display_data"
    },
    {
     "name": "stderr",
     "output_type": "stream",
     "text": [
      "Epoch 74: 8.5s to complete\n",
      "    error(train)=9.12e-01, acc(train)=7.36e-01, error(valid)=9.20e-01, acc(valid)=7.31e-01\n"
     ]
    },
    {
     "data": {
      "text/plain": [
       "  0%|          | 0/1000 [00:00<?, ?it/s]"
      ],
      "application/vnd.jupyter.widget-view+json": {
       "version_major": 2,
       "version_minor": 0,
       "model_id": "ca81832571554406a0e62b29ae15a2e4"
      }
     },
     "metadata": {},
     "output_type": "display_data"
    },
    {
     "name": "stderr",
     "output_type": "stream",
     "text": [
      "Epoch 75: 9.6s to complete\n",
      "    error(train)=9.08e-01, acc(train)=7.37e-01, error(valid)=9.16e-01, acc(valid)=7.33e-01\n"
     ]
    },
    {
     "data": {
      "text/plain": [
       "  0%|          | 0/1000 [00:00<?, ?it/s]"
      ],
      "application/vnd.jupyter.widget-view+json": {
       "version_major": 2,
       "version_minor": 0,
       "model_id": "14e248ae1a334911bbb2444627b8bc99"
      }
     },
     "metadata": {},
     "output_type": "display_data"
    },
    {
     "name": "stderr",
     "output_type": "stream",
     "text": [
      "Epoch 76: 8.7s to complete\n",
      "    error(train)=9.08e-01, acc(train)=7.37e-01, error(valid)=9.15e-01, acc(valid)=7.35e-01\n"
     ]
    },
    {
     "data": {
      "text/plain": [
       "  0%|          | 0/1000 [00:00<?, ?it/s]"
      ],
      "application/vnd.jupyter.widget-view+json": {
       "version_major": 2,
       "version_minor": 0,
       "model_id": "ed9596588ceb4070a301757ae0e0a6bb"
      }
     },
     "metadata": {},
     "output_type": "display_data"
    },
    {
     "name": "stderr",
     "output_type": "stream",
     "text": [
      "Epoch 77: 8.4s to complete\n",
      "    error(train)=9.06e-01, acc(train)=7.38e-01, error(valid)=9.14e-01, acc(valid)=7.35e-01\n"
     ]
    },
    {
     "data": {
      "text/plain": [
       "  0%|          | 0/1000 [00:00<?, ?it/s]"
      ],
      "application/vnd.jupyter.widget-view+json": {
       "version_major": 2,
       "version_minor": 0,
       "model_id": "273e51597ad74f789868c63f4292390a"
      }
     },
     "metadata": {},
     "output_type": "display_data"
    },
    {
     "name": "stderr",
     "output_type": "stream",
     "text": [
      "Epoch 78: 9.0s to complete\n",
      "    error(train)=9.04e-01, acc(train)=7.37e-01, error(valid)=9.11e-01, acc(valid)=7.35e-01\n"
     ]
    },
    {
     "data": {
      "text/plain": [
       "  0%|          | 0/1000 [00:00<?, ?it/s]"
      ],
      "application/vnd.jupyter.widget-view+json": {
       "version_major": 2,
       "version_minor": 0,
       "model_id": "18fc07c2c69a4a0daf582bc00a1ab9cf"
      }
     },
     "metadata": {},
     "output_type": "display_data"
    },
    {
     "name": "stderr",
     "output_type": "stream",
     "text": [
      "Epoch 79: 8.3s to complete\n",
      "    error(train)=9.01e-01, acc(train)=7.38e-01, error(valid)=9.09e-01, acc(valid)=7.35e-01\n"
     ]
    },
    {
     "data": {
      "text/plain": [
       "  0%|          | 0/1000 [00:00<?, ?it/s]"
      ],
      "application/vnd.jupyter.widget-view+json": {
       "version_major": 2,
       "version_minor": 0,
       "model_id": "6b3845a046864ec392b8f038ce7d0af7"
      }
     },
     "metadata": {},
     "output_type": "display_data"
    },
    {
     "name": "stderr",
     "output_type": "stream",
     "text": [
      "Epoch 80: 8.9s to complete\n",
      "    error(train)=9.00e-01, acc(train)=7.39e-01, error(valid)=9.09e-01, acc(valid)=7.35e-01\n"
     ]
    },
    {
     "data": {
      "text/plain": [
       "  0%|          | 0/1000 [00:00<?, ?it/s]"
      ],
      "application/vnd.jupyter.widget-view+json": {
       "version_major": 2,
       "version_minor": 0,
       "model_id": "0ffb6795f6354ddca7e5056db4fede58"
      }
     },
     "metadata": {},
     "output_type": "display_data"
    },
    {
     "name": "stderr",
     "output_type": "stream",
     "text": [
      "Epoch 81: 8.8s to complete\n",
      "    error(train)=8.97e-01, acc(train)=7.39e-01, error(valid)=9.06e-01, acc(valid)=7.36e-01\n"
     ]
    },
    {
     "data": {
      "text/plain": [
       "  0%|          | 0/1000 [00:00<?, ?it/s]"
      ],
      "application/vnd.jupyter.widget-view+json": {
       "version_major": 2,
       "version_minor": 0,
       "model_id": "b0f8483c97a74512987d7475740dcaf4"
      }
     },
     "metadata": {},
     "output_type": "display_data"
    },
    {
     "name": "stderr",
     "output_type": "stream",
     "text": [
      "Epoch 82: 10.2s to complete\n",
      "    error(train)=8.97e-01, acc(train)=7.40e-01, error(valid)=9.05e-01, acc(valid)=7.36e-01\n"
     ]
    },
    {
     "data": {
      "text/plain": [
       "  0%|          | 0/1000 [00:00<?, ?it/s]"
      ],
      "application/vnd.jupyter.widget-view+json": {
       "version_major": 2,
       "version_minor": 0,
       "model_id": "b4c1142521ea4a01ae8d13cad1142215"
      }
     },
     "metadata": {},
     "output_type": "display_data"
    },
    {
     "name": "stderr",
     "output_type": "stream",
     "text": [
      "Epoch 83: 9.6s to complete\n",
      "    error(train)=8.96e-01, acc(train)=7.39e-01, error(valid)=9.04e-01, acc(valid)=7.36e-01\n"
     ]
    },
    {
     "data": {
      "text/plain": [
       "  0%|          | 0/1000 [00:00<?, ?it/s]"
      ],
      "application/vnd.jupyter.widget-view+json": {
       "version_major": 2,
       "version_minor": 0,
       "model_id": "a4fe42de2948478fbff67be0e67293e1"
      }
     },
     "metadata": {},
     "output_type": "display_data"
    },
    {
     "name": "stderr",
     "output_type": "stream",
     "text": [
      "Epoch 84: 8.5s to complete\n",
      "    error(train)=8.98e-01, acc(train)=7.38e-01, error(valid)=9.06e-01, acc(valid)=7.36e-01\n"
     ]
    },
    {
     "data": {
      "text/plain": [
       "  0%|          | 0/1000 [00:00<?, ?it/s]"
      ],
      "application/vnd.jupyter.widget-view+json": {
       "version_major": 2,
       "version_minor": 0,
       "model_id": "181b2ad0667e4179ab363968216a82b4"
      }
     },
     "metadata": {},
     "output_type": "display_data"
    },
    {
     "name": "stderr",
     "output_type": "stream",
     "text": [
      "Epoch 85: 8.9s to complete\n",
      "    error(train)=8.93e-01, acc(train)=7.41e-01, error(valid)=9.00e-01, acc(valid)=7.38e-01\n"
     ]
    },
    {
     "data": {
      "text/plain": [
       "  0%|          | 0/1000 [00:00<?, ?it/s]"
      ],
      "application/vnd.jupyter.widget-view+json": {
       "version_major": 2,
       "version_minor": 0,
       "model_id": "8f9c2b238d27432ea904b106296ace46"
      }
     },
     "metadata": {},
     "output_type": "display_data"
    },
    {
     "name": "stderr",
     "output_type": "stream",
     "text": [
      "Epoch 86: 8.7s to complete\n",
      "    error(train)=8.91e-01, acc(train)=7.40e-01, error(valid)=8.99e-01, acc(valid)=7.36e-01\n"
     ]
    },
    {
     "data": {
      "text/plain": [
       "  0%|          | 0/1000 [00:00<?, ?it/s]"
      ],
      "application/vnd.jupyter.widget-view+json": {
       "version_major": 2,
       "version_minor": 0,
       "model_id": "06c737bbb9a24b55b83a541266bb0b19"
      }
     },
     "metadata": {},
     "output_type": "display_data"
    },
    {
     "name": "stderr",
     "output_type": "stream",
     "text": [
      "Epoch 87: 8.8s to complete\n",
      "    error(train)=8.91e-01, acc(train)=7.42e-01, error(valid)=9.00e-01, acc(valid)=7.38e-01\n"
     ]
    },
    {
     "data": {
      "text/plain": [
       "  0%|          | 0/1000 [00:00<?, ?it/s]"
      ],
      "application/vnd.jupyter.widget-view+json": {
       "version_major": 2,
       "version_minor": 0,
       "model_id": "9ebf3edee2d441f5a4bbf9ebe564a4e4"
      }
     },
     "metadata": {},
     "output_type": "display_data"
    },
    {
     "name": "stderr",
     "output_type": "stream",
     "text": [
      "Epoch 88: 10.1s to complete\n",
      "    error(train)=8.88e-01, acc(train)=7.42e-01, error(valid)=8.97e-01, acc(valid)=7.38e-01\n"
     ]
    },
    {
     "data": {
      "text/plain": [
       "  0%|          | 0/1000 [00:00<?, ?it/s]"
      ],
      "application/vnd.jupyter.widget-view+json": {
       "version_major": 2,
       "version_minor": 0,
       "model_id": "e6d204d9dcc84d7285887ada3731ca4a"
      }
     },
     "metadata": {},
     "output_type": "display_data"
    },
    {
     "name": "stderr",
     "output_type": "stream",
     "text": [
      "Epoch 89: 8.7s to complete\n",
      "    error(train)=8.92e-01, acc(train)=7.40e-01, error(valid)=9.02e-01, acc(valid)=7.37e-01\n"
     ]
    },
    {
     "data": {
      "text/plain": [
       "  0%|          | 0/1000 [00:00<?, ?it/s]"
      ],
      "application/vnd.jupyter.widget-view+json": {
       "version_major": 2,
       "version_minor": 0,
       "model_id": "bdf72ed54afc45ee9302a24a5603e1a6"
      }
     },
     "metadata": {},
     "output_type": "display_data"
    },
    {
     "name": "stderr",
     "output_type": "stream",
     "text": [
      "Epoch 90: 8.5s to complete\n",
      "    error(train)=8.87e-01, acc(train)=7.42e-01, error(valid)=8.96e-01, acc(valid)=7.40e-01\n"
     ]
    },
    {
     "data": {
      "text/plain": [
       "  0%|          | 0/1000 [00:00<?, ?it/s]"
      ],
      "application/vnd.jupyter.widget-view+json": {
       "version_major": 2,
       "version_minor": 0,
       "model_id": "27a4a1797d6c4b758b41bef42d88790e"
      }
     },
     "metadata": {},
     "output_type": "display_data"
    },
    {
     "name": "stderr",
     "output_type": "stream",
     "text": [
      "Epoch 91: 8.9s to complete\n",
      "    error(train)=8.84e-01, acc(train)=7.42e-01, error(valid)=8.92e-01, acc(valid)=7.39e-01\n"
     ]
    },
    {
     "data": {
      "text/plain": [
       "  0%|          | 0/1000 [00:00<?, ?it/s]"
      ],
      "application/vnd.jupyter.widget-view+json": {
       "version_major": 2,
       "version_minor": 0,
       "model_id": "df7840ca51ee4945b36d97be8312c4a1"
      }
     },
     "metadata": {},
     "output_type": "display_data"
    },
    {
     "name": "stderr",
     "output_type": "stream",
     "text": [
      "Epoch 92: 8.9s to complete\n",
      "    error(train)=8.84e-01, acc(train)=7.43e-01, error(valid)=8.92e-01, acc(valid)=7.41e-01\n"
     ]
    },
    {
     "data": {
      "text/plain": [
       "  0%|          | 0/1000 [00:00<?, ?it/s]"
      ],
      "application/vnd.jupyter.widget-view+json": {
       "version_major": 2,
       "version_minor": 0,
       "model_id": "c9c90938ffa0487f8a54bf0f0ef021e5"
      }
     },
     "metadata": {},
     "output_type": "display_data"
    },
    {
     "name": "stderr",
     "output_type": "stream",
     "text": [
      "Epoch 93: 9.3s to complete\n",
      "    error(train)=8.84e-01, acc(train)=7.43e-01, error(valid)=8.92e-01, acc(valid)=7.42e-01\n"
     ]
    },
    {
     "data": {
      "text/plain": [
       "  0%|          | 0/1000 [00:00<?, ?it/s]"
      ],
      "application/vnd.jupyter.widget-view+json": {
       "version_major": 2,
       "version_minor": 0,
       "model_id": "5aa3146d6ba54d87945b33b8c5148324"
      }
     },
     "metadata": {},
     "output_type": "display_data"
    },
    {
     "name": "stderr",
     "output_type": "stream",
     "text": [
      "Epoch 94: 8.2s to complete\n",
      "    error(train)=8.83e-01, acc(train)=7.42e-01, error(valid)=8.93e-01, acc(valid)=7.38e-01\n"
     ]
    },
    {
     "data": {
      "text/plain": [
       "  0%|          | 0/1000 [00:00<?, ?it/s]"
      ],
      "application/vnd.jupyter.widget-view+json": {
       "version_major": 2,
       "version_minor": 0,
       "model_id": "80943d9f88a444b78a64d927cbbebc89"
      }
     },
     "metadata": {},
     "output_type": "display_data"
    },
    {
     "name": "stderr",
     "output_type": "stream",
     "text": [
      "Epoch 95: 8.3s to complete\n",
      "    error(train)=8.79e-01, acc(train)=7.44e-01, error(valid)=8.88e-01, acc(valid)=7.41e-01\n"
     ]
    },
    {
     "data": {
      "text/plain": [
       "  0%|          | 0/1000 [00:00<?, ?it/s]"
      ],
      "application/vnd.jupyter.widget-view+json": {
       "version_major": 2,
       "version_minor": 0,
       "model_id": "6e2569f0035847f191e46c26035257b4"
      }
     },
     "metadata": {},
     "output_type": "display_data"
    },
    {
     "name": "stderr",
     "output_type": "stream",
     "text": [
      "Epoch 96: 9.4s to complete\n",
      "    error(train)=8.77e-01, acc(train)=7.45e-01, error(valid)=8.85e-01, acc(valid)=7.42e-01\n"
     ]
    },
    {
     "data": {
      "text/plain": [
       "  0%|          | 0/1000 [00:00<?, ?it/s]"
      ],
      "application/vnd.jupyter.widget-view+json": {
       "version_major": 2,
       "version_minor": 0,
       "model_id": "2424d942106644d698a22c32d028cff0"
      }
     },
     "metadata": {},
     "output_type": "display_data"
    },
    {
     "name": "stderr",
     "output_type": "stream",
     "text": [
      "Epoch 97: 8.4s to complete\n",
      "    error(train)=8.77e-01, acc(train)=7.46e-01, error(valid)=8.85e-01, acc(valid)=7.42e-01\n"
     ]
    },
    {
     "data": {
      "text/plain": [
       "  0%|          | 0/1000 [00:00<?, ?it/s]"
      ],
      "application/vnd.jupyter.widget-view+json": {
       "version_major": 2,
       "version_minor": 0,
       "model_id": "6dc54c4c238640bea946ecdc97014618"
      }
     },
     "metadata": {},
     "output_type": "display_data"
    },
    {
     "name": "stderr",
     "output_type": "stream",
     "text": [
      "Epoch 98: 9.0s to complete\n",
      "    error(train)=8.77e-01, acc(train)=7.44e-01, error(valid)=8.86e-01, acc(valid)=7.41e-01\n"
     ]
    },
    {
     "data": {
      "text/plain": [
       "  0%|          | 0/1000 [00:00<?, ?it/s]"
      ],
      "application/vnd.jupyter.widget-view+json": {
       "version_major": 2,
       "version_minor": 0,
       "model_id": "130e6ff0ad78495b9e18a72ac9b80542"
      }
     },
     "metadata": {},
     "output_type": "display_data"
    },
    {
     "name": "stderr",
     "output_type": "stream",
     "text": [
      "Epoch 99: 13.3s to complete\n",
      "    error(train)=8.77e-01, acc(train)=7.44e-01, error(valid)=8.87e-01, acc(valid)=7.43e-01\n"
     ]
    },
    {
     "data": {
      "text/plain": [
       "  0%|          | 0/1000 [00:00<?, ?it/s]"
      ],
      "application/vnd.jupyter.widget-view+json": {
       "version_major": 2,
       "version_minor": 0,
       "model_id": "718918f46a89476db727ce2aa7271d2c"
      }
     },
     "metadata": {},
     "output_type": "display_data"
    },
    {
     "name": "stderr",
     "output_type": "stream",
     "text": [
      "Epoch 100: 9.3s to complete\n",
      "    error(train)=8.73e-01, acc(train)=7.45e-01, error(valid)=8.83e-01, acc(valid)=7.42e-01\n"
     ]
    },
    {
     "name": "stdout",
     "output_type": "stream",
     "text": [
      "    final error(train) = 8.73e-01\n",
      "    final error(valid) = 8.83e-01\n",
      "    final acc(train)   = 7.45e-01\n",
      "    final acc(valid)   = 7.42e-01\n",
      "    run time per epoch = 13.13\n"
     ]
    }
   ],
   "execution_count": 9
  },
  {
   "metadata": {
    "ExecuteTime": {
     "end_time": "2024-10-24T22:58:56.065257Z",
     "start_time": "2024-10-24T22:58:56.053382Z"
    }
   },
   "cell_type": "code",
   "source": "stats_L1, keys_L1",
   "outputs": [
    {
     "data": {
      "text/plain": [
       "(array([[3.88035979, 0.01506   , 3.88089596, 0.01493671],\n",
       "        [1.66113751, 0.55639   , 1.66296897, 0.55272152],\n",
       "        [1.52723324, 0.5911    , 1.52947905, 0.5878481 ],\n",
       "        [1.46322611, 0.60595   , 1.46903724, 0.60196203],\n",
       "        [1.42202574, 0.61425   , 1.42617775, 0.61107595],\n",
       "        [1.38508778, 0.62433   , 1.39094602, 0.61924051],\n",
       "        [1.35757435, 0.63114   , 1.3632521 , 0.6285443 ],\n",
       "        [1.33116876, 0.63638   , 1.33762569, 0.6335443 ],\n",
       "        [1.30894832, 0.64146   , 1.31548482, 0.63575949],\n",
       "        [1.28394782, 0.64677   , 1.29003177, 0.64297468],\n",
       "        [1.26527242, 0.64977   , 1.27195887, 0.64664557],\n",
       "        [1.2444325 , 0.65616   , 1.25037868, 0.65246835],\n",
       "        [1.22180082, 0.66053   , 1.22742157, 0.6593038 ],\n",
       "        [1.20624708, 0.66442   , 1.21364957, 0.66329114],\n",
       "        [1.19107834, 0.66765   , 1.19724507, 0.66443038],\n",
       "        [1.17727997, 0.67019   , 1.18547667, 0.66563291],\n",
       "        [1.1627306 , 0.6729    , 1.16963252, 0.66867089],\n",
       "        [1.15038712, 0.6749    , 1.15721516, 0.6706962 ],\n",
       "        [1.13793994, 0.68015   , 1.14516882, 0.67594937],\n",
       "        [1.13019235, 0.68153   , 1.13727258, 0.67860759],\n",
       "        [1.11985889, 0.6819    , 1.12634933, 0.67968354],\n",
       "        [1.11135652, 0.68672   , 1.11742508, 0.68639241],\n",
       "        [1.10372753, 0.688     , 1.11144831, 0.68493671],\n",
       "        [1.09757581, 0.68825   , 1.10447402, 0.68582278],\n",
       "        [1.08890907, 0.69152   , 1.09540581, 0.68835443],\n",
       "        [1.08092622, 0.69295   , 1.08737506, 0.69139241],\n",
       "        [1.07549403, 0.69461   , 1.08224159, 0.69316456],\n",
       "        [1.07101002, 0.69463   , 1.07840244, 0.69291139],\n",
       "        [1.062756  , 0.69746   , 1.0699533 , 0.69417722],\n",
       "        [1.0568654 , 0.69858   , 1.06317894, 0.6978481 ],\n",
       "        [1.0499794 , 0.70126   , 1.05642161, 0.69981013],\n",
       "        [1.04412849, 0.70175   , 1.05020395, 0.70183544],\n",
       "        [1.03995497, 0.70376   , 1.04610514, 0.70341772],\n",
       "        [1.03482046, 0.70453   , 1.04207841, 0.70240506],\n",
       "        [1.03032152, 0.70563   , 1.03661348, 0.70234177],\n",
       "        [1.02435219, 0.70726   , 1.0311196 , 0.70613924],\n",
       "        [1.02095404, 0.70747   , 1.02832449, 0.70670886],\n",
       "        [1.01474336, 0.70958   , 1.02186175, 0.70651899],\n",
       "        [1.01317609, 0.70985   , 1.0199085 , 0.70759494],\n",
       "        [1.00644085, 0.71076   , 1.01229802, 0.7064557 ],\n",
       "        [1.00196189, 0.71294   , 1.00864851, 0.71082278],\n",
       "        [0.9959277 , 0.71415   , 1.0023574 , 0.71202532],\n",
       "        [0.99373473, 0.7154    , 1.00069165, 0.71512658],\n",
       "        [0.99024004, 0.71623   , 0.99689915, 0.71246835],\n",
       "        [0.9842052 , 0.71804   , 0.99145478, 0.71291139],\n",
       "        [0.98067149, 0.71792   , 0.98731551, 0.71537975],\n",
       "        [0.97724842, 0.72063   , 0.9845884 , 0.71607595],\n",
       "        [0.97574262, 0.72026   , 0.98280444, 0.71506329],\n",
       "        [0.97122176, 0.7211    , 0.97902723, 0.71670886],\n",
       "        [0.9718329 , 0.71958   , 0.97956973, 0.71582278],\n",
       "        [0.96592261, 0.72229   , 0.9733013 , 0.71905063],\n",
       "        [0.96136549, 0.724     , 0.96945623, 0.71993671],\n",
       "        [0.95825892, 0.72445   , 0.96448948, 0.72044304],\n",
       "        [0.95754531, 0.72346   , 0.96376381, 0.71981013],\n",
       "        [0.95419616, 0.72657   , 0.96156605, 0.72164557],\n",
       "        [0.95190282, 0.72575   , 0.95804363, 0.72348101],\n",
       "        [0.94934992, 0.72674   , 0.95601224, 0.72550633],\n",
       "        [0.9461342 , 0.72685   , 0.95324125, 0.72392405],\n",
       "        [0.9433456 , 0.72854   , 0.94995761, 0.72689873],\n",
       "        [0.94185972, 0.72827   , 0.94812933, 0.72746835],\n",
       "        [0.93792063, 0.72935   , 0.9454263 , 0.72696203],\n",
       "        [0.93642882, 0.73001   , 0.94314673, 0.72696203],\n",
       "        [0.93698747, 0.72988   , 0.94339626, 0.72772152],\n",
       "        [0.93188918, 0.73126   , 0.93823948, 0.72753165],\n",
       "        [0.92927904, 0.73169   , 0.93635623, 0.72879747],\n",
       "        [0.9274771 , 0.73289   , 0.93458942, 0.7285443 ],\n",
       "        [0.92594035, 0.73164   , 0.93418426, 0.7278481 ],\n",
       "        [0.92265731, 0.73365   , 0.92991913, 0.73025316],\n",
       "        [0.92354268, 0.73249   , 0.93216178, 0.72841772],\n",
       "        [0.91983658, 0.73341   , 0.92714754, 0.72892405],\n",
       "        [0.91909131, 0.73433   , 0.92569288, 0.73088608],\n",
       "        [0.92065617, 0.73293   , 0.92756431, 0.73012658],\n",
       "        [0.91346427, 0.73517   , 0.92174491, 0.73259494],\n",
       "        [0.91176208, 0.73644   , 0.91900414, 0.73291139],\n",
       "        [0.91153405, 0.73555   , 0.91956322, 0.73082278],\n",
       "        [0.90805498, 0.73657   , 0.91596282, 0.7328481 ],\n",
       "        [0.90777793, 0.73699   , 0.91536089, 0.73525316],\n",
       "        [0.90554764, 0.73837   , 0.91393903, 0.73537975],\n",
       "        [0.90372712, 0.73741   , 0.91123923, 0.73462025],\n",
       "        [0.90102065, 0.73787   , 0.90909059, 0.73487342],\n",
       "        [0.89961265, 0.73919   , 0.9088226 , 0.73537975],\n",
       "        [0.89749553, 0.73899   , 0.90605603, 0.73620253],\n",
       "        [0.89652176, 0.74032   , 0.90514392, 0.73607595],\n",
       "        [0.8960394 , 0.73895   , 0.90393581, 0.73632911],\n",
       "        [0.89834195, 0.73791   , 0.90637524, 0.73632911],\n",
       "        [0.89266285, 0.74081   , 0.90020502, 0.73829114],\n",
       "        [0.89121949, 0.74045   , 0.89949833, 0.7356962 ],\n",
       "        [0.89051609, 0.74159   , 0.89957141, 0.73797468],\n",
       "        [0.88807053, 0.74232   , 0.89699284, 0.73810127],\n",
       "        [0.89242984, 0.7404    , 0.90157049, 0.73677215],\n",
       "        [0.88650035, 0.74213   , 0.89565086, 0.74031646],\n",
       "        [0.8839006 , 0.74237   , 0.8918391 , 0.73949367],\n",
       "        [0.8838314 , 0.74268   , 0.89248171, 0.74050633],\n",
       "        [0.88367909, 0.74285   , 0.89240909, 0.74164557],\n",
       "        [0.88319262, 0.74202   , 0.89261524, 0.7378481 ],\n",
       "        [0.87895807, 0.74408   , 0.88757509, 0.74082278],\n",
       "        [0.87740037, 0.74454   , 0.88463567, 0.74177215],\n",
       "        [0.87652621, 0.74568   , 0.88450635, 0.74208861],\n",
       "        [0.87689537, 0.74422   , 0.8858732 , 0.74088608],\n",
       "        [0.87722681, 0.74412   , 0.88672652, 0.74272152],\n",
       "        [0.87324396, 0.74511   , 0.88292116, 0.74189873]]),\n",
       " {'error(train)': 0, 'acc(train)': 1, 'error(valid)': 2, 'acc(valid)': 3})"
      ]
     },
     "execution_count": 14,
     "metadata": {},
     "output_type": "execute_result"
    }
   ],
   "execution_count": 14
  },
  {
   "metadata": {
    "ExecuteTime": {
     "end_time": "2024-10-24T22:54:48.385339Z",
     "start_time": "2024-10-24T22:54:48.260125Z"
    }
   },
   "cell_type": "code",
   "source": "plt.show()",
   "outputs": [
    {
     "data": {
      "text/plain": [
       "<Figure size 800x400 with 1 Axes>"
      ],
      "image/png": "[encoded data removed]"
     },
     "metadata": {},
     "output_type": "display_data"
    },
    {
     "data": {
      "text/plain": [
       "<Figure size 800x400 with 1 Axes>"
      ],
      "image/png": "[encoded data removed]"
     },
     "metadata": {},
     "output_type": "display_data"
    }
   ],
   "execution_count": 10
  },
  {
   "metadata": {},
   "cell_type": "markdown",
   "source": "## L2"
  },
  {
   "metadata": {
    "ExecuteTime": {
     "end_time": "2024-10-24T23:18:39.166070Z",
     "start_time": "2024-10-24T23:01:07.547209Z"
    }
   },
   "cell_type": "code",
   "source": [
    "from mlp.penalties import L2Penalty\n",
    "\n",
    "train_data.reset()\n",
    "valid_data.reset()\n",
    "\n",
    "# Setup hyperparameters\n",
    "learning_rate = 1e-4\n",
    "num_epochs = 100\n",
    "stats_interval = 1  # Every 1 epoch record the error and acc data\n",
    "input_dim, output_dim, hidden_dim = 784, 47, 128\n",
    "l2_coefficient = 1e-3\n",
    "\n",
    "final_errors_train = []\n",
    "final_errors_valid = []\n",
    "final_accs_train = []\n",
    "final_accs_valid = []\n",
    "stats_list = []\n",
    "keys_list = []\n",
    "\n",
    "weights_init = GlorotUniformInit(rng=rng)\n",
    "biases_init = ConstantInit(0.)\n",
    "\n",
    "l2_penalty = L2Penalty(coefficient=l2_coefficient)\n",
    "\n",
    "# Create model with 3 hidden layer\n",
    "model = MultipleLayerModel([\n",
    "    AffineLayer(input_dim, hidden_dim, weights_init, biases_init, weights_penalty=l2_penalty, biases_penalty=l2_penalty),\n",
    "    ReluLayer(),\n",
    "    AffineLayer(hidden_dim, hidden_dim, weights_init, biases_init, weights_penalty=l2_penalty, biases_penalty=l2_penalty),\n",
    "    ReluLayer(),\n",
    "    AffineLayer(hidden_dim, hidden_dim, weights_init, biases_init, weights_penalty=l2_penalty, biases_penalty=l2_penalty),\n",
    "    ReluLayer(),\n",
    "    AffineLayer(hidden_dim, output_dim, weights_init, biases_init, weights_penalty=l2_penalty, biases_penalty=l2_penalty)\n",
    "])\n",
    "\n",
    "# 原始的交叉熵损失函数\n",
    "error = CrossEntropySoftmaxError()\n",
    "\n",
    "# Use a Adam learning rule\n",
    "learning_rule = AdamLearningRule(learning_rate=learning_rate)\n",
    "\n",
    "# Remember to use notebook=False when you write a script to be run in a terminal\n",
    "stats, keys, run_time, fig_1, ax_1, fig_2, ax_2 = train_model_and_plot_stats(\n",
    "    model, error, learning_rule, train_data, valid_data, num_epochs, stats_interval, notebook=True)\n",
    "\n",
    "print('    final error(train) = {0:.2e}'.format(stats[-1, keys['error(train)']]))\n",
    "print('    final error(valid) = {0:.2e}'.format(stats[-1, keys['error(valid)']]))\n",
    "print('    final acc(train)   = {0:.2e}'.format(stats[-1, keys['acc(train)']]))\n",
    "print('    final acc(valid)   = {0:.2e}'.format(stats[-1, keys['acc(valid)']]))\n",
    "print('    run time per epoch = {0:.2f}'.format(run_time * 1. / num_epochs))\n",
    "\n",
    "final_errors_train.append(stats[-1, keys['error(train)']])\n",
    "final_errors_valid.append(stats[-1, keys['error(valid)']])\n",
    "final_accs_train.append(stats[-1, keys['acc(train)']])\n",
    "final_accs_valid.append(stats[-1, keys['acc(valid)']])\n",
    "stats_L2 = stats\n",
    "keys_L2 = keys"
   ],
   "outputs": [
    {
     "data": {
      "text/plain": [
       "  0%|          | 0/100 [00:00<?, ?it/s]"
      ],
      "application/vnd.jupyter.widget-view+json": {
       "version_major": 2,
       "version_minor": 0,
       "model_id": "2cfe31faa6b149c3ba4cb5b776954d62"
      }
     },
     "metadata": {},
     "output_type": "display_data"
    },
    {
     "data": {
      "text/plain": [
       "  0%|          | 0/1000 [00:00<?, ?it/s]"
      ],
      "application/vnd.jupyter.widget-view+json": {
       "version_major": 2,
       "version_minor": 0,
       "model_id": "529f822165d7470288b5067b7e0273b2"
      }
     },
     "metadata": {},
     "output_type": "display_data"
    },
    {
     "name": "stderr",
     "output_type": "stream",
     "text": [
      "Epoch 1: 7.2s to complete\n",
      "    error(train)=1.36e+00, acc(train)=6.25e-01, error(valid)=1.36e+00, acc(valid)=6.22e-01\n"
     ]
    },
    {
     "data": {
      "text/plain": [
       "  0%|          | 0/1000 [00:00<?, ?it/s]"
      ],
      "application/vnd.jupyter.widget-view+json": {
       "version_major": 2,
       "version_minor": 0,
       "model_id": "e335bacba9e24e03959ce82334300392"
      }
     },
     "metadata": {},
     "output_type": "display_data"
    },
    {
     "name": "stderr",
     "output_type": "stream",
     "text": [
      "Epoch 2: 5.6s to complete\n",
      "    error(train)=1.12e+00, acc(train)=6.83e-01, error(valid)=1.13e+00, acc(valid)=6.81e-01\n"
     ]
    },
    {
     "data": {
      "text/plain": [
       "  0%|          | 0/1000 [00:00<?, ?it/s]"
      ],
      "application/vnd.jupyter.widget-view+json": {
       "version_major": 2,
       "version_minor": 0,
       "model_id": "fe8db55f58c940e2aee7951c20837e4c"
      }
     },
     "metadata": {},
     "output_type": "display_data"
    },
    {
     "name": "stderr",
     "output_type": "stream",
     "text": [
      "Epoch 3: 5.9s to complete\n",
      "    error(train)=9.94e-01, acc(train)=7.15e-01, error(valid)=1.01e+00, acc(valid)=7.07e-01\n"
     ]
    },
    {
     "data": {
      "text/plain": [
       "  0%|          | 0/1000 [00:00<?, ?it/s]"
      ],
      "application/vnd.jupyter.widget-view+json": {
       "version_major": 2,
       "version_minor": 0,
       "model_id": "e00a4f314aa6490da89b5d97e0753e4c"
      }
     },
     "metadata": {},
     "output_type": "display_data"
    },
    {
     "name": "stderr",
     "output_type": "stream",
     "text": [
      "Epoch 4: 7.9s to complete\n",
      "    error(train)=9.05e-01, acc(train)=7.38e-01, error(valid)=9.20e-01, acc(valid)=7.34e-01\n"
     ]
    },
    {
     "data": {
      "text/plain": [
       "  0%|          | 0/1000 [00:00<?, ?it/s]"
      ],
      "application/vnd.jupyter.widget-view+json": {
       "version_major": 2,
       "version_minor": 0,
       "model_id": "91520273186f4ddca599a875e00415eb"
      }
     },
     "metadata": {},
     "output_type": "display_data"
    },
    {
     "name": "stderr",
     "output_type": "stream",
     "text": [
      "Epoch 5: 9.6s to complete\n",
      "    error(train)=8.38e-01, acc(train)=7.54e-01, error(valid)=8.59e-01, acc(valid)=7.47e-01\n"
     ]
    },
    {
     "data": {
      "text/plain": [
       "  0%|          | 0/1000 [00:00<?, ?it/s]"
      ],
      "application/vnd.jupyter.widget-view+json": {
       "version_major": 2,
       "version_minor": 0,
       "model_id": "b2c075b9cddf48bd934a663ded6c3658"
      }
     },
     "metadata": {},
     "output_type": "display_data"
    },
    {
     "name": "stderr",
     "output_type": "stream",
     "text": [
      "Epoch 6: 5.7s to complete\n",
      "    error(train)=7.93e-01, acc(train)=7.65e-01, error(valid)=8.17e-01, acc(valid)=7.57e-01\n"
     ]
    },
    {
     "data": {
      "text/plain": [
       "  0%|          | 0/1000 [00:00<?, ?it/s]"
      ],
      "application/vnd.jupyter.widget-view+json": {
       "version_major": 2,
       "version_minor": 0,
       "model_id": "af6e4c13db224623a9b955c1cfc3811f"
      }
     },
     "metadata": {},
     "output_type": "display_data"
    },
    {
     "name": "stderr",
     "output_type": "stream",
     "text": [
      "Epoch 7: 7.2s to complete\n",
      "    error(train)=7.51e-01, acc(train)=7.75e-01, error(valid)=7.74e-01, acc(valid)=7.67e-01\n"
     ]
    },
    {
     "data": {
      "text/plain": [
       "  0%|          | 0/1000 [00:00<?, ?it/s]"
      ],
      "application/vnd.jupyter.widget-view+json": {
       "version_major": 2,
       "version_minor": 0,
       "model_id": "5a56504be60d4f35b099af5dbebce57d"
      }
     },
     "metadata": {},
     "output_type": "display_data"
    },
    {
     "name": "stderr",
     "output_type": "stream",
     "text": [
      "Epoch 8: 7.2s to complete\n",
      "    error(train)=7.15e-01, acc(train)=7.85e-01, error(valid)=7.40e-01, acc(valid)=7.78e-01\n"
     ]
    },
    {
     "data": {
      "text/plain": [
       "  0%|          | 0/1000 [00:00<?, ?it/s]"
      ],
      "application/vnd.jupyter.widget-view+json": {
       "version_major": 2,
       "version_minor": 0,
       "model_id": "415765a658774b85b2c066bc5f8c02e7"
      }
     },
     "metadata": {},
     "output_type": "display_data"
    },
    {
     "name": "stderr",
     "output_type": "stream",
     "text": [
      "Epoch 9: 6.9s to complete\n",
      "    error(train)=6.92e-01, acc(train)=7.88e-01, error(valid)=7.21e-01, acc(valid)=7.79e-01\n"
     ]
    },
    {
     "data": {
      "text/plain": [
       "  0%|          | 0/1000 [00:00<?, ?it/s]"
      ],
      "application/vnd.jupyter.widget-view+json": {
       "version_major": 2,
       "version_minor": 0,
       "model_id": "ca64bbd1bcef4e599f8c854a8bec2e26"
      }
     },
     "metadata": {},
     "output_type": "display_data"
    },
    {
     "name": "stderr",
     "output_type": "stream",
     "text": [
      "Epoch 10: 11.3s to complete\n",
      "    error(train)=6.68e-01, acc(train)=7.97e-01, error(valid)=6.96e-01, acc(valid)=7.89e-01\n"
     ]
    },
    {
     "data": {
      "text/plain": [
       "  0%|          | 0/1000 [00:00<?, ?it/s]"
      ],
      "application/vnd.jupyter.widget-view+json": {
       "version_major": 2,
       "version_minor": 0,
       "model_id": "b620add1341541e799284cb1f3d03b04"
      }
     },
     "metadata": {},
     "output_type": "display_data"
    },
    {
     "name": "stderr",
     "output_type": "stream",
     "text": [
      "Epoch 11: 6.6s to complete\n",
      "    error(train)=6.45e-01, acc(train)=8.05e-01, error(valid)=6.74e-01, acc(valid)=7.99e-01\n"
     ]
    },
    {
     "data": {
      "text/plain": [
       "  0%|          | 0/1000 [00:00<?, ?it/s]"
      ],
      "application/vnd.jupyter.widget-view+json": {
       "version_major": 2,
       "version_minor": 0,
       "model_id": "32384af96f15474ba7aa334880972ec0"
      }
     },
     "metadata": {},
     "output_type": "display_data"
    },
    {
     "name": "stderr",
     "output_type": "stream",
     "text": [
      "Epoch 12: 8.5s to complete\n",
      "    error(train)=6.29e-01, acc(train)=8.07e-01, error(valid)=6.61e-01, acc(valid)=7.98e-01\n"
     ]
    },
    {
     "data": {
      "text/plain": [
       "  0%|          | 0/1000 [00:00<?, ?it/s]"
      ],
      "application/vnd.jupyter.widget-view+json": {
       "version_major": 2,
       "version_minor": 0,
       "model_id": "79707fe6fddd4b4eb4eab6254a53d74c"
      }
     },
     "metadata": {},
     "output_type": "display_data"
    },
    {
     "name": "stderr",
     "output_type": "stream",
     "text": [
      "Epoch 13: 6.2s to complete\n",
      "    error(train)=6.13e-01, acc(train)=8.10e-01, error(valid)=6.48e-01, acc(valid)=8.00e-01\n"
     ]
    },
    {
     "data": {
      "text/plain": [
       "  0%|          | 0/1000 [00:00<?, ?it/s]"
      ],
      "application/vnd.jupyter.widget-view+json": {
       "version_major": 2,
       "version_minor": 0,
       "model_id": "e5d556b56d1c4f6aa4da24faa2be6a8b"
      }
     },
     "metadata": {},
     "output_type": "display_data"
    },
    {
     "name": "stderr",
     "output_type": "stream",
     "text": [
      "Epoch 14: 6.6s to complete\n",
      "    error(train)=5.97e-01, acc(train)=8.15e-01, error(valid)=6.31e-01, acc(valid)=8.07e-01\n"
     ]
    },
    {
     "data": {
      "text/plain": [
       "  0%|          | 0/1000 [00:00<?, ?it/s]"
      ],
      "application/vnd.jupyter.widget-view+json": {
       "version_major": 2,
       "version_minor": 0,
       "model_id": "ecbd1d9a6f704af5abdae18b0e9e359f"
      }
     },
     "metadata": {},
     "output_type": "display_data"
    },
    {
     "name": "stderr",
     "output_type": "stream",
     "text": [
      "Epoch 15: 8.3s to complete\n",
      "    error(train)=5.89e-01, acc(train)=8.17e-01, error(valid)=6.24e-01, acc(valid)=8.09e-01\n"
     ]
    },
    {
     "data": {
      "text/plain": [
       "  0%|          | 0/1000 [00:00<?, ?it/s]"
      ],
      "application/vnd.jupyter.widget-view+json": {
       "version_major": 2,
       "version_minor": 0,
       "model_id": "3678597c95c744fa9753f32adb782bdc"
      }
     },
     "metadata": {},
     "output_type": "display_data"
    },
    {
     "name": "stderr",
     "output_type": "stream",
     "text": [
      "Epoch 16: 7.2s to complete\n",
      "    error(train)=5.74e-01, acc(train)=8.21e-01, error(valid)=6.09e-01, acc(valid)=8.14e-01\n"
     ]
    },
    {
     "data": {
      "text/plain": [
       "  0%|          | 0/1000 [00:00<?, ?it/s]"
      ],
      "application/vnd.jupyter.widget-view+json": {
       "version_major": 2,
       "version_minor": 0,
       "model_id": "67e8cd1aaa234ba185c1b0162ad0e4c1"
      }
     },
     "metadata": {},
     "output_type": "display_data"
    },
    {
     "name": "stderr",
     "output_type": "stream",
     "text": [
      "Epoch 17: 7.6s to complete\n",
      "    error(train)=5.68e-01, acc(train)=8.21e-01, error(valid)=6.06e-01, acc(valid)=8.11e-01\n"
     ]
    },
    {
     "data": {
      "text/plain": [
       "  0%|          | 0/1000 [00:00<?, ?it/s]"
      ],
      "application/vnd.jupyter.widget-view+json": {
       "version_major": 2,
       "version_minor": 0,
       "model_id": "ba021723b0d6477b9c602333ab6810d4"
      }
     },
     "metadata": {},
     "output_type": "display_data"
    },
    {
     "name": "stderr",
     "output_type": "stream",
     "text": [
      "Epoch 18: 7.7s to complete\n",
      "    error(train)=5.55e-01, acc(train)=8.27e-01, error(valid)=5.92e-01, acc(valid)=8.16e-01\n"
     ]
    },
    {
     "data": {
      "text/plain": [
       "  0%|          | 0/1000 [00:00<?, ?it/s]"
      ],
      "application/vnd.jupyter.widget-view+json": {
       "version_major": 2,
       "version_minor": 0,
       "model_id": "fee80781d299492c8204f76918a494b0"
      }
     },
     "metadata": {},
     "output_type": "display_data"
    },
    {
     "name": "stderr",
     "output_type": "stream",
     "text": [
      "Epoch 19: 10.7s to complete\n",
      "    error(train)=5.51e-01, acc(train)=8.27e-01, error(valid)=5.91e-01, acc(valid)=8.15e-01\n"
     ]
    },
    {
     "data": {
      "text/plain": [
       "  0%|          | 0/1000 [00:00<?, ?it/s]"
      ],
      "application/vnd.jupyter.widget-view+json": {
       "version_major": 2,
       "version_minor": 0,
       "model_id": "05221858556643f6a613434eda8e8b91"
      }
     },
     "metadata": {},
     "output_type": "display_data"
    },
    {
     "name": "stderr",
     "output_type": "stream",
     "text": [
      "Epoch 20: 9.3s to complete\n",
      "    error(train)=5.42e-01, acc(train)=8.29e-01, error(valid)=5.82e-01, acc(valid)=8.21e-01\n"
     ]
    },
    {
     "data": {
      "text/plain": [
       "  0%|          | 0/1000 [00:00<?, ?it/s]"
      ],
      "application/vnd.jupyter.widget-view+json": {
       "version_major": 2,
       "version_minor": 0,
       "model_id": "a8a53ef079a7438f8f6f4a22922204cc"
      }
     },
     "metadata": {},
     "output_type": "display_data"
    },
    {
     "name": "stderr",
     "output_type": "stream",
     "text": [
      "Epoch 21: 13.5s to complete\n",
      "    error(train)=5.30e-01, acc(train)=8.33e-01, error(valid)=5.72e-01, acc(valid)=8.21e-01\n"
     ]
    },
    {
     "data": {
      "text/plain": [
       "  0%|          | 0/1000 [00:00<?, ?it/s]"
      ],
      "application/vnd.jupyter.widget-view+json": {
       "version_major": 2,
       "version_minor": 0,
       "model_id": "e121008eda87426da42c8a211ce6a0d3"
      }
     },
     "metadata": {},
     "output_type": "display_data"
    },
    {
     "name": "stderr",
     "output_type": "stream",
     "text": [
      "Epoch 22: 5.5s to complete\n",
      "    error(train)=5.21e-01, acc(train)=8.34e-01, error(valid)=5.66e-01, acc(valid)=8.22e-01\n"
     ]
    },
    {
     "data": {
      "text/plain": [
       "  0%|          | 0/1000 [00:00<?, ?it/s]"
      ],
      "application/vnd.jupyter.widget-view+json": {
       "version_major": 2,
       "version_minor": 0,
       "model_id": "67cd897eee654845892237e1575be303"
      }
     },
     "metadata": {},
     "output_type": "display_data"
    },
    {
     "name": "stderr",
     "output_type": "stream",
     "text": [
      "Epoch 23: 5.4s to complete\n",
      "    error(train)=5.23e-01, acc(train)=8.35e-01, error(valid)=5.67e-01, acc(valid)=8.21e-01\n"
     ]
    },
    {
     "data": {
      "text/plain": [
       "  0%|          | 0/1000 [00:00<?, ?it/s]"
      ],
      "application/vnd.jupyter.widget-view+json": {
       "version_major": 2,
       "version_minor": 0,
       "model_id": "694889573c34410b8a49bf6fb46b8774"
      }
     },
     "metadata": {},
     "output_type": "display_data"
    },
    {
     "name": "stderr",
     "output_type": "stream",
     "text": [
      "Epoch 24: 7.0s to complete\n",
      "    error(train)=5.13e-01, acc(train)=8.36e-01, error(valid)=5.57e-01, acc(valid)=8.23e-01\n"
     ]
    },
    {
     "data": {
      "text/plain": [
       "  0%|          | 0/1000 [00:00<?, ?it/s]"
      ],
      "application/vnd.jupyter.widget-view+json": {
       "version_major": 2,
       "version_minor": 0,
       "model_id": "bbf3f7f1c72942878100f119441e039d"
      }
     },
     "metadata": {},
     "output_type": "display_data"
    },
    {
     "name": "stderr",
     "output_type": "stream",
     "text": [
      "Epoch 25: 5.4s to complete\n",
      "    error(train)=5.04e-01, acc(train)=8.40e-01, error(valid)=5.51e-01, acc(valid)=8.26e-01\n"
     ]
    },
    {
     "data": {
      "text/plain": [
       "  0%|          | 0/1000 [00:00<?, ?it/s]"
      ],
      "application/vnd.jupyter.widget-view+json": {
       "version_major": 2,
       "version_minor": 0,
       "model_id": "ac9a90d1ddc64356b8213f350648e226"
      }
     },
     "metadata": {},
     "output_type": "display_data"
    },
    {
     "name": "stderr",
     "output_type": "stream",
     "text": [
      "Epoch 26: 5.9s to complete\n",
      "    error(train)=5.02e-01, acc(train)=8.40e-01, error(valid)=5.49e-01, acc(valid)=8.24e-01\n"
     ]
    },
    {
     "data": {
      "text/plain": [
       "  0%|          | 0/1000 [00:00<?, ?it/s]"
      ],
      "application/vnd.jupyter.widget-view+json": {
       "version_major": 2,
       "version_minor": 0,
       "model_id": "1dead2ac61af43e39ef5aa4a5a53c94d"
      }
     },
     "metadata": {},
     "output_type": "display_data"
    },
    {
     "name": "stderr",
     "output_type": "stream",
     "text": [
      "Epoch 27: 5.7s to complete\n",
      "    error(train)=4.91e-01, acc(train)=8.43e-01, error(valid)=5.40e-01, acc(valid)=8.28e-01\n"
     ]
    },
    {
     "data": {
      "text/plain": [
       "  0%|          | 0/1000 [00:00<?, ?it/s]"
      ],
      "application/vnd.jupyter.widget-view+json": {
       "version_major": 2,
       "version_minor": 0,
       "model_id": "8db9938fe93c4091a3f9c738ce8e452b"
      }
     },
     "metadata": {},
     "output_type": "display_data"
    },
    {
     "name": "stderr",
     "output_type": "stream",
     "text": [
      "Epoch 28: 7.0s to complete\n",
      "    error(train)=4.87e-01, acc(train)=8.45e-01, error(valid)=5.36e-01, acc(valid)=8.30e-01\n"
     ]
    },
    {
     "data": {
      "text/plain": [
       "  0%|          | 0/1000 [00:00<?, ?it/s]"
      ],
      "application/vnd.jupyter.widget-view+json": {
       "version_major": 2,
       "version_minor": 0,
       "model_id": "b3dcde47baef4bdc83275611122faf09"
      }
     },
     "metadata": {},
     "output_type": "display_data"
    },
    {
     "name": "stderr",
     "output_type": "stream",
     "text": [
      "Epoch 29: 5.0s to complete\n",
      "    error(train)=4.83e-01, acc(train)=8.46e-01, error(valid)=5.35e-01, acc(valid)=8.30e-01\n"
     ]
    },
    {
     "data": {
      "text/plain": [
       "  0%|          | 0/1000 [00:00<?, ?it/s]"
      ],
      "application/vnd.jupyter.widget-view+json": {
       "version_major": 2,
       "version_minor": 0,
       "model_id": "d691518434a148a79bb1495547c1d8bc"
      }
     },
     "metadata": {},
     "output_type": "display_data"
    },
    {
     "name": "stderr",
     "output_type": "stream",
     "text": [
      "Epoch 30: 6.7s to complete\n",
      "    error(train)=4.82e-01, acc(train)=8.45e-01, error(valid)=5.35e-01, acc(valid)=8.29e-01\n"
     ]
    },
    {
     "data": {
      "text/plain": [
       "  0%|          | 0/1000 [00:00<?, ?it/s]"
      ],
      "application/vnd.jupyter.widget-view+json": {
       "version_major": 2,
       "version_minor": 0,
       "model_id": "b3f515d4144b4692a9c1318cab009ab9"
      }
     },
     "metadata": {},
     "output_type": "display_data"
    },
    {
     "name": "stderr",
     "output_type": "stream",
     "text": [
      "Epoch 31: 6.5s to complete\n",
      "    error(train)=4.70e-01, acc(train)=8.50e-01, error(valid)=5.24e-01, acc(valid)=8.33e-01\n"
     ]
    },
    {
     "data": {
      "text/plain": [
       "  0%|          | 0/1000 [00:00<?, ?it/s]"
      ],
      "application/vnd.jupyter.widget-view+json": {
       "version_major": 2,
       "version_minor": 0,
       "model_id": "63a80fc11e684560a269214a544d54de"
      }
     },
     "metadata": {},
     "output_type": "display_data"
    },
    {
     "name": "stderr",
     "output_type": "stream",
     "text": [
      "Epoch 32: 8.8s to complete\n",
      "    error(train)=4.69e-01, acc(train)=8.50e-01, error(valid)=5.24e-01, acc(valid)=8.33e-01\n"
     ]
    },
    {
     "data": {
      "text/plain": [
       "  0%|          | 0/1000 [00:00<?, ?it/s]"
      ],
      "application/vnd.jupyter.widget-view+json": {
       "version_major": 2,
       "version_minor": 0,
       "model_id": "cfb007a14b034a67a7026d26f95834db"
      }
     },
     "metadata": {},
     "output_type": "display_data"
    },
    {
     "name": "stderr",
     "output_type": "stream",
     "text": [
      "Epoch 33: 6.3s to complete\n",
      "    error(train)=4.66e-01, acc(train)=8.50e-01, error(valid)=5.21e-01, acc(valid)=8.34e-01\n"
     ]
    },
    {
     "data": {
      "text/plain": [
       "  0%|          | 0/1000 [00:00<?, ?it/s]"
      ],
      "application/vnd.jupyter.widget-view+json": {
       "version_major": 2,
       "version_minor": 0,
       "model_id": "0fc96d8d8ae04a729f2fc9c475f1422e"
      }
     },
     "metadata": {},
     "output_type": "display_data"
    },
    {
     "name": "stderr",
     "output_type": "stream",
     "text": [
      "Epoch 34: 6.0s to complete\n",
      "    error(train)=4.61e-01, acc(train)=8.51e-01, error(valid)=5.19e-01, acc(valid)=8.35e-01\n"
     ]
    },
    {
     "data": {
      "text/plain": [
       "  0%|          | 0/1000 [00:00<?, ?it/s]"
      ],
      "application/vnd.jupyter.widget-view+json": {
       "version_major": 2,
       "version_minor": 0,
       "model_id": "db043d268844478a989c8043b1fb214d"
      }
     },
     "metadata": {},
     "output_type": "display_data"
    },
    {
     "name": "stderr",
     "output_type": "stream",
     "text": [
      "Epoch 35: 5.3s to complete\n",
      "    error(train)=4.59e-01, acc(train)=8.52e-01, error(valid)=5.16e-01, acc(valid)=8.36e-01\n"
     ]
    },
    {
     "data": {
      "text/plain": [
       "  0%|          | 0/1000 [00:00<?, ?it/s]"
      ],
      "application/vnd.jupyter.widget-view+json": {
       "version_major": 2,
       "version_minor": 0,
       "model_id": "68eb03761d714d608a1d0eec7381c2ec"
      }
     },
     "metadata": {},
     "output_type": "display_data"
    },
    {
     "name": "stderr",
     "output_type": "stream",
     "text": [
      "Epoch 36: 5.0s to complete\n",
      "    error(train)=4.54e-01, acc(train)=8.54e-01, error(valid)=5.12e-01, acc(valid)=8.36e-01\n"
     ]
    },
    {
     "data": {
      "text/plain": [
       "  0%|          | 0/1000 [00:00<?, ?it/s]"
      ],
      "application/vnd.jupyter.widget-view+json": {
       "version_major": 2,
       "version_minor": 0,
       "model_id": "36bec64ddc7741ed944cd1312bc06278"
      }
     },
     "metadata": {},
     "output_type": "display_data"
    },
    {
     "name": "stderr",
     "output_type": "stream",
     "text": [
      "Epoch 37: 5.3s to complete\n",
      "    error(train)=4.52e-01, acc(train)=8.54e-01, error(valid)=5.10e-01, acc(valid)=8.37e-01\n"
     ]
    },
    {
     "data": {
      "text/plain": [
       "  0%|          | 0/1000 [00:00<?, ?it/s]"
      ],
      "application/vnd.jupyter.widget-view+json": {
       "version_major": 2,
       "version_minor": 0,
       "model_id": "2f36277e5a7949f89f6c3044850544e7"
      }
     },
     "metadata": {},
     "output_type": "display_data"
    },
    {
     "name": "stderr",
     "output_type": "stream",
     "text": [
      "Epoch 38: 5.8s to complete\n",
      "    error(train)=4.48e-01, acc(train)=8.55e-01, error(valid)=5.10e-01, acc(valid)=8.35e-01\n"
     ]
    },
    {
     "data": {
      "text/plain": [
       "  0%|          | 0/1000 [00:00<?, ?it/s]"
      ],
      "application/vnd.jupyter.widget-view+json": {
       "version_major": 2,
       "version_minor": 0,
       "model_id": "2086380ec6c84ff9b7e22864031985f7"
      }
     },
     "metadata": {},
     "output_type": "display_data"
    },
    {
     "name": "stderr",
     "output_type": "stream",
     "text": [
      "Epoch 39: 5.6s to complete\n",
      "    error(train)=4.44e-01, acc(train)=8.55e-01, error(valid)=5.05e-01, acc(valid)=8.37e-01\n"
     ]
    },
    {
     "data": {
      "text/plain": [
       "  0%|          | 0/1000 [00:00<?, ?it/s]"
      ],
      "application/vnd.jupyter.widget-view+json": {
       "version_major": 2,
       "version_minor": 0,
       "model_id": "0dc067e3822542f7bb2c3b5c97cad32e"
      }
     },
     "metadata": {},
     "output_type": "display_data"
    },
    {
     "name": "stderr",
     "output_type": "stream",
     "text": [
      "Epoch 40: 6.0s to complete\n",
      "    error(train)=4.40e-01, acc(train)=8.58e-01, error(valid)=5.01e-01, acc(valid)=8.39e-01\n"
     ]
    },
    {
     "data": {
      "text/plain": [
       "  0%|          | 0/1000 [00:00<?, ?it/s]"
      ],
      "application/vnd.jupyter.widget-view+json": {
       "version_major": 2,
       "version_minor": 0,
       "model_id": "aac6c38808f244f895015061278c315a"
      }
     },
     "metadata": {},
     "output_type": "display_data"
    },
    {
     "name": "stderr",
     "output_type": "stream",
     "text": [
      "Epoch 41: 11.8s to complete\n",
      "    error(train)=4.38e-01, acc(train)=8.58e-01, error(valid)=5.03e-01, acc(valid)=8.36e-01\n"
     ]
    },
    {
     "data": {
      "text/plain": [
       "  0%|          | 0/1000 [00:00<?, ?it/s]"
      ],
      "application/vnd.jupyter.widget-view+json": {
       "version_major": 2,
       "version_minor": 0,
       "model_id": "15111db164a642aebeb92fed07480c12"
      }
     },
     "metadata": {},
     "output_type": "display_data"
    },
    {
     "name": "stderr",
     "output_type": "stream",
     "text": [
      "Epoch 42: 6.2s to complete\n",
      "    error(train)=4.41e-01, acc(train)=8.57e-01, error(valid)=5.04e-01, acc(valid)=8.38e-01\n"
     ]
    },
    {
     "data": {
      "text/plain": [
       "  0%|          | 0/1000 [00:00<?, ?it/s]"
      ],
      "application/vnd.jupyter.widget-view+json": {
       "version_major": 2,
       "version_minor": 0,
       "model_id": "f2a4acba42e44079a2dcd6c494b7148f"
      }
     },
     "metadata": {},
     "output_type": "display_data"
    },
    {
     "name": "stderr",
     "output_type": "stream",
     "text": [
      "Epoch 43: 6.0s to complete\n",
      "    error(train)=4.36e-01, acc(train)=8.58e-01, error(valid)=5.01e-01, acc(valid)=8.40e-01\n"
     ]
    },
    {
     "data": {
      "text/plain": [
       "  0%|          | 0/1000 [00:00<?, ?it/s]"
      ],
      "application/vnd.jupyter.widget-view+json": {
       "version_major": 2,
       "version_minor": 0,
       "model_id": "43e780ce92184efcaf2eec123fe53804"
      }
     },
     "metadata": {},
     "output_type": "display_data"
    },
    {
     "name": "stderr",
     "output_type": "stream",
     "text": [
      "Epoch 44: 11.5s to complete\n",
      "    error(train)=4.34e-01, acc(train)=8.59e-01, error(valid)=4.99e-01, acc(valid)=8.40e-01\n"
     ]
    },
    {
     "data": {
      "text/plain": [
       "  0%|          | 0/1000 [00:00<?, ?it/s]"
      ],
      "application/vnd.jupyter.widget-view+json": {
       "version_major": 2,
       "version_minor": 0,
       "model_id": "a0c1c5103fb24e359b30d3fdd05bc556"
      }
     },
     "metadata": {},
     "output_type": "display_data"
    },
    {
     "name": "stderr",
     "output_type": "stream",
     "text": [
      "Epoch 45: 5.8s to complete\n",
      "    error(train)=4.29e-01, acc(train)=8.59e-01, error(valid)=4.95e-01, acc(valid)=8.40e-01\n"
     ]
    },
    {
     "data": {
      "text/plain": [
       "  0%|          | 0/1000 [00:00<?, ?it/s]"
      ],
      "application/vnd.jupyter.widget-view+json": {
       "version_major": 2,
       "version_minor": 0,
       "model_id": "59bdbd7d63bf4f29a22de9e01658efd5"
      }
     },
     "metadata": {},
     "output_type": "display_data"
    },
    {
     "name": "stderr",
     "output_type": "stream",
     "text": [
      "Epoch 46: 6.2s to complete\n",
      "    error(train)=4.26e-01, acc(train)=8.63e-01, error(valid)=4.90e-01, acc(valid)=8.42e-01\n"
     ]
    },
    {
     "data": {
      "text/plain": [
       "  0%|          | 0/1000 [00:00<?, ?it/s]"
      ],
      "application/vnd.jupyter.widget-view+json": {
       "version_major": 2,
       "version_minor": 0,
       "model_id": "09f3a42986ed4e8da9200c6084a4a0bf"
      }
     },
     "metadata": {},
     "output_type": "display_data"
    },
    {
     "name": "stderr",
     "output_type": "stream",
     "text": [
      "Epoch 47: 7.9s to complete\n",
      "    error(train)=4.25e-01, acc(train)=8.61e-01, error(valid)=4.93e-01, acc(valid)=8.41e-01\n"
     ]
    },
    {
     "data": {
      "text/plain": [
       "  0%|          | 0/1000 [00:00<?, ?it/s]"
      ],
      "application/vnd.jupyter.widget-view+json": {
       "version_major": 2,
       "version_minor": 0,
       "model_id": "6d9fd4517d7e4f0bbeb0f275c77e1b76"
      }
     },
     "metadata": {},
     "output_type": "display_data"
    },
    {
     "name": "stderr",
     "output_type": "stream",
     "text": [
      "Epoch 48: 7.1s to complete\n",
      "    error(train)=4.20e-01, acc(train)=8.64e-01, error(valid)=4.88e-01, acc(valid)=8.44e-01\n"
     ]
    },
    {
     "data": {
      "text/plain": [
       "  0%|          | 0/1000 [00:00<?, ?it/s]"
      ],
      "application/vnd.jupyter.widget-view+json": {
       "version_major": 2,
       "version_minor": 0,
       "model_id": "59db841bf83a4d7ea8d18b15b30d1c75"
      }
     },
     "metadata": {},
     "output_type": "display_data"
    },
    {
     "name": "stderr",
     "output_type": "stream",
     "text": [
      "Epoch 49: 8.3s to complete\n",
      "    error(train)=4.19e-01, acc(train)=8.63e-01, error(valid)=4.88e-01, acc(valid)=8.43e-01\n"
     ]
    },
    {
     "data": {
      "text/plain": [
       "  0%|          | 0/1000 [00:00<?, ?it/s]"
      ],
      "application/vnd.jupyter.widget-view+json": {
       "version_major": 2,
       "version_minor": 0,
       "model_id": "f27b552559744b438def08c0669f6351"
      }
     },
     "metadata": {},
     "output_type": "display_data"
    },
    {
     "name": "stderr",
     "output_type": "stream",
     "text": [
      "Epoch 50: 7.9s to complete\n",
      "    error(train)=4.19e-01, acc(train)=8.63e-01, error(valid)=4.90e-01, acc(valid)=8.40e-01\n"
     ]
    },
    {
     "data": {
      "text/plain": [
       "  0%|          | 0/1000 [00:00<?, ?it/s]"
      ],
      "application/vnd.jupyter.widget-view+json": {
       "version_major": 2,
       "version_minor": 0,
       "model_id": "690ae6e1295b4260aca3df2243bfb7c3"
      }
     },
     "metadata": {},
     "output_type": "display_data"
    },
    {
     "name": "stderr",
     "output_type": "stream",
     "text": [
      "Epoch 51: 7.4s to complete\n",
      "    error(train)=4.17e-01, acc(train)=8.62e-01, error(valid)=4.88e-01, acc(valid)=8.39e-01\n"
     ]
    },
    {
     "data": {
      "text/plain": [
       "  0%|          | 0/1000 [00:00<?, ?it/s]"
      ],
      "application/vnd.jupyter.widget-view+json": {
       "version_major": 2,
       "version_minor": 0,
       "model_id": "c081795dbec144f18555ab9b8a3fe4b4"
      }
     },
     "metadata": {},
     "output_type": "display_data"
    },
    {
     "name": "stderr",
     "output_type": "stream",
     "text": [
      "Epoch 52: 6.0s to complete\n",
      "    error(train)=4.10e-01, acc(train)=8.67e-01, error(valid)=4.82e-01, acc(valid)=8.42e-01\n"
     ]
    },
    {
     "data": {
      "text/plain": [
       "  0%|          | 0/1000 [00:00<?, ?it/s]"
      ],
      "application/vnd.jupyter.widget-view+json": {
       "version_major": 2,
       "version_minor": 0,
       "model_id": "2760af6f01df4570a132d87e3ee6c700"
      }
     },
     "metadata": {},
     "output_type": "display_data"
    },
    {
     "name": "stderr",
     "output_type": "stream",
     "text": [
      "Epoch 53: 8.1s to complete\n",
      "    error(train)=4.09e-01, acc(train)=8.67e-01, error(valid)=4.82e-01, acc(valid)=8.43e-01\n"
     ]
    },
    {
     "data": {
      "text/plain": [
       "  0%|          | 0/1000 [00:00<?, ?it/s]"
      ],
      "application/vnd.jupyter.widget-view+json": {
       "version_major": 2,
       "version_minor": 0,
       "model_id": "2ef779b9939c467eb3b4b403bc7b0652"
      }
     },
     "metadata": {},
     "output_type": "display_data"
    },
    {
     "name": "stderr",
     "output_type": "stream",
     "text": [
      "Epoch 54: 7.2s to complete\n",
      "    error(train)=4.12e-01, acc(train)=8.64e-01, error(valid)=4.85e-01, acc(valid)=8.42e-01\n"
     ]
    },
    {
     "data": {
      "text/plain": [
       "  0%|          | 0/1000 [00:00<?, ?it/s]"
      ],
      "application/vnd.jupyter.widget-view+json": {
       "version_major": 2,
       "version_minor": 0,
       "model_id": "17d9c74fbdfa4ad982c3c6a0f39ee1e2"
      }
     },
     "metadata": {},
     "output_type": "display_data"
    },
    {
     "name": "stderr",
     "output_type": "stream",
     "text": [
      "Epoch 55: 5.9s to complete\n",
      "    error(train)=4.09e-01, acc(train)=8.66e-01, error(valid)=4.82e-01, acc(valid)=8.43e-01\n"
     ]
    },
    {
     "data": {
      "text/plain": [
       "  0%|          | 0/1000 [00:00<?, ?it/s]"
      ],
      "application/vnd.jupyter.widget-view+json": {
       "version_major": 2,
       "version_minor": 0,
       "model_id": "d6c10809dd364c43841ccf688834b424"
      }
     },
     "metadata": {},
     "output_type": "display_data"
    },
    {
     "name": "stderr",
     "output_type": "stream",
     "text": [
      "Epoch 56: 7.5s to complete\n",
      "    error(train)=4.07e-01, acc(train)=8.67e-01, error(valid)=4.80e-01, acc(valid)=8.45e-01\n"
     ]
    },
    {
     "data": {
      "text/plain": [
       "  0%|          | 0/1000 [00:00<?, ?it/s]"
      ],
      "application/vnd.jupyter.widget-view+json": {
       "version_major": 2,
       "version_minor": 0,
       "model_id": "6ad5d1e058074dc4be6b38611fd80478"
      }
     },
     "metadata": {},
     "output_type": "display_data"
    },
    {
     "name": "stderr",
     "output_type": "stream",
     "text": [
      "Epoch 57: 8.1s to complete\n",
      "    error(train)=4.04e-01, acc(train)=8.68e-01, error(valid)=4.77e-01, acc(valid)=8.46e-01\n"
     ]
    },
    {
     "data": {
      "text/plain": [
       "  0%|          | 0/1000 [00:00<?, ?it/s]"
      ],
      "application/vnd.jupyter.widget-view+json": {
       "version_major": 2,
       "version_minor": 0,
       "model_id": "4b5415bf51414a8fb0aef477650bc446"
      }
     },
     "metadata": {},
     "output_type": "display_data"
    },
    {
     "name": "stderr",
     "output_type": "stream",
     "text": [
      "Epoch 58: 10.0s to complete\n",
      "    error(train)=4.02e-01, acc(train)=8.69e-01, error(valid)=4.77e-01, acc(valid)=8.47e-01\n"
     ]
    },
    {
     "data": {
      "text/plain": [
       "  0%|          | 0/1000 [00:00<?, ?it/s]"
      ],
      "application/vnd.jupyter.widget-view+json": {
       "version_major": 2,
       "version_minor": 0,
       "model_id": "7fc928f5e6364d3ea8bc2dd4a2349fb9"
      }
     },
     "metadata": {},
     "output_type": "display_data"
    },
    {
     "name": "stderr",
     "output_type": "stream",
     "text": [
      "Epoch 59: 8.3s to complete\n",
      "    error(train)=4.04e-01, acc(train)=8.66e-01, error(valid)=4.79e-01, acc(valid)=8.45e-01\n"
     ]
    },
    {
     "data": {
      "text/plain": [
       "  0%|          | 0/1000 [00:00<?, ?it/s]"
      ],
      "application/vnd.jupyter.widget-view+json": {
       "version_major": 2,
       "version_minor": 0,
       "model_id": "2b7ae6e1fa5142df883de2b5e08fb890"
      }
     },
     "metadata": {},
     "output_type": "display_data"
    },
    {
     "name": "stderr",
     "output_type": "stream",
     "text": [
      "Epoch 60: 10.7s to complete\n",
      "    error(train)=4.01e-01, acc(train)=8.68e-01, error(valid)=4.77e-01, acc(valid)=8.47e-01\n"
     ]
    },
    {
     "data": {
      "text/plain": [
       "  0%|          | 0/1000 [00:00<?, ?it/s]"
      ],
      "application/vnd.jupyter.widget-view+json": {
       "version_major": 2,
       "version_minor": 0,
       "model_id": "64668f02beb342c58d60e428358a40df"
      }
     },
     "metadata": {},
     "output_type": "display_data"
    },
    {
     "name": "stderr",
     "output_type": "stream",
     "text": [
      "Epoch 61: 9.7s to complete\n",
      "    error(train)=3.99e-01, acc(train)=8.69e-01, error(valid)=4.73e-01, acc(valid)=8.46e-01\n"
     ]
    },
    {
     "data": {
      "text/plain": [
       "  0%|          | 0/1000 [00:00<?, ?it/s]"
      ],
      "application/vnd.jupyter.widget-view+json": {
       "version_major": 2,
       "version_minor": 0,
       "model_id": "f8ef538d0d14462facdb15388bb3ca3c"
      }
     },
     "metadata": {},
     "output_type": "display_data"
    },
    {
     "name": "stderr",
     "output_type": "stream",
     "text": [
      "Epoch 62: 7.3s to complete\n",
      "    error(train)=4.00e-01, acc(train)=8.69e-01, error(valid)=4.80e-01, acc(valid)=8.44e-01\n"
     ]
    },
    {
     "data": {
      "text/plain": [
       "  0%|          | 0/1000 [00:00<?, ?it/s]"
      ],
      "application/vnd.jupyter.widget-view+json": {
       "version_major": 2,
       "version_minor": 0,
       "model_id": "266c83cf866047679a229b2c082b1722"
      }
     },
     "metadata": {},
     "output_type": "display_data"
    },
    {
     "name": "stderr",
     "output_type": "stream",
     "text": [
      "Epoch 63: 7.1s to complete\n",
      "    error(train)=3.94e-01, acc(train)=8.71e-01, error(valid)=4.70e-01, acc(valid)=8.49e-01\n"
     ]
    },
    {
     "data": {
      "text/plain": [
       "  0%|          | 0/1000 [00:00<?, ?it/s]"
      ],
      "application/vnd.jupyter.widget-view+json": {
       "version_major": 2,
       "version_minor": 0,
       "model_id": "f33e95e6c6a84b3586d968e7faff3fca"
      }
     },
     "metadata": {},
     "output_type": "display_data"
    },
    {
     "name": "stderr",
     "output_type": "stream",
     "text": [
      "Epoch 64: 8.5s to complete\n",
      "    error(train)=3.92e-01, acc(train)=8.71e-01, error(valid)=4.69e-01, acc(valid)=8.50e-01\n"
     ]
    },
    {
     "data": {
      "text/plain": [
       "  0%|          | 0/1000 [00:00<?, ?it/s]"
      ],
      "application/vnd.jupyter.widget-view+json": {
       "version_major": 2,
       "version_minor": 0,
       "model_id": "c6adc2f132dc4ae3b91bc311340a21d1"
      }
     },
     "metadata": {},
     "output_type": "display_data"
    },
    {
     "name": "stderr",
     "output_type": "stream",
     "text": [
      "Epoch 65: 6.1s to complete\n",
      "    error(train)=3.94e-01, acc(train)=8.70e-01, error(valid)=4.70e-01, acc(valid)=8.47e-01\n"
     ]
    },
    {
     "data": {
      "text/plain": [
       "  0%|          | 0/1000 [00:00<?, ?it/s]"
      ],
      "application/vnd.jupyter.widget-view+json": {
       "version_major": 2,
       "version_minor": 0,
       "model_id": "920ecbb183e747b98d59b4faa31f26fe"
      }
     },
     "metadata": {},
     "output_type": "display_data"
    },
    {
     "name": "stderr",
     "output_type": "stream",
     "text": [
      "Epoch 66: 7.1s to complete\n",
      "    error(train)=3.94e-01, acc(train)=8.69e-01, error(valid)=4.73e-01, acc(valid)=8.44e-01\n"
     ]
    },
    {
     "data": {
      "text/plain": [
       "  0%|          | 0/1000 [00:00<?, ?it/s]"
      ],
      "application/vnd.jupyter.widget-view+json": {
       "version_major": 2,
       "version_minor": 0,
       "model_id": "076f6838167748909daf30bd1cdcaf4e"
      }
     },
     "metadata": {},
     "output_type": "display_data"
    },
    {
     "name": "stderr",
     "output_type": "stream",
     "text": [
      "Epoch 67: 7.4s to complete\n",
      "    error(train)=3.92e-01, acc(train)=8.71e-01, error(valid)=4.72e-01, acc(valid)=8.46e-01\n"
     ]
    },
    {
     "data": {
      "text/plain": [
       "  0%|          | 0/1000 [00:00<?, ?it/s]"
      ],
      "application/vnd.jupyter.widget-view+json": {
       "version_major": 2,
       "version_minor": 0,
       "model_id": "ed1380e0d58d45f9aa48e0c22f662d14"
      }
     },
     "metadata": {},
     "output_type": "display_data"
    },
    {
     "name": "stderr",
     "output_type": "stream",
     "text": [
      "Epoch 68: 7.5s to complete\n",
      "    error(train)=3.87e-01, acc(train)=8.72e-01, error(valid)=4.66e-01, acc(valid)=8.47e-01\n"
     ]
    },
    {
     "data": {
      "text/plain": [
       "  0%|          | 0/1000 [00:00<?, ?it/s]"
      ],
      "application/vnd.jupyter.widget-view+json": {
       "version_major": 2,
       "version_minor": 0,
       "model_id": "7a402dd5192b47a3ba8780a5622bad94"
      }
     },
     "metadata": {},
     "output_type": "display_data"
    },
    {
     "name": "stderr",
     "output_type": "stream",
     "text": [
      "Epoch 69: 6.7s to complete\n",
      "    error(train)=3.88e-01, acc(train)=8.71e-01, error(valid)=4.69e-01, acc(valid)=8.46e-01\n"
     ]
    },
    {
     "data": {
      "text/plain": [
       "  0%|          | 0/1000 [00:00<?, ?it/s]"
      ],
      "application/vnd.jupyter.widget-view+json": {
       "version_major": 2,
       "version_minor": 0,
       "model_id": "7af1487cec0f401c8ff568f78b2b27a1"
      }
     },
     "metadata": {},
     "output_type": "display_data"
    },
    {
     "name": "stderr",
     "output_type": "stream",
     "text": [
      "Epoch 70: 8.5s to complete\n",
      "    error(train)=3.86e-01, acc(train)=8.72e-01, error(valid)=4.67e-01, acc(valid)=8.49e-01\n"
     ]
    },
    {
     "data": {
      "text/plain": [
       "  0%|          | 0/1000 [00:00<?, ?it/s]"
      ],
      "application/vnd.jupyter.widget-view+json": {
       "version_major": 2,
       "version_minor": 0,
       "model_id": "9c0f2f8729e249fbad12a298521051b5"
      }
     },
     "metadata": {},
     "output_type": "display_data"
    },
    {
     "name": "stderr",
     "output_type": "stream",
     "text": [
      "Epoch 71: 6.1s to complete\n",
      "    error(train)=3.85e-01, acc(train)=8.73e-01, error(valid)=4.64e-01, acc(valid)=8.49e-01\n"
     ]
    },
    {
     "data": {
      "text/plain": [
       "  0%|          | 0/1000 [00:00<?, ?it/s]"
      ],
      "application/vnd.jupyter.widget-view+json": {
       "version_major": 2,
       "version_minor": 0,
       "model_id": "1e06950a79b64314a0f4acbbaff768fd"
      }
     },
     "metadata": {},
     "output_type": "display_data"
    },
    {
     "name": "stderr",
     "output_type": "stream",
     "text": [
      "Epoch 72: 7.0s to complete\n",
      "    error(train)=3.87e-01, acc(train)=8.72e-01, error(valid)=4.69e-01, acc(valid)=8.47e-01\n"
     ]
    },
    {
     "data": {
      "text/plain": [
       "  0%|          | 0/1000 [00:00<?, ?it/s]"
      ],
      "application/vnd.jupyter.widget-view+json": {
       "version_major": 2,
       "version_minor": 0,
       "model_id": "05ecf035098e42199b7463f28445a21c"
      }
     },
     "metadata": {},
     "output_type": "display_data"
    },
    {
     "name": "stderr",
     "output_type": "stream",
     "text": [
      "Epoch 73: 12.1s to complete\n",
      "    error(train)=3.79e-01, acc(train)=8.75e-01, error(valid)=4.61e-01, acc(valid)=8.49e-01\n"
     ]
    },
    {
     "data": {
      "text/plain": [
       "  0%|          | 0/1000 [00:00<?, ?it/s]"
      ],
      "application/vnd.jupyter.widget-view+json": {
       "version_major": 2,
       "version_minor": 0,
       "model_id": "f1d5bbf6b03d47c1896664ab37edb284"
      }
     },
     "metadata": {},
     "output_type": "display_data"
    },
    {
     "name": "stderr",
     "output_type": "stream",
     "text": [
      "Epoch 74: 6.4s to complete\n",
      "    error(train)=3.78e-01, acc(train)=8.75e-01, error(valid)=4.61e-01, acc(valid)=8.51e-01\n"
     ]
    },
    {
     "data": {
      "text/plain": [
       "  0%|          | 0/1000 [00:00<?, ?it/s]"
      ],
      "application/vnd.jupyter.widget-view+json": {
       "version_major": 2,
       "version_minor": 0,
       "model_id": "7b351253add84bca844667547077e698"
      }
     },
     "metadata": {},
     "output_type": "display_data"
    },
    {
     "name": "stderr",
     "output_type": "stream",
     "text": [
      "Epoch 75: 5.5s to complete\n",
      "    error(train)=3.90e-01, acc(train)=8.69e-01, error(valid)=4.73e-01, acc(valid)=8.44e-01\n"
     ]
    },
    {
     "data": {
      "text/plain": [
       "  0%|          | 0/1000 [00:00<?, ?it/s]"
      ],
      "application/vnd.jupyter.widget-view+json": {
       "version_major": 2,
       "version_minor": 0,
       "model_id": "b0595ef2cd0744aeafd9fba47457058f"
      }
     },
     "metadata": {},
     "output_type": "display_data"
    },
    {
     "name": "stderr",
     "output_type": "stream",
     "text": [
      "Epoch 76: 5.2s to complete\n",
      "    error(train)=3.79e-01, acc(train)=8.74e-01, error(valid)=4.61e-01, acc(valid)=8.48e-01\n"
     ]
    },
    {
     "data": {
      "text/plain": [
       "  0%|          | 0/1000 [00:00<?, ?it/s]"
      ],
      "application/vnd.jupyter.widget-view+json": {
       "version_major": 2,
       "version_minor": 0,
       "model_id": "d972491b060b485494c4c175423abb0b"
      }
     },
     "metadata": {},
     "output_type": "display_data"
    },
    {
     "name": "stderr",
     "output_type": "stream",
     "text": [
      "Epoch 77: 6.6s to complete\n",
      "    error(train)=3.78e-01, acc(train)=8.75e-01, error(valid)=4.60e-01, acc(valid)=8.50e-01\n"
     ]
    },
    {
     "data": {
      "text/plain": [
       "  0%|          | 0/1000 [00:00<?, ?it/s]"
      ],
      "application/vnd.jupyter.widget-view+json": {
       "version_major": 2,
       "version_minor": 0,
       "model_id": "8bfd2d7bcb2348d880099effe841aaa2"
      }
     },
     "metadata": {},
     "output_type": "display_data"
    },
    {
     "name": "stderr",
     "output_type": "stream",
     "text": [
      "Epoch 78: 5.2s to complete\n",
      "    error(train)=3.78e-01, acc(train)=8.75e-01, error(valid)=4.60e-01, acc(valid)=8.51e-01\n"
     ]
    },
    {
     "data": {
      "text/plain": [
       "  0%|          | 0/1000 [00:00<?, ?it/s]"
      ],
      "application/vnd.jupyter.widget-view+json": {
       "version_major": 2,
       "version_minor": 0,
       "model_id": "4a98c2104b794120945aa26304a991a8"
      }
     },
     "metadata": {},
     "output_type": "display_data"
    },
    {
     "name": "stderr",
     "output_type": "stream",
     "text": [
      "Epoch 79: 8.3s to complete\n",
      "    error(train)=3.75e-01, acc(train)=8.75e-01, error(valid)=4.60e-01, acc(valid)=8.50e-01\n"
     ]
    },
    {
     "data": {
      "text/plain": [
       "  0%|          | 0/1000 [00:00<?, ?it/s]"
      ],
      "application/vnd.jupyter.widget-view+json": {
       "version_major": 2,
       "version_minor": 0,
       "model_id": "08c79731dc4f43f9baa0de3001bc27be"
      }
     },
     "metadata": {},
     "output_type": "display_data"
    },
    {
     "name": "stderr",
     "output_type": "stream",
     "text": [
      "Epoch 80: 9.6s to complete\n",
      "    error(train)=3.77e-01, acc(train)=8.76e-01, error(valid)=4.63e-01, acc(valid)=8.49e-01\n"
     ]
    },
    {
     "data": {
      "text/plain": [
       "  0%|          | 0/1000 [00:00<?, ?it/s]"
      ],
      "application/vnd.jupyter.widget-view+json": {
       "version_major": 2,
       "version_minor": 0,
       "model_id": "421b1f584c0a4108a943ba481e5c0ec2"
      }
     },
     "metadata": {},
     "output_type": "display_data"
    },
    {
     "name": "stderr",
     "output_type": "stream",
     "text": [
      "Epoch 81: 7.0s to complete\n",
      "    error(train)=3.75e-01, acc(train)=8.76e-01, error(valid)=4.62e-01, acc(valid)=8.49e-01\n"
     ]
    },
    {
     "data": {
      "text/plain": [
       "  0%|          | 0/1000 [00:00<?, ?it/s]"
      ],
      "application/vnd.jupyter.widget-view+json": {
       "version_major": 2,
       "version_minor": 0,
       "model_id": "586166c5bf3b4efdae162a6872000cac"
      }
     },
     "metadata": {},
     "output_type": "display_data"
    },
    {
     "name": "stderr",
     "output_type": "stream",
     "text": [
      "Epoch 82: 7.2s to complete\n",
      "    error(train)=3.77e-01, acc(train)=8.75e-01, error(valid)=4.62e-01, acc(valid)=8.48e-01\n"
     ]
    },
    {
     "data": {
      "text/plain": [
       "  0%|          | 0/1000 [00:00<?, ?it/s]"
      ],
      "application/vnd.jupyter.widget-view+json": {
       "version_major": 2,
       "version_minor": 0,
       "model_id": "e362e3ec4e8b4fbc9494268c7357cf7f"
      }
     },
     "metadata": {},
     "output_type": "display_data"
    },
    {
     "name": "stderr",
     "output_type": "stream",
     "text": [
      "Epoch 83: 6.5s to complete\n",
      "    error(train)=3.72e-01, acc(train)=8.78e-01, error(valid)=4.58e-01, acc(valid)=8.50e-01\n"
     ]
    },
    {
     "data": {
      "text/plain": [
       "  0%|          | 0/1000 [00:00<?, ?it/s]"
      ],
      "application/vnd.jupyter.widget-view+json": {
       "version_major": 2,
       "version_minor": 0,
       "model_id": "3ba2222b589645059ac79189f825bb0e"
      }
     },
     "metadata": {},
     "output_type": "display_data"
    },
    {
     "name": "stderr",
     "output_type": "stream",
     "text": [
      "Epoch 84: 8.1s to complete\n",
      "    error(train)=3.73e-01, acc(train)=8.76e-01, error(valid)=4.60e-01, acc(valid)=8.50e-01\n"
     ]
    },
    {
     "data": {
      "text/plain": [
       "  0%|          | 0/1000 [00:00<?, ?it/s]"
      ],
      "application/vnd.jupyter.widget-view+json": {
       "version_major": 2,
       "version_minor": 0,
       "model_id": "efa590dc839348d9b124958955b560ca"
      }
     },
     "metadata": {},
     "output_type": "display_data"
    },
    {
     "name": "stderr",
     "output_type": "stream",
     "text": [
      "Epoch 85: 14.3s to complete\n",
      "    error(train)=3.72e-01, acc(train)=8.77e-01, error(valid)=4.59e-01, acc(valid)=8.49e-01\n"
     ]
    },
    {
     "data": {
      "text/plain": [
       "  0%|          | 0/1000 [00:00<?, ?it/s]"
      ],
      "application/vnd.jupyter.widget-view+json": {
       "version_major": 2,
       "version_minor": 0,
       "model_id": "564b0c10c5e64c919279c0d66989be45"
      }
     },
     "metadata": {},
     "output_type": "display_data"
    },
    {
     "name": "stderr",
     "output_type": "stream",
     "text": [
      "Epoch 86: 9.6s to complete\n",
      "    error(train)=3.70e-01, acc(train)=8.78e-01, error(valid)=4.57e-01, acc(valid)=8.51e-01\n"
     ]
    },
    {
     "data": {
      "text/plain": [
       "  0%|          | 0/1000 [00:00<?, ?it/s]"
      ],
      "application/vnd.jupyter.widget-view+json": {
       "version_major": 2,
       "version_minor": 0,
       "model_id": "5a073ce2abf941a091f8cf9d8cdaa09d"
      }
     },
     "metadata": {},
     "output_type": "display_data"
    },
    {
     "name": "stderr",
     "output_type": "stream",
     "text": [
      "Epoch 87: 8.9s to complete\n",
      "    error(train)=3.72e-01, acc(train)=8.76e-01, error(valid)=4.62e-01, acc(valid)=8.46e-01\n"
     ]
    },
    {
     "data": {
      "text/plain": [
       "  0%|          | 0/1000 [00:00<?, ?it/s]"
      ],
      "application/vnd.jupyter.widget-view+json": {
       "version_major": 2,
       "version_minor": 0,
       "model_id": "ad7facb38de74220bebb1b5397e40a67"
      }
     },
     "metadata": {},
     "output_type": "display_data"
    },
    {
     "name": "stderr",
     "output_type": "stream",
     "text": [
      "Epoch 88: 7.2s to complete\n",
      "    error(train)=3.67e-01, acc(train)=8.80e-01, error(valid)=4.55e-01, acc(valid)=8.52e-01\n"
     ]
    },
    {
     "data": {
      "text/plain": [
       "  0%|          | 0/1000 [00:00<?, ?it/s]"
      ],
      "application/vnd.jupyter.widget-view+json": {
       "version_major": 2,
       "version_minor": 0,
       "model_id": "8df5391ca4ea4b4ea31a3391d0f24345"
      }
     },
     "metadata": {},
     "output_type": "display_data"
    },
    {
     "name": "stderr",
     "output_type": "stream",
     "text": [
      "Epoch 89: 9.5s to complete\n",
      "    error(train)=3.66e-01, acc(train)=8.79e-01, error(valid)=4.56e-01, acc(valid)=8.49e-01\n"
     ]
    },
    {
     "data": {
      "text/plain": [
       "  0%|          | 0/1000 [00:00<?, ?it/s]"
      ],
      "application/vnd.jupyter.widget-view+json": {
       "version_major": 2,
       "version_minor": 0,
       "model_id": "c01250249f284f6eafb1c4992967624d"
      }
     },
     "metadata": {},
     "output_type": "display_data"
    },
    {
     "name": "stderr",
     "output_type": "stream",
     "text": [
      "Epoch 90: 7.9s to complete\n",
      "    error(train)=3.63e-01, acc(train)=8.80e-01, error(valid)=4.53e-01, acc(valid)=8.52e-01\n"
     ]
    },
    {
     "data": {
      "text/plain": [
       "  0%|          | 0/1000 [00:00<?, ?it/s]"
      ],
      "application/vnd.jupyter.widget-view+json": {
       "version_major": 2,
       "version_minor": 0,
       "model_id": "c64979ba2ba4410f90e05019584e39a3"
      }
     },
     "metadata": {},
     "output_type": "display_data"
    },
    {
     "name": "stderr",
     "output_type": "stream",
     "text": [
      "Epoch 91: 9.9s to complete\n",
      "    error(train)=3.66e-01, acc(train)=8.78e-01, error(valid)=4.58e-01, acc(valid)=8.48e-01\n"
     ]
    },
    {
     "data": {
      "text/plain": [
       "  0%|          | 0/1000 [00:00<?, ?it/s]"
      ],
      "application/vnd.jupyter.widget-view+json": {
       "version_major": 2,
       "version_minor": 0,
       "model_id": "46cbb1fcb7964433a4cd10ae8432b601"
      }
     },
     "metadata": {},
     "output_type": "display_data"
    },
    {
     "name": "stderr",
     "output_type": "stream",
     "text": [
      "Epoch 92: 15.4s to complete\n",
      "    error(train)=3.64e-01, acc(train)=8.80e-01, error(valid)=4.55e-01, acc(valid)=8.50e-01\n"
     ]
    },
    {
     "data": {
      "text/plain": [
       "  0%|          | 0/1000 [00:00<?, ?it/s]"
      ],
      "application/vnd.jupyter.widget-view+json": {
       "version_major": 2,
       "version_minor": 0,
       "model_id": "51c3a3bce8094f3aa5f8ebcb89b35460"
      }
     },
     "metadata": {},
     "output_type": "display_data"
    },
    {
     "name": "stderr",
     "output_type": "stream",
     "text": [
      "Epoch 93: 5.5s to complete\n",
      "    error(train)=3.66e-01, acc(train)=8.78e-01, error(valid)=4.57e-01, acc(valid)=8.49e-01\n"
     ]
    },
    {
     "data": {
      "text/plain": [
       "  0%|          | 0/1000 [00:00<?, ?it/s]"
      ],
      "application/vnd.jupyter.widget-view+json": {
       "version_major": 2,
       "version_minor": 0,
       "model_id": "1902ce7de904421fb9f1adf1a016435f"
      }
     },
     "metadata": {},
     "output_type": "display_data"
    },
    {
     "name": "stderr",
     "output_type": "stream",
     "text": [
      "Epoch 94: 7.2s to complete\n",
      "    error(train)=3.62e-01, acc(train)=8.81e-01, error(valid)=4.53e-01, acc(valid)=8.51e-01\n"
     ]
    },
    {
     "data": {
      "text/plain": [
       "  0%|          | 0/1000 [00:00<?, ?it/s]"
      ],
      "application/vnd.jupyter.widget-view+json": {
       "version_major": 2,
       "version_minor": 0,
       "model_id": "0df9f4c397044082b604f10785b6f003"
      }
     },
     "metadata": {},
     "output_type": "display_data"
    },
    {
     "name": "stderr",
     "output_type": "stream",
     "text": [
      "Epoch 95: 10.4s to complete\n",
      "    error(train)=3.62e-01, acc(train)=8.79e-01, error(valid)=4.54e-01, acc(valid)=8.49e-01\n"
     ]
    },
    {
     "data": {
      "text/plain": [
       "  0%|          | 0/1000 [00:00<?, ?it/s]"
      ],
      "application/vnd.jupyter.widget-view+json": {
       "version_major": 2,
       "version_minor": 0,
       "model_id": "a29aa5d4ab524394bba9ece9b0627566"
      }
     },
     "metadata": {},
     "output_type": "display_data"
    },
    {
     "name": "stderr",
     "output_type": "stream",
     "text": [
      "Epoch 96: 7.6s to complete\n",
      "    error(train)=3.60e-01, acc(train)=8.81e-01, error(valid)=4.51e-01, acc(valid)=8.53e-01\n"
     ]
    },
    {
     "data": {
      "text/plain": [
       "  0%|          | 0/1000 [00:00<?, ?it/s]"
      ],
      "application/vnd.jupyter.widget-view+json": {
       "version_major": 2,
       "version_minor": 0,
       "model_id": "4c694202c99f494eb66cdf5dda54704a"
      }
     },
     "metadata": {},
     "output_type": "display_data"
    },
    {
     "name": "stderr",
     "output_type": "stream",
     "text": [
      "Epoch 97: 7.7s to complete\n",
      "    error(train)=3.61e-01, acc(train)=8.81e-01, error(valid)=4.54e-01, acc(valid)=8.53e-01\n"
     ]
    },
    {
     "data": {
      "text/plain": [
       "  0%|          | 0/1000 [00:00<?, ?it/s]"
      ],
      "application/vnd.jupyter.widget-view+json": {
       "version_major": 2,
       "version_minor": 0,
       "model_id": "e62384e469fd499791ff5ad3300f46bf"
      }
     },
     "metadata": {},
     "output_type": "display_data"
    },
    {
     "name": "stderr",
     "output_type": "stream",
     "text": [
      "Epoch 98: 17.0s to complete\n",
      "    error(train)=3.62e-01, acc(train)=8.80e-01, error(valid)=4.55e-01, acc(valid)=8.52e-01\n"
     ]
    },
    {
     "data": {
      "text/plain": [
       "  0%|          | 0/1000 [00:00<?, ?it/s]"
      ],
      "application/vnd.jupyter.widget-view+json": {
       "version_major": 2,
       "version_minor": 0,
       "model_id": "261811ac224f42c4b10a569bd8867a90"
      }
     },
     "metadata": {},
     "output_type": "display_data"
    },
    {
     "name": "stderr",
     "output_type": "stream",
     "text": [
      "Epoch 99: 11.1s to complete\n",
      "    error(train)=3.56e-01, acc(train)=8.82e-01, error(valid)=4.47e-01, acc(valid)=8.54e-01\n"
     ]
    },
    {
     "data": {
      "text/plain": [
       "  0%|          | 0/1000 [00:00<?, ?it/s]"
      ],
      "application/vnd.jupyter.widget-view+json": {
       "version_major": 2,
       "version_minor": 0,
       "model_id": "b657b4f409574e338dfd97143c52f8b1"
      }
     },
     "metadata": {},
     "output_type": "display_data"
    },
    {
     "name": "stderr",
     "output_type": "stream",
     "text": [
      "Epoch 100: 9.0s to complete\n",
      "    error(train)=3.64e-01, acc(train)=8.78e-01, error(valid)=4.59e-01, acc(valid)=8.49e-01\n"
     ]
    },
    {
     "name": "stdout",
     "output_type": "stream",
     "text": [
      "    final error(train) = 3.64e-01\n",
      "    final error(valid) = 4.59e-01\n",
      "    final acc(train)   = 8.78e-01\n",
      "    final acc(valid)   = 8.49e-01\n",
      "    run time per epoch = 10.51\n"
     ]
    }
   ],
   "execution_count": 17
  },
  {
   "metadata": {
    "ExecuteTime": {
     "end_time": "2024-10-24T23:26:17.005793Z",
     "start_time": "2024-10-24T23:26:16.925405Z"
    }
   },
   "cell_type": "code",
   "source": [
    "fig_1.savefig('../outputs/L2-1.pdf')\n",
    "fig_2.savefig('../outputs/L2-2.pdf')"
   ],
   "outputs": [],
   "execution_count": 25
  },
  {
   "metadata": {
    "ExecuteTime": {
     "end_time": "2024-10-24T23:21:31.836822Z",
     "start_time": "2024-10-24T23:21:31.831392Z"
    }
   },
   "cell_type": "code",
   "source": [
    "stats_l2, keys_l2 = stats_L2, keys_L2\n",
    "stats_l1, keys_l1 = stats_L1, keys_L1 "
   ],
   "outputs": [],
   "execution_count": 19
  },
  {
   "metadata": {
    "ExecuteTime": {
     "end_time": "2024-10-24T23:23:36.883651Z",
     "start_time": "2024-10-24T23:23:36.683741Z"
    }
   },
   "cell_type": "code",
   "outputs": [
    {
     "data": {
      "text/plain": [
       "<Figure size 800x400 with 4 Axes>"
      ],
      "image/png": "[encoded data removed]"
     },
     "metadata": {},
     "output_type": "display_data"
    }
   ],
   "source": [
    "error_train_dropout = stats_dropout[1:, keys_dropout['error(train)']]\n",
    "error_valid_dropout = stats_dropout[1:, keys_dropout['error(valid)']]\n",
    "generalization_gap_dropout = error_valid_dropout - error_train_dropout\n",
    "acc_valid_dropout = stats_dropout[1:, keys_dropout['acc(valid)']]\n",
    "\n",
    "error_train_l1 = stats_l1[1:, keys_l1['error(train)']]\n",
    "error_valid_l1 = stats_l1[1:, keys_l1['error(valid)']]\n",
    "generalization_gap_l1 = error_valid_l1 - error_train_l1\n",
    "acc_valid_l1 = stats_l1[1:, keys_l1['acc(valid)']]\n",
    "\n",
    "error_train_l2 = stats_l2[1:, keys_l2['error(train)']]\n",
    "error_valid_l2 = stats_l2[1:, keys_l2['error(valid)']]\n",
    "generalization_gap_l2 = error_valid_l2 - error_train_l2\n",
    "acc_valid_l2 = stats_l2[1:, keys_l2['acc(valid)']]"
   ],
   "execution_count": null
  },
  {
   "metadata": {
    "ExecuteTime": {
     "end_time": "2024-10-25T01:07:49.374409Z",
     "start_time": "2024-10-25T01:07:49.116231Z"
    }
   },
   "cell_type": "code",
   "source": [
    "import matplotlib.pyplot as plt\n",
    "import numpy as np\n",
    "\n",
    "# Assuming the provided data arrays are already populated\n",
    "# error_train_dropout, error_valid_dropout, generalization_gap_dropout, acc_valid_dropout\n",
    "# error_train_l1, error_valid_l1, generalization_gap_l1, acc_valid_l1\n",
    "# error_train_l2, error_valid_l2, generalization_gap_l2, acc_valid_l2\n",
    "\n",
    "def plot_training_stats_regularization():\n",
    "    fig_1 = plt.figure(figsize=(6, 5))\n",
    "    \n",
    "    # Dropout Plot\n",
    "    ax_1 = fig_1.add_subplot(111)\n",
    "    ax_1.set_xlabel('Dropout value')\n",
    "    ax_1.set_ylabel('Accuracy')\n",
    "    ax_1.set_ylim(0, 1)\n",
    "    \n",
    "    ax_2 = ax_1.twinx()\n",
    "    ax_2.set_ylabel('Generalization gap', rotation=90)\n",
    "    ax_2.set_ylim(0, 1)\n",
    "    \n",
    "    ax_1.plot(np.arange(1, len(acc_valid_dropout) + 1), acc_valid_dropout, label='Val. Acc.', color='r')\n",
    "    ax_2.plot(np.arange(1, len(generalization_gap_dropout) + 1), generalization_gap_dropout, label='Gap', color='b')\n",
    "\n",
    "    ax_1.legend(loc='upper left')\n",
    "    ax_2.legend(loc='upper right')\n",
    "    \n",
    "    fig_1.savefig('../outputs/task2-dropout.pdf')\n",
    "    \n",
    "    fig_2 = plt.figure(figsize=(6, 5))\n",
    "    # Weight Decay Plot (L1 and L2)\n",
    "    ax_3 = fig_2.add_subplot(111)\n",
    "    ax_3.set_xlabel('Weight decay value')\n",
    "    ax_3.set_ylabel('Accuracy', rotation=90)\n",
    "    ax_3.set_ylim(0, 1)\n",
    "    \n",
    "    ax_4 = ax_3.twinx()\n",
    "    ax_4.set_ylabel('Generalization gap', rotation=90)\n",
    "    ax_4.set_ylim(0, 1)\n",
    "    \n",
    "    ax_3.plot(np.arange(1, len(acc_valid_l1) + 1), acc_valid_l1, label='L1 Val. Acc.', color='r')\n",
    "    ax_3.plot(np.arange(1, len(acc_valid_l2) + 1), acc_valid_l2, label='L2 Val. Acc.', color='g')\n",
    "    ax_4.plot(np.arange(1, len(generalization_gap_l1) + 1), generalization_gap_l1, label='L1 Gap', color='r', linestyle='--')\n",
    "    ax_4.plot(np.arange(1, len(generalization_gap_l2) + 1), generalization_gap_l2, label='L2 Gap', color='g', linestyle='--')\n",
    "\n",
    "    ax_3.legend(loc='upper left')\n",
    "    ax_4.legend(loc='upper right')\n",
    "    \n",
    "    plt.tight_layout()\n",
    "    plt.show()\n",
    "    fig_2.savefig('../outputs/task2-weight-decay.pdf')\n",
    "\n",
    "plot_training_stats_regularization()\n"
   ],
   "outputs": [
    {
     "data": {
      "text/plain": [
       "<Figure size 600x500 with 2 Axes>"
      ],
      "image/png": "[encoded data removed]"
     },
     "metadata": {},
     "output_type": "display_data"
    },
    {
     "data": {
      "text/plain": [
       "<Figure size 600x500 with 2 Axes>"
      ],
      "image/png": "[encoded data removed]"
     },
     "metadata": {},
     "output_type": "display_data"
    }
   ],
   "execution_count": 51
  },
  {
   "metadata": {
    "ExecuteTime": {
     "end_time": "2024-10-24T23:42:28.997283Z",
     "start_time": "2024-10-24T23:42:28.810776Z"
    }
   },
   "cell_type": "code",
   "source": [
    "|stats = stats_dropout\n",
    "keys = keys_dropout\n",
    "\n",
    "# Plot the change in the validation and training set error over training.\n",
    "fig_1 = plt.figure(figsize=(8, 4))\n",
    "ax_1 = fig_1.add_subplot(111)\n",
    "for k in ['error(train)', 'error(valid)']:\n",
    "    ax_1.plot(np.arange(1, stats.shape[0]) * stats_interval, \n",
    "              stats[1:, keys[k]], label=k)\n",
    "ax_1.legend(loc=0)\n",
    "ax_1.set_xlabel('Epoch number')\n",
    "ax_1.set_ylabel('Error')\n",
    "\n",
    "# Plot the change in the validation and training set accuracy over training.\n",
    "fig_2 = plt.figure(figsize=(8, 4))\n",
    "ax_2 = fig_2.add_subplot(111)\n",
    "for k in ['acc(train)', 'acc(valid)']:\n",
    "    ax_2.plot(np.arange(1, stats.shape[0]) * stats_interval, \n",
    "              stats[1:, keys[k]], label=k)\n",
    "ax_2.legend(loc=0)\n",
    "ax_2.set_xlabel('Epoch number')\n",
    "ax_2.set_xlabel('Accuracy')\n",
    "\n",
    "fig_1.savefig('../outputs/dropout-error.pdf')\n",
    "fig_2.savefig('../outputs/dropout-acc.pdf')\n",
    "\n",
    "plt.show()"
   ],
   "outputs": [
    {
     "data": {
      "text/plain": [
       "<Figure size 800x400 with 1 Axes>"
      ],
      "image/png": "[encoded data removed]"
     },
     "metadata": {},
     "output_type": "display_data"
    },
    {
     "data": {
      "text/plain": [
       "<Figure size 800x400 with 1 Axes>"
      ],
      "image/png": "[encoded data removed]"
     },
     "metadata": {},
     "output_type": "display_data"
    }
   ],
   "execution_count": 31
  },
  {
   "metadata": {
    "ExecuteTime": {
     "end_time": "2024-10-24T23:43:44.793807Z",
     "start_time": "2024-10-24T23:43:44.624505Z"
    }
   },
   "cell_type": "code",
   "source": [
    "stats = stats_l1\n",
    "keys = keys_l1\n",
    "\n",
    "# Plot the change in the validation and training set error over training.\n",
    "fig_1 = plt.figure(figsize=(8, 4))\n",
    "ax_1 = fig_1.add_subplot(111)\n",
    "for k in ['error(train)', 'error(valid)']:\n",
    "    ax_1.plot(np.arange(1, stats.shape[0]) * stats_interval, \n",
    "              stats[1:, keys[k]], label=k)\n",
    "ax_1.legend(loc=0)\n",
    "ax_1.set_xlabel('Epoch number')\n",
    "ax_1.set_ylabel('Error')\n",
    "\n",
    "# Plot the change in the validation and training set accuracy over training.\n",
    "fig_2 = plt.figure(figsize=(8, 4))\n",
    "ax_2 = fig_2.add_subplot(111)\n",
    "for k in ['acc(train)', 'acc(valid)']:\n",
    "    ax_2.plot(np.arange(1, stats.shape[0]) * stats_interval, \n",
    "              stats[1:, keys[k]], label=k)\n",
    "ax_2.legend(loc=0)\n",
    "ax_2.set_xlabel('Epoch number')\n",
    "ax_2.set_xlabel('Accuracy')\n",
    "\n",
    "fig_1.savefig('../outputs/l1-error.pdf')\n",
    "fig_2.savefig('../outputs/l1-acc.pdf')\n",
    "\n",
    "plt.show()"
   ],
   "outputs": [
    {
     "data": {
      "text/plain": [
       "<Figure size 800x400 with 1 Axes>"
      ],
      "image/png": "[encoded data removed]"
     },
     "metadata": {},
     "output_type": "display_data"
    },
    {
     "data": {
      "text/plain": [
       "<Figure size 800x400 with 1 Axes>"
      ],
      "image/png": "[encoded data removed]"
     },
     "metadata": {},
     "output_type": "display_data"
    }
   ],
   "execution_count": 33
  },
  {
   "metadata": {
    "ExecuteTime": {
     "end_time": "2024-10-25T00:32:27.810721Z",
     "start_time": "2024-10-25T00:32:27.648520Z"
    }
   },
   "cell_type": "code",
   "source": [
    "stats = stats_l2\n",
    "keys = keys_l2\n",
    "\n",
    "# Plot the change in the validation and training set error over training.\n",
    "fig_1 = plt.figure(figsize=(8, 4))\n",
    "ax_1 = fig_1.add_subplot(111)\n",
    "for k in ['error(train)', 'error(valid)']:\n",
    "    ax_1.plot(np.arange(1, stats.shape[0]) * stats_interval, \n",
    "              stats[1:, keys[k]], label=k)\n",
    "ax_1.legend(loc=0)\n",
    "ax_1.set_xlabel('Epoch number')\n",
    "ax_1.set_ylabel('Error')\n",
    "\n",
    "# Plot the change in the validation and training set accuracy over training.\n",
    "fig_2 = plt.figure(figsize=(8, 4))\n",
    "ax_2 = fig_2.add_subplot(111)\n",
    "for k in ['acc(train)', 'acc(valid)']:\n",
    "    ax_2.plot(np.arange(1, stats.shape[0]) * stats_interval, \n",
    "              stats[1:, keys[k]], label=k)\n",
    "ax_2.legend(loc=0)\n",
    "ax_2.set_xlabel('Epoch number')\n",
    "ax_2.set_xlabel('Accuracy')\n",
    "\n",
    "fig_1.savefig('../outputs/l2-error.pdf')\n",
    "fig_2.savefig('../outputs/l2-acc.pdf')\n",
    "\n",
    "plt.show()"
   ],
   "outputs": [
    {
     "data": {
      "text/plain": [
       "<Figure size 800x400 with 1 Axes>"
      ],
      "image/png": "[encoded data removed]"
     },
     "metadata": {},
     "output_type": "display_data"
    },
    {
     "data": {
      "text/plain": [
       "<Figure size 800x400 with 1 Axes>"
      ],
      "image/png": "[encoded data removed]"
     },
     "metadata": {},
     "output_type": "display_data"
    }
   ],
   "execution_count": 38
  },
  {
   "metadata": {},
   "cell_type": "markdown",
   "source": "## Label smoothing"
  },
  {
   "metadata": {
    "ExecuteTime": {
     "end_time": "2024-10-25T00:53:10.078858Z",
     "start_time": "2024-10-25T00:37:36.687384Z"
    }
   },
   "cell_type": "code",
   "source": [
    "# The model set up code below is provided as a starting point.\n",
    "# You will probably want to add further code cells for the\n",
    "# different experiments you run.\n",
    "\n",
    "%pip install tqdm\n",
    "\n",
    "from mlp.layers import AffineLayer, SoftmaxLayer, SigmoidLayer, ReluLayer, DropoutLayer\n",
    "from mlp.errors import CrossEntropySoftmaxError\n",
    "from mlp.models import MultipleLayerModel\n",
    "from mlp.initialisers import ConstantInit, GlorotUniformInit\n",
    "from mlp.learning_rules import AdamLearningRule\n",
    "from mlp.optimisers import Optimiser\n",
    "\n",
    "train_data = EMNISTDataProvider('train', batch_size=batch_size, rng=rng, smooth_labels=True)\n",
    "valid_data = EMNISTDataProvider('valid', batch_size=batch_size, rng=rng)\n",
    "\n",
    "# Setup hyperparameters\n",
    "learning_rate = 1e-4\n",
    "num_epochs = 100\n",
    "stats_interval = 1  # Every 1 epoch record the error and acc data\n",
    "input_dim, output_dim, hidden_dim = 784, 47, 128\n",
    "\n",
    "final_errors_train = []\n",
    "final_errors_valid = []\n",
    "final_accs_train = []\n",
    "final_accs_valid = []\n",
    "\n",
    "\n",
    "weights_init = GlorotUniformInit(rng=rng)\n",
    "biases_init = ConstantInit(0.)\n",
    "\n",
    "# Create model with 3 hidden layer\n",
    "model = MultipleLayerModel([\n",
    "    AffineLayer(input_dim, hidden_dim, weights_init, biases_init),\n",
    "    ReluLayer(),\n",
    "    AffineLayer(hidden_dim, hidden_dim, weights_init, biases_init),\n",
    "    ReluLayer(),\n",
    "    AffineLayer(hidden_dim, hidden_dim, weights_init, biases_init),\n",
    "    ReluLayer(),\n",
    "    AffineLayer(hidden_dim, output_dim, weights_init, biases_init)\n",
    "])\n",
    "\n",
    "error = CrossEntropySoftmaxError()\n",
    "# Use a Adam learning rule\n",
    "learning_rule = AdamLearningRule(learning_rate=learning_rate)\n",
    "\n",
    "# Remember to use notebook=False when you write a script to be run in a terminal\n",
    "stats, keys, run_time, fig_1, ax_1, fig_2, ax_2 = train_model_and_plot_stats(\n",
    "    model, error, learning_rule, train_data, valid_data, num_epochs, stats_interval, notebook=True)\n",
    "\n",
    "print('    final error(train) = {0:.2e}'.format(stats[-1, keys['error(train)']]))\n",
    "print('    final error(valid) = {0:.2e}'.format(stats[-1, keys['error(valid)']]))\n",
    "print('    final acc(train)   = {0:.2e}'.format(stats[-1, keys['acc(train)']]))\n",
    "print('    final acc(valid)   = {0:.2e}'.format(stats[-1, keys['acc(valid)']]))\n",
    "print('    run time per epoch = {0:.2f}'.format(run_time * 1. / num_epochs))\n",
    "\n",
    "final_errors_train.append(stats[-1, keys['error(train)']])\n",
    "final_errors_valid.append(stats[-1, keys['error(valid)']])\n",
    "final_accs_train.append(stats[-1, keys['acc(train)']])\n",
    "final_accs_valid.append(stats[-1, keys['acc(valid)']])\n",
    "\n",
    "stats_label_smoothing, keys_label_smoothing = stats, keys"
   ],
   "outputs": [
    {
     "name": "stdout",
     "output_type": "stream",
     "text": [
      "Looking in indexes: https://pypi.tuna.tsinghua.edu.cn/simple\r\n",
      "Requirement already satisfied: tqdm in /Users/ycy/opt/anaconda3/envs/mlp/lib/python3.12/site-packages (4.66.5)\r\n",
      "Note: you may need to restart the kernel to use updated packages.\n",
      "KeysView(NpzFile '/Users/ycy/PycharmProjects/mlpractical/data/emnist-train.npz' with keys: inputs, targets)\n",
      "KeysView(NpzFile '/Users/ycy/PycharmProjects/mlpractical/data/emnist-valid.npz' with keys: inputs, targets)\n"
     ]
    },
    {
     "data": {
      "text/plain": [
       "  0%|          | 0/100 [00:00<?, ?it/s]"
      ],
      "application/vnd.jupyter.widget-view+json": {
       "version_major": 2,
       "version_minor": 0,
       "model_id": "7155051eebc14f16abc57c6f593e9e1c"
      }
     },
     "metadata": {},
     "output_type": "display_data"
    },
    {
     "data": {
      "text/plain": [
       "  0%|          | 0/1000 [00:00<?, ?it/s]"
      ],
      "application/vnd.jupyter.widget-view+json": {
       "version_major": 2,
       "version_minor": 0,
       "model_id": "7f3e32e43b374a67a8fad11dc9a596b4"
      }
     },
     "metadata": {},
     "output_type": "display_data"
    },
    {
     "name": "stderr",
     "output_type": "stream",
     "text": [
      "Epoch 1: 9.8s to complete\n",
      "    error(train)=1.91e+00, acc(train)=6.31e-01, error(valid)=1.44e+00, acc(valid)=6.28e-01\n"
     ]
    },
    {
     "data": {
      "text/plain": [
       "  0%|          | 0/1000 [00:00<?, ?it/s]"
      ],
      "application/vnd.jupyter.widget-view+json": {
       "version_major": 2,
       "version_minor": 0,
       "model_id": "dfb5d8590b114b8a9bcfdae2baa637fe"
      }
     },
     "metadata": {},
     "output_type": "display_data"
    },
    {
     "name": "stderr",
     "output_type": "stream",
     "text": [
      "Epoch 2: 7.4s to complete\n",
      "    error(train)=1.72e+00, acc(train)=6.89e-01, error(valid)=1.22e+00, acc(valid)=6.89e-01\n"
     ]
    },
    {
     "data": {
      "text/plain": [
       "  0%|          | 0/1000 [00:00<?, ?it/s]"
      ],
      "application/vnd.jupyter.widget-view+json": {
       "version_major": 2,
       "version_minor": 0,
       "model_id": "e369942cdb3c4f559e03e211049eb851"
      }
     },
     "metadata": {},
     "output_type": "display_data"
    },
    {
     "name": "stderr",
     "output_type": "stream",
     "text": [
      "Epoch 3: 7.8s to complete\n",
      "    error(train)=1.62e+00, acc(train)=7.23e-01, error(valid)=1.09e+00, acc(valid)=7.17e-01\n"
     ]
    },
    {
     "data": {
      "text/plain": [
       "  0%|          | 0/1000 [00:00<?, ?it/s]"
      ],
      "application/vnd.jupyter.widget-view+json": {
       "version_major": 2,
       "version_minor": 0,
       "model_id": "33492a96c6a34b31ae3cca39f68af79c"
      }
     },
     "metadata": {},
     "output_type": "display_data"
    },
    {
     "name": "stderr",
     "output_type": "stream",
     "text": [
      "Epoch 4: 6.9s to complete\n",
      "    error(train)=1.55e+00, acc(train)=7.45e-01, error(valid)=1.01e+00, acc(valid)=7.41e-01\n"
     ]
    },
    {
     "data": {
      "text/plain": [
       "  0%|          | 0/1000 [00:00<?, ?it/s]"
      ],
      "application/vnd.jupyter.widget-view+json": {
       "version_major": 2,
       "version_minor": 0,
       "model_id": "8252ac84daa94e8c8b940764e7c327e3"
      }
     },
     "metadata": {},
     "output_type": "display_data"
    },
    {
     "name": "stderr",
     "output_type": "stream",
     "text": [
      "Epoch 5: 5.6s to complete\n",
      "    error(train)=1.49e+00, acc(train)=7.63e-01, error(valid)=9.45e-01, acc(valid)=7.58e-01\n"
     ]
    },
    {
     "data": {
      "text/plain": [
       "  0%|          | 0/1000 [00:00<?, ?it/s]"
      ],
      "application/vnd.jupyter.widget-view+json": {
       "version_major": 2,
       "version_minor": 0,
       "model_id": "809334a1a7ea483582b51e8d519221b4"
      }
     },
     "metadata": {},
     "output_type": "display_data"
    },
    {
     "name": "stderr",
     "output_type": "stream",
     "text": [
      "Epoch 6: 6.8s to complete\n",
      "    error(train)=1.45e+00, acc(train)=7.77e-01, error(valid)=8.96e-01, acc(valid)=7.71e-01\n"
     ]
    },
    {
     "data": {
      "text/plain": [
       "  0%|          | 0/1000 [00:00<?, ?it/s]"
      ],
      "application/vnd.jupyter.widget-view+json": {
       "version_major": 2,
       "version_minor": 0,
       "model_id": "cf74de46e84241f6b19dacc72edf7eb4"
      }
     },
     "metadata": {},
     "output_type": "display_data"
    },
    {
     "name": "stderr",
     "output_type": "stream",
     "text": [
      "Epoch 7: 7.0s to complete\n",
      "    error(train)=1.41e+00, acc(train)=7.87e-01, error(valid)=8.58e-01, acc(valid)=7.80e-01\n"
     ]
    },
    {
     "data": {
      "text/plain": [
       "  0%|          | 0/1000 [00:00<?, ?it/s]"
      ],
      "application/vnd.jupyter.widget-view+json": {
       "version_major": 2,
       "version_minor": 0,
       "model_id": "055cac1211f9401e988cc3ca2d4b6b2c"
      }
     },
     "metadata": {},
     "output_type": "display_data"
    },
    {
     "name": "stderr",
     "output_type": "stream",
     "text": [
      "Epoch 8: 5.8s to complete\n",
      "    error(train)=1.39e+00, acc(train)=7.94e-01, error(valid)=8.32e-01, acc(valid)=7.86e-01\n"
     ]
    },
    {
     "data": {
      "text/plain": [
       "  0%|          | 0/1000 [00:00<?, ?it/s]"
      ],
      "application/vnd.jupyter.widget-view+json": {
       "version_major": 2,
       "version_minor": 0,
       "model_id": "22320eb802914c979830ccf44a9669dc"
      }
     },
     "metadata": {},
     "output_type": "display_data"
    },
    {
     "name": "stderr",
     "output_type": "stream",
     "text": [
      "Epoch 9: 6.8s to complete\n",
      "    error(train)=1.36e+00, acc(train)=8.00e-01, error(valid)=8.05e-01, acc(valid)=7.91e-01\n"
     ]
    },
    {
     "data": {
      "text/plain": [
       "  0%|          | 0/1000 [00:00<?, ?it/s]"
      ],
      "application/vnd.jupyter.widget-view+json": {
       "version_major": 2,
       "version_minor": 0,
       "model_id": "11a4eadaa14a4b398fd19f0dc76ac769"
      }
     },
     "metadata": {},
     "output_type": "display_data"
    },
    {
     "name": "stderr",
     "output_type": "stream",
     "text": [
      "Epoch 10: 6.9s to complete\n",
      "    error(train)=1.34e+00, acc(train)=8.06e-01, error(valid)=7.82e-01, acc(valid)=7.98e-01\n"
     ]
    },
    {
     "data": {
      "text/plain": [
       "  0%|          | 0/1000 [00:00<?, ?it/s]"
      ],
      "application/vnd.jupyter.widget-view+json": {
       "version_major": 2,
       "version_minor": 0,
       "model_id": "3cb682ad3b884f41b3cbc94668948f80"
      }
     },
     "metadata": {},
     "output_type": "display_data"
    },
    {
     "name": "stderr",
     "output_type": "stream",
     "text": [
      "Epoch 11: 6.5s to complete\n",
      "    error(train)=1.32e+00, acc(train)=8.14e-01, error(valid)=7.67e-01, acc(valid)=8.04e-01\n"
     ]
    },
    {
     "data": {
      "text/plain": [
       "  0%|          | 0/1000 [00:00<?, ?it/s]"
      ],
      "application/vnd.jupyter.widget-view+json": {
       "version_major": 2,
       "version_minor": 0,
       "model_id": "532486edbf8e461aa1d7d76abe79559b"
      }
     },
     "metadata": {},
     "output_type": "display_data"
    },
    {
     "name": "stderr",
     "output_type": "stream",
     "text": [
      "Epoch 12: 6.8s to complete\n",
      "    error(train)=1.31e+00, acc(train)=8.19e-01, error(valid)=7.51e-01, acc(valid)=8.06e-01\n"
     ]
    },
    {
     "data": {
      "text/plain": [
       "  0%|          | 0/1000 [00:00<?, ?it/s]"
      ],
      "application/vnd.jupyter.widget-view+json": {
       "version_major": 2,
       "version_minor": 0,
       "model_id": "3d983e7cc7274a5dbacb69c2b3050fd5"
      }
     },
     "metadata": {},
     "output_type": "display_data"
    },
    {
     "name": "stderr",
     "output_type": "stream",
     "text": [
      "Epoch 13: 9.3s to complete\n",
      "    error(train)=1.29e+00, acc(train)=8.21e-01, error(valid)=7.38e-01, acc(valid)=8.10e-01\n"
     ]
    },
    {
     "data": {
      "text/plain": [
       "  0%|          | 0/1000 [00:00<?, ?it/s]"
      ],
      "application/vnd.jupyter.widget-view+json": {
       "version_major": 2,
       "version_minor": 0,
       "model_id": "4e22ba60c66549db9c124136926fb245"
      }
     },
     "metadata": {},
     "output_type": "display_data"
    },
    {
     "name": "stderr",
     "output_type": "stream",
     "text": [
      "Epoch 14: 7.6s to complete\n",
      "    error(train)=1.28e+00, acc(train)=8.25e-01, error(valid)=7.27e-01, acc(valid)=8.11e-01\n"
     ]
    },
    {
     "data": {
      "text/plain": [
       "  0%|          | 0/1000 [00:00<?, ?it/s]"
      ],
      "application/vnd.jupyter.widget-view+json": {
       "version_major": 2,
       "version_minor": 0,
       "model_id": "e2f75dc4b59943dabc87a27d65fa6bc7"
      }
     },
     "metadata": {},
     "output_type": "display_data"
    },
    {
     "name": "stderr",
     "output_type": "stream",
     "text": [
      "Epoch 15: 9.2s to complete\n",
      "    error(train)=1.27e+00, acc(train)=8.29e-01, error(valid)=7.16e-01, acc(valid)=8.15e-01\n"
     ]
    },
    {
     "data": {
      "text/plain": [
       "  0%|          | 0/1000 [00:00<?, ?it/s]"
      ],
      "application/vnd.jupyter.widget-view+json": {
       "version_major": 2,
       "version_minor": 0,
       "model_id": "fa82c785c46048789627314d2149ee08"
      }
     },
     "metadata": {},
     "output_type": "display_data"
    },
    {
     "name": "stderr",
     "output_type": "stream",
     "text": [
      "Epoch 16: 8.8s to complete\n",
      "    error(train)=1.26e+00, acc(train)=8.33e-01, error(valid)=7.06e-01, acc(valid)=8.18e-01\n"
     ]
    },
    {
     "data": {
      "text/plain": [
       "  0%|          | 0/1000 [00:00<?, ?it/s]"
      ],
      "application/vnd.jupyter.widget-view+json": {
       "version_major": 2,
       "version_minor": 0,
       "model_id": "c4749f7afd3d4e12af4ce133bfcad662"
      }
     },
     "metadata": {},
     "output_type": "display_data"
    },
    {
     "name": "stderr",
     "output_type": "stream",
     "text": [
      "Epoch 17: 7.7s to complete\n",
      "    error(train)=1.25e+00, acc(train)=8.35e-01, error(valid)=6.92e-01, acc(valid)=8.18e-01\n"
     ]
    },
    {
     "data": {
      "text/plain": [
       "  0%|          | 0/1000 [00:00<?, ?it/s]"
      ],
      "application/vnd.jupyter.widget-view+json": {
       "version_major": 2,
       "version_minor": 0,
       "model_id": "9dddd63bbcbe405f9414a57b034d91df"
      }
     },
     "metadata": {},
     "output_type": "display_data"
    },
    {
     "name": "stderr",
     "output_type": "stream",
     "text": [
      "Epoch 18: 8.5s to complete\n",
      "    error(train)=1.24e+00, acc(train)=8.38e-01, error(valid)=6.92e-01, acc(valid)=8.21e-01\n"
     ]
    },
    {
     "data": {
      "text/plain": [
       "  0%|          | 0/1000 [00:00<?, ?it/s]"
      ],
      "application/vnd.jupyter.widget-view+json": {
       "version_major": 2,
       "version_minor": 0,
       "model_id": "211c790c0a4c4d138f2efbc9c66736c8"
      }
     },
     "metadata": {},
     "output_type": "display_data"
    },
    {
     "name": "stderr",
     "output_type": "stream",
     "text": [
      "Epoch 19: 6.7s to complete\n",
      "    error(train)=1.23e+00, acc(train)=8.40e-01, error(valid)=6.81e-01, acc(valid)=8.22e-01\n"
     ]
    },
    {
     "data": {
      "text/plain": [
       "  0%|          | 0/1000 [00:00<?, ?it/s]"
      ],
      "application/vnd.jupyter.widget-view+json": {
       "version_major": 2,
       "version_minor": 0,
       "model_id": "2e48c862969d436caae59e4488a50de1"
      }
     },
     "metadata": {},
     "output_type": "display_data"
    },
    {
     "name": "stderr",
     "output_type": "stream",
     "text": [
      "Epoch 20: 9.0s to complete\n",
      "    error(train)=1.22e+00, acc(train)=8.42e-01, error(valid)=6.74e-01, acc(valid)=8.25e-01\n"
     ]
    },
    {
     "data": {
      "text/plain": [
       "  0%|          | 0/1000 [00:00<?, ?it/s]"
      ],
      "application/vnd.jupyter.widget-view+json": {
       "version_major": 2,
       "version_minor": 0,
       "model_id": "1a968faced23401aa94a59abb606b078"
      }
     },
     "metadata": {},
     "output_type": "display_data"
    },
    {
     "name": "stderr",
     "output_type": "stream",
     "text": [
      "Epoch 21: 7.4s to complete\n",
      "    error(train)=1.21e+00, acc(train)=8.45e-01, error(valid)=6.67e-01, acc(valid)=8.30e-01\n"
     ]
    },
    {
     "data": {
      "text/plain": [
       "  0%|          | 0/1000 [00:00<?, ?it/s]"
      ],
      "application/vnd.jupyter.widget-view+json": {
       "version_major": 2,
       "version_minor": 0,
       "model_id": "3a7d0741189a438da200c78d5c4336cc"
      }
     },
     "metadata": {},
     "output_type": "display_data"
    },
    {
     "name": "stderr",
     "output_type": "stream",
     "text": [
      "Epoch 22: 8.4s to complete\n",
      "    error(train)=1.21e+00, acc(train)=8.48e-01, error(valid)=6.59e-01, acc(valid)=8.31e-01\n"
     ]
    },
    {
     "data": {
      "text/plain": [
       "  0%|          | 0/1000 [00:00<?, ?it/s]"
      ],
      "application/vnd.jupyter.widget-view+json": {
       "version_major": 2,
       "version_minor": 0,
       "model_id": "2c31795c2f1d48f186fb064d41b88a95"
      }
     },
     "metadata": {},
     "output_type": "display_data"
    },
    {
     "name": "stderr",
     "output_type": "stream",
     "text": [
      "Epoch 23: 7.4s to complete\n",
      "    error(train)=1.20e+00, acc(train)=8.49e-01, error(valid)=6.57e-01, acc(valid)=8.29e-01\n"
     ]
    },
    {
     "data": {
      "text/plain": [
       "  0%|          | 0/1000 [00:00<?, ?it/s]"
      ],
      "application/vnd.jupyter.widget-view+json": {
       "version_major": 2,
       "version_minor": 0,
       "model_id": "eaa655a57eba4fa5b4b5dc473ee9cbbb"
      }
     },
     "metadata": {},
     "output_type": "display_data"
    },
    {
     "name": "stderr",
     "output_type": "stream",
     "text": [
      "Epoch 24: 6.2s to complete\n",
      "    error(train)=1.20e+00, acc(train)=8.50e-01, error(valid)=6.52e-01, acc(valid)=8.29e-01\n"
     ]
    },
    {
     "data": {
      "text/plain": [
       "  0%|          | 0/1000 [00:00<?, ?it/s]"
      ],
      "application/vnd.jupyter.widget-view+json": {
       "version_major": 2,
       "version_minor": 0,
       "model_id": "b621edd658eb41b487f4d3457d4d8a95"
      }
     },
     "metadata": {},
     "output_type": "display_data"
    },
    {
     "name": "stderr",
     "output_type": "stream",
     "text": [
      "Epoch 25: 7.8s to complete\n",
      "    error(train)=1.19e+00, acc(train)=8.52e-01, error(valid)=6.48e-01, acc(valid)=8.31e-01\n"
     ]
    },
    {
     "data": {
      "text/plain": [
       "  0%|          | 0/1000 [00:00<?, ?it/s]"
      ],
      "application/vnd.jupyter.widget-view+json": {
       "version_major": 2,
       "version_minor": 0,
       "model_id": "108bbf1ac0e24e5d9b7bd55fa7682bb7"
      }
     },
     "metadata": {},
     "output_type": "display_data"
    },
    {
     "name": "stderr",
     "output_type": "stream",
     "text": [
      "Epoch 26: 5.6s to complete\n",
      "    error(train)=1.19e+00, acc(train)=8.54e-01, error(valid)=6.45e-01, acc(valid)=8.35e-01\n"
     ]
    },
    {
     "data": {
      "text/plain": [
       "  0%|          | 0/1000 [00:00<?, ?it/s]"
      ],
      "application/vnd.jupyter.widget-view+json": {
       "version_major": 2,
       "version_minor": 0,
       "model_id": "55822a63356d4dd38c803eca23499d65"
      }
     },
     "metadata": {},
     "output_type": "display_data"
    },
    {
     "name": "stderr",
     "output_type": "stream",
     "text": [
      "Epoch 27: 6.3s to complete\n",
      "    error(train)=1.18e+00, acc(train)=8.57e-01, error(valid)=6.35e-01, acc(valid)=8.35e-01\n"
     ]
    },
    {
     "data": {
      "text/plain": [
       "  0%|          | 0/1000 [00:00<?, ?it/s]"
      ],
      "application/vnd.jupyter.widget-view+json": {
       "version_major": 2,
       "version_minor": 0,
       "model_id": "11d2824768e84e5583dc211481ca140d"
      }
     },
     "metadata": {},
     "output_type": "display_data"
    },
    {
     "name": "stderr",
     "output_type": "stream",
     "text": [
      "Epoch 28: 8.5s to complete\n",
      "    error(train)=1.18e+00, acc(train)=8.57e-01, error(valid)=6.35e-01, acc(valid)=8.34e-01\n"
     ]
    },
    {
     "data": {
      "text/plain": [
       "  0%|          | 0/1000 [00:00<?, ?it/s]"
      ],
      "application/vnd.jupyter.widget-view+json": {
       "version_major": 2,
       "version_minor": 0,
       "model_id": "974d4630be9f4f4e8c76200189b4b4a9"
      }
     },
     "metadata": {},
     "output_type": "display_data"
    },
    {
     "name": "stderr",
     "output_type": "stream",
     "text": [
      "Epoch 29: 6.5s to complete\n",
      "    error(train)=1.17e+00, acc(train)=8.58e-01, error(valid)=6.32e-01, acc(valid)=8.36e-01\n"
     ]
    },
    {
     "data": {
      "text/plain": [
       "  0%|          | 0/1000 [00:00<?, ?it/s]"
      ],
      "application/vnd.jupyter.widget-view+json": {
       "version_major": 2,
       "version_minor": 0,
       "model_id": "e54bf82511404d08947a46dac217ddd6"
      }
     },
     "metadata": {},
     "output_type": "display_data"
    },
    {
     "name": "stderr",
     "output_type": "stream",
     "text": [
      "Epoch 30: 7.0s to complete\n",
      "    error(train)=1.17e+00, acc(train)=8.60e-01, error(valid)=6.28e-01, acc(valid)=8.38e-01\n"
     ]
    },
    {
     "data": {
      "text/plain": [
       "  0%|          | 0/1000 [00:00<?, ?it/s]"
      ],
      "application/vnd.jupyter.widget-view+json": {
       "version_major": 2,
       "version_minor": 0,
       "model_id": "432fef9ab97842a88e44e72fc5a4cd51"
      }
     },
     "metadata": {},
     "output_type": "display_data"
    },
    {
     "name": "stderr",
     "output_type": "stream",
     "text": [
      "Epoch 31: 6.8s to complete\n",
      "    error(train)=1.16e+00, acc(train)=8.61e-01, error(valid)=6.29e-01, acc(valid)=8.38e-01\n"
     ]
    },
    {
     "data": {
      "text/plain": [
       "  0%|          | 0/1000 [00:00<?, ?it/s]"
      ],
      "application/vnd.jupyter.widget-view+json": {
       "version_major": 2,
       "version_minor": 0,
       "model_id": "cdb35feb9e5144e59d3a6c7df13691c6"
      }
     },
     "metadata": {},
     "output_type": "display_data"
    },
    {
     "name": "stderr",
     "output_type": "stream",
     "text": [
      "Epoch 32: 6.9s to complete\n",
      "    error(train)=1.15e+00, acc(train)=8.64e-01, error(valid)=6.18e-01, acc(valid)=8.40e-01\n"
     ]
    },
    {
     "data": {
      "text/plain": [
       "  0%|          | 0/1000 [00:00<?, ?it/s]"
      ],
      "application/vnd.jupyter.widget-view+json": {
       "version_major": 2,
       "version_minor": 0,
       "model_id": "c8a22182d2b34208bc327956e3da0352"
      }
     },
     "metadata": {},
     "output_type": "display_data"
    },
    {
     "name": "stderr",
     "output_type": "stream",
     "text": [
      "Epoch 33: 6.4s to complete\n",
      "    error(train)=1.15e+00, acc(train)=8.64e-01, error(valid)=6.23e-01, acc(valid)=8.38e-01\n"
     ]
    },
    {
     "data": {
      "text/plain": [
       "  0%|          | 0/1000 [00:00<?, ?it/s]"
      ],
      "application/vnd.jupyter.widget-view+json": {
       "version_major": 2,
       "version_minor": 0,
       "model_id": "c298c1e0689b415aae7e07e84a29cd49"
      }
     },
     "metadata": {},
     "output_type": "display_data"
    },
    {
     "name": "stderr",
     "output_type": "stream",
     "text": [
      "Epoch 34: 6.1s to complete\n",
      "    error(train)=1.15e+00, acc(train)=8.66e-01, error(valid)=6.14e-01, acc(valid)=8.41e-01\n"
     ]
    },
    {
     "data": {
      "text/plain": [
       "  0%|          | 0/1000 [00:00<?, ?it/s]"
      ],
      "application/vnd.jupyter.widget-view+json": {
       "version_major": 2,
       "version_minor": 0,
       "model_id": "aae575e704aa4c06b982192939ef005e"
      }
     },
     "metadata": {},
     "output_type": "display_data"
    },
    {
     "name": "stderr",
     "output_type": "stream",
     "text": [
      "Epoch 35: 6.4s to complete\n",
      "    error(train)=1.14e+00, acc(train)=8.67e-01, error(valid)=6.15e-01, acc(valid)=8.38e-01\n"
     ]
    },
    {
     "data": {
      "text/plain": [
       "  0%|          | 0/1000 [00:00<?, ?it/s]"
      ],
      "application/vnd.jupyter.widget-view+json": {
       "version_major": 2,
       "version_minor": 0,
       "model_id": "bc93150782a34f3381234dbe2afbf21f"
      }
     },
     "metadata": {},
     "output_type": "display_data"
    },
    {
     "name": "stderr",
     "output_type": "stream",
     "text": [
      "Epoch 36: 7.9s to complete\n",
      "    error(train)=1.14e+00, acc(train)=8.68e-01, error(valid)=6.19e-01, acc(valid)=8.42e-01\n"
     ]
    },
    {
     "data": {
      "text/plain": [
       "  0%|          | 0/1000 [00:00<?, ?it/s]"
      ],
      "application/vnd.jupyter.widget-view+json": {
       "version_major": 2,
       "version_minor": 0,
       "model_id": "ec73a7ec168644218ffce219c4cbfbc1"
      }
     },
     "metadata": {},
     "output_type": "display_data"
    },
    {
     "name": "stderr",
     "output_type": "stream",
     "text": [
      "Epoch 37: 7.5s to complete\n",
      "    error(train)=1.14e+00, acc(train)=8.68e-01, error(valid)=6.09e-01, acc(valid)=8.41e-01\n"
     ]
    },
    {
     "data": {
      "text/plain": [
       "  0%|          | 0/1000 [00:00<?, ?it/s]"
      ],
      "application/vnd.jupyter.widget-view+json": {
       "version_major": 2,
       "version_minor": 0,
       "model_id": "e0f4e0e438db40b0a18302fb6b78b50e"
      }
     },
     "metadata": {},
     "output_type": "display_data"
    },
    {
     "name": "stderr",
     "output_type": "stream",
     "text": [
      "Epoch 38: 8.0s to complete\n",
      "    error(train)=1.14e+00, acc(train)=8.69e-01, error(valid)=6.16e-01, acc(valid)=8.42e-01\n"
     ]
    },
    {
     "data": {
      "text/plain": [
       "  0%|          | 0/1000 [00:00<?, ?it/s]"
      ],
      "application/vnd.jupyter.widget-view+json": {
       "version_major": 2,
       "version_minor": 0,
       "model_id": "3d33f7fd51234a4f8eba77b7dcdb1b77"
      }
     },
     "metadata": {},
     "output_type": "display_data"
    },
    {
     "name": "stderr",
     "output_type": "stream",
     "text": [
      "Epoch 39: 6.8s to complete\n",
      "    error(train)=1.13e+00, acc(train)=8.71e-01, error(valid)=6.06e-01, acc(valid)=8.43e-01\n"
     ]
    },
    {
     "data": {
      "text/plain": [
       "  0%|          | 0/1000 [00:00<?, ?it/s]"
      ],
      "application/vnd.jupyter.widget-view+json": {
       "version_major": 2,
       "version_minor": 0,
       "model_id": "2cd51933ec524e8795ece5654438ca2b"
      }
     },
     "metadata": {},
     "output_type": "display_data"
    },
    {
     "name": "stderr",
     "output_type": "stream",
     "text": [
      "Epoch 40: 8.1s to complete\n",
      "    error(train)=1.13e+00, acc(train)=8.74e-01, error(valid)=6.03e-01, acc(valid)=8.43e-01\n"
     ]
    },
    {
     "data": {
      "text/plain": [
       "  0%|          | 0/1000 [00:00<?, ?it/s]"
      ],
      "application/vnd.jupyter.widget-view+json": {
       "version_major": 2,
       "version_minor": 0,
       "model_id": "f6d71b47ca5c4bf3b3f0fa73ecf89d9c"
      }
     },
     "metadata": {},
     "output_type": "display_data"
    },
    {
     "name": "stderr",
     "output_type": "stream",
     "text": [
      "Epoch 41: 7.8s to complete\n",
      "    error(train)=1.13e+00, acc(train)=8.73e-01, error(valid)=6.00e-01, acc(valid)=8.43e-01\n"
     ]
    },
    {
     "data": {
      "text/plain": [
       "  0%|          | 0/1000 [00:00<?, ?it/s]"
      ],
      "application/vnd.jupyter.widget-view+json": {
       "version_major": 2,
       "version_minor": 0,
       "model_id": "c7cd8da41e5b46d7817cd67d03c07cbd"
      }
     },
     "metadata": {},
     "output_type": "display_data"
    },
    {
     "name": "stderr",
     "output_type": "stream",
     "text": [
      "Epoch 42: 5.9s to complete\n",
      "    error(train)=1.12e+00, acc(train)=8.75e-01, error(valid)=6.04e-01, acc(valid)=8.43e-01\n"
     ]
    },
    {
     "data": {
      "text/plain": [
       "  0%|          | 0/1000 [00:00<?, ?it/s]"
      ],
      "application/vnd.jupyter.widget-view+json": {
       "version_major": 2,
       "version_minor": 0,
       "model_id": "d6c6d6c9de1146dfafa18f262ed7e4db"
      }
     },
     "metadata": {},
     "output_type": "display_data"
    },
    {
     "name": "stderr",
     "output_type": "stream",
     "text": [
      "Epoch 43: 6.2s to complete\n",
      "    error(train)=1.12e+00, acc(train)=8.76e-01, error(valid)=5.99e-01, acc(valid)=8.45e-01\n"
     ]
    },
    {
     "data": {
      "text/plain": [
       "  0%|          | 0/1000 [00:00<?, ?it/s]"
      ],
      "application/vnd.jupyter.widget-view+json": {
       "version_major": 2,
       "version_minor": 0,
       "model_id": "f9f5fd38a36648438442cd31f41865fe"
      }
     },
     "metadata": {},
     "output_type": "display_data"
    },
    {
     "name": "stderr",
     "output_type": "stream",
     "text": [
      "Epoch 44: 6.2s to complete\n",
      "    error(train)=1.12e+00, acc(train)=8.76e-01, error(valid)=5.96e-01, acc(valid)=8.45e-01\n"
     ]
    },
    {
     "data": {
      "text/plain": [
       "  0%|          | 0/1000 [00:00<?, ?it/s]"
      ],
      "application/vnd.jupyter.widget-view+json": {
       "version_major": 2,
       "version_minor": 0,
       "model_id": "231b4147f8314c6c8ec8696a2c4e5d15"
      }
     },
     "metadata": {},
     "output_type": "display_data"
    },
    {
     "name": "stderr",
     "output_type": "stream",
     "text": [
      "Epoch 45: 5.8s to complete\n",
      "    error(train)=1.12e+00, acc(train)=8.74e-01, error(valid)=6.03e-01, acc(valid)=8.42e-01\n"
     ]
    },
    {
     "data": {
      "text/plain": [
       "  0%|          | 0/1000 [00:00<?, ?it/s]"
      ],
      "application/vnd.jupyter.widget-view+json": {
       "version_major": 2,
       "version_minor": 0,
       "model_id": "e3029e42534f47ba9568e126ed2640be"
      }
     },
     "metadata": {},
     "output_type": "display_data"
    },
    {
     "name": "stderr",
     "output_type": "stream",
     "text": [
      "Epoch 46: 6.6s to complete\n",
      "    error(train)=1.11e+00, acc(train)=8.78e-01, error(valid)=5.91e-01, acc(valid)=8.46e-01\n"
     ]
    },
    {
     "data": {
      "text/plain": [
       "  0%|          | 0/1000 [00:00<?, ?it/s]"
      ],
      "application/vnd.jupyter.widget-view+json": {
       "version_major": 2,
       "version_minor": 0,
       "model_id": "6849c481eee244598201bf2ce866269e"
      }
     },
     "metadata": {},
     "output_type": "display_data"
    },
    {
     "name": "stderr",
     "output_type": "stream",
     "text": [
      "Epoch 47: 6.7s to complete\n",
      "    error(train)=1.11e+00, acc(train)=8.79e-01, error(valid)=5.97e-01, acc(valid)=8.43e-01\n"
     ]
    },
    {
     "data": {
      "text/plain": [
       "  0%|          | 0/1000 [00:00<?, ?it/s]"
      ],
      "application/vnd.jupyter.widget-view+json": {
       "version_major": 2,
       "version_minor": 0,
       "model_id": "5ede0a9de70f4ab3929b40d40dae8945"
      }
     },
     "metadata": {},
     "output_type": "display_data"
    },
    {
     "name": "stderr",
     "output_type": "stream",
     "text": [
      "Epoch 48: 6.4s to complete\n",
      "    error(train)=1.11e+00, acc(train)=8.80e-01, error(valid)=5.92e-01, acc(valid)=8.44e-01\n"
     ]
    },
    {
     "data": {
      "text/plain": [
       "  0%|          | 0/1000 [00:00<?, ?it/s]"
      ],
      "application/vnd.jupyter.widget-view+json": {
       "version_major": 2,
       "version_minor": 0,
       "model_id": "5396d6c59cc84742be1908e7ee826b76"
      }
     },
     "metadata": {},
     "output_type": "display_data"
    },
    {
     "name": "stderr",
     "output_type": "stream",
     "text": [
      "Epoch 49: 5.7s to complete\n",
      "    error(train)=1.10e+00, acc(train)=8.80e-01, error(valid)=5.95e-01, acc(valid)=8.45e-01\n"
     ]
    },
    {
     "data": {
      "text/plain": [
       "  0%|          | 0/1000 [00:00<?, ?it/s]"
      ],
      "application/vnd.jupyter.widget-view+json": {
       "version_major": 2,
       "version_minor": 0,
       "model_id": "060e2f44def548178e07dabc8882adc7"
      }
     },
     "metadata": {},
     "output_type": "display_data"
    },
    {
     "name": "stderr",
     "output_type": "stream",
     "text": [
      "Epoch 50: 6.6s to complete\n",
      "    error(train)=1.10e+00, acc(train)=8.81e-01, error(valid)=5.93e-01, acc(valid)=8.44e-01\n"
     ]
    },
    {
     "data": {
      "text/plain": [
       "  0%|          | 0/1000 [00:00<?, ?it/s]"
      ],
      "application/vnd.jupyter.widget-view+json": {
       "version_major": 2,
       "version_minor": 0,
       "model_id": "4546f5e24c274727a37584e1272d13de"
      }
     },
     "metadata": {},
     "output_type": "display_data"
    },
    {
     "name": "stderr",
     "output_type": "stream",
     "text": [
      "Epoch 51: 7.1s to complete\n",
      "    error(train)=1.10e+00, acc(train)=8.82e-01, error(valid)=5.93e-01, acc(valid)=8.45e-01\n"
     ]
    },
    {
     "data": {
      "text/plain": [
       "  0%|          | 0/1000 [00:00<?, ?it/s]"
      ],
      "application/vnd.jupyter.widget-view+json": {
       "version_major": 2,
       "version_minor": 0,
       "model_id": "556aec52258b499185a5648157283b27"
      }
     },
     "metadata": {},
     "output_type": "display_data"
    },
    {
     "name": "stderr",
     "output_type": "stream",
     "text": [
      "Epoch 52: 6.9s to complete\n",
      "    error(train)=1.10e+00, acc(train)=8.83e-01, error(valid)=5.85e-01, acc(valid)=8.46e-01\n"
     ]
    },
    {
     "data": {
      "text/plain": [
       "  0%|          | 0/1000 [00:00<?, ?it/s]"
      ],
      "application/vnd.jupyter.widget-view+json": {
       "version_major": 2,
       "version_minor": 0,
       "model_id": "7f58a2888ce64e7ab0a3fba659e649df"
      }
     },
     "metadata": {},
     "output_type": "display_data"
    },
    {
     "name": "stderr",
     "output_type": "stream",
     "text": [
      "Epoch 53: 6.1s to complete\n",
      "    error(train)=1.10e+00, acc(train)=8.82e-01, error(valid)=5.93e-01, acc(valid)=8.44e-01\n"
     ]
    },
    {
     "data": {
      "text/plain": [
       "  0%|          | 0/1000 [00:00<?, ?it/s]"
      ],
      "application/vnd.jupyter.widget-view+json": {
       "version_major": 2,
       "version_minor": 0,
       "model_id": "2747cbdfc2a04686afd3bde766543bc8"
      }
     },
     "metadata": {},
     "output_type": "display_data"
    },
    {
     "name": "stderr",
     "output_type": "stream",
     "text": [
      "Epoch 54: 7.8s to complete\n",
      "    error(train)=1.09e+00, acc(train)=8.85e-01, error(valid)=5.89e-01, acc(valid)=8.47e-01\n"
     ]
    },
    {
     "data": {
      "text/plain": [
       "  0%|          | 0/1000 [00:00<?, ?it/s]"
      ],
      "application/vnd.jupyter.widget-view+json": {
       "version_major": 2,
       "version_minor": 0,
       "model_id": "0efefa501db94f07b5df2598c88dd0e7"
      }
     },
     "metadata": {},
     "output_type": "display_data"
    },
    {
     "name": "stderr",
     "output_type": "stream",
     "text": [
      "Epoch 55: 6.5s to complete\n",
      "    error(train)=1.09e+00, acc(train)=8.84e-01, error(valid)=5.89e-01, acc(valid)=8.45e-01\n"
     ]
    },
    {
     "data": {
      "text/plain": [
       "  0%|          | 0/1000 [00:00<?, ?it/s]"
      ],
      "application/vnd.jupyter.widget-view+json": {
       "version_major": 2,
       "version_minor": 0,
       "model_id": "cee2d55e679b426aa77b9aec4aa6e5ca"
      }
     },
     "metadata": {},
     "output_type": "display_data"
    },
    {
     "name": "stderr",
     "output_type": "stream",
     "text": [
      "Epoch 56: 6.2s to complete\n",
      "    error(train)=1.09e+00, acc(train)=8.86e-01, error(valid)=5.82e-01, acc(valid)=8.47e-01\n"
     ]
    },
    {
     "data": {
      "text/plain": [
       "  0%|          | 0/1000 [00:00<?, ?it/s]"
      ],
      "application/vnd.jupyter.widget-view+json": {
       "version_major": 2,
       "version_minor": 0,
       "model_id": "9db1136030d9458f8d5b405bc3baf8d9"
      }
     },
     "metadata": {},
     "output_type": "display_data"
    },
    {
     "name": "stderr",
     "output_type": "stream",
     "text": [
      "Epoch 57: 7.7s to complete\n",
      "    error(train)=1.09e+00, acc(train)=8.85e-01, error(valid)=5.87e-01, acc(valid)=8.46e-01\n"
     ]
    },
    {
     "data": {
      "text/plain": [
       "  0%|          | 0/1000 [00:00<?, ?it/s]"
      ],
      "application/vnd.jupyter.widget-view+json": {
       "version_major": 2,
       "version_minor": 0,
       "model_id": "27c166bb78eb462090e372047561e28b"
      }
     },
     "metadata": {},
     "output_type": "display_data"
    },
    {
     "name": "stderr",
     "output_type": "stream",
     "text": [
      "Epoch 58: 6.9s to complete\n",
      "    error(train)=1.08e+00, acc(train)=8.87e-01, error(valid)=5.82e-01, acc(valid)=8.46e-01\n"
     ]
    },
    {
     "data": {
      "text/plain": [
       "  0%|          | 0/1000 [00:00<?, ?it/s]"
      ],
      "application/vnd.jupyter.widget-view+json": {
       "version_major": 2,
       "version_minor": 0,
       "model_id": "e4e33502d357446b934be678b3ca9d01"
      }
     },
     "metadata": {},
     "output_type": "display_data"
    },
    {
     "name": "stderr",
     "output_type": "stream",
     "text": [
      "Epoch 59: 6.6s to complete\n",
      "    error(train)=1.08e+00, acc(train)=8.85e-01, error(valid)=5.85e-01, acc(valid)=8.46e-01\n"
     ]
    },
    {
     "data": {
      "text/plain": [
       "  0%|          | 0/1000 [00:00<?, ?it/s]"
      ],
      "application/vnd.jupyter.widget-view+json": {
       "version_major": 2,
       "version_minor": 0,
       "model_id": "003e3ad646f74948b6673da8f3d07764"
      }
     },
     "metadata": {},
     "output_type": "display_data"
    },
    {
     "name": "stderr",
     "output_type": "stream",
     "text": [
      "Epoch 60: 10.9s to complete\n",
      "    error(train)=1.08e+00, acc(train)=8.87e-01, error(valid)=5.82e-01, acc(valid)=8.46e-01\n"
     ]
    },
    {
     "data": {
      "text/plain": [
       "  0%|          | 0/1000 [00:00<?, ?it/s]"
      ],
      "application/vnd.jupyter.widget-view+json": {
       "version_major": 2,
       "version_minor": 0,
       "model_id": "93753ee5437e4d738824b9760bcc4d09"
      }
     },
     "metadata": {},
     "output_type": "display_data"
    },
    {
     "name": "stderr",
     "output_type": "stream",
     "text": [
      "Epoch 61: 8.8s to complete\n",
      "    error(train)=1.08e+00, acc(train)=8.89e-01, error(valid)=5.79e-01, acc(valid)=8.48e-01\n"
     ]
    },
    {
     "data": {
      "text/plain": [
       "  0%|          | 0/1000 [00:00<?, ?it/s]"
      ],
      "application/vnd.jupyter.widget-view+json": {
       "version_major": 2,
       "version_minor": 0,
       "model_id": "78487f7b6fc642e2a3a743d07cc99c9e"
      }
     },
     "metadata": {},
     "output_type": "display_data"
    },
    {
     "name": "stderr",
     "output_type": "stream",
     "text": [
      "Epoch 62: 7.4s to complete\n",
      "    error(train)=1.08e+00, acc(train)=8.89e-01, error(valid)=5.81e-01, acc(valid)=8.46e-01\n"
     ]
    },
    {
     "data": {
      "text/plain": [
       "  0%|          | 0/1000 [00:00<?, ?it/s]"
      ],
      "application/vnd.jupyter.widget-view+json": {
       "version_major": 2,
       "version_minor": 0,
       "model_id": "8200da12cdfa4248b672ec8189622d47"
      }
     },
     "metadata": {},
     "output_type": "display_data"
    },
    {
     "name": "stderr",
     "output_type": "stream",
     "text": [
      "Epoch 63: 8.5s to complete\n",
      "    error(train)=1.07e+00, acc(train)=8.91e-01, error(valid)=5.75e-01, acc(valid)=8.46e-01\n"
     ]
    },
    {
     "data": {
      "text/plain": [
       "  0%|          | 0/1000 [00:00<?, ?it/s]"
      ],
      "application/vnd.jupyter.widget-view+json": {
       "version_major": 2,
       "version_minor": 0,
       "model_id": "1525d16c19a24e1893ee7f81582eef2b"
      }
     },
     "metadata": {},
     "output_type": "display_data"
    },
    {
     "name": "stderr",
     "output_type": "stream",
     "text": [
      "Epoch 64: 6.7s to complete\n",
      "    error(train)=1.07e+00, acc(train)=8.92e-01, error(valid)=5.76e-01, acc(valid)=8.48e-01\n"
     ]
    },
    {
     "data": {
      "text/plain": [
       "  0%|          | 0/1000 [00:00<?, ?it/s]"
      ],
      "application/vnd.jupyter.widget-view+json": {
       "version_major": 2,
       "version_minor": 0,
       "model_id": "83126f34492c45dc821644fd07000766"
      }
     },
     "metadata": {},
     "output_type": "display_data"
    },
    {
     "name": "stderr",
     "output_type": "stream",
     "text": [
      "Epoch 65: 5.8s to complete\n",
      "    error(train)=1.07e+00, acc(train)=8.90e-01, error(valid)=5.80e-01, acc(valid)=8.47e-01\n"
     ]
    },
    {
     "data": {
      "text/plain": [
       "  0%|          | 0/1000 [00:00<?, ?it/s]"
      ],
      "application/vnd.jupyter.widget-view+json": {
       "version_major": 2,
       "version_minor": 0,
       "model_id": "682484863f5c429ba52592c4678403cf"
      }
     },
     "metadata": {},
     "output_type": "display_data"
    },
    {
     "name": "stderr",
     "output_type": "stream",
     "text": [
      "Epoch 66: 8.7s to complete\n",
      "    error(train)=1.07e+00, acc(train)=8.91e-01, error(valid)=5.80e-01, acc(valid)=8.46e-01\n"
     ]
    },
    {
     "data": {
      "text/plain": [
       "  0%|          | 0/1000 [00:00<?, ?it/s]"
      ],
      "application/vnd.jupyter.widget-view+json": {
       "version_major": 2,
       "version_minor": 0,
       "model_id": "00985e1c40424814932b5a12b4d8deef"
      }
     },
     "metadata": {},
     "output_type": "display_data"
    },
    {
     "name": "stderr",
     "output_type": "stream",
     "text": [
      "Epoch 67: 6.4s to complete\n",
      "    error(train)=1.07e+00, acc(train)=8.92e-01, error(valid)=5.75e-01, acc(valid)=8.48e-01\n"
     ]
    },
    {
     "data": {
      "text/plain": [
       "  0%|          | 0/1000 [00:00<?, ?it/s]"
      ],
      "application/vnd.jupyter.widget-view+json": {
       "version_major": 2,
       "version_minor": 0,
       "model_id": "8a3a7149c13c4cab871770d07affa9c9"
      }
     },
     "metadata": {},
     "output_type": "display_data"
    },
    {
     "name": "stderr",
     "output_type": "stream",
     "text": [
      "Epoch 68: 5.4s to complete\n",
      "    error(train)=1.06e+00, acc(train)=8.94e-01, error(valid)=5.74e-01, acc(valid)=8.48e-01\n"
     ]
    },
    {
     "data": {
      "text/plain": [
       "  0%|          | 0/1000 [00:00<?, ?it/s]"
      ],
      "application/vnd.jupyter.widget-view+json": {
       "version_major": 2,
       "version_minor": 0,
       "model_id": "c45d7fa9624d48eb80927186094ca929"
      }
     },
     "metadata": {},
     "output_type": "display_data"
    },
    {
     "name": "stderr",
     "output_type": "stream",
     "text": [
      "Epoch 69: 5.5s to complete\n",
      "    error(train)=1.07e+00, acc(train)=8.92e-01, error(valid)=5.80e-01, acc(valid)=8.47e-01\n"
     ]
    },
    {
     "data": {
      "text/plain": [
       "  0%|          | 0/1000 [00:00<?, ?it/s]"
      ],
      "application/vnd.jupyter.widget-view+json": {
       "version_major": 2,
       "version_minor": 0,
       "model_id": "d5666f052d4b4a3786a3d6ffa481ab7d"
      }
     },
     "metadata": {},
     "output_type": "display_data"
    },
    {
     "name": "stderr",
     "output_type": "stream",
     "text": [
      "Epoch 70: 5.5s to complete\n",
      "    error(train)=1.06e+00, acc(train)=8.95e-01, error(valid)=5.73e-01, acc(valid)=8.50e-01\n"
     ]
    },
    {
     "data": {
      "text/plain": [
       "  0%|          | 0/1000 [00:00<?, ?it/s]"
      ],
      "application/vnd.jupyter.widget-view+json": {
       "version_major": 2,
       "version_minor": 0,
       "model_id": "3c334b07515840bdaf7fadb3fa0142b6"
      }
     },
     "metadata": {},
     "output_type": "display_data"
    },
    {
     "name": "stderr",
     "output_type": "stream",
     "text": [
      "Epoch 71: 6.2s to complete\n",
      "    error(train)=1.06e+00, acc(train)=8.94e-01, error(valid)=5.71e-01, acc(valid)=8.48e-01\n"
     ]
    },
    {
     "data": {
      "text/plain": [
       "  0%|          | 0/1000 [00:00<?, ?it/s]"
      ],
      "application/vnd.jupyter.widget-view+json": {
       "version_major": 2,
       "version_minor": 0,
       "model_id": "489184bb935340539ff56bc5b953461a"
      }
     },
     "metadata": {},
     "output_type": "display_data"
    },
    {
     "name": "stderr",
     "output_type": "stream",
     "text": [
      "Epoch 72: 6.5s to complete\n",
      "    error(train)=1.06e+00, acc(train)=8.96e-01, error(valid)=5.71e-01, acc(valid)=8.48e-01\n"
     ]
    },
    {
     "data": {
      "text/plain": [
       "  0%|          | 0/1000 [00:00<?, ?it/s]"
      ],
      "application/vnd.jupyter.widget-view+json": {
       "version_major": 2,
       "version_minor": 0,
       "model_id": "30dbca1b3af245e3a9a210f7e0b4d8d0"
      }
     },
     "metadata": {},
     "output_type": "display_data"
    },
    {
     "name": "stderr",
     "output_type": "stream",
     "text": [
      "Epoch 73: 6.8s to complete\n",
      "    error(train)=1.06e+00, acc(train)=8.95e-01, error(valid)=5.74e-01, acc(valid)=8.49e-01\n"
     ]
    },
    {
     "data": {
      "text/plain": [
       "  0%|          | 0/1000 [00:00<?, ?it/s]"
      ],
      "application/vnd.jupyter.widget-view+json": {
       "version_major": 2,
       "version_minor": 0,
       "model_id": "ab7e98db8afa4b8794d553ea95aef63f"
      }
     },
     "metadata": {},
     "output_type": "display_data"
    },
    {
     "name": "stderr",
     "output_type": "stream",
     "text": [
      "Epoch 74: 6.3s to complete\n",
      "    error(train)=1.05e+00, acc(train)=8.98e-01, error(valid)=5.68e-01, acc(valid)=8.50e-01\n"
     ]
    },
    {
     "data": {
      "text/plain": [
       "  0%|          | 0/1000 [00:00<?, ?it/s]"
      ],
      "application/vnd.jupyter.widget-view+json": {
       "version_major": 2,
       "version_minor": 0,
       "model_id": "364dde9f10014b17addf9909f697c1e0"
      }
     },
     "metadata": {},
     "output_type": "display_data"
    },
    {
     "name": "stderr",
     "output_type": "stream",
     "text": [
      "Epoch 75: 6.4s to complete\n",
      "    error(train)=1.06e+00, acc(train)=8.97e-01, error(valid)=5.75e-01, acc(valid)=8.50e-01\n"
     ]
    },
    {
     "data": {
      "text/plain": [
       "  0%|          | 0/1000 [00:00<?, ?it/s]"
      ],
      "application/vnd.jupyter.widget-view+json": {
       "version_major": 2,
       "version_minor": 0,
       "model_id": "6795ee1c2bf641748b778983be31c546"
      }
     },
     "metadata": {},
     "output_type": "display_data"
    },
    {
     "name": "stderr",
     "output_type": "stream",
     "text": [
      "Epoch 76: 6.5s to complete\n",
      "    error(train)=1.05e+00, acc(train)=8.98e-01, error(valid)=5.67e-01, acc(valid)=8.51e-01\n"
     ]
    },
    {
     "data": {
      "text/plain": [
       "  0%|          | 0/1000 [00:00<?, ?it/s]"
      ],
      "application/vnd.jupyter.widget-view+json": {
       "version_major": 2,
       "version_minor": 0,
       "model_id": "a579c1ba589a4f80849a3c0b3cdee104"
      }
     },
     "metadata": {},
     "output_type": "display_data"
    },
    {
     "name": "stderr",
     "output_type": "stream",
     "text": [
      "Epoch 77: 6.8s to complete\n",
      "    error(train)=1.05e+00, acc(train)=8.98e-01, error(valid)=5.70e-01, acc(valid)=8.51e-01\n"
     ]
    },
    {
     "data": {
      "text/plain": [
       "  0%|          | 0/1000 [00:00<?, ?it/s]"
      ],
      "application/vnd.jupyter.widget-view+json": {
       "version_major": 2,
       "version_minor": 0,
       "model_id": "020422a4982f42d181ca79e0460e5b38"
      }
     },
     "metadata": {},
     "output_type": "display_data"
    },
    {
     "name": "stderr",
     "output_type": "stream",
     "text": [
      "Epoch 78: 5.6s to complete\n",
      "    error(train)=1.05e+00, acc(train)=8.99e-01, error(valid)=5.68e-01, acc(valid)=8.51e-01\n"
     ]
    },
    {
     "data": {
      "text/plain": [
       "  0%|          | 0/1000 [00:00<?, ?it/s]"
      ],
      "application/vnd.jupyter.widget-view+json": {
       "version_major": 2,
       "version_minor": 0,
       "model_id": "0bb3309521a440dfaf8555b78ccd35ff"
      }
     },
     "metadata": {},
     "output_type": "display_data"
    },
    {
     "name": "stderr",
     "output_type": "stream",
     "text": [
      "Epoch 79: 5.6s to complete\n",
      "    error(train)=1.05e+00, acc(train)=8.99e-01, error(valid)=5.72e-01, acc(valid)=8.48e-01\n"
     ]
    },
    {
     "data": {
      "text/plain": [
       "  0%|          | 0/1000 [00:00<?, ?it/s]"
      ],
      "application/vnd.jupyter.widget-view+json": {
       "version_major": 2,
       "version_minor": 0,
       "model_id": "7f387c59d1a9425296cfdc08277ce9e9"
      }
     },
     "metadata": {},
     "output_type": "display_data"
    },
    {
     "name": "stderr",
     "output_type": "stream",
     "text": [
      "Epoch 80: 7.2s to complete\n",
      "    error(train)=1.05e+00, acc(train)=9.00e-01, error(valid)=5.67e-01, acc(valid)=8.52e-01\n"
     ]
    },
    {
     "data": {
      "text/plain": [
       "  0%|          | 0/1000 [00:00<?, ?it/s]"
      ],
      "application/vnd.jupyter.widget-view+json": {
       "version_major": 2,
       "version_minor": 0,
       "model_id": "ab859807e4c249ef804104a31fba96ef"
      }
     },
     "metadata": {},
     "output_type": "display_data"
    },
    {
     "name": "stderr",
     "output_type": "stream",
     "text": [
      "Epoch 81: 6.3s to complete\n",
      "    error(train)=1.05e+00, acc(train)=9.01e-01, error(valid)=5.66e-01, acc(valid)=8.50e-01\n"
     ]
    },
    {
     "data": {
      "text/plain": [
       "  0%|          | 0/1000 [00:00<?, ?it/s]"
      ],
      "application/vnd.jupyter.widget-view+json": {
       "version_major": 2,
       "version_minor": 0,
       "model_id": "5b89f4848a0d4dffbdc228a0d80b0253"
      }
     },
     "metadata": {},
     "output_type": "display_data"
    },
    {
     "name": "stderr",
     "output_type": "stream",
     "text": [
      "Epoch 82: 6.5s to complete\n",
      "    error(train)=1.05e+00, acc(train)=9.00e-01, error(valid)=5.72e-01, acc(valid)=8.47e-01\n"
     ]
    },
    {
     "data": {
      "text/plain": [
       "  0%|          | 0/1000 [00:00<?, ?it/s]"
      ],
      "application/vnd.jupyter.widget-view+json": {
       "version_major": 2,
       "version_minor": 0,
       "model_id": "efa65b15c96c4521bdfabf4e30959549"
      }
     },
     "metadata": {},
     "output_type": "display_data"
    },
    {
     "name": "stderr",
     "output_type": "stream",
     "text": [
      "Epoch 83: 6.7s to complete\n",
      "    error(train)=1.04e+00, acc(train)=9.02e-01, error(valid)=5.71e-01, acc(valid)=8.51e-01\n"
     ]
    },
    {
     "data": {
      "text/plain": [
       "  0%|          | 0/1000 [00:00<?, ?it/s]"
      ],
      "application/vnd.jupyter.widget-view+json": {
       "version_major": 2,
       "version_minor": 0,
       "model_id": "703959586424437aa2986dd38ce05922"
      }
     },
     "metadata": {},
     "output_type": "display_data"
    },
    {
     "name": "stderr",
     "output_type": "stream",
     "text": [
      "Epoch 84: 7.2s to complete\n",
      "    error(train)=1.04e+00, acc(train)=9.02e-01, error(valid)=5.66e-01, acc(valid)=8.52e-01\n"
     ]
    },
    {
     "data": {
      "text/plain": [
       "  0%|          | 0/1000 [00:00<?, ?it/s]"
      ],
      "application/vnd.jupyter.widget-view+json": {
       "version_major": 2,
       "version_minor": 0,
       "model_id": "4326095909dd495db5306075526fb393"
      }
     },
     "metadata": {},
     "output_type": "display_data"
    },
    {
     "name": "stderr",
     "output_type": "stream",
     "text": [
      "Epoch 85: 6.8s to complete\n",
      "    error(train)=1.04e+00, acc(train)=9.02e-01, error(valid)=5.67e-01, acc(valid)=8.51e-01\n"
     ]
    },
    {
     "data": {
      "text/plain": [
       "  0%|          | 0/1000 [00:00<?, ?it/s]"
      ],
      "application/vnd.jupyter.widget-view+json": {
       "version_major": 2,
       "version_minor": 0,
       "model_id": "ce266cae2bfb413dbdfa0177b9a48943"
      }
     },
     "metadata": {},
     "output_type": "display_data"
    },
    {
     "name": "stderr",
     "output_type": "stream",
     "text": [
      "Epoch 86: 8.1s to complete\n",
      "    error(train)=1.04e+00, acc(train)=9.03e-01, error(valid)=5.64e-01, acc(valid)=8.51e-01\n"
     ]
    },
    {
     "data": {
      "text/plain": [
       "  0%|          | 0/1000 [00:00<?, ?it/s]"
      ],
      "application/vnd.jupyter.widget-view+json": {
       "version_major": 2,
       "version_minor": 0,
       "model_id": "3140e99e2f87407d96896dd71612d34a"
      }
     },
     "metadata": {},
     "output_type": "display_data"
    },
    {
     "name": "stderr",
     "output_type": "stream",
     "text": [
      "Epoch 87: 6.9s to complete\n",
      "    error(train)=1.04e+00, acc(train)=9.02e-01, error(valid)=5.70e-01, acc(valid)=8.48e-01\n"
     ]
    },
    {
     "data": {
      "text/plain": [
       "  0%|          | 0/1000 [00:00<?, ?it/s]"
      ],
      "application/vnd.jupyter.widget-view+json": {
       "version_major": 2,
       "version_minor": 0,
       "model_id": "a0e5b7d0764f4cd6bdf8b04b94d02c51"
      }
     },
     "metadata": {},
     "output_type": "display_data"
    },
    {
     "name": "stderr",
     "output_type": "stream",
     "text": [
      "Epoch 88: 6.4s to complete\n",
      "    error(train)=1.04e+00, acc(train)=9.03e-01, error(valid)=5.69e-01, acc(valid)=8.51e-01\n"
     ]
    },
    {
     "data": {
      "text/plain": [
       "  0%|          | 0/1000 [00:00<?, ?it/s]"
      ],
      "application/vnd.jupyter.widget-view+json": {
       "version_major": 2,
       "version_minor": 0,
       "model_id": "ac31d229d22f418f97c786502af6ade3"
      }
     },
     "metadata": {},
     "output_type": "display_data"
    },
    {
     "name": "stderr",
     "output_type": "stream",
     "text": [
      "Epoch 89: 6.4s to complete\n",
      "    error(train)=1.03e+00, acc(train)=9.04e-01, error(valid)=5.61e-01, acc(valid)=8.50e-01\n"
     ]
    },
    {
     "data": {
      "text/plain": [
       "  0%|          | 0/1000 [00:00<?, ?it/s]"
      ],
      "application/vnd.jupyter.widget-view+json": {
       "version_major": 2,
       "version_minor": 0,
       "model_id": "3e24aabdddf6484f860a66f4f4e138a9"
      }
     },
     "metadata": {},
     "output_type": "display_data"
    },
    {
     "name": "stderr",
     "output_type": "stream",
     "text": [
      "Epoch 90: 8.4s to complete\n",
      "    error(train)=1.03e+00, acc(train)=9.03e-01, error(valid)=5.66e-01, acc(valid)=8.51e-01\n"
     ]
    },
    {
     "data": {
      "text/plain": [
       "  0%|          | 0/1000 [00:00<?, ?it/s]"
      ],
      "application/vnd.jupyter.widget-view+json": {
       "version_major": 2,
       "version_minor": 0,
       "model_id": "8aa52ca980fb4c67baa133e510cbfeb4"
      }
     },
     "metadata": {},
     "output_type": "display_data"
    },
    {
     "name": "stderr",
     "output_type": "stream",
     "text": [
      "Epoch 91: 6.7s to complete\n",
      "    error(train)=1.03e+00, acc(train)=9.05e-01, error(valid)=5.70e-01, acc(valid)=8.49e-01\n"
     ]
    },
    {
     "data": {
      "text/plain": [
       "  0%|          | 0/1000 [00:00<?, ?it/s]"
      ],
      "application/vnd.jupyter.widget-view+json": {
       "version_major": 2,
       "version_minor": 0,
       "model_id": "5b27c80232174f84b16aedafc1e306c0"
      }
     },
     "metadata": {},
     "output_type": "display_data"
    },
    {
     "name": "stderr",
     "output_type": "stream",
     "text": [
      "Epoch 92: 6.1s to complete\n",
      "    error(train)=1.03e+00, acc(train)=9.05e-01, error(valid)=5.62e-01, acc(valid)=8.51e-01\n"
     ]
    },
    {
     "data": {
      "text/plain": [
       "  0%|          | 0/1000 [00:00<?, ?it/s]"
      ],
      "application/vnd.jupyter.widget-view+json": {
       "version_major": 2,
       "version_minor": 0,
       "model_id": "3b166778ded942f49681aa1a82ae64ae"
      }
     },
     "metadata": {},
     "output_type": "display_data"
    },
    {
     "name": "stderr",
     "output_type": "stream",
     "text": [
      "Epoch 93: 5.9s to complete\n",
      "    error(train)=1.04e+00, acc(train)=9.03e-01, error(valid)=5.66e-01, acc(valid)=8.47e-01\n"
     ]
    },
    {
     "data": {
      "text/plain": [
       "  0%|          | 0/1000 [00:00<?, ?it/s]"
      ],
      "application/vnd.jupyter.widget-view+json": {
       "version_major": 2,
       "version_minor": 0,
       "model_id": "844e905b160246fc82c3b85db24624e8"
      }
     },
     "metadata": {},
     "output_type": "display_data"
    },
    {
     "name": "stderr",
     "output_type": "stream",
     "text": [
      "Epoch 94: 6.5s to complete\n",
      "    error(train)=1.03e+00, acc(train)=9.07e-01, error(valid)=5.69e-01, acc(valid)=8.52e-01\n"
     ]
    },
    {
     "data": {
      "text/plain": [
       "  0%|          | 0/1000 [00:00<?, ?it/s]"
      ],
      "application/vnd.jupyter.widget-view+json": {
       "version_major": 2,
       "version_minor": 0,
       "model_id": "f9858e8b97b546e5a9f11a40c0628987"
      }
     },
     "metadata": {},
     "output_type": "display_data"
    },
    {
     "name": "stderr",
     "output_type": "stream",
     "text": [
      "Epoch 95: 6.3s to complete\n",
      "    error(train)=1.03e+00, acc(train)=9.07e-01, error(valid)=5.62e-01, acc(valid)=8.49e-01\n"
     ]
    },
    {
     "data": {
      "text/plain": [
       "  0%|          | 0/1000 [00:00<?, ?it/s]"
      ],
      "application/vnd.jupyter.widget-view+json": {
       "version_major": 2,
       "version_minor": 0,
       "model_id": "8fb15798c6bb40df88bf993bd345faef"
      }
     },
     "metadata": {},
     "output_type": "display_data"
    },
    {
     "name": "stderr",
     "output_type": "stream",
     "text": [
      "Epoch 96: 6.7s to complete\n",
      "    error(train)=1.03e+00, acc(train)=9.06e-01, error(valid)=5.70e-01, acc(valid)=8.50e-01\n"
     ]
    },
    {
     "data": {
      "text/plain": [
       "  0%|          | 0/1000 [00:00<?, ?it/s]"
      ],
      "application/vnd.jupyter.widget-view+json": {
       "version_major": 2,
       "version_minor": 0,
       "model_id": "ad70676b36f649cf90adfc9b73e6e9dc"
      }
     },
     "metadata": {},
     "output_type": "display_data"
    },
    {
     "name": "stderr",
     "output_type": "stream",
     "text": [
      "Epoch 97: 6.4s to complete\n",
      "    error(train)=1.03e+00, acc(train)=9.07e-01, error(valid)=5.63e-01, acc(valid)=8.51e-01\n"
     ]
    },
    {
     "data": {
      "text/plain": [
       "  0%|          | 0/1000 [00:00<?, ?it/s]"
      ],
      "application/vnd.jupyter.widget-view+json": {
       "version_major": 2,
       "version_minor": 0,
       "model_id": "4e0b2b1a197c4f77aa321743f59fab49"
      }
     },
     "metadata": {},
     "output_type": "display_data"
    },
    {
     "name": "stderr",
     "output_type": "stream",
     "text": [
      "Epoch 98: 6.3s to complete\n",
      "    error(train)=1.02e+00, acc(train)=9.08e-01, error(valid)=5.63e-01, acc(valid)=8.52e-01\n"
     ]
    },
    {
     "data": {
      "text/plain": [
       "  0%|          | 0/1000 [00:00<?, ?it/s]"
      ],
      "application/vnd.jupyter.widget-view+json": {
       "version_major": 2,
       "version_minor": 0,
       "model_id": "bf93ca42b6234215bde461fc7999ef97"
      }
     },
     "metadata": {},
     "output_type": "display_data"
    },
    {
     "name": "stderr",
     "output_type": "stream",
     "text": [
      "Epoch 99: 5.7s to complete\n",
      "    error(train)=1.02e+00, acc(train)=9.08e-01, error(valid)=5.60e-01, acc(valid)=8.53e-01\n"
     ]
    },
    {
     "data": {
      "text/plain": [
       "  0%|          | 0/1000 [00:00<?, ?it/s]"
      ],
      "application/vnd.jupyter.widget-view+json": {
       "version_major": 2,
       "version_minor": 0,
       "model_id": "63a80a06c7b24dfb8284c477c70cbda6"
      }
     },
     "metadata": {},
     "output_type": "display_data"
    },
    {
     "name": "stderr",
     "output_type": "stream",
     "text": [
      "Epoch 100: 6.0s to complete\n",
      "    error(train)=1.02e+00, acc(train)=9.08e-01, error(valid)=5.71e-01, acc(valid)=8.50e-01\n"
     ]
    },
    {
     "name": "stdout",
     "output_type": "stream",
     "text": [
      "    final error(train) = 1.02e+00\n",
      "    final error(valid) = 5.71e-01\n",
      "    final acc(train)   = 9.08e-01\n",
      "    final acc(valid)   = 8.50e-01\n",
      "    run time per epoch = 9.32\n"
     ]
    }
   ],
   "execution_count": 41
  },
  {
   "metadata": {
    "ExecuteTime": {
     "end_time": "2024-10-25T00:57:00.282172Z",
     "start_time": "2024-10-25T00:57:00.121587Z"
    }
   },
   "cell_type": "code",
   "source": [
    "stats, keys = stats_label_smoothing, keys_label_smoothing\n",
    "# Plot the change in the validation and training set error over training.\n",
    "fig_1 = plt.figure(figsize=(8, 4))\n",
    "ax_1 = fig_1.add_subplot(111)\n",
    "for k in ['error(train)', 'error(valid)']:\n",
    "    ax_1.plot(np.arange(1, stats.shape[0]) * stats_interval, \n",
    "              stats[1:, keys[k]], label=k)\n",
    "ax_1.legend(loc=0)\n",
    "ax_1.set_xlabel('Epoch number')\n",
    "ax_1.set_ylabel('Error')\n",
    "\n",
    "# Plot the change in the validation and training set accuracy over training.\n",
    "fig_2 = plt.figure(figsize=(8, 4))\n",
    "ax_2 = fig_2.add_subplot(111)\n",
    "for k in ['acc(train)', 'acc(valid)']:\n",
    "    ax_2.plot(np.arange(1, stats.shape[0]) * stats_interval, \n",
    "              stats[1:, keys[k]], label=k)\n",
    "ax_2.legend(loc=0)\n",
    "ax_2.set_xlabel('Epoch number')\n",
    "ax_2.set_xlabel('Accuracy')\n",
    "\n",
    "fig_1.savefig('../outputs/label-error.pdf')\n",
    "fig_2.savefig('../outputs/lable-acc.pdf')\n",
    "\n",
    "plt.show()"
   ],
   "outputs": [
    {
     "data": {
      "text/plain": [
       "<Figure size 800x400 with 1 Axes>"
      ],
      "image/png": "[encoded data removed]"
     },
     "metadata": {},
     "output_type": "display_data"
    },
    {
     "data": {
      "text/plain": [
       "<Figure size 800x400 with 1 Axes>"
      ],
      "image/png": "[encoded data removed]"
     },
     "metadata": {},
     "output_type": "display_data"
    }
   ],
   "execution_count": 43
  },
  {
   "metadata": {},
   "cell_type": "code",
   "outputs": [],
   "execution_count": null,
   "source": ""
  }
 ],
 "metadata": {
  "kernelspec": {
   "display_name": "Python 3 (ipykernel)",
   "language": "python",
   "name": "python3"
  },
  "language_info": {
   "codemirror_mode": {
    "name": "ipython",
    "version": 3
   },
   "file_extension": ".py",
   "mimetype": "text/x-python",
   "name": "python",
   "nbconvert_exporter": "python",
   "pygments_lexer": "ipython3",
   "version": "3.8.10"
  }
 },
 "nbformat": 4,
 "nbformat_minor": 4
}
